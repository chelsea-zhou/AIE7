{
  "cells": [
    {
      "cell_type": "code",
      "execution_count": null,
      "metadata": {
        "colab": {
          "base_uri": "https://localhost:8080/"
        },
        "id": "Jdh8CoVWHRvs",
        "outputId": "3fa78560-393c-4ee5-b871-9886bf0d70f4"
      },
      "outputs": [],
      "source": [
        "import os\n",
        "import getpass\n",
        "\n",
        "os.environ[\"LANGCHAIN_TRACING_V2\"] = \"true\"\n",
        "os.environ[\"LANGCHAIN_PROJECT\"] = \"system-design-rag\"\n",
        "os.environ[\"LANGCHAIN_ENDPOINT\"] = \"https://api.smith.langchain.com\"  \n",
        "os.environ[\"LANGSMITH_API_KEY\"] = getpass.getpass(\"LangSmith API Key: \")\n"
      ]
    },
    {
      "cell_type": "code",
      "execution_count": null,
      "metadata": {},
      "outputs": [],
      "source": [
        "os.environ[\"OPENAI_API_KEY\"] = getpass.getpass(\"OpenAI API Key: \")"
      ]
    },
    {
      "cell_type": "code",
      "execution_count": null,
      "metadata": {
        "colab": {
          "base_uri": "https://localhost:8080/"
        },
        "id": "Jkla2fpx28QK",
        "outputId": "52d7ad22-fcb1-4abe-853b-216c55a12650"
      },
      "outputs": [],
      "source": [
        "os.environ[\"TAVILY_API_KEY\"] = getpass.getpass(\"Tavily API Key: \")"
      ]
    },
    {
      "cell_type": "code",
      "execution_count": 4,
      "metadata": {},
      "outputs": [
        {
          "data": {
            "text/plain": [
              "'system-design-rag'"
            ]
          },
          "execution_count": 4,
          "metadata": {},
          "output_type": "execute_result"
        }
      ],
      "source": [
        "os.environ[\"LANGCHAIN_PROJECT\"] "
      ]
    },
    {
      "cell_type": "code",
      "execution_count": null,
      "metadata": {},
      "outputs": [],
      "source": [
        "\n",
        "os.environ[\"COHERE_API_KEY\"] = getpass.getpass(\"Cohere API Key: \")\n"
      ]
    },
    {
      "cell_type": "code",
      "execution_count": 6,
      "metadata": {},
      "outputs": [],
      "source": [
        "from langchain_community.document_loaders import DirectoryLoader\n",
        "from langchain_community.document_loaders import PyMuPDFLoader\n",
        "\n",
        "path = \"data/\"\n",
        "loader = DirectoryLoader(path, glob=\"*.pdf\", loader_cls=PyMuPDFLoader)\n",
        "docs = loader.load()"
      ]
    },
    {
      "cell_type": "code",
      "execution_count": 7,
      "metadata": {},
      "outputs": [
        {
          "data": {
            "text/plain": [
              "269"
            ]
          },
          "execution_count": 7,
          "metadata": {},
          "output_type": "execute_result"
        }
      ],
      "source": [
        "len(docs)"
      ]
    },
    {
      "cell_type": "code",
      "execution_count": 8,
      "metadata": {},
      "outputs": [
        {
          "data": {
            "text/plain": [
              "Document(metadata={'producer': 'calibre 3.9.0 [https://calibre-ebook.com]', 'creator': 'calibre 3.9.0 [https://calibre-ebook.com]', 'creationdate': '2020-10-16T23:12:01+00:00', 'source': 'data/SystemDesignInterview.pdf', 'file_path': 'data/SystemDesignInterview.pdf', 'total_pages': 269, 'format': 'PDF 1.4', 'title': \"System Design Interview – An insider's guide, Second Edition: Step by Step Guide, Tips and 15 System Design Interview Questions with Detailed Solutions\", 'author': 'Alex Xu', 'subject': '', 'keywords': '', 'moddate': '', 'trapped': '', 'modDate': '', 'creationDate': \"D:20201016231201+00'00'\", 'page': 0}, page_content='')"
            ]
          },
          "execution_count": 8,
          "metadata": {},
          "output_type": "execute_result"
        }
      ],
      "source": [
        "docs[0]"
      ]
    },
    {
      "cell_type": "code",
      "execution_count": 9,
      "metadata": {},
      "outputs": [
        {
          "data": {
            "text/plain": [
              "440"
            ]
          },
          "execution_count": 9,
          "metadata": {},
          "output_type": "execute_result"
        }
      ],
      "source": [
        "from langchain_openai import OpenAIEmbeddings\n",
        "from langchain.text_splitter import RecursiveCharacterTextSplitter\n",
        "\n",
        "embeddings = OpenAIEmbeddings(model=\"text-embedding-3-small\")\n",
        "\n",
        "text_splitter = RecursiveCharacterTextSplitter(chunk_size=1000, chunk_overlap=200)\n",
        "split_documents = text_splitter.split_documents(docs)\n",
        "len(split_documents)"
      ]
    },
    {
      "cell_type": "code",
      "execution_count": 10,
      "metadata": {},
      "outputs": [],
      "source": [
        "from langchain_qdrant import QdrantVectorStore\n",
        "from qdrant_client import QdrantClient\n",
        "from qdrant_client.http.models import Distance, VectorParams\n",
        "\n",
        "client = QdrantClient(\":memory:\")\n",
        "\n",
        "client.create_collection(\n",
        "    collection_name=\"podcast_transcript\",\n",
        "    vectors_config=VectorParams(size=1536, distance=Distance.COSINE),\n",
        ")\n",
        "\n",
        "vector_store = QdrantVectorStore(\n",
        "    client=client,\n",
        "    collection_name=\"podcast_transcript\",\n",
        "    embedding=embeddings,\n",
        ")\n",
        "_ = vector_store.add_documents(documents=split_documents)"
      ]
    },
    {
      "cell_type": "code",
      "execution_count": 26,
      "metadata": {},
      "outputs": [],
      "source": [
        "retriever = vector_store.as_retriever(search_kwargs={\"k\": 10})"
      ]
    },
    {
      "cell_type": "code",
      "execution_count": 27,
      "metadata": {},
      "outputs": [],
      "source": [
        "def retrieve(state):\n",
        "  retrieved_docs = retriever.invoke(state[\"question\"])\n",
        "  return {\"context\" : retrieved_docs}"
      ]
    },
    {
      "cell_type": "code",
      "execution_count": 28,
      "metadata": {},
      "outputs": [],
      "source": [
        "from langchain.retrievers.contextual_compression import ContextualCompressionRetriever\n",
        "from langchain_cohere import CohereRerank\n",
        "\n",
        "compressor = CohereRerank(model=\"rerank-v3.5\")\n",
        "compression_retriever = ContextualCompressionRetriever(\n",
        "    base_compressor=compressor, base_retriever=retriever\n",
        ")\n",
        "\n",
        "def contextual_compression_retrieve(state):\n",
        "    retrieved_docs = compression_retriever.invoke(state[\"question\"])\n",
        "    return {\"context\" : retrieved_docs}\n"
      ]
    },
    {
      "cell_type": "code",
      "execution_count": null,
      "metadata": {},
      "outputs": [],
      "source": [
        "from uuid import uuid4\n",
        "\n",
        "os.environ[\"LANGCHAIN_TRACING_V2\"] = \"true\"\n",
        "os.environ[\"LANGCHAIN_PROJECT\"] = \"pdoc\"\n",
        "os.environ[\"LANGCHAIN_API_KEY\"] = getpass.getpass(\"LangSmith API Key: \")"
      ]
    },
    {
      "cell_type": "code",
      "execution_count": 29,
      "metadata": {},
      "outputs": [],
      "source": [
        "from langchain.prompts import ChatPromptTemplate\n",
        "\n",
        "RAG_PROMPT = \"\"\"\\\n",
        "You are a helpful assistant who answers questions based on provided context. You must only use the provided context, and cannot use your own knowledge.\n",
        "\n",
        "### Question\n",
        "{question}\n",
        "\n",
        "### Context\n",
        "{context}\n",
        "\"\"\"\n",
        "\n",
        "rag_prompt = ChatPromptTemplate.from_template(RAG_PROMPT)"
      ]
    },
    {
      "cell_type": "code",
      "execution_count": 30,
      "metadata": {},
      "outputs": [],
      "source": [
        "from langchain_openai import ChatOpenAI\n",
        "\n",
        "llm = ChatOpenAI(model=\"gpt-4.1-nano\")\n",
        "\n",
        "def generate(state):\n",
        "  docs_content = \"\\n\\n\".join(doc.page_content for doc in state[\"context\"])\n",
        "  messages = rag_prompt.format_messages(question=state[\"question\"], context=docs_content)\n",
        "  response = llm.invoke(messages)\n",
        "  return {\"response\" : response.content}"
      ]
    },
    {
      "cell_type": "code",
      "execution_count": 31,
      "metadata": {},
      "outputs": [],
      "source": [
        "from langgraph.graph import START, StateGraph\n",
        "from typing_extensions import List, TypedDict\n",
        "from langchain_core.documents import Document\n",
        "\n",
        "class State(TypedDict):\n",
        "  question: str\n",
        "  context: List[Document]\n",
        "  response: str"
      ]
    },
    {
      "cell_type": "code",
      "execution_count": 32,
      "metadata": {},
      "outputs": [],
      "source": [
        "graph_builder = StateGraph(State).add_sequence([contextual_compression_retrieve, generate])\n",
        "graph_builder.add_edge(START, \"contextual_compression_retrieve\")\n",
        "graph = graph_builder.compile()"
      ]
    },
    {
      "cell_type": "code",
      "execution_count": 33,
      "metadata": {},
      "outputs": [],
      "source": [
        "response = graph.invoke({\"question\" : \"how to scale a system\"})"
      ]
    },
    {
      "cell_type": "code",
      "execution_count": 34,
      "metadata": {},
      "outputs": [
        {
          "data": {
            "text/plain": [
              "{'question': 'how to scale a system',\n",
              " 'context': [Document(metadata={'producer': 'calibre 3.9.0 [https://calibre-ebook.com]', 'creator': 'calibre 3.9.0 [https://calibre-ebook.com]', 'creationdate': '2020-10-16T23:12:01+00:00', 'source': 'data/SystemDesignInterview.pdf', 'file_path': 'data/SystemDesignInterview.pdf', 'total_pages': 269, 'format': 'PDF 1.4', 'title': \"System Design Interview – An insider's guide, Second Edition: Step by Step Guide, Tips and 15 System Design Interview Questions with Detailed Solutions\", 'author': 'Alex Xu', 'subject': '', 'keywords': '', 'moddate': '', 'trapped': '', 'modDate': '', 'creationDate': \"D:20201016231201+00'00'\", 'page': 31, '_id': '03bd79a9703346eca3570e578a324c51', '_collection_name': 'podcast_transcript', 'relevance_score': 0.7872945}, page_content='Millions of users and beyond\\nScaling a system is an iterative process. Iterating on what we have learned in this chapter\\ncould get us far. More fine-tuning and new strategies are needed to scale beyond millions of\\nusers. For example, you might need to optimize your system and decouple the system to even\\nsmaller services. All the techniques learned in this chapter should provide a good foundation\\nto tackle new challenges. To conclude this chapter, we provide a summary of how we scale\\nour system to support millions of users:\\n• Keep web tier stateless\\n• Build redundancy at every tier\\n• Cache data as much as you can\\n• Support multiple data centers\\n• Host static assets in CDN\\n• Scale your data tier by sharding\\n• Split tiers into individual services\\n• Monitor your system and use automation tools\\nCongratulations on getting this far! Now give yourself a pat on the back. Good job!'),\n",
              "  Document(metadata={'producer': 'calibre 3.9.0 [https://calibre-ebook.com]', 'creator': 'calibre 3.9.0 [https://calibre-ebook.com]', 'creationdate': '2020-10-16T23:12:01+00:00', 'source': 'data/SystemDesignInterview.pdf', 'file_path': 'data/SystemDesignInterview.pdf', 'total_pages': 269, 'format': 'PDF 1.4', 'title': \"System Design Interview – An insider's guide, Second Edition: Step by Step Guide, Tips and 15 System Design Interview Questions with Detailed Solutions\", 'author': 'Alex Xu', 'subject': '', 'keywords': '', 'moddate': '', 'trapped': '', 'modDate': '', 'creationDate': \"D:20201016231201+00'00'\", 'page': 23, '_id': 'c6fd3824ed44438a85d7f1b950f16d86', '_collection_name': 'podcast_transcript', 'relevance_score': 0.69573146}, page_content='services consistent through all the data centers [11].\\nTo further scale our system, we need to decouple different components of the system so they\\ncan be scaled independently. Messaging queue is a key strategy employed by many real-\\nworld distributed systems to solve this problem.'),\n",
              "  Document(metadata={'producer': 'calibre 3.9.0 [https://calibre-ebook.com]', 'creator': 'calibre 3.9.0 [https://calibre-ebook.com]', 'creationdate': '2020-10-16T23:12:01+00:00', 'source': 'data/SystemDesignInterview.pdf', 'file_path': 'data/SystemDesignInterview.pdf', 'total_pages': 269, 'format': 'PDF 1.4', 'title': \"System Design Interview – An insider's guide, Second Edition: Step by Step Guide, Tips and 15 System Design Interview Questions with Detailed Solutions\", 'author': 'Alex Xu', 'subject': '', 'keywords': '', 'moddate': '', 'trapped': '', 'modDate': '', 'creationDate': \"D:20201016231201+00'00'\", 'page': 4, '_id': '67b597bb3b4a449fb5cf21b5e9997138', '_collection_name': 'podcast_transcript', 'relevance_score': 0.60666215}, page_content='CHAPTER 1: SCALE FROM ZERO TO MILLIONS OF\\nUSERS\\nDesigning a system that supports millions of users is challenging, and it is a journey that\\nrequires continuous refinement and endless improvement. In this chapter, we build a system\\nthat supports a single user and gradually scale it up to serve millions of users. After reading\\nthis chapter, you will master a handful of techniques that will help you to crack the system\\ndesign interview questions.')],\n",
              " 'response': 'To scale a system, follow these key strategies:\\n\\n- Keep the web tier stateless\\n- Build redundancy at every tier\\n- Cache data as much as possible\\n- Support multiple data centers\\n- Host static assets in a CDN\\n- Scale the data tier by sharding\\n- Split tiers into individual services\\n- Monitor the system and use automation tools\\n- Decouple different components of the system to allow independent scaling, often utilizing messaging queues\\n\\nThese techniques provide a strong foundation for handling millions of users and can be refined iteratively to meet increasing demands.'}"
            ]
          },
          "execution_count": 34,
          "metadata": {},
          "output_type": "execute_result"
        }
      ],
      "source": [
        "response"
      ]
    },
    {
      "cell_type": "code",
      "execution_count": 35,
      "metadata": {},
      "outputs": [],
      "source": [
        "from langchain_core.tools import tool\n",
        "from langchain_core.messages import HumanMessage\n",
        "\n",
        "@tool\n",
        "def ai_rag_tool(question: str):\n",
        "    '''Use this tool to answer questions about system design and distributed systems'''\n",
        "    response = graph.invoke({\"question\": question})\n",
        "    return {\n",
        "        \"messages\": [HumanMessage(content=response[\"response\"])],\n",
        "        \"context\": response[\"context\"]\n",
        "    }"
      ]
    },
    {
      "cell_type": "code",
      "execution_count": null,
      "metadata": {},
      "outputs": [],
      "source": []
    },
    {
      "cell_type": "markdown",
      "metadata": {
        "id": "sBRyQmEAVzua"
      },
      "source": [
        "## Task 3: Creating our Tool Belt\n",
        "\n",
        "As is usually the case, we'll want to equip our agent with a toolbelt to help answer questions and add external knowledge.\n",
        "\n",
        "There's a tonne of tools in the [LangChain Community Repo](https://github.com/langchain-ai/langchain-community/tree/main/libs/community) but we'll stick to a couple just so we can observe the cyclic nature of LangGraph in action!\n",
        "\n",
        "We'll leverage:\n",
        "\n",
        "- [Tavily Search Results](https://github.com/langchain-ai/langchain-community/blob/main/libs/community/langchain_community/tools/tavily_search/tool.py)\n",
        "- [Arxiv](https://github.com/langchain-ai/langchain-community/blob/main/libs/community/langchain_community/tools/arxiv/tool.py)"
      ]
    },
    {
      "cell_type": "code",
      "execution_count": 36,
      "metadata": {
        "id": "lAxaSvlfIeOg"
      },
      "outputs": [],
      "source": [
        "from langchain_community.tools.tavily_search import TavilySearchResults\n",
        "\n",
        "tavily_tool = TavilySearchResults(max_results=5)\n",
        "\n",
        "tool_belt = [\n",
        "    tavily_tool,\n",
        "    ai_rag_tool\n",
        "]"
      ]
    },
    {
      "cell_type": "code",
      "execution_count": 37,
      "metadata": {
        "id": "QkNS8rNZJs4z"
      },
      "outputs": [],
      "source": [
        "from langchain_openai import ChatOpenAI\n",
        "\n",
        "model = ChatOpenAI(model=\"gpt-4.1-nano\", temperature=0)"
      ]
    },
    {
      "cell_type": "markdown",
      "metadata": {
        "id": "Ugkj3GzuZpQv"
      },
      "source": [
        "Now that we have our model set-up, let's \"put on the tool belt\", which is to say: We'll bind our LangChain formatted tools to the model in an OpenAI function calling format."
      ]
    },
    {
      "cell_type": "code",
      "execution_count": 38,
      "metadata": {
        "id": "4OdMqFafZ_0V"
      },
      "outputs": [],
      "source": [
        "model = model.bind_tools(tool_belt)"
      ]
    },
    {
      "cell_type": "code",
      "execution_count": 39,
      "metadata": {
        "id": "mxL9b_NZKUdL"
      },
      "outputs": [],
      "source": [
        "from typing import TypedDict, Annotated\n",
        "from langgraph.graph.message import add_messages\n",
        "import operator\n",
        "from langchain_core.messages import BaseMessage\n",
        "\n",
        "class AgentState(TypedDict):\n",
        "  messages: Annotated[list, add_messages]"
      ]
    },
    {
      "cell_type": "code",
      "execution_count": 40,
      "metadata": {
        "id": "91flJWtZLUrl"
      },
      "outputs": [],
      "source": [
        "from langgraph.prebuilt import ToolNode\n",
        "\n",
        "def call_model(state):\n",
        "  messages = state[\"messages\"]\n",
        "  response = model.invoke(messages)\n",
        "  return {\"messages\" : [response]}\n",
        "\n",
        "tool_node = ToolNode(tool_belt)"
      ]
    },
    {
      "cell_type": "markdown",
      "metadata": {
        "id": "2bwR7MgWj3Wg"
      },
      "source": [
        "Now we have two total nodes. We have:\n",
        "\n",
        "- `call_model` is a node that will...well...call the model\n",
        "- `tool_node` is a node which can call a tool\n",
        "\n",
        "Let's start adding nodes! We'll update our diagram along the way to keep track of what this looks like!\n"
      ]
    },
    {
      "cell_type": "code",
      "execution_count": 41,
      "metadata": {
        "colab": {
          "base_uri": "https://localhost:8080/"
        },
        "id": "_vF4_lgtmQNo",
        "outputId": "a4384377-8f7a-415f-be1b-fee6169cb101"
      },
      "outputs": [
        {
          "data": {
            "text/plain": [
              "<langgraph.graph.state.StateGraph at 0x13f3c9a90>"
            ]
          },
          "execution_count": 41,
          "metadata": {},
          "output_type": "execute_result"
        }
      ],
      "source": [
        "from langgraph.graph import StateGraph, END\n",
        "\n",
        "uncompiled_graph = StateGraph(AgentState)\n",
        "\n",
        "uncompiled_graph.add_node(\"agent\", call_model)\n",
        "uncompiled_graph.add_node(\"action\", tool_node)\n",
        "uncompiled_graph.set_entry_point(\"agent\")"
      ]
    },
    {
      "cell_type": "markdown",
      "metadata": {
        "id": "0Q_pQgHmoW0M"
      },
      "source": [
        "Now we want to build a \"conditional edge\" which will use the output state of a node to determine which path to follow.\n",
        "\n",
        "We can help conceptualize this by thinking of our conditional edge as a conditional in a flowchart!\n",
        "\n",
        "Notice how our function simply checks if there is a \"function_call\" kwarg present.\n",
        "\n",
        "Then we create an edge where the origin node is our agent node and our destination node is *either* the action node or the END (finish the graph).\n",
        "\n",
        "It's important to highlight that the dictionary passed in as the third parameter (the mapping) should be created with the possible outputs of our conditional function in mind. In this case `should_continue` outputs either `\"end\"` or `\"continue\"` which are subsequently mapped to the action node or the END node."
      ]
    },
    {
      "cell_type": "code",
      "execution_count": 42,
      "metadata": {
        "colab": {
          "base_uri": "https://localhost:8080/"
        },
        "id": "1BZgb81VQf9o",
        "outputId": "73a07c15-5f0b-40f2-b033-38b57d056dd8"
      },
      "outputs": [
        {
          "data": {
            "text/plain": [
              "<langgraph.graph.state.StateGraph at 0x13f3c9a90>"
            ]
          },
          "execution_count": 42,
          "metadata": {},
          "output_type": "execute_result"
        }
      ],
      "source": [
        "def should_continue(state):\n",
        "  last_message = state[\"messages\"][-1]\n",
        "\n",
        "  if last_message.tool_calls:\n",
        "    return \"action\"\n",
        "\n",
        "  return END\n",
        "\n",
        "uncompiled_graph.add_conditional_edges(\n",
        "    \"agent\",\n",
        "    should_continue\n",
        ")"
      ]
    },
    {
      "cell_type": "markdown",
      "metadata": {
        "id": "yKCjWJCkrJb9"
      },
      "source": [
        "Finally, we can add our last edge which will connect our action node to our agent node. This is because we *always* want our action node (which is used to call our tools) to return its output to our agent!"
      ]
    },
    {
      "cell_type": "code",
      "execution_count": 43,
      "metadata": {
        "colab": {
          "base_uri": "https://localhost:8080/"
        },
        "id": "UvcgbHf1rIXZ",
        "outputId": "45d4bdd6-d6bb-4a1d-bb79-cad43c130bf2"
      },
      "outputs": [
        {
          "data": {
            "text/plain": [
              "<langgraph.graph.state.StateGraph at 0x13f3c9a90>"
            ]
          },
          "execution_count": 43,
          "metadata": {},
          "output_type": "execute_result"
        }
      ],
      "source": [
        "uncompiled_graph.add_edge(\"action\", \"agent\")"
      ]
    },
    {
      "cell_type": "markdown",
      "metadata": {
        "id": "KYqDpErlsCsu"
      },
      "source": [
        "All that's left to do now is to compile our workflow - and we're off!"
      ]
    },
    {
      "cell_type": "code",
      "execution_count": 44,
      "metadata": {
        "id": "zt9-KS8DpzNx"
      },
      "outputs": [],
      "source": [
        "simple_agent_graph = uncompiled_graph.compile()"
      ]
    },
    {
      "cell_type": "code",
      "execution_count": 45,
      "metadata": {},
      "outputs": [
        {
          "data": {
            "image/png": "[encoded data removed]",
            "text/plain": [
              "<langgraph.graph.state.CompiledStateGraph object at 0x13f3c8a50>"
            ]
          },
          "execution_count": 45,
          "metadata": {},
          "output_type": "execute_result"
        }
      ],
      "source": [
        "simple_agent_graph"
      ]
    },
    {
      "cell_type": "markdown",
      "metadata": {
        "id": "xhNWIwBL1W4Q"
      },
      "source": [
        "#### ❓ Question #2:\n",
        "\n",
        "Is there any specific limit to how many times we can cycle?\n",
        "\n",
        "If not, how could we impose a limit to the number of cycles?"
      ]
    },
    {
      "cell_type": "markdown",
      "metadata": {
        "id": "VEYcTShCsPaa"
      },
      "source": [
        "## Using Our Graph\n",
        "\n",
        "Now that we've created and compiled our graph - we can call it *just as we'd call any other* `Runnable`!\n",
        "\n",
        "Let's try out a few examples to see how it fairs:"
      ]
    },
    {
      "cell_type": "code",
      "execution_count": 46,
      "metadata": {
        "colab": {
          "base_uri": "https://localhost:8080/"
        },
        "id": "Qn4n37PQRPII",
        "outputId": "5eeedfae-089d-496e-e71f-071939fa5832"
      },
      "outputs": [
        {
          "name": "stdout",
          "output_type": "stream",
          "text": [
            "Receiving update from node: 'agent'\n",
            "[AIMessage(content=\"Consistent hashing is a technique used in distributed systems to evenly distribute data across multiple nodes or servers while minimizing the amount of data that needs to be redistributed when nodes are added or removed. It helps improve scalability and fault tolerance.\\n\\nIn consistent hashing, both data and nodes are mapped to a hash ring (a circular space of hash values). Each data item is assigned to the first node encountered when moving clockwise around the ring from the data's hash position. When a node joins or leaves, only a small portion of the data needs to be moved, making the system more efficient and resilient.\\n\\nWould you like a more detailed explanation or an example?\", additional_kwargs={'refusal': None}, response_metadata={'token_usage': {'completion_tokens': 129, 'prompt_tokens': 112, 'total_tokens': 241, 'completion_tokens_details': {'accepted_prediction_tokens': 0, 'audio_tokens': 0, 'reasoning_tokens': 0, 'rejected_prediction_tokens': 0}, 'prompt_tokens_details': {'audio_tokens': 0, 'cached_tokens': 0}}, 'model_name': 'gpt-4.1-nano-2025-04-14', 'system_fingerprint': 'fp_f12167b370', 'id': 'chatcmpl-C12IxaFS0hQwW4RjRM1KI1NVipziL', 'service_tier': 'default', 'finish_reason': 'stop', 'logprobs': None}, id='run--a24f9334-da01-488f-96cb-2bb62a009d2a-0', usage_metadata={'input_tokens': 112, 'output_tokens': 129, 'total_tokens': 241, 'input_token_details': {'audio': 0, 'cache_read': 0}, 'output_token_details': {'audio': 0, 'reasoning': 0}})]\n",
            "\n",
            "\n",
            "\n"
          ]
        }
      ],
      "source": [
        "from langchain_core.messages import HumanMessage\n",
        "\n",
        "inputs = {\"messages\" : [HumanMessage(content=\"what's consistent hashing\")]}\n",
        "\n",
        "async for chunk in simple_agent_graph.astream(inputs, stream_mode=\"updates\"):\n",
        "    for node, values in chunk.items():\n",
        "        print(f\"Receiving update from node: '{node}'\")\n",
        "        print(values[\"messages\"])\n",
        "        print(\"\\n\\n\")"
      ]
    },
    {
      "cell_type": "markdown",
      "metadata": {
        "id": "DBHnUtLSscRr"
      },
      "source": [
        "Let's look at what happened:\n",
        "\n",
        "1. Our state object was populated with our request\n",
        "2. The state object was passed into our entry point (agent node) and the agent node added an `AIMessage` to the state object and passed it along the conditional edge\n",
        "3. The conditional edge received the state object, found the \"tool_calls\" `additional_kwarg`, and sent the state object to the action node\n",
        "4. The action node added the response from the OpenAI function calling endpoint to the state object and passed it along the edge to the agent node\n",
        "5. The agent node added a response to the state object and passed it along the conditional edge\n",
        "6. The conditional edge received the state object, could not find the \"tool_calls\" `additional_kwarg` and passed the state object to END where we see it output in the cell above!\n",
        "\n",
        "Now let's look at an example that shows a multiple tool usage - all with the same flow!"
      ]
    },
    {
      "cell_type": "code",
      "execution_count": 47,
      "metadata": {
        "colab": {
          "base_uri": "https://localhost:8080/"
        },
        "id": "afv2BuEsV5JG",
        "outputId": "ff009536-d281-4a56-c126-9cd245352bfe"
      },
      "outputs": [
        {
          "name": "stdout",
          "output_type": "stream",
          "text": [
            "Receiving update from node: 'agent'\n",
            "[AIMessage(content='', additional_kwargs={'tool_calls': [{'id': 'call_2LEuSyBRbUKOskr4MakSdrH4', 'function': {'arguments': '{\"query\":\"Kafka\"}', 'name': 'tavily_search_results_json'}, 'type': 'function'}], 'refusal': None}, response_metadata={'token_usage': {'completion_tokens': 18, 'prompt_tokens': 111, 'total_tokens': 129, 'completion_tokens_details': {'accepted_prediction_tokens': 0, 'audio_tokens': 0, 'reasoning_tokens': 0, 'rejected_prediction_tokens': 0}, 'prompt_tokens_details': {'audio_tokens': 0, 'cached_tokens': 0}}, 'model_name': 'gpt-4.1-nano-2025-04-14', 'system_fingerprint': 'fp_38343a2f8f', 'id': 'chatcmpl-C12J399xNVv8DGMzO03jCn7USWrni', 'service_tier': 'default', 'finish_reason': 'tool_calls', 'logprobs': None}, id='run--13bff65b-1303-419e-b867-6d35c43abe97-0', tool_calls=[{'name': 'tavily_search_results_json', 'args': {'query': 'Kafka'}, 'id': 'call_2LEuSyBRbUKOskr4MakSdrH4', 'type': 'tool_call'}], usage_metadata={'input_tokens': 111, 'output_tokens': 18, 'total_tokens': 129, 'input_token_details': {'audio': 0, 'cache_read': 0}, 'output_token_details': {'audio': 0, 'reasoning': 0}})]\n",
            "\n",
            "\n",
            "\n",
            "Receiving update from node: 'action'\n",
            "Tool Used: tavily_search_results_json\n",
            "[ToolMessage(content='[{\"title\": \"Franz Kafka - Wikipedia\", \"url\": \"https://en.wikipedia.org/wiki/Franz_Kafka\", \"content\": \"Franz Kafka( (3 July 1883– 3 June 1924) was a novelist and writer from Prague who was Jewish, Austrian, and Czech( and wrote in German. He is widely regarded as a major figure of 20th-century literature. His work fuses elements of realism and the fantastique,( and typically features isolated protagonists facing bizarre or surreal predicaments and incomprehensible socio-bureaucratic powers. The term _Kafkaesque_ has entered the lexicon to describe bizarre situations like those depicted in his [...] Kafka was born near the Old Town Square in Prague, then part of the Austro-Hungarian Empire. His family were German-speaking middle-class Ashkenazi Jews. His father, Hermann Kafka (1852–1931), was the fourth child of Jakob Kafka,( a _shochet_ or kosher butcher in Osek \\\\\"Osek (Strakonice District)\\\\\"), a Czech village with a large Jewish population located near Strakonice in southern Bohemia.( Hermann \\\\\"came to Prague in the 1870s and opened a store selling haberdashery and ladies\\' accessories\\\\\".( He [...] Kafka was born into a middle-class German- and Yiddish-speaking Czech Jewish family in Prague, the capital of the Kingdom of Bohemia, which belonged to the Austro-Hungarian Empire (later the capital of Czechoslovakia and the Czech Republic).( He trained as a lawyer, and after completing his legal education was employed full-time in various legal and insurance jobs.( His professional obligations led to internal conflict as he felt that his true vocation was writing. Only a minority of his works\", \"score\": 0.9047265}, {\"title\": \"Franz Kafka | Biography, Books, The Metamorphosis ... - Britannica\", \"url\": \"https://www.britannica.com/biography/Franz-Kafka\", \"content\": \"Franz Kafka (born July 3, 1883, Prague, Bohemia, Austria-Hungary [now in Czech Republic]—died June 3, 1924, Kierling, near Vienna, Austria) was a German-language writer of visionary fiction whose works—especially the novel_Der Prozess_ (1925; _The Trial_) and the story _Die Verwandlung_ (1915; _The Metamorphosis_)—express the anxieties and alienation felt by many in 20th-century Europe and North America.\\\\n\\\\nLife\\\\n---- [...] The son of an assimilatedJew who held only perfunctorily to the religious practices and social formalities of the Jewish community, Kafka was German in both language and culture. He was a timid, guilt-ridden, and obedient child who did well in elementary school and in the Altstädter Staatsgymnasium, an exacting high school for the academic elite. He was respected and liked by his teachers. Inwardly, however, he rebelled against the authoritarian institution and the dehumanized humanistic [...] Franz Kafka, the son of Julie Löwy and Hermann Kafka, a merchant, was born into a prosperous middle-class Jewish family. After two brothers died in infancy, he became the eldest child and remained, for the rest of his life, conscious of his role as elder brother; Ottla, the youngest of his three sisters, became the family member closest to him. Kafka strongly identified with his maternal ancestors because of their spirituality, intellectual distinction, piety, rabbinical learning,\", \"score\": 0.89053273}, {\"title\": \"5 Must-Read Franz Kafka Books And Literary Works - Forbes\", \"url\": \"https://www.forbes.com/sites/entertainment/article/franz-kafka-books/\", \"content\": \"Franz Kafka, an Austrian-Czech novelist and one of the most prominent short story writers of the early 20th century, is celebrated for his nightmarish portrayals of isolation, bureaucracy and human absurdity. His writing style, which features realism and the grotesque, has influenced modern literature and created a lane that is authentically his. Like many authors who have mastered specific themes within the art form, Kafka was able to take the concept of absurdity and make it compelling to the [...] average reader. Kafka started experimenting with writing in his early 20s and later developed a unique style characterized by existential dread, alienation and the struggle for individual freedom against internal and external oppressive forces. He is most famous for his novella The Metamorphosis and his novel The Trial, which follows a man accused of an unknown crime. [...] While Kafka is most famous for his longer works, The Complete Stories of Franz Kafka is equally important for understanding his genius. This is a compilation of all of Kafka’s short stories, except for three novels and other shorter prose works, like parables and other unfinished fragments of his works. These stories, including “The Hunger Artist,” “In the Penal Colony” and “A Country Doctor,” show Kafka\\'s mastery of the short form, with each story delivering unsettling plots presented in a way\", \"score\": 0.8091708}, {\"title\": \"Franz Kafka - Quotes, Books & Works - Biography\", \"url\": \"https://www.biography.com/authors-writers/franz-kafka\", \"content\": \"Writer Franz Kafka was the eldest son of an upper middle-class Jewish family who was born on July 3, 1883, in Prague, the capital of Bohemia, a kingdom that was a part of the Austro-Hungarian Empire.\\\\n\\\\nTragedy shaped the Kafka home. Franz\\'s two younger brothers, Georg and Heinrich, died in infancy by the time Kafka was six, leaving the boy the only son in a family that included three daughters (all of whom would later die in Nazi death camps or a Polish ghetto). [...] At work Kafka was a popular employee, easy to socialize with and seen as somebody with a good sense of humor. But his personal life still raged with complications. His inhibitions and insecurities plagued his relationships. Twice he was engaged to marry his girlfriend, Felice Bauer, before the two finally went their separate ways in 1917. [...] Kafka was a smart child who did well in school even at the Altstädter Staatsgymnasium, an exacting high school for the academic elite. Still, even while Kafka earned the respect of his teachers, he chafed under their control and the school\\'s control of his life.\", \"score\": 0.76554126}, {\"title\": \"Honouring Franz Kafka: A Hundred-Year Legacy - The Indiependent\", \"url\": \"https://www.indiependent.co.uk/honouring-franz-kafka-a-hundred-year-legacy/\", \"content\": \"One hundred years on from his death, the prolific Czech author Franz Kafka, lives on through the universality of his themes.\", \"score\": 0.55796635}]', name='tavily_search_results_json', id='3bd20be9-0f58-451f-bf95-c0f05abe6b52', tool_call_id='call_2LEuSyBRbUKOskr4MakSdrH4', artifact={'query': 'Kafka', 'follow_up_questions': None, 'answer': None, 'images': [], 'results': [{'url': 'https://en.wikipedia.org/wiki/Franz_Kafka', 'title': 'Franz Kafka - Wikipedia', 'content': 'Franz Kafka( (3 July 1883– 3 June 1924) was a novelist and writer from Prague who was Jewish, Austrian, and Czech( and wrote in German. He is widely regarded as a major figure of 20th-century literature. His work fuses elements of realism and the fantastique,( and typically features isolated protagonists facing bizarre or surreal predicaments and incomprehensible socio-bureaucratic powers. The term _Kafkaesque_ has entered the lexicon to describe bizarre situations like those depicted in his [...] Kafka was born near the Old Town Square in Prague, then part of the Austro-Hungarian Empire. His family were German-speaking middle-class Ashkenazi Jews. His father, Hermann Kafka (1852–1931), was the fourth child of Jakob Kafka,( a _shochet_ or kosher butcher in Osek \"Osek (Strakonice District)\"), a Czech village with a large Jewish population located near Strakonice in southern Bohemia.( Hermann \"came to Prague in the 1870s and opened a store selling haberdashery and ladies\\' accessories\".( He [...] Kafka was born into a middle-class German- and Yiddish-speaking Czech Jewish family in Prague, the capital of the Kingdom of Bohemia, which belonged to the Austro-Hungarian Empire (later the capital of Czechoslovakia and the Czech Republic).( He trained as a lawyer, and after completing his legal education was employed full-time in various legal and insurance jobs.( His professional obligations led to internal conflict as he felt that his true vocation was writing. Only a minority of his works', 'score': 0.9047265, 'raw_content': None}, {'url': 'https://www.britannica.com/biography/Franz-Kafka', 'title': 'Franz Kafka | Biography, Books, The Metamorphosis ... - Britannica', 'content': 'Franz Kafka (born July 3, 1883, Prague, Bohemia, Austria-Hungary [now in Czech Republic]—died June 3, 1924, Kierling, near Vienna, Austria) was a German-language writer of visionary fiction whose works—especially the novel_Der Prozess_ (1925; _The Trial_) and the story _Die Verwandlung_ (1915; _The Metamorphosis_)—express the anxieties and alienation felt by many in 20th-century Europe and North America.\\n\\nLife\\n---- [...] The son of an assimilatedJew who held only perfunctorily to the religious practices and social formalities of the Jewish community, Kafka was German in both language and culture. He was a timid, guilt-ridden, and obedient child who did well in elementary school and in the Altstädter Staatsgymnasium, an exacting high school for the academic elite. He was respected and liked by his teachers. Inwardly, however, he rebelled against the authoritarian institution and the dehumanized humanistic [...] Franz Kafka, the son of Julie Löwy and Hermann Kafka, a merchant, was born into a prosperous middle-class Jewish family. After two brothers died in infancy, he became the eldest child and remained, for the rest of his life, conscious of his role as elder brother; Ottla, the youngest of his three sisters, became the family member closest to him. Kafka strongly identified with his maternal ancestors because of their spirituality, intellectual distinction, piety, rabbinical learning,', 'score': 0.89053273, 'raw_content': None}, {'url': 'https://www.forbes.com/sites/entertainment/article/franz-kafka-books/', 'title': '5 Must-Read Franz Kafka Books And Literary Works - Forbes', 'content': \"Franz Kafka, an Austrian-Czech novelist and one of the most prominent short story writers of the early 20th century, is celebrated for his nightmarish portrayals of isolation, bureaucracy and human absurdity. His writing style, which features realism and the grotesque, has influenced modern literature and created a lane that is authentically his. Like many authors who have mastered specific themes within the art form, Kafka was able to take the concept of absurdity and make it compelling to the [...] average reader. Kafka started experimenting with writing in his early 20s and later developed a unique style characterized by existential dread, alienation and the struggle for individual freedom against internal and external oppressive forces. He is most famous for his novella The Metamorphosis and his novel The Trial, which follows a man accused of an unknown crime. [...] While Kafka is most famous for his longer works, The Complete Stories of Franz Kafka is equally important for understanding his genius. This is a compilation of all of Kafka’s short stories, except for three novels and other shorter prose works, like parables and other unfinished fragments of his works. These stories, including “The Hunger Artist,” “In the Penal Colony” and “A Country Doctor,” show Kafka's mastery of the short form, with each story delivering unsettling plots presented in a way\", 'score': 0.8091708, 'raw_content': None}, {'url': 'https://www.biography.com/authors-writers/franz-kafka', 'title': 'Franz Kafka - Quotes, Books & Works - Biography', 'content': \"Writer Franz Kafka was the eldest son of an upper middle-class Jewish family who was born on July 3, 1883, in Prague, the capital of Bohemia, a kingdom that was a part of the Austro-Hungarian Empire.\\n\\nTragedy shaped the Kafka home. Franz's two younger brothers, Georg and Heinrich, died in infancy by the time Kafka was six, leaving the boy the only son in a family that included three daughters (all of whom would later die in Nazi death camps or a Polish ghetto). [...] At work Kafka was a popular employee, easy to socialize with and seen as somebody with a good sense of humor. But his personal life still raged with complications. His inhibitions and insecurities plagued his relationships. Twice he was engaged to marry his girlfriend, Felice Bauer, before the two finally went their separate ways in 1917. [...] Kafka was a smart child who did well in school even at the Altstädter Staatsgymnasium, an exacting high school for the academic elite. Still, even while Kafka earned the respect of his teachers, he chafed under their control and the school's control of his life.\", 'score': 0.76554126, 'raw_content': None}, {'url': 'https://www.indiependent.co.uk/honouring-franz-kafka-a-hundred-year-legacy/', 'title': 'Honouring Franz Kafka: A Hundred-Year Legacy - The Indiependent', 'content': 'One hundred years on from his death, the prolific Czech author Franz Kafka, lives on through the universality of his themes.', 'score': 0.55796635, 'raw_content': None}], 'response_time': 2.83})]\n",
            "\n",
            "\n",
            "\n",
            "Receiving update from node: 'agent'\n",
            "[AIMessage(content='Kafka generally refers to Franz Kafka, a renowned novelist and writer from Prague, who is considered a major figure of 20th-century literature. His works often explore themes of realism, surrealism, alienation, bureaucracy, and human absurdity. Some of his most famous works include the novella \"The Metamorphosis\" and the novel \"The Trial.\" The term \"Kafkaesque\" is derived from his name and describes bizarre, surreal, and oppressive situations similar to those depicted in his stories.', additional_kwargs={'refusal': None}, response_metadata={'token_usage': {'completion_tokens': 102, 'prompt_tokens': 1590, 'total_tokens': 1692, 'completion_tokens_details': {'accepted_prediction_tokens': 0, 'audio_tokens': 0, 'reasoning_tokens': 0, 'rejected_prediction_tokens': 0}, 'prompt_tokens_details': {'audio_tokens': 0, 'cached_tokens': 0}}, 'model_name': 'gpt-4.1-nano-2025-04-14', 'system_fingerprint': 'fp_f12167b370', 'id': 'chatcmpl-C12J7Bm3ql6LkFIRJyNwrjmTVco70', 'service_tier': 'default', 'finish_reason': 'stop', 'logprobs': None}, id='run--6ee2ba4c-8f1f-468a-973f-b3bfa424b67f-0', usage_metadata={'input_tokens': 1590, 'output_tokens': 102, 'total_tokens': 1692, 'input_token_details': {'audio': 0, 'cache_read': 0}, 'output_token_details': {'audio': 0, 'reasoning': 0}})]\n",
            "\n",
            "\n",
            "\n"
          ]
        }
      ],
      "source": [
        "inputs = {\"messages\" : [HumanMessage(content=\"what's kafka\")]}\n",
        "\n",
        "async for chunk in simple_agent_graph.astream(inputs, stream_mode=\"updates\"):\n",
        "    for node, values in chunk.items():\n",
        "        print(f\"Receiving update from node: '{node}'\")\n",
        "        if node == \"action\":\n",
        "          print(f\"Tool Used: {values['messages'][0].name}\")\n",
        "        print(values[\"messages\"])\n",
        "\n",
        "        print(\"\\n\\n\")"
      ]
    },
    {
      "cell_type": "code",
      "execution_count": 48,
      "metadata": {},
      "outputs": [],
      "source": [
        "\n",
        "from ragas.llms import LangchainLLMWrapper\n",
        "from ragas.embeddings import LangchainEmbeddingsWrapper\n",
        "from langchain_openai import ChatOpenAI\n",
        "from langchain_openai import OpenAIEmbeddings\n",
        "from ragas.testset import TestsetGenerator\n",
        "\n",
        "generator_llm = LangchainLLMWrapper(ChatOpenAI(model=\"gpt-4.1-nano\"))\n",
        "generator_embeddings = LangchainEmbeddingsWrapper(OpenAIEmbeddings())\n",
        "\n",
        "generator = TestsetGenerator(llm=generator_llm, embedding_model=generator_embeddings)"
      ]
    },
    {
      "cell_type": "code",
      "execution_count": 49,
      "metadata": {},
      "outputs": [
        {
          "data": {
            "text/plain": [
              "269"
            ]
          },
          "execution_count": 49,
          "metadata": {},
          "output_type": "execute_result"
        }
      ],
      "source": [
        "len(docs)"
      ]
    },
    {
      "cell_type": "code",
      "execution_count": 50,
      "metadata": {},
      "outputs": [
        {
          "data": {
            "application/vnd.jupyter.widget-view+json": {
              "model_id": "1cdc6ba1915547c3b08b172d213f13e3",
              "version_major": 2,
              "version_minor": 0
            },
            "text/plain": [
              "Applying SummaryExtractor:   0%|          | 0/16 [00:00<?, ?it/s]"
            ]
          },
          "metadata": {},
          "output_type": "display_data"
        },
        {
          "data": {
            "application/vnd.jupyter.widget-view+json": {
              "model_id": "3272910258c240a2b53155946aae555a",
              "version_major": 2,
              "version_minor": 0
            },
            "text/plain": [
              "Applying CustomNodeFilter:   0%|          | 0/20 [00:00<?, ?it/s]"
            ]
          },
          "metadata": {},
          "output_type": "display_data"
        },
        {
          "name": "stderr",
          "output_type": "stream",
          "text": [
            "Node 6c3ed6fa-6338-4746-8a99-f94fe4dfdf40 does not have a summary. Skipping filtering.\n",
            "Node 95e370a3-ccf4-45d6-90b3-45c4ce9280cd does not have a summary. Skipping filtering.\n",
            "Node ff6dd9db-e99b-4d9d-87f5-5ff3faeb219f does not have a summary. Skipping filtering.\n",
            "Node 1f6e0f53-b886-46bc-94a1-b8fb2f8f997a does not have a summary. Skipping filtering.\n"
          ]
        },
        {
          "data": {
            "application/vnd.jupyter.widget-view+json": {
              "model_id": "53bb3d6f8fd3461d9b3330ca836a5994",
              "version_major": 2,
              "version_minor": 0
            },
            "text/plain": [
              "Applying [EmbeddingExtractor, ThemesExtractor, NERExtractor]:   0%|          | 0/53 [00:00<?, ?it/s]"
            ]
          },
          "metadata": {},
          "output_type": "display_data"
        },
        {
          "data": {
            "application/vnd.jupyter.widget-view+json": {
              "model_id": "7ef13e430f124334bdc065548de8800c",
              "version_major": 2,
              "version_minor": 0
            },
            "text/plain": [
              "Applying OverlapScoreBuilder:   0%|          | 0/1 [00:00<?, ?it/s]"
            ]
          },
          "metadata": {},
          "output_type": "display_data"
        },
        {
          "data": {
            "application/vnd.jupyter.widget-view+json": {
              "model_id": "ae004ffda4f44b21bcda868ee5263638",
              "version_major": 2,
              "version_minor": 0
            },
            "text/plain": [
              "Generating personas:   0%|          | 0/3 [00:00<?, ?it/s]"
            ]
          },
          "metadata": {},
          "output_type": "display_data"
        },
        {
          "data": {
            "application/vnd.jupyter.widget-view+json": {
              "model_id": "34ce4f162ea7433581ba71cef44e184c",
              "version_major": 2,
              "version_minor": 0
            },
            "text/plain": [
              "Generating Scenarios:   0%|          | 0/1 [00:00<?, ?it/s]"
            ]
          },
          "metadata": {},
          "output_type": "display_data"
        },
        {
          "data": {
            "application/vnd.jupyter.widget-view+json": {
              "model_id": "a1161401169d468e83f2e3a936d8e3cf",
              "version_major": 2,
              "version_minor": 0
            },
            "text/plain": [
              "Generating Samples:   0%|          | 0/10 [00:00<?, ?it/s]"
            ]
          },
          "metadata": {},
          "output_type": "display_data"
        }
      ],
      "source": [
        "from ragas.testset import TestsetGenerator\n",
        "from ragas.testset.synthesizers import SingleHopSpecificQuerySynthesizer, MultiHopAbstractQuerySynthesizer\n",
        "\n",
        "generator = TestsetGenerator(llm=generator_llm, embedding_model=generator_embeddings)\n",
        "dataset = generator.generate_with_langchain_docs(\n",
        "    docs[:20], \n",
        "    testset_size=10,\n",
        "    query_distribution=[(SingleHopSpecificQuerySynthesizer(llm=generator_llm), 1.0)]\n",
        ")"
      ]
    },
    {
      "cell_type": "code",
      "execution_count": null,
      "metadata": {},
      "outputs": [
        {
          "data": {
            "text/html": [
              "<div>\n",
              "<style scoped>\n",
              "    .dataframe tbody tr th:only-of-type {\n",
              "        vertical-align: middle;\n",
              "    }\n",
              "\n",
              "    .dataframe tbody tr th {\n",
              "        vertical-align: top;\n",
              "    }\n",
              "\n",
              "    .dataframe thead th {\n",
              "        text-align: right;\n",
              "    }\n",
              "</style>\n",
              "<table border=\"1\" class=\"dataframe\">\n",
              "  <thead>\n",
              "    <tr style=\"text-align: right;\">\n",
              "      <th></th>\n",
              "      <th>user_input</th>\n",
              "      <th>reference_contexts</th>\n",
              "      <th>reference</th>\n",
              "      <th>synthesizer_name</th>\n",
              "    </tr>\n",
              "  </thead>\n",
              "  <tbody>\n",
              "    <tr>\n",
              "      <th>0</th>\n",
              "      <td>Can you explain how Google Drive is designed t...</td>\n",
              "      <td>[Table of Contents\\nSystem Design Interview: A...</td>\n",
              "      <td>Chapter 15 of the document is dedicated to des...</td>\n",
              "      <td>single_hop_specifc_query_synthesizer</td>\n",
              "    </tr>\n",
              "    <tr>\n",
              "      <th>1</th>\n",
              "      <td>How does Google relate to system design interv...</td>\n",
              "      <td>[FORWARD\\nWe are delighted that you have decid...</td>\n",
              "      <td>The context mentions Google as an example of a...</td>\n",
              "      <td>single_hop_specifc_query_synthesizer</td>\n",
              "    </tr>\n",
              "    <tr>\n",
              "      <th>2</th>\n",
              "      <td>As a Backend Systems Engineer focusing on cach...</td>\n",
              "      <td>[1. Users access websites through domain names...</td>\n",
              "      <td>In the context of web and mobile applications,...</td>\n",
              "      <td>single_hop_specifc_query_synthesizer</td>\n",
              "    </tr>\n",
              "    <tr>\n",
              "      <th>3</th>\n",
              "      <td>Amazon DynamoDB good?</td>\n",
              "      <td>[Database\\nWith the growth of the user base, o...</td>\n",
              "      <td>Amazon DynamoDB is a non-relational database, ...</td>\n",
              "      <td>single_hop_specifc_query_synthesizer</td>\n",
              "    </tr>\n",
              "    <tr>\n",
              "      <th>4</th>\n",
              "      <td>What is a load balancer used for?</td>\n",
              "      <td>[Load balancer\\nA load balancer evenly distrib...</td>\n",
              "      <td>A load balancer evenly distributes incoming tr...</td>\n",
              "      <td>single_hop_specifc_query_synthesizer</td>\n",
              "    </tr>\n",
              "    <tr>\n",
              "      <th>5</th>\n",
              "      <td>Database does not support failover and redunda...</td>\n",
              "      <td>[so it does not support failover and redundanc...</td>\n",
              "      <td>The context states that the database does not ...</td>\n",
              "      <td>single_hop_specifc_query_synthesizer</td>\n",
              "    </tr>\n",
              "    <tr>\n",
              "      <th>6</th>\n",
              "      <td>According to the information from Wikipedia, h...</td>\n",
              "      <td>[Database replication\\nQuoted from Wikipedia: ...</td>\n",
              "      <td>Database replication, as described in Wikipedi...</td>\n",
              "      <td>single_hop_specifc_query_synthesizer</td>\n",
              "    </tr>\n",
              "    <tr>\n",
              "      <th>7</th>\n",
              "      <td>What is Figure 1-5?</td>\n",
              "      <td>[operation even if a database is offline as yo...</td>\n",
              "      <td>Figure 1-5 shows the architectural design that...</td>\n",
              "      <td>single_hop_specifc_query_synthesizer</td>\n",
              "    </tr>\n",
              "    <tr>\n",
              "      <th>8</th>\n",
              "      <td>How does the HTPP protocol work in the context...</td>\n",
              "      <td>[Let us take a look at the design:\\n• A user g...</td>\n",
              "      <td>The context describes that a user connects to ...</td>\n",
              "      <td>single_hop_specifc_query_synthesizer</td>\n",
              "    </tr>\n",
              "    <tr>\n",
              "      <th>9</th>\n",
              "      <td>What is a cache and how does it improve system...</td>\n",
              "      <td>[Cache\\nA cache is a temporary storage area th...</td>\n",
              "      <td>A cache is a temporary storage area that store...</td>\n",
              "      <td>single_hop_specifc_query_synthesizer</td>\n",
              "    </tr>\n",
              "  </tbody>\n",
              "</table>\n",
              "</div>"
            ],
            "text/plain": [
              "                                          user_input  \\\n",
              "0  Can you explain how Google Drive is designed t...   \n",
              "1  How does Google relate to system design interv...   \n",
              "2  As a Backend Systems Engineer focusing on cach...   \n",
              "3                              Amazon DynamoDB good?   \n",
              "4                  What is a load balancer used for?   \n",
              "5  Database does not support failover and redunda...   \n",
              "6  According to the information from Wikipedia, h...   \n",
              "7                                What is Figure 1-5?   \n",
              "8  How does the HTPP protocol work in the context...   \n",
              "9  What is a cache and how does it improve system...   \n",
              "\n",
              "                                  reference_contexts  \\\n",
              "0  [Table of Contents\\nSystem Design Interview: A...   \n",
              "1  [FORWARD\\nWe are delighted that you have decid...   \n",
              "2  [1. Users access websites through domain names...   \n",
              "3  [Database\\nWith the growth of the user base, o...   \n",
              "4  [Load balancer\\nA load balancer evenly distrib...   \n",
              "5  [so it does not support failover and redundanc...   \n",
              "6  [Database replication\\nQuoted from Wikipedia: ...   \n",
              "7  [operation even if a database is offline as yo...   \n",
              "8  [Let us take a look at the design:\\n• A user g...   \n",
              "9  [Cache\\nA cache is a temporary storage area th...   \n",
              "\n",
              "                                           reference  \\\n",
              "0  Chapter 15 of the document is dedicated to des...   \n",
              "1  The context mentions Google as an example of a...   \n",
              "2  In the context of web and mobile applications,...   \n",
              "3  Amazon DynamoDB is a non-relational database, ...   \n",
              "4  A load balancer evenly distributes incoming tr...   \n",
              "5  The context states that the database does not ...   \n",
              "6  Database replication, as described in Wikipedi...   \n",
              "7  Figure 1-5 shows the architectural design that...   \n",
              "8  The context describes that a user connects to ...   \n",
              "9  A cache is a temporary storage area that store...   \n",
              "\n",
              "                       synthesizer_name  \n",
              "0  single_hop_specifc_query_synthesizer  \n",
              "1  single_hop_specifc_query_synthesizer  \n",
              "2  single_hop_specifc_query_synthesizer  \n",
              "3  single_hop_specifc_query_synthesizer  \n",
              "4  single_hop_specifc_query_synthesizer  \n",
              "5  single_hop_specifc_query_synthesizer  \n",
              "6  single_hop_specifc_query_synthesizer  \n",
              "7  single_hop_specifc_query_synthesizer  \n",
              "8  single_hop_specifc_query_synthesizer  \n",
              "9  single_hop_specifc_query_synthesizer  "
            ]
          },
          "execution_count": 106,
          "metadata": {},
          "output_type": "execute_result"
        }
      ],
      "source": [
        "dataset.to_pandas()"
      ]
    },
    {
      "cell_type": "code",
      "execution_count": 57,
      "metadata": {},
      "outputs": [
        {
          "data": {
            "text/plain": [
              "{'messages': [SystemMessage(content='You are a tutor that can answer questions about the system design and distributed systems.                   Only answer questions that are related to system design topics.                   If the question is related, use ai_rag_tool to get context first. If the context is not related or insufficient to answer the question, use tavily_tool to get context.', additional_kwargs={}, response_metadata={}, id='586409e0-4c8b-44c3-992e-da2c7f178df2'),\n",
              "  HumanMessage(content='How does Facebook address cache challenges and prevent single points of failure?', additional_kwargs={}, response_metadata={}, id='d13b181b-1870-4010-9e47-43d80637f6a3'),\n",
              "  AIMessage(content='', additional_kwargs={'tool_calls': [{'id': 'call_ttyjBOI2tHJvKrLlJjTArwH0', 'function': {'arguments': '{\"question\":\"How does Facebook address cache challenges and prevent single points of failure?\"}', 'name': 'ai_rag_tool'}, 'type': 'function'}], 'refusal': None}, response_metadata={'token_usage': {'completion_tokens': 28, 'prompt_tokens': 187, 'total_tokens': 215, 'completion_tokens_details': {'accepted_prediction_tokens': 0, 'audio_tokens': 0, 'reasoning_tokens': 0, 'rejected_prediction_tokens': 0}, 'prompt_tokens_details': {'audio_tokens': 0, 'cached_tokens': 0}}, 'model_name': 'gpt-4.1-nano-2025-04-14', 'system_fingerprint': 'fp_38343a2f8f', 'id': 'chatcmpl-C12Ncx3O4MgBUxCNsfeIJioFyxppb', 'service_tier': 'default', 'finish_reason': 'tool_calls', 'logprobs': None}, id='run--d11c0714-1525-46e3-9358-31d2d02d4253-0', tool_calls=[{'name': 'ai_rag_tool', 'args': {'question': 'How does Facebook address cache challenges and prevent single points of failure?'}, 'id': 'call_ttyjBOI2tHJvKrLlJjTArwH0', 'type': 'tool_call'}], usage_metadata={'input_tokens': 187, 'output_tokens': 28, 'total_tokens': 215, 'input_token_details': {'audio': 0, 'cache_read': 0}, 'output_token_details': {'audio': 0, 'reasoning': 0}}),\n",
              "  ToolMessage(content='{\\'messages\\': [HumanMessage(content=\\'Facebook addresses cache challenges and prevents single points of failure by deploying multiple cache servers across different data centers, thereby avoiding SPOF scenarios. They also overprovision the required memory by certain percentages to create a buffer against memory usage increases. To mitigate cache miss storms caused by server outages, Facebook employs consistent hashing, which helps in redistributing keys efficiently when a server goes offline, ensuring better fault tolerance and reducing the impact of individual server failures.\\', additional_kwargs={}, response_metadata={})], \\'context\\': [Document(metadata={\\'producer\\': \\'calibre 3.9.0 [https://calibre-ebook.com]\\', \\'creator\\': \\'calibre 3.9.0 [https://calibre-ebook.com]\\', \\'creationdate\\': \\'2020-10-16T23:12:01+00:00\\', \\'source\\': \\'data/SystemDesignInterview.pdf\\', \\'file_path\\': \\'data/SystemDesignInterview.pdf\\', \\'total_pages\\': 269, \\'format\\': \\'PDF 1.4\\', \\'title\\': \"System Design Interview – An insider\\'s guide, Second Edition: Step by Step Guide, Tips and 15 System Design Interview Questions with Detailed Solutions\", \\'author\\': \\'Alex Xu\\', \\'subject\\': \\'\\', \\'keywords\\': \\'\\', \\'moddate\\': \\'\\', \\'trapped\\': \\'\\', \\'modDate\\': \\'\\', \\'creationDate\\': \"D:20201016231201+00\\'00\\'\", \\'page\\': 15, \\'_id\\': \\'b75263a4f6ec499590b11ab44338d9aa\\', \\'_collection_name\\': \\'podcast_transcript\\', \\'relevance_score\\': 0.7781275}, page_content=\\'the data store and cache is challenging. For further details, refer to the paper titled\\\\n“Scaling Memcache at Facebook” published by Facebook [7].\\\\n• Mitigating failures: A single cache server represents a potential single point of failure\\\\n(SPOF), defined in Wikipedia as follows: “A single point of failure (SPOF) is a part of a\\\\nsystem that, if it fails, will stop the entire system from working” [8]. As a result, multiple\\\\ncache servers across different data centers are recommended to avoid SPOF. Another\\\\nrecommended approach is to overprovision the required memory by certain percentages.\\\\nThis provides a buffer as the memory usage increases.\\\\n• Eviction Policy: Once the cache is full, any requests to add items to the cache might\\\\ncause existing items to be removed. This is called cache eviction. Least-recently-used\\\\n(LRU) is the most popular cache eviction policy. Other eviction policies, such as the Least\\'), Document(metadata={\\'producer\\': \\'calibre 3.9.0 [https://calibre-ebook.com]\\', \\'creator\\': \\'calibre 3.9.0 [https://calibre-ebook.com]\\', \\'creationdate\\': \\'2020-10-16T23:12:01+00:00\\', \\'source\\': \\'data/SystemDesignInterview.pdf\\', \\'file_path\\': \\'data/SystemDesignInterview.pdf\\', \\'total_pages\\': 269, \\'format\\': \\'PDF 1.4\\', \\'title\\': \"System Design Interview – An insider\\'s guide, Second Edition: Step by Step Guide, Tips and 15 System Design Interview Questions with Detailed Solutions\", \\'author\\': \\'Alex Xu\\', \\'subject\\': \\'\\', \\'keywords\\': \\'\\', \\'moddate\\': \\'\\', \\'trapped\\': \\'\\', \\'modDate\\': \\'\\', \\'creationDate\\': \"D:20201016231201+00\\'00\\'\", \\'page\\': 32, \\'_id\\': \\'de350cc3b0fa43248e922567a8bac5d8\\', \\'_collection_name\\': \\'podcast_transcript\\', \\'relevance_score\\': 0.3725742}, page_content=\\'Reference materials\\\\n[1] Hypertext Transfer Protocol: https://en.wikipedia.org/wiki/Hypertext_Transfer_Protocol\\\\n[2] Should you go Beyond Relational Databases?:\\\\nhttps://blog.teamtreehouse.com/should-you-go-beyond-relational-databases\\\\n[3] Replication:  https://en.wikipedia.org/wiki/Replication_(computing)\\\\n[4] Multi-master replication:\\\\nhttps://en.wikipedia.org/wiki/Multi-master_replication\\\\n[5] NDB Cluster Replication: Multi-Master and Circular Replication:\\\\nhttps://dev.mysql.com/doc/refman/5.7/en/mysql-cluster-replication-multi-master.html\\\\n[6] Caching Strategies and How to Choose the Right One:\\\\nhttps://codeahoy.com/2017/08/11/caching-strategies-and-how-to-choose-the-right-one/\\\\n[7] R. Nishtala, \"Facebook, Scaling Memcache at,\" 10th USENIX Symposium on Networked\\\\nSystems Design and Implementation (NSDI ’13).\\\\n[8] Single point of failure: https://en.wikipedia.org/wiki/Single_point_of_failure\\\\n[9] Amazon CloudFront Dynamic Content Delivery:\\\\nhttps://aws.amazon.com/cloudfront/dynamic-content/\\'), Document(metadata={\\'producer\\': \\'calibre 3.9.0 [https://calibre-ebook.com]\\', \\'creator\\': \\'calibre 3.9.0 [https://calibre-ebook.com]\\', \\'creationdate\\': \\'2020-10-16T23:12:01+00:00\\', \\'source\\': \\'data/SystemDesignInterview.pdf\\', \\'file_path\\': \\'data/SystemDesignInterview.pdf\\', \\'total_pages\\': 269, \\'format\\': \\'PDF 1.4\\', \\'title\\': \"System Design Interview – An insider\\'s guide, Second Edition: Step by Step Guide, Tips and 15 System Design Interview Questions with Detailed Solutions\", \\'author\\': \\'Alex Xu\\', \\'subject\\': \\'\\', \\'keywords\\': \\'\\', \\'moddate\\': \\'\\', \\'trapped\\': \\'\\', \\'modDate\\': \\'\\', \\'creationDate\\': \"D:20201016231201+00\\'00\\'\", \\'page\\': 73, \\'_id\\': \\'ed940f764334400f9b8781a69190d0b9\\', \\'_collection_name\\': \\'podcast_transcript\\', \\'relevance_score\\': 0.09067929}, page_content=\\'As shown in Figure 5-2, most keys are redistributed, not just the ones originally stored in the\\\\noffline server (server 1). This means that when server 1 goes offline, most cache clients will\\\\nconnect to the wrong servers to fetch data. This causes a storm of cache misses. Consistent\\\\nhashing is an effective technique to mitigate this problem.\\')]}', name='ai_rag_tool', id='90d209f2-2f4a-4931-937e-108b61363d00', tool_call_id='call_ttyjBOI2tHJvKrLlJjTArwH0'),\n",
              "  AIMessage(content='Facebook addresses cache challenges and prevents single points of failure by deploying multiple cache servers across different data centers, which helps avoid SPOF scenarios. They also overprovision memory by certain percentages to create a buffer against increasing memory usage. To mitigate cache miss storms caused by server outages, Facebook employs consistent hashing, which allows for efficient redistribution of cache keys when a server goes offline, thereby improving fault tolerance and reducing the impact of individual server failures.', additional_kwargs={'refusal': None}, response_metadata={'token_usage': {'completion_tokens': 88, 'prompt_tokens': 1593, 'total_tokens': 1681, 'completion_tokens_details': {'accepted_prediction_tokens': 0, 'audio_tokens': 0, 'reasoning_tokens': 0, 'rejected_prediction_tokens': 0}, 'prompt_tokens_details': {'audio_tokens': 0, 'cached_tokens': 0}}, 'model_name': 'gpt-4.1-nano-2025-04-14', 'system_fingerprint': 'fp_38343a2f8f', 'id': 'chatcmpl-C12NeimqKQc840Pj1pIb8iaDQY7uw', 'service_tier': 'default', 'finish_reason': 'stop', 'logprobs': None}, id='run--18450bad-3d09-4099-a286-ce8a50490722-0', usage_metadata={'input_tokens': 1593, 'output_tokens': 88, 'total_tokens': 1681, 'input_token_details': {'audio': 0, 'cache_read': 0}, 'output_token_details': {'audio': 0, 'reasoning': 0}})]}"
            ]
          },
          "execution_count": 57,
          "metadata": {},
          "output_type": "execute_result"
        }
      ],
      "source": [
        "from langchain_core.messages import SystemMessage, HumanMessage\n",
        "\n",
        "inputs = {\"messages\" : [\n",
        "     SystemMessage(content=\"You are a tutor that can answer questions about the system design and distributed systems. \\\n",
        "                  Only answer questions that are related to system design topics. \\\n",
        "                  If the question is related, use ai_rag_tool to get context first. If the context is not related or insufficient to answer the question, use tavily_tool to get context.\"),\n",
        "    HumanMessage(content=\"How does Facebook address cache challenges and prevent single points of failure?\")]\n",
        "    }\n",
        "\n",
        "res = simple_agent_graph.invoke(inputs)\n",
        "res"
      ]
    },
    {
      "cell_type": "code",
      "execution_count": 52,
      "metadata": {},
      "outputs": [
        {
          "data": {
            "text/plain": [
              "'Kafka is a distributed streaming platform used for building real-time data pipelines and streaming applications. It is designed to handle high-throughput, fault-tolerant, and scalable data streaming. Kafka allows producers to publish messages to topics, and consumers to subscribe to those topics to process the data in real-time. It is widely used in system architectures that require reliable and fast data transfer between different components or services.'"
            ]
          },
          "execution_count": 52,
          "metadata": {},
          "output_type": "execute_result"
        }
      ],
      "source": [
        "res[\"messages\"][-1].content"
      ]
    },
    {
      "cell_type": "code",
      "execution_count": 53,
      "metadata": {},
      "outputs": [],
      "source": [
        "import re\n",
        "\n",
        "def extract_page_contents(text):\n",
        "    page_contents = []\n",
        "    \n",
        "    # Find all Document objects\n",
        "    document_pattern = r\"Document\\(.*?page_content='(.*?)'\\)\"\n",
        "    matches = re.finditer(document_pattern, text, re.DOTALL)\n",
        "    \n",
        "    for match in matches:\n",
        "        page_content = match.group(1)\n",
        "        # Unescape any escaped quotes\n",
        "        page_content = page_content.replace(\"\\\\'\", \"'\")\n",
        "        page_contents.append(page_content)\n",
        "    \n",
        "    return page_contents\n"
      ]
    },
    {
      "cell_type": "code",
      "execution_count": 59,
      "metadata": {},
      "outputs": [],
      "source": [
        "from langchain_core.messages import SystemMessage, HumanMessage\n",
        "\n",
        "for test_row in dataset:\n",
        "  inputs = {\"messages\" : [\n",
        "    SystemMessage(content=\"You are a tutor that can answer questions about the system design and distributed systems. \\\n",
        "                  Only answer questions that are related to system design topics. \\\n",
        "                  If the question is related, use ai_rag_tool to get context first. If the context is not related or insufficient to answer the question, use tavily_tool to get context.\"),\n",
        "    HumanMessage(content=test_row.eval_sample.user_input)\n",
        "  ]}\n",
        "  res = simple_agent_graph.invoke(inputs)\n",
        "  test_row.eval_sample.response = res[\"messages\"][-1].content\n",
        "  page_contents = extract_page_contents(res[\"messages\"][-2].content)\n",
        "  test_row.eval_sample.retrieved_contexts = page_contents\n"
      ]
    },
    {
      "cell_type": "code",
      "execution_count": 60,
      "metadata": {},
      "outputs": [
        {
          "data": {
            "text/html": [
              "<div>\n",
              "<style scoped>\n",
              "    .dataframe tbody tr th:only-of-type {\n",
              "        vertical-align: middle;\n",
              "    }\n",
              "\n",
              "    .dataframe tbody tr th {\n",
              "        vertical-align: top;\n",
              "    }\n",
              "\n",
              "    .dataframe thead th {\n",
              "        text-align: right;\n",
              "    }\n",
              "</style>\n",
              "<table border=\"1\" class=\"dataframe\">\n",
              "  <thead>\n",
              "    <tr style=\"text-align: right;\">\n",
              "      <th></th>\n",
              "      <th>user_input</th>\n",
              "      <th>retrieved_contexts</th>\n",
              "      <th>reference_contexts</th>\n",
              "      <th>response</th>\n",
              "      <th>reference</th>\n",
              "      <th>synthesizer_name</th>\n",
              "    </tr>\n",
              "  </thead>\n",
              "  <tbody>\n",
              "    <tr>\n",
              "      <th>0</th>\n",
              "      <td>What is Google Drive used for?</td>\n",
              "      <td>[CHAPTER 15: DESIGN GOOGLE DRIVE\\nIn recent ye...</td>\n",
              "      <td>[Table of Contents\\nSystem Design Interview: A...</td>\n",
              "      <td>Google Drive is used for storing and syncing f...</td>\n",
              "      <td>The context mentions 'CHAPTER 15: DESIGN GOOGL...</td>\n",
              "      <td>single_hop_specifc_query_synthesizer</td>\n",
              "    </tr>\n",
              "    <tr>\n",
              "      <th>1</th>\n",
              "      <td>How does Google relate to system design interv...</td>\n",
              "      <td>[FORWARD\\nWe are delighted that you have decid...</td>\n",
              "      <td>[FORWARD\\nWe are delighted that you have decid...</td>\n",
              "      <td>Google is often used as an example in system d...</td>\n",
              "      <td>The context mentions Google as an example of a...</td>\n",
              "      <td>single_hop_specifc_query_synthesizer</td>\n",
              "    </tr>\n",
              "    <tr>\n",
              "      <th>2</th>\n",
              "      <td>How does the Hypertext Transfer Protocol funct...</td>\n",
              "      <td>[1. Users access websites through domain names...</td>\n",
              "      <td>[1. Users access websites through domain names...</td>\n",
              "      <td>The Hypertext Transfer Protocol (HTTP) functio...</td>\n",
              "      <td>Once the IP address is obtained, Hypertext Tra...</td>\n",
              "      <td>single_hop_specifc_query_synthesizer</td>\n",
              "    </tr>\n",
              "    <tr>\n",
              "      <th>3</th>\n",
              "      <td>What is Couchdb?</td>\n",
              "      <td>[Database\\nWith the growth of the user base, o...</td>\n",
              "      <td>[Database\\nWith the growth of the user base, o...</td>\n",
              "      <td>CouchDB is a non-relational (NoSQL) database t...</td>\n",
              "      <td>CouchDB is a non-relational database, also cal...</td>\n",
              "      <td>single_hop_specifc_query_synthesizer</td>\n",
              "    </tr>\n",
              "    <tr>\n",
              "      <th>4</th>\n",
              "      <td>What does Figure 1-4 illustrate about the func...</td>\n",
              "      <td>[Load balancer\\nA load balancer evenly distrib...</td>\n",
              "      <td>[Load balancer\\nA load balancer evenly distrib...</td>\n",
              "      <td>Figure 1-4 illustrates that the function of a ...</td>\n",
              "      <td>Figure 1-4 shows how a load balancer works by ...</td>\n",
              "      <td>single_hop_specifc_query_synthesizer</td>\n",
              "    </tr>\n",
              "    <tr>\n",
              "      <th>5</th>\n",
              "      <td>Wikipedia help with database replication?</td>\n",
              "      <td>[Database replication\\nQuoted from Wikipedia: ...</td>\n",
              "      <td>[Database replication\\nQuoted from Wikipedia: ...</td>\n",
              "      <td>Wikipedia's approach to database replication p...</td>\n",
              "      <td>Database replication, quoted from Wikipedia, c...</td>\n",
              "      <td>single_hop_specifc_query_synthesizer</td>\n",
              "    </tr>\n",
              "    <tr>\n",
              "      <th>6</th>\n",
              "      <td>What happens if the database goes offline and ...</td>\n",
              "      <td>[operation even if a database is offline as yo...</td>\n",
              "      <td>[operation even if a database is offline as yo...</td>\n",
              "      <td>If the database goes offline, the system can c...</td>\n",
              "      <td>If a database goes offline, the system can sti...</td>\n",
              "      <td>single_hop_specifc_query_synthesizer</td>\n",
              "    </tr>\n",
              "    <tr>\n",
              "      <th>7</th>\n",
              "      <td>What role does DNS play in website load balanc...</td>\n",
              "      <td>[Let us take a look at the design:\\n• A user g...</td>\n",
              "      <td>[Let us take a look at the design:\\n• A user g...</td>\n",
              "      <td>DNS plays a crucial role in website load balan...</td>\n",
              "      <td>Let us take a look at the design: A user gets ...</td>\n",
              "      <td>single_hop_specifc_query_synthesizer</td>\n",
              "    </tr>\n",
              "    <tr>\n",
              "      <th>8</th>\n",
              "      <td>What does Figure 1-6 illustrate in relation to...</td>\n",
              "      <td>[Cache\\nA cache is a temporary storage area th...</td>\n",
              "      <td>[Cache\\nA cache is a temporary storage area th...</td>\n",
              "      <td>Figure 1-6 illustrates how caching reduces the...</td>\n",
              "      <td>As illustrated in Figure 1-6, every time a new...</td>\n",
              "      <td>single_hop_specifc_query_synthesizer</td>\n",
              "    </tr>\n",
              "    <tr>\n",
              "      <th>9</th>\n",
              "      <td>How does Facebook address cache challenges and...</td>\n",
              "      <td>[the data store and cache is challenging. For ...</td>\n",
              "      <td>[the data store and cache is challenging. For ...</td>\n",
              "      <td>Facebook addresses cache challenges and preven...</td>\n",
              "      <td>Facebook mitigates cache challenges by recomme...</td>\n",
              "      <td>single_hop_specifc_query_synthesizer</td>\n",
              "    </tr>\n",
              "  </tbody>\n",
              "</table>\n",
              "</div>"
            ],
            "text/plain": [
              "                                          user_input  \\\n",
              "0                     What is Google Drive used for?   \n",
              "1  How does Google relate to system design interv...   \n",
              "2  How does the Hypertext Transfer Protocol funct...   \n",
              "3                                   What is Couchdb?   \n",
              "4  What does Figure 1-4 illustrate about the func...   \n",
              "5          Wikipedia help with database replication?   \n",
              "6  What happens if the database goes offline and ...   \n",
              "7  What role does DNS play in website load balanc...   \n",
              "8  What does Figure 1-6 illustrate in relation to...   \n",
              "9  How does Facebook address cache challenges and...   \n",
              "\n",
              "                                  retrieved_contexts  \\\n",
              "0  [CHAPTER 15: DESIGN GOOGLE DRIVE\\nIn recent ye...   \n",
              "1  [FORWARD\\nWe are delighted that you have decid...   \n",
              "2  [1. Users access websites through domain names...   \n",
              "3  [Database\\nWith the growth of the user base, o...   \n",
              "4  [Load balancer\\nA load balancer evenly distrib...   \n",
              "5  [Database replication\\nQuoted from Wikipedia: ...   \n",
              "6  [operation even if a database is offline as yo...   \n",
              "7  [Let us take a look at the design:\\n• A user g...   \n",
              "8  [Cache\\nA cache is a temporary storage area th...   \n",
              "9  [the data store and cache is challenging. For ...   \n",
              "\n",
              "                                  reference_contexts  \\\n",
              "0  [Table of Contents\\nSystem Design Interview: A...   \n",
              "1  [FORWARD\\nWe are delighted that you have decid...   \n",
              "2  [1. Users access websites through domain names...   \n",
              "3  [Database\\nWith the growth of the user base, o...   \n",
              "4  [Load balancer\\nA load balancer evenly distrib...   \n",
              "5  [Database replication\\nQuoted from Wikipedia: ...   \n",
              "6  [operation even if a database is offline as yo...   \n",
              "7  [Let us take a look at the design:\\n• A user g...   \n",
              "8  [Cache\\nA cache is a temporary storage area th...   \n",
              "9  [the data store and cache is challenging. For ...   \n",
              "\n",
              "                                            response  \\\n",
              "0  Google Drive is used for storing and syncing f...   \n",
              "1  Google is often used as an example in system d...   \n",
              "2  The Hypertext Transfer Protocol (HTTP) functio...   \n",
              "3  CouchDB is a non-relational (NoSQL) database t...   \n",
              "4  Figure 1-4 illustrates that the function of a ...   \n",
              "5  Wikipedia's approach to database replication p...   \n",
              "6  If the database goes offline, the system can c...   \n",
              "7  DNS plays a crucial role in website load balan...   \n",
              "8  Figure 1-6 illustrates how caching reduces the...   \n",
              "9  Facebook addresses cache challenges and preven...   \n",
              "\n",
              "                                           reference  \\\n",
              "0  The context mentions 'CHAPTER 15: DESIGN GOOGL...   \n",
              "1  The context mentions Google as an example of a...   \n",
              "2  Once the IP address is obtained, Hypertext Tra...   \n",
              "3  CouchDB is a non-relational database, also cal...   \n",
              "4  Figure 1-4 shows how a load balancer works by ...   \n",
              "5  Database replication, quoted from Wikipedia, c...   \n",
              "6  If a database goes offline, the system can sti...   \n",
              "7  Let us take a look at the design: A user gets ...   \n",
              "8  As illustrated in Figure 1-6, every time a new...   \n",
              "9  Facebook mitigates cache challenges by recomme...   \n",
              "\n",
              "                       synthesizer_name  \n",
              "0  single_hop_specifc_query_synthesizer  \n",
              "1  single_hop_specifc_query_synthesizer  \n",
              "2  single_hop_specifc_query_synthesizer  \n",
              "3  single_hop_specifc_query_synthesizer  \n",
              "4  single_hop_specifc_query_synthesizer  \n",
              "5  single_hop_specifc_query_synthesizer  \n",
              "6  single_hop_specifc_query_synthesizer  \n",
              "7  single_hop_specifc_query_synthesizer  \n",
              "8  single_hop_specifc_query_synthesizer  \n",
              "9  single_hop_specifc_query_synthesizer  "
            ]
          },
          "execution_count": 60,
          "metadata": {},
          "output_type": "execute_result"
        }
      ],
      "source": [
        "dataset.to_pandas()"
      ]
    },
    {
      "cell_type": "code",
      "execution_count": 171,
      "metadata": {},
      "outputs": [
        {
          "data": {
            "text/html": [
              "<div>\n",
              "<style scoped>\n",
              "    .dataframe tbody tr th:only-of-type {\n",
              "        vertical-align: middle;\n",
              "    }\n",
              "\n",
              "    .dataframe tbody tr th {\n",
              "        vertical-align: top;\n",
              "    }\n",
              "\n",
              "    .dataframe thead th {\n",
              "        text-align: right;\n",
              "    }\n",
              "</style>\n",
              "<table border=\"1\" class=\"dataframe\">\n",
              "  <thead>\n",
              "    <tr style=\"text-align: right;\">\n",
              "      <th></th>\n",
              "      <th>user_input</th>\n",
              "      <th>retrieved_contexts</th>\n",
              "      <th>reference_contexts</th>\n",
              "      <th>response</th>\n",
              "      <th>reference</th>\n",
              "      <th>synthesizer_name</th>\n",
              "    </tr>\n",
              "  </thead>\n",
              "  <tbody>\n",
              "    <tr>\n",
              "      <th>0</th>\n",
              "      <td>Can you explain how Google Drive is designed t...</td>\n",
              "      <td>[CHAPTER 15: DESIGN GOOGLE DRIVE\\nIn recent ye...</td>\n",
              "      <td>[Table of Contents\\nSystem Design Interview: A...</td>\n",
              "      <td>Google Drive is designed to handle large amoun...</td>\n",
              "      <td>Chapter 15 of the document is dedicated to des...</td>\n",
              "      <td>single_hop_specifc_query_synthesizer</td>\n",
              "    </tr>\n",
              "    <tr>\n",
              "      <th>1</th>\n",
              "      <td>How does Google relate to system design interv...</td>\n",
              "      <td>[FORWARD\\nWe are delighted that you have decid...</td>\n",
              "      <td>[FORWARD\\nWe are delighted that you have decid...</td>\n",
              "      <td>Google is often used as an example in system d...</td>\n",
              "      <td>The context mentions Google as an example of a...</td>\n",
              "      <td>single_hop_specifc_query_synthesizer</td>\n",
              "    </tr>\n",
              "    <tr>\n",
              "      <th>2</th>\n",
              "      <td>As a Backend Systems Engineer focusing on cach...</td>\n",
              "      <td>[After receiving a request, a web server first...</td>\n",
              "      <td>[1. Users access websites through domain names...</td>\n",
              "      <td>JavaScript plays a crucial role in web and mob...</td>\n",
              "      <td>In the context of web and mobile applications,...</td>\n",
              "      <td>single_hop_specifc_query_synthesizer</td>\n",
              "    </tr>\n",
              "    <tr>\n",
              "      <th>3</th>\n",
              "      <td>Amazon DynamoDB good?</td>\n",
              "      <td>[Neo4j, Cassandra, HBase, Amazon DynamoDB, etc...</td>\n",
              "      <td>[Database\\nWith the growth of the user base, o...</td>\n",
              "      <td>Amazon DynamoDB is considered a good choice fo...</td>\n",
              "      <td>Amazon DynamoDB is a non-relational database, ...</td>\n",
              "      <td>single_hop_specifc_query_synthesizer</td>\n",
              "    </tr>\n",
              "    <tr>\n",
              "      <th>4</th>\n",
              "      <td>What is a load balancer used for?</td>\n",
              "      <td>[Load balancer\\nA load balancer evenly distrib...</td>\n",
              "      <td>[Load balancer\\nA load balancer evenly distrib...</td>\n",
              "      <td>A load balancer is used to evenly distribute i...</td>\n",
              "      <td>A load balancer evenly distributes incoming tr...</td>\n",
              "      <td>single_hop_specifc_query_synthesizer</td>\n",
              "    </tr>\n",
              "    <tr>\n",
              "      <th>5</th>\n",
              "      <td>Database does not support failover and redunda...</td>\n",
              "      <td>[so it does not support failover and redundanc...</td>\n",
              "      <td>[so it does not support failover and redundanc...</td>\n",
              "      <td>The database in question does not inherently s...</td>\n",
              "      <td>The context states that the database does not ...</td>\n",
              "      <td>single_hop_specifc_query_synthesizer</td>\n",
              "    </tr>\n",
              "    <tr>\n",
              "      <th>6</th>\n",
              "      <td>According to the information from Wikipedia, h...</td>\n",
              "      <td>[Database replication\\nQuoted from Wikipedia: ...</td>\n",
              "      <td>[Database replication\\nQuoted from Wikipedia: ...</td>\n",
              "      <td>Database replication, especially in a master/s...</td>\n",
              "      <td>Database replication, as described in Wikipedi...</td>\n",
              "      <td>single_hop_specifc_query_synthesizer</td>\n",
              "    </tr>\n",
              "    <tr>\n",
              "      <th>7</th>\n",
              "      <td>What is Figure 1-5?</td>\n",
              "      <td>[In Figure 15-8, user 1 and user 2 tries to up...</td>\n",
              "      <td>[operation even if a database is offline as yo...</td>\n",
              "      <td>Figure 1-5 is not explicitly described in the ...</td>\n",
              "      <td>Figure 1-5 shows the architectural design that...</td>\n",
              "      <td>single_hop_specifc_query_synthesizer</td>\n",
              "    </tr>\n",
              "    <tr>\n",
              "      <th>8</th>\n",
              "      <td>How does the HTPP protocol work in the context...</td>\n",
              "      <td>[Let us take a look at the design:\\n• A user g...</td>\n",
              "      <td>[Let us take a look at the design:\\n• A user g...</td>\n",
              "      <td>The HTTP protocol works in the context of load...</td>\n",
              "      <td>The context describes that a user connects to ...</td>\n",
              "      <td>single_hop_specifc_query_synthesizer</td>\n",
              "    </tr>\n",
              "    <tr>\n",
              "      <th>9</th>\n",
              "      <td>What is a cache and how does it improve system...</td>\n",
              "      <td>[Cache\\nA cache is a temporary storage area th...</td>\n",
              "      <td>[Cache\\nA cache is a temporary storage area th...</td>\n",
              "      <td>A cache is a temporary storage area that store...</td>\n",
              "      <td>A cache is a temporary storage area that store...</td>\n",
              "      <td>single_hop_specifc_query_synthesizer</td>\n",
              "    </tr>\n",
              "  </tbody>\n",
              "</table>\n",
              "</div>"
            ],
            "text/plain": [
              "                                          user_input  \\\n",
              "0  Can you explain how Google Drive is designed t...   \n",
              "1  How does Google relate to system design interv...   \n",
              "2  As a Backend Systems Engineer focusing on cach...   \n",
              "3                              Amazon DynamoDB good?   \n",
              "4                  What is a load balancer used for?   \n",
              "5  Database does not support failover and redunda...   \n",
              "6  According to the information from Wikipedia, h...   \n",
              "7                                What is Figure 1-5?   \n",
              "8  How does the HTPP protocol work in the context...   \n",
              "9  What is a cache and how does it improve system...   \n",
              "\n",
              "                                  retrieved_contexts  \\\n",
              "0  [CHAPTER 15: DESIGN GOOGLE DRIVE\\nIn recent ye...   \n",
              "1  [FORWARD\\nWe are delighted that you have decid...   \n",
              "2  [After receiving a request, a web server first...   \n",
              "3  [Neo4j, Cassandra, HBase, Amazon DynamoDB, etc...   \n",
              "4  [Load balancer\\nA load balancer evenly distrib...   \n",
              "5  [so it does not support failover and redundanc...   \n",
              "6  [Database replication\\nQuoted from Wikipedia: ...   \n",
              "7  [In Figure 15-8, user 1 and user 2 tries to up...   \n",
              "8  [Let us take a look at the design:\\n• A user g...   \n",
              "9  [Cache\\nA cache is a temporary storage area th...   \n",
              "\n",
              "                                  reference_contexts  \\\n",
              "0  [Table of Contents\\nSystem Design Interview: A...   \n",
              "1  [FORWARD\\nWe are delighted that you have decid...   \n",
              "2  [1. Users access websites through domain names...   \n",
              "3  [Database\\nWith the growth of the user base, o...   \n",
              "4  [Load balancer\\nA load balancer evenly distrib...   \n",
              "5  [so it does not support failover and redundanc...   \n",
              "6  [Database replication\\nQuoted from Wikipedia: ...   \n",
              "7  [operation even if a database is offline as yo...   \n",
              "8  [Let us take a look at the design:\\n• A user g...   \n",
              "9  [Cache\\nA cache is a temporary storage area th...   \n",
              "\n",
              "                                            response  \\\n",
              "0  Google Drive is designed to handle large amoun...   \n",
              "1  Google is often used as an example in system d...   \n",
              "2  JavaScript plays a crucial role in web and mob...   \n",
              "3  Amazon DynamoDB is considered a good choice fo...   \n",
              "4  A load balancer is used to evenly distribute i...   \n",
              "5  The database in question does not inherently s...   \n",
              "6  Database replication, especially in a master/s...   \n",
              "7  Figure 1-5 is not explicitly described in the ...   \n",
              "8  The HTTP protocol works in the context of load...   \n",
              "9  A cache is a temporary storage area that store...   \n",
              "\n",
              "                                           reference  \\\n",
              "0  Chapter 15 of the document is dedicated to des...   \n",
              "1  The context mentions Google as an example of a...   \n",
              "2  In the context of web and mobile applications,...   \n",
              "3  Amazon DynamoDB is a non-relational database, ...   \n",
              "4  A load balancer evenly distributes incoming tr...   \n",
              "5  The context states that the database does not ...   \n",
              "6  Database replication, as described in Wikipedi...   \n",
              "7  Figure 1-5 shows the architectural design that...   \n",
              "8  The context describes that a user connects to ...   \n",
              "9  A cache is a temporary storage area that store...   \n",
              "\n",
              "                       synthesizer_name  \n",
              "0  single_hop_specifc_query_synthesizer  \n",
              "1  single_hop_specifc_query_synthesizer  \n",
              "2  single_hop_specifc_query_synthesizer  \n",
              "3  single_hop_specifc_query_synthesizer  \n",
              "4  single_hop_specifc_query_synthesizer  \n",
              "5  single_hop_specifc_query_synthesizer  \n",
              "6  single_hop_specifc_query_synthesizer  \n",
              "7  single_hop_specifc_query_synthesizer  \n",
              "8  single_hop_specifc_query_synthesizer  \n",
              "9  single_hop_specifc_query_synthesizer  "
            ]
          },
          "execution_count": 171,
          "metadata": {},
          "output_type": "execute_result"
        }
      ],
      "source": [
        "dataset.to_pandas()"
      ]
    },
    {
      "cell_type": "code",
      "execution_count": 61,
      "metadata": {},
      "outputs": [],
      "source": [
        "from ragas import EvaluationDataset\n",
        "\n",
        "evaluation_dataset = EvaluationDataset.from_pandas(dataset.to_pandas())"
      ]
    },
    {
      "cell_type": "code",
      "execution_count": 62,
      "metadata": {},
      "outputs": [],
      "source": [
        "from ragas import evaluate\n",
        "from ragas.llms import LangchainLLMWrapper\n",
        "\n",
        "evaluator_llm = LangchainLLMWrapper(ChatOpenAI(model=\"gpt-4.1-mini\"))"
      ]
    },
    {
      "cell_type": "code",
      "execution_count": 63,
      "metadata": {},
      "outputs": [
        {
          "data": {
            "application/vnd.jupyter.widget-view+json": {
              "model_id": "6fd40debadd34982bcc6b67e2d542ad4",
              "version_major": 2,
              "version_minor": 0
            },
            "text/plain": [
              "Evaluating:   0%|          | 0/40 [00:00<?, ?it/s]"
            ]
          },
          "metadata": {},
          "output_type": "display_data"
        }
      ],
      "source": [
        "from ragas.metrics import LLMContextRecall, Faithfulness, ResponseRelevancy, ContextEntityRecall, ContextPrecision\n",
        "from ragas import evaluate, RunConfig\n",
        "\n",
        "custom_run_config = RunConfig(timeout=360)\n",
        "\n",
        "result = evaluate(\n",
        "    dataset=evaluation_dataset,\n",
        "    metrics=[LLMContextRecall(), ContextPrecision(), Faithfulness(), ResponseRelevancy()],\n",
        "    llm=evaluator_llm,\n",
        "    run_config=custom_run_config\n",
        ")\n"
      ]
    },
    {
      "cell_type": "code",
      "execution_count": 64,
      "metadata": {},
      "outputs": [
        {
          "data": {
            "text/plain": [
              "{'context_recall': 0.8524, 'context_precision': 0.8667, 'faithfulness': 0.7876, 'answer_relevancy': 0.9462}"
            ]
          },
          "execution_count": 64,
          "metadata": {},
          "output_type": "execute_result"
        }
      ],
      "source": [
        "result"
      ]
    },
    {
      "cell_type": "code",
      "execution_count": null,
      "metadata": {},
      "outputs": [],
      "source": [
        "from uuid import uuid4\n",
        "\n",
        "os.environ[\"LANGCHAIN_TRACING_V2\"] = \"true\"\n",
        "os.environ[\"LANGCHAIN_PROJECT\"] = \"pdoc\"\n",
        "os.environ[\"LANGCHAIN_API_KEY\"] = getpass.getpass(\"LangSmith API Key: \")"
      ]
    },
    {
      "cell_type": "code",
      "execution_count": 175,
      "metadata": {},
      "outputs": [
        {
          "data": {
            "text/plain": [
              "{'context_recall': 0.9000, 'context_precision': 0.7222, 'faithfulness': 0.7502, 'answer_relevancy': 0.8535}"
            ]
          },
          "execution_count": 175,
          "metadata": {},
          "output_type": "execute_result"
        }
      ],
      "source": [
        "result"
      ]
    },
    {
      "cell_type": "markdown",
      "metadata": {},
      "source": [
        "## advance retrieval\n"
      ]
    },
    {
      "cell_type": "code",
      "execution_count": 177,
      "metadata": {},
      "outputs": [],
      "source": [
        "os.environ[\"COHERE_API_KEY\"] = getpass.getpass(\"Cohere API Key:\")\n"
      ]
    },
    {
      "cell_type": "code",
      "execution_count": 178,
      "metadata": {},
      "outputs": [],
      "source": [
        "from langchain.retrievers.contextual_compression import ContextualCompressionRetriever\n",
        "from langchain_cohere import CohereRerank\n",
        "\n",
        "compressor = CohereRerank(model=\"rerank-v3.5\")\n",
        "compression_retriever = ContextualCompressionRetriever(\n",
        "    base_compressor=compressor, base_retriever=retriever\n",
        ")"
      ]
    },
    {
      "cell_type": "code",
      "execution_count": null,
      "metadata": {},
      "outputs": [],
      "source": []
    }
  ],
  "metadata": {
    "colab": {
      "provenance": []
    },
    "kernelspec": {
      "display_name": ".venv",
      "language": "python",
      "name": "python3"
    },
    "language_info": {
      "codemirror_mode": {
        "name": "ipython",
        "version": 3
      },
      "file_extension": ".py",
      "mimetype": "text/x-python",
      "name": "python",
      "nbconvert_exporter": "python",
      "pygments_lexer": "ipython3",
      "version": "3.13.0"
    }
  },
  "nbformat": 4,
  "nbformat_minor": 0
}
