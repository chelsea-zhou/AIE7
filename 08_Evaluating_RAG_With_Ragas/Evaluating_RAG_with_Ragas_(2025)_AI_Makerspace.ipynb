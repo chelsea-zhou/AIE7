{
  "cells": [
    {
      "cell_type": "markdown",
      "metadata": {
        "id": "iLokDKoN1aKv"
      },
      "source": [
        "# Using Ragas to Evaluate a RAG Application built with LangChain and LangGraph\n",
        "\n",
        "In the following notebook, we'll be looking at how [Ragas](https://github.com/explodinggradients/ragas) can be helpful in a number of ways when looking to evaluate your RAG applications!\n",
        "\n",
        "While this example is rooted in LangChain/LangGraph - Ragas is framework agnostic (you don't even need to be using a framework!).\n",
        "\n",
        "- 🤝 Breakout Room #1\n",
        "  1. Task 1: Installing Required Libraries\n",
        "  2. Task 2: Set Environment Variables\n",
        "  3. Task 3: Synthetic Dataset Generation for Evaluation using Ragas\n",
        "  4. Task 4: Evaluating our Pipeline with Ragas\n",
        "  5. Task 6: Making Adjustments and Re-Evaluating\n",
        "\n",
        "But first! Let's set some dependencies!"
      ]
    },
    {
      "cell_type": "markdown",
      "metadata": {
        "id": "0k9tqHdq2BGi"
      },
      "source": [
        "## Dependencies and API Keys:"
      ]
    },
    {
      "cell_type": "markdown",
      "metadata": {
        "id": "H3d5seTX2xyx"
      },
      "source": [
        "We'll also need to provide our API keys.\n",
        "\n",
        "First, OpenAI's for our LLM/embedding model combination!"
      ]
    },
    {
      "cell_type": "code",
      "execution_count": 1,
      "metadata": {
        "colab": {
          "base_uri": "https://localhost:8080/"
        },
        "id": "_J02wP3gdLds",
        "outputId": "7e122a12-e645-4108-e710-1d3cbb904f8d"
      },
      "outputs": [],
      "source": [
        "import os\n",
        "from getpass import getpass\n",
        "os.environ[\"OPENAI_API_KEY\"] = getpass(\"Please enter your OpenAI API key!\")"
      ]
    },
    {
      "cell_type": "markdown",
      "metadata": {
        "id": "_zTz1-4U3Hg0"
      },
      "source": [
        "## Generating Synthetic Test Data\n",
        "\n",
        "We wil be using Ragas to build out a set of synthetic test questions, references, and reference contexts. This is useful because it will allow us to find out how our system is performing.\n",
        "\n",
        "> NOTE: Ragas is best suited for finding *directional* changes in your LLM-based systems. The absolute scores aren't comparable in a vacuum."
      ]
    },
    {
      "cell_type": "markdown",
      "metadata": {},
      "source": [
        "### Data Preparation\n",
        "\n",
        "We'll prepare our data - which should hopefull be familiar at this point since it's our Loan Data use-case!"
      ]
    },
    {
      "cell_type": "markdown",
      "metadata": {},
      "source": [
        "Next, let's load our data into a familiar LangChain format using the `DirectoryLoader`."
      ]
    },
    {
      "cell_type": "code",
      "execution_count": 2,
      "metadata": {},
      "outputs": [],
      "source": [
        "from langchain_community.document_loaders import DirectoryLoader\n",
        "from langchain_community.document_loaders import PyMuPDFLoader\n",
        "\n",
        "\n",
        "path = \"data/\"\n",
        "loader = DirectoryLoader(path, glob=\"*.pdf\", loader_cls=PyMuPDFLoader)\n",
        "docs = loader.load()"
      ]
    },
    {
      "cell_type": "markdown",
      "metadata": {
        "id": "lfyA65MM4Tbn"
      },
      "source": [
        "### Knowledge Graph Based Synthetic Generation\n",
        "\n",
        "Ragas uses a knowledge graph based approach to create data. This is extremely useful as it allows us to create complex queries rather simply. The additional testset complexity allows us to evaluate larger problems more effectively, as systems tend to be very strong on simple evaluation tasks.\n",
        "\n",
        "Let's start by defining our `generator_llm` (which will generate our questions, summaries, and more), and our `generator_embeddings` which will be useful in building our graph."
      ]
    },
    {
      "cell_type": "markdown",
      "metadata": {
        "id": "qbZ9j1EL-X55"
      },
      "source": [
        "### Abstracted SDG\n",
        "\n",
        "The above method is the full process - but we can shortcut that using the provided abstractions!\n",
        "\n",
        "This will generate our knowledge graph under the hood, and will - from there - generate our personas and scenarios to construct our queries.\n",
        "\n"
      ]
    },
    {
      "cell_type": "code",
      "execution_count": 3,
      "metadata": {},
      "outputs": [
        {
          "name": "stderr",
          "output_type": "stream",
          "text": [
            "/Users/chenshuzhou/workspace/AIE7/08_Evaluating_RAG_With_Ragas/.venv/lib/python3.13/site-packages/pysbd/segmenter.py:66: SyntaxWarning: invalid escape sequence '\\s'\n",
            "  for match in re.finditer('{0}\\s*'.format(re.escape(sent)), self.original_text):\n",
            "/Users/chenshuzhou/workspace/AIE7/08_Evaluating_RAG_With_Ragas/.venv/lib/python3.13/site-packages/pysbd/lang/arabic.py:29: SyntaxWarning: invalid escape sequence '\\.'\n",
            "  txt = re.sub('(?<={0})\\.'.format(am), '∯', txt)\n",
            "/Users/chenshuzhou/workspace/AIE7/08_Evaluating_RAG_With_Ragas/.venv/lib/python3.13/site-packages/pysbd/lang/persian.py:29: SyntaxWarning: invalid escape sequence '\\.'\n",
            "  txt = re.sub('(?<={0})\\.'.format(am), '∯', txt)\n"
          ]
        }
      ],
      "source": [
        "from ragas.llms import LangchainLLMWrapper\n",
        "from ragas.embeddings import LangchainEmbeddingsWrapper\n",
        "from langchain_openai import ChatOpenAI\n",
        "from langchain_openai import OpenAIEmbeddings\n",
        "generator_llm = LangchainLLMWrapper(ChatOpenAI(model=\"gpt-4.1\"))\n",
        "generator_embeddings = LangchainEmbeddingsWrapper(OpenAIEmbeddings())"
      ]
    },
    {
      "cell_type": "code",
      "execution_count": 4,
      "metadata": {
        "colab": {
          "base_uri": "https://localhost:8080/",
          "height": 113,
          "referenced_widgets": [
            "bf73dc001ec14333975be942dc78df31",
            "ea51201a73a045de8579dafb17d70bec",
            "a5e6260095bf4ca6bce229adfe9c3fbe",
            "0e460f92c5a749efb198864545a124c0",
            "4347f5ea75c74effbc9552cb69c82301",
            "8f986d822b964e969ad20d1b1088dec9",
            "c40abe6ce691401ea8db2562b3b322fb",
            "cb12c0b6145b48908ca058e0a7282828",
            "0107beec40af42ffa66b216070f97d5c",
            "245c32a588d142628f06eba44324c1b8",
            "f9499b2235294b638ed87d73894b341f",
            "a74c472ad4ff49d49dd6648ce89f5471",
            "b12c215bb97e49fea6129d7ca7cdcc6b",
            "f37518d278b34353a38bcc50f8743959",
            "2d888020728341a6ad146908634a6a2f",
            "1ea4551d38bc4e3ea2a99eb62e6bf942",
            "da4d36932dad4270a94b003affc28333",
            "675034bd626b4c528eb77e35e4087191",
            "7a84047d2b724edd891ca63b5741a43b",
            "5bec2586cfcb4ddabf9f2378b32fa4dc",
            "5e5fe22186e742e6bd1142a0d8471656",
            "79fce08fefc948d0bec02db61a6ab21b",
            "2c9e188608204caa9c6a449843084ceb",
            "8299304353ff46b597fdadeacddabdf5",
            "fc33ba2055c149a4a85ac6f586de47ee",
            "8e87eb2bff19452ab778993dbc1a2586",
            "be4c08a6cdb54d23a32b283379fdea8e",
            "f5a56214fe25441e8a5004ec76476a94",
            "3230d232b04448fe9a68a204b46bc91c",
            "fd11e4046c464b7285ddd7a7b7cd51c8",
            "e0e92282b50048c4a25414273f1777ff",
            "8be24cac973b4db7a85ab46581c1efb7",
            "cbe80c1e537a413ebe0f5a98038148d6",
            "472c776f27834cd8907902679ff93c24",
            "19160948d9af4cd5bfe1a8a97727fb49",
            "d528743f9a0047778a7f808214fdf49c",
            "a37137bd3fad4362bef3817ae7ad2ad9",
            "da926343593245d9b34f8a77183c4115",
            "c4470c9d055c4b8793dda8dfc7496b83",
            "4183285878f347f1b8caae9dce6ec0fd",
            "37831f1641db461e93e5011d343b5cb2",
            "f69d31545a1045d4959e0640abe3409a",
            "74ac36e0ca6c4a3ba53d070b37b9f1aa",
            "ba53eab6f7e441569d2a16aa8f26511d",
            "a604a0b844a94570be523a881c8455ba",
            "594a9d371fb4406e97630f35712d276c",
            "d52c4da39f564a12ba46044e0797eb95",
            "25baeb72f87d4e5ba0e8c10bcf3afd58",
            "96b1fb2a1577445d9778ad65da0abdbb",
            "f7bf032ee32c46628a3a28ff2cedcc10",
            "810264507cae4987b88531845ca03921",
            "d6395d76874241cf87b37390a6c58424",
            "35e71aea98cc41b7a090071a9d8ccde7",
            "3b72baad55d34b77b5c56588c00280b9",
            "16a0c539ddb040d7b32047894480a348",
            "5cea5f1121f64866b6932ac6bb0a8829",
            "03e6ff4dc0d645668324964cbf114211",
            "c1b6cdf48bae4226a374ffbabb861ecc",
            "ec44f75ea457496c9443b881bc156146",
            "d64c39da94b148d4989fe271521dc967",
            "7803a3e67b28452390202dc69d4289f3",
            "618a24e305d44bd39a3023aa44f3383c",
            "d9f54cd68cd8493fb1bc2a216eb15c03",
            "4592465145b44c17a9acb5fcab9b2e8b",
            "8b77a827824440d6b53f4a14346c0d70",
            "20848c82096c458fb118006897a0b7e0",
            "521c3b51f249490986addd4010423064",
            "bda6a62b9fd143a3b0628e60580d23c9",
            "970b83c42f4f4d7ebb252c4f26f6ea56",
            "d1e5f706d17b4c27b0ce1cb127fdc891",
            "7d5ccb84254b461da11bd8045424bc30",
            "fd71a316693343cc9a92fae9471a2f6e",
            "35e6cd723807485f81eb053c2c92b96c",
            "837e33bad8be4a6d8722ca878b9d409e",
            "559b618c027e4f12bfe58286b208c9b4",
            "5d5df07e34d545ed9b2975034645c453",
            "319b66f299064965b91ce4282dc9c280",
            "b38eb659d045417cb0e05a4486a83590",
            "7cfc3038a06249819e2496f7e0571b89",
            "01fa9def167548fba96e573921712950",
            "7288a537b3034e499797d2c3294f8383",
            "f3c9086c454841f6914e299a11f7d217",
            "ec3472c7d29b4ad0ab91e3c2f6874bd5",
            "2b4f209c6c3c46abaa0d5a83cb10ae38",
            "3c470306f04542f29c53dd21a4de93d7",
            "7c0ead4589784ecb8d5380a895fe1c41",
            "8723f89faf044f97b5abfa3666404497",
            "7c8f4bf420754b538baea7a420b6a76a",
            "d390d71dd2694801a77b103a6a707da3",
            "11d272eb6b7146659e5c688ec04c8749",
            "68599f8e85ef4fcba92ea891f75b5535",
            "d1b550cbeaef43a7a98ffbba97fb37ee",
            "d08cba8d32514ca2bb1e0d403ceadd7e",
            "ba29aad6b8d74a09ad347ce8648deeab",
            "96426fde6b9542208f45409965d0216c",
            "bba06b49269840ea8247ecc85552050b",
            "9e0794e92f9646ab8aa21f0ec0ed7981",
            "f10fe2d8ed6e45b595e66db0a3f972a1",
            "fe1cfe8194c142fdb11a4dd28e1adb00"
          ]
        },
        "id": "ZvXsRbwIlfm1",
        "outputId": "4579c020-3af6-4355-aecc-b9529b8eda12"
      },
      "outputs": [
        {
          "data": {
            "application/vnd.jupyter.widget-view+json": {
              "model_id": "3ab746ff00b4435c9c614367dd953fbb",
              "version_major": 2,
              "version_minor": 0
            },
            "text/plain": [
              "Applying HeadlinesExtractor:   0%|          | 0/17 [00:00<?, ?it/s]"
            ]
          },
          "metadata": {},
          "output_type": "display_data"
        },
        {
          "data": {
            "application/vnd.jupyter.widget-view+json": {
              "model_id": "9794f896c6f74be8a894ba28552853f8",
              "version_major": 2,
              "version_minor": 0
            },
            "text/plain": [
              "Applying HeadlineSplitter:   0%|          | 0/20 [00:00<?, ?it/s]"
            ]
          },
          "metadata": {},
          "output_type": "display_data"
        },
        {
          "name": "stderr",
          "output_type": "stream",
          "text": [
            "unable to apply transformation: 'headlines' property not found in this node\n",
            "unable to apply transformation: 'headlines' property not found in this node\n",
            "unable to apply transformation: 'headlines' property not found in this node\n"
          ]
        },
        {
          "data": {
            "application/vnd.jupyter.widget-view+json": {
              "model_id": "eaf39a411e0344b399e39f467ae9635e",
              "version_major": 2,
              "version_minor": 0
            },
            "text/plain": [
              "Applying SummaryExtractor:   0%|          | 0/31 [00:00<?, ?it/s]"
            ]
          },
          "metadata": {},
          "output_type": "display_data"
        },
        {
          "name": "stderr",
          "output_type": "stream",
          "text": [
            "Property 'summary' already exists in node 'ce6569'. Skipping!\n",
            "Property 'summary' already exists in node 'e8f464'. Skipping!\n",
            "Property 'summary' already exists in node '97e091'. Skipping!\n",
            "Property 'summary' already exists in node '1a4d8f'. Skipping!\n",
            "Property 'summary' already exists in node '518e94'. Skipping!\n",
            "Property 'summary' already exists in node 'e1146c'. Skipping!\n",
            "Property 'summary' already exists in node 'dbcdd8'. Skipping!\n",
            "Property 'summary' already exists in node 'e2e02c'. Skipping!\n",
            "Property 'summary' already exists in node 'c33b9c'. Skipping!\n",
            "Property 'summary' already exists in node '20c3c8'. Skipping!\n",
            "Property 'summary' already exists in node 'c20eae'. Skipping!\n",
            "Property 'summary' already exists in node 'c6107a'. Skipping!\n",
            "Property 'summary' already exists in node '49bf2f'. Skipping!\n",
            "Property 'summary' already exists in node '419571'. Skipping!\n"
          ]
        },
        {
          "data": {
            "application/vnd.jupyter.widget-view+json": {
              "model_id": "2700b460be02423a8fe2b67028ab8f43",
              "version_major": 2,
              "version_minor": 0
            },
            "text/plain": [
              "Applying CustomNodeFilter:   0%|          | 0/6 [00:00<?, ?it/s]"
            ]
          },
          "metadata": {},
          "output_type": "display_data"
        },
        {
          "data": {
            "application/vnd.jupyter.widget-view+json": {
              "model_id": "79550c1cae9f455fae661ad0a0ed9917",
              "version_major": 2,
              "version_minor": 0
            },
            "text/plain": [
              "Applying [EmbeddingExtractor, ThemesExtractor, NERExtractor]:   0%|          | 0/41 [00:00<?, ?it/s]"
            ]
          },
          "metadata": {},
          "output_type": "display_data"
        },
        {
          "name": "stderr",
          "output_type": "stream",
          "text": [
            "Property 'summary_embedding' already exists in node 'c20eae'. Skipping!\n",
            "Property 'summary_embedding' already exists in node '419571'. Skipping!\n",
            "Property 'summary_embedding' already exists in node 'e1146c'. Skipping!\n",
            "Property 'summary_embedding' already exists in node 'c6107a'. Skipping!\n",
            "Property 'summary_embedding' already exists in node '49bf2f'. Skipping!\n",
            "Property 'summary_embedding' already exists in node '97e091'. Skipping!\n",
            "Property 'summary_embedding' already exists in node 'c33b9c'. Skipping!\n",
            "Property 'summary_embedding' already exists in node '1a4d8f'. Skipping!\n",
            "Property 'summary_embedding' already exists in node 'e8f464'. Skipping!\n",
            "Property 'summary_embedding' already exists in node '518e94'. Skipping!\n",
            "Property 'summary_embedding' already exists in node '20c3c8'. Skipping!\n",
            "Property 'summary_embedding' already exists in node 'dbcdd8'. Skipping!\n",
            "Property 'summary_embedding' already exists in node 'ce6569'. Skipping!\n",
            "Property 'summary_embedding' already exists in node 'e2e02c'. Skipping!\n"
          ]
        },
        {
          "data": {
            "application/vnd.jupyter.widget-view+json": {
              "model_id": "c7a6aaa6263b46f7a5bdbff054a520c5",
              "version_major": 2,
              "version_minor": 0
            },
            "text/plain": [
              "Applying [CosineSimilarityBuilder, OverlapScoreBuilder]:   0%|          | 0/2 [00:00<?, ?it/s]"
            ]
          },
          "metadata": {},
          "output_type": "display_data"
        },
        {
          "data": {
            "application/vnd.jupyter.widget-view+json": {
              "model_id": "c80f59a80fa24202a73d1b9296c8e200",
              "version_major": 2,
              "version_minor": 0
            },
            "text/plain": [
              "Generating personas:   0%|          | 0/3 [00:00<?, ?it/s]"
            ]
          },
          "metadata": {},
          "output_type": "display_data"
        },
        {
          "data": {
            "application/vnd.jupyter.widget-view+json": {
              "model_id": "b8ccbed0875947728e9624baf83208db",
              "version_major": 2,
              "version_minor": 0
            },
            "text/plain": [
              "Generating Scenarios:   0%|          | 0/3 [00:00<?, ?it/s]"
            ]
          },
          "metadata": {},
          "output_type": "display_data"
        },
        {
          "data": {
            "application/vnd.jupyter.widget-view+json": {
              "model_id": "35d19ed9dcd64b11a3edd0e4805a2384",
              "version_major": 2,
              "version_minor": 0
            },
            "text/plain": [
              "Generating Samples:   0%|          | 0/12 [00:00<?, ?it/s]"
            ]
          },
          "metadata": {},
          "output_type": "display_data"
        }
      ],
      "source": [
        "from ragas.testset import TestsetGenerator\n",
        "\n",
        "generator = TestsetGenerator(llm=generator_llm, embedding_model=generator_embeddings)\n",
        "dataset = generator.generate_with_langchain_docs(docs[:20], testset_size=10)"
      ]
    },
    {
      "cell_type": "code",
      "execution_count": 5,
      "metadata": {
        "colab": {
          "base_uri": "https://localhost:8080/",
          "height": 1000
        },
        "id": "1jsrtjNllwiI",
        "outputId": "a96af811-7f54-49e9-adbb-9155948ff203"
      },
      "outputs": [
        {
          "data": {
            "text/html": [
              "<div>\n",
              "<style scoped>\n",
              "    .dataframe tbody tr th:only-of-type {\n",
              "        vertical-align: middle;\n",
              "    }\n",
              "\n",
              "    .dataframe tbody tr th {\n",
              "        vertical-align: top;\n",
              "    }\n",
              "\n",
              "    .dataframe thead th {\n",
              "        text-align: right;\n",
              "    }\n",
              "</style>\n",
              "<table border=\"1\" class=\"dataframe\">\n",
              "  <thead>\n",
              "    <tr style=\"text-align: right;\">\n",
              "      <th></th>\n",
              "      <th>user_input</th>\n",
              "      <th>reference_contexts</th>\n",
              "      <th>reference</th>\n",
              "      <th>synthesizer_name</th>\n",
              "    </tr>\n",
              "  </thead>\n",
              "  <tbody>\n",
              "    <tr>\n",
              "      <th>0</th>\n",
              "      <td>What is Scheduled Academic Year and how it use...</td>\n",
              "      <td>[non-term (includes clock-hour calendars), or ...</td>\n",
              "      <td>Scheduled Academic Year (SAY) is used for moni...</td>\n",
              "      <td>single_hop_specifc_query_synthesizer</td>\n",
              "    </tr>\n",
              "    <tr>\n",
              "      <th>1</th>\n",
              "      <td>What are the exceptions to the normal loan per...</td>\n",
              "      <td>[Inclusion of Clinical Work in a Standard Term...</td>\n",
              "      <td>See Volume 8, Chapter 3 for additional guidanc...</td>\n",
              "      <td>single_hop_specifc_query_synthesizer</td>\n",
              "    </tr>\n",
              "    <tr>\n",
              "      <th>2</th>\n",
              "      <td>Whaat is the reqquirement for disbursment of T...</td>\n",
              "      <td>[Non-Term Characteristics A program that measu...</td>\n",
              "      <td>Title IV program disbursements, except for Fed...</td>\n",
              "      <td>single_hop_specifc_query_synthesizer</td>\n",
              "    </tr>\n",
              "    <tr>\n",
              "      <th>3</th>\n",
              "      <td>How Direct Loan Program work if student finish...</td>\n",
              "      <td>[both the credit or clock hours and the weeks ...</td>\n",
              "      <td>For the Direct Loan Program, if a student in a...</td>\n",
              "      <td>single_hop_specifc_query_synthesizer</td>\n",
              "    </tr>\n",
              "    <tr>\n",
              "      <th>4</th>\n",
              "      <td>if a school got a standard term program but wa...</td>\n",
              "      <td>[&lt;1-hop&gt;\\n\\nnon-term (includes clock-hour cale...</td>\n",
              "      <td>if a school got a standard term program and wa...</td>\n",
              "      <td>multi_hop_abstract_query_synthesizer</td>\n",
              "    </tr>\n",
              "    <tr>\n",
              "      <th>5</th>\n",
              "      <td>How do the disbursement timing requirements fo...</td>\n",
              "      <td>[&lt;1-hop&gt;\\n\\nboth the credit or clock hours and...</td>\n",
              "      <td>In clock-hour or non-term credit-hour programs...</td>\n",
              "      <td>multi_hop_abstract_query_synthesizer</td>\n",
              "    </tr>\n",
              "    <tr>\n",
              "      <th>6</th>\n",
              "      <td>How do the disbursement timing requirements fo...</td>\n",
              "      <td>[&lt;1-hop&gt;\\n\\nboth the credit or clock hours and...</td>\n",
              "      <td>In clock-hour or non-term credit-hour programs...</td>\n",
              "      <td>multi_hop_abstract_query_synthesizer</td>\n",
              "    </tr>\n",
              "    <tr>\n",
              "      <th>7</th>\n",
              "      <td>What are the differences in disbursement timin...</td>\n",
              "      <td>[&lt;1-hop&gt;\\n\\nboth the credit or clock hours and...</td>\n",
              "      <td>In clock-hour or non-term credit-hour programs...</td>\n",
              "      <td>multi_hop_abstract_query_synthesizer</td>\n",
              "    </tr>\n",
              "    <tr>\n",
              "      <th>8</th>\n",
              "      <td>According to the guidance provided in Volume 8...</td>\n",
              "      <td>[&lt;1-hop&gt;\\n\\nInclusion of Clinical Work in a St...</td>\n",
              "      <td>Volume 8, Chapter 3 provides guidance on excep...</td>\n",
              "      <td>multi_hop_specific_query_synthesizer</td>\n",
              "    </tr>\n",
              "    <tr>\n",
              "      <th>9</th>\n",
              "      <td>how appendix a and appendix b help with unders...</td>\n",
              "      <td>[&lt;1-hop&gt;\\n\\nboth the credit or clock hours and...</td>\n",
              "      <td>appendix a gives examples that show how the ru...</td>\n",
              "      <td>multi_hop_specific_query_synthesizer</td>\n",
              "    </tr>\n",
              "    <tr>\n",
              "      <th>10</th>\n",
              "      <td>how do you figure out when a student can get a...</td>\n",
              "      <td>[&lt;1-hop&gt;\\n\\nboth the credit or clock hours and...</td>\n",
              "      <td>to figure out when a student can get a pell gr...</td>\n",
              "      <td>multi_hop_specific_query_synthesizer</td>\n",
              "    </tr>\n",
              "    <tr>\n",
              "      <th>11</th>\n",
              "      <td>Acccording to the guidelinnes in Volume 2, Cha...</td>\n",
              "      <td>[&lt;1-hop&gt;\\n\\nInclusion of Clinical Work in a St...</td>\n",
              "      <td>The inclusion of clinical work in a standard t...</td>\n",
              "      <td>multi_hop_specific_query_synthesizer</td>\n",
              "    </tr>\n",
              "  </tbody>\n",
              "</table>\n",
              "</div>"
            ],
            "text/plain": [
              "                                           user_input  \\\n",
              "0   What is Scheduled Academic Year and how it use...   \n",
              "1   What are the exceptions to the normal loan per...   \n",
              "2   Whaat is the reqquirement for disbursment of T...   \n",
              "3   How Direct Loan Program work if student finish...   \n",
              "4   if a school got a standard term program but wa...   \n",
              "5   How do the disbursement timing requirements fo...   \n",
              "6   How do the disbursement timing requirements fo...   \n",
              "7   What are the differences in disbursement timin...   \n",
              "8   According to the guidance provided in Volume 8...   \n",
              "9   how appendix a and appendix b help with unders...   \n",
              "10  how do you figure out when a student can get a...   \n",
              "11  Acccording to the guidelinnes in Volume 2, Cha...   \n",
              "\n",
              "                                   reference_contexts  \\\n",
              "0   [non-term (includes clock-hour calendars), or ...   \n",
              "1   [Inclusion of Clinical Work in a Standard Term...   \n",
              "2   [Non-Term Characteristics A program that measu...   \n",
              "3   [both the credit or clock hours and the weeks ...   \n",
              "4   [<1-hop>\\n\\nnon-term (includes clock-hour cale...   \n",
              "5   [<1-hop>\\n\\nboth the credit or clock hours and...   \n",
              "6   [<1-hop>\\n\\nboth the credit or clock hours and...   \n",
              "7   [<1-hop>\\n\\nboth the credit or clock hours and...   \n",
              "8   [<1-hop>\\n\\nInclusion of Clinical Work in a St...   \n",
              "9   [<1-hop>\\n\\nboth the credit or clock hours and...   \n",
              "10  [<1-hop>\\n\\nboth the credit or clock hours and...   \n",
              "11  [<1-hop>\\n\\nInclusion of Clinical Work in a St...   \n",
              "\n",
              "                                            reference  \\\n",
              "0   Scheduled Academic Year (SAY) is used for moni...   \n",
              "1   See Volume 8, Chapter 3 for additional guidanc...   \n",
              "2   Title IV program disbursements, except for Fed...   \n",
              "3   For the Direct Loan Program, if a student in a...   \n",
              "4   if a school got a standard term program and wa...   \n",
              "5   In clock-hour or non-term credit-hour programs...   \n",
              "6   In clock-hour or non-term credit-hour programs...   \n",
              "7   In clock-hour or non-term credit-hour programs...   \n",
              "8   Volume 8, Chapter 3 provides guidance on excep...   \n",
              "9   appendix a gives examples that show how the ru...   \n",
              "10  to figure out when a student can get a pell gr...   \n",
              "11  The inclusion of clinical work in a standard t...   \n",
              "\n",
              "                        synthesizer_name  \n",
              "0   single_hop_specifc_query_synthesizer  \n",
              "1   single_hop_specifc_query_synthesizer  \n",
              "2   single_hop_specifc_query_synthesizer  \n",
              "3   single_hop_specifc_query_synthesizer  \n",
              "4   multi_hop_abstract_query_synthesizer  \n",
              "5   multi_hop_abstract_query_synthesizer  \n",
              "6   multi_hop_abstract_query_synthesizer  \n",
              "7   multi_hop_abstract_query_synthesizer  \n",
              "8   multi_hop_specific_query_synthesizer  \n",
              "9   multi_hop_specific_query_synthesizer  \n",
              "10  multi_hop_specific_query_synthesizer  \n",
              "11  multi_hop_specific_query_synthesizer  "
            ]
          },
          "execution_count": 5,
          "metadata": {},
          "output_type": "execute_result"
        }
      ],
      "source": [
        "dataset.to_pandas()"
      ]
    },
    {
      "cell_type": "markdown",
      "metadata": {
        "id": "Ni4Q14_arJYw"
      },
      "source": [
        "## LangChain RAG\n",
        "\n",
        "Now we'll construct our LangChain RAG, which we will be evaluating using the above created test data!"
      ]
    },
    {
      "cell_type": "markdown",
      "metadata": {
        "id": "hGy99jkVrVqX"
      },
      "source": [
        "### R - Retrieval\n",
        "\n",
        "Let's start with building our retrieval pipeline, which will involve loading the same data we used to create our synthetic test set above.\n",
        "\n",
        "> NOTE: We need to use the same data - as our test set is specifically designed for this data."
      ]
    },
    {
      "cell_type": "code",
      "execution_count": 6,
      "metadata": {
        "id": "847933Htono8"
      },
      "outputs": [],
      "source": [
        "path = \"data/\"\n",
        "loader = DirectoryLoader(path, glob=\"*.pdf\", loader_cls=PyMuPDFLoader)\n",
        "docs = loader.load()"
      ]
    },
    {
      "cell_type": "markdown",
      "metadata": {
        "id": "KQv3Psil_D2A"
      },
      "source": [
        "Now that we have our data loaded, let's split it into chunks!"
      ]
    },
    {
      "cell_type": "code",
      "execution_count": 7,
      "metadata": {
        "colab": {
          "base_uri": "https://localhost:8080/"
        },
        "id": "Z2U0eJ_prZhL",
        "outputId": "56070084-f147-4dbc-ea52-1d04196e65c0"
      },
      "outputs": [
        {
          "data": {
            "text/plain": [
              "1102"
            ]
          },
          "execution_count": 7,
          "metadata": {},
          "output_type": "execute_result"
        }
      ],
      "source": [
        "from langchain.text_splitter import RecursiveCharacterTextSplitter\n",
        "\n",
        "text_splitter = RecursiveCharacterTextSplitter(chunk_size=1000, chunk_overlap=200)\n",
        "split_documents = text_splitter.split_documents(docs)\n",
        "len(split_documents)"
      ]
    },
    {
      "cell_type": "markdown",
      "metadata": {},
      "source": [
        "#### ❓ Question: \n",
        "\n",
        "What is the purpose of the `chunk_overlap` parameter in the `RecursiveCharacterTextSplitter`?"
      ]
    },
    {
      "cell_type": "markdown",
      "metadata": {
        "id": "2EcbmBBC_G2s"
      },
      "source": [
        "Next up, we'll need to provide an embedding model that we can use to construct our vector store."
      ]
    },
    {
      "cell_type": "code",
      "execution_count": 8,
      "metadata": {
        "id": "KY_CNAbfr9sY"
      },
      "outputs": [],
      "source": [
        "from langchain_openai import OpenAIEmbeddings\n",
        "\n",
        "embeddings = OpenAIEmbeddings(model=\"text-embedding-3-small\")"
      ]
    },
    {
      "cell_type": "markdown",
      "metadata": {
        "id": "AP_VDgyx_MPq"
      },
      "source": [
        "Now we can build our in memory QDrant vector store."
      ]
    },
    {
      "cell_type": "code",
      "execution_count": 9,
      "metadata": {
        "id": "AoxImnLJsC4Q"
      },
      "outputs": [],
      "source": [
        "from langchain_qdrant import QdrantVectorStore\n",
        "from qdrant_client import QdrantClient\n",
        "from qdrant_client.http.models import Distance, VectorParams\n",
        "\n",
        "client = QdrantClient(\":memory:\")\n",
        "\n",
        "client.create_collection(\n",
        "    collection_name=\"loan_data\",\n",
        "    vectors_config=VectorParams(size=1536, distance=Distance.COSINE),\n",
        ")\n",
        "\n",
        "vector_store = QdrantVectorStore(\n",
        "    client=client,\n",
        "    collection_name=\"loan_data\",\n",
        "    embedding=embeddings,\n",
        ")"
      ]
    },
    {
      "cell_type": "markdown",
      "metadata": {
        "id": "zUSCXe7x_h0O"
      },
      "source": [
        "We can now add our documents to our vector store."
      ]
    },
    {
      "cell_type": "code",
      "execution_count": 10,
      "metadata": {
        "colab": {
          "base_uri": "https://localhost:8080/"
        },
        "id": "Vckrosgpsfq2",
        "outputId": "799a7b56-d273-42f8-f0cc-56066ed6a772"
      },
      "outputs": [],
      "source": [
        "_ = vector_store.add_documents(documents=split_documents)"
      ]
    },
    {
      "cell_type": "markdown",
      "metadata": {
        "id": "QBgsT5_m_lOD"
      },
      "source": [
        "Let's define our retriever."
      ]
    },
    {
      "cell_type": "code",
      "execution_count": 11,
      "metadata": {
        "id": "qmxRJeMbskTS"
      },
      "outputs": [],
      "source": [
        "retriever = vector_store.as_retriever(search_kwargs={\"k\": 5})"
      ]
    },
    {
      "cell_type": "markdown",
      "metadata": {
        "id": "3ZX68nle_nUm"
      },
      "source": [
        "Now we can produce a node for retrieval!"
      ]
    },
    {
      "cell_type": "code",
      "execution_count": 12,
      "metadata": {
        "id": "RMuKChk8vmCv"
      },
      "outputs": [],
      "source": [
        "def retrieve(state):\n",
        "  retrieved_docs = retriever.invoke(state[\"question\"])\n",
        "  return {\"context\" : retrieved_docs}"
      ]
    },
    {
      "cell_type": "markdown",
      "metadata": {
        "id": "48-mJHgUsvDG"
      },
      "source": [
        "### Augmented\n",
        "\n",
        "Let's create a simple RAG prompt!"
      ]
    },
    {
      "cell_type": "code",
      "execution_count": 13,
      "metadata": {
        "id": "C0masYYKsxLg"
      },
      "outputs": [],
      "source": [
        "from langchain.prompts import ChatPromptTemplate\n",
        "\n",
        "RAG_PROMPT = \"\"\"\\\n",
        "You are a helpful assistant who answers questions based on provided context. You must only use the provided context, and cannot use your own knowledge.\n",
        "\n",
        "### Question\n",
        "{question}\n",
        "\n",
        "### Context\n",
        "{context}\n",
        "\"\"\"\n",
        "\n",
        "rag_prompt = ChatPromptTemplate.from_template(RAG_PROMPT)"
      ]
    },
    {
      "cell_type": "markdown",
      "metadata": {
        "id": "cznU20c0uY9j"
      },
      "source": [
        "### Generation\n",
        "\n",
        "We'll also need an LLM to generate responses - we'll use `gpt-4o-nano` to avoid using the same model as our judge model."
      ]
    },
    {
      "cell_type": "code",
      "execution_count": 14,
      "metadata": {
        "id": "ZVHBcNGptdZt"
      },
      "outputs": [],
      "source": [
        "from langchain_openai import ChatOpenAI\n",
        "\n",
        "llm = ChatOpenAI(model=\"gpt-4.1-nano\")"
      ]
    },
    {
      "cell_type": "markdown",
      "metadata": {
        "id": "YTpV7-b7_44n"
      },
      "source": [
        "Then we can create a `generate` node!"
      ]
    },
    {
      "cell_type": "code",
      "execution_count": 15,
      "metadata": {
        "id": "trgefAs-wX84"
      },
      "outputs": [],
      "source": [
        "def generate(state):\n",
        "  docs_content = \"\\n\\n\".join(doc.page_content for doc in state[\"context\"])\n",
        "  messages = rag_prompt.format_messages(question=state[\"question\"], context=docs_content)\n",
        "  response = llm.invoke(messages)\n",
        "  return {\"response\" : response.content}"
      ]
    },
    {
      "cell_type": "markdown",
      "metadata": {
        "id": "hhD1IxvXu2zX"
      },
      "source": [
        "### Building RAG Graph with LangGraph\n",
        "\n",
        "Let's create some state for our LangGraph RAG graph!"
      ]
    },
    {
      "cell_type": "code",
      "execution_count": 16,
      "metadata": {
        "id": "5-o5r2mqu8Og"
      },
      "outputs": [],
      "source": [
        "from langgraph.graph import START, StateGraph\n",
        "from typing_extensions import List, TypedDict\n",
        "from langchain_core.documents import Document\n",
        "\n",
        "class State(TypedDict):\n",
        "  question: str\n",
        "  context: List[Document]\n",
        "  response: str"
      ]
    },
    {
      "cell_type": "markdown",
      "metadata": {
        "id": "DFEqEQje_--V"
      },
      "source": [
        "Now we can build our simple graph!\n",
        "\n",
        "> NOTE: We're using `add_sequence` since we will always move from retrieval to generation. This is essentially building a chain in LangGraph."
      ]
    },
    {
      "cell_type": "code",
      "execution_count": 17,
      "metadata": {
        "id": "8kMJ_bgWvU-q"
      },
      "outputs": [],
      "source": [
        "graph_builder = StateGraph(State).add_sequence([retrieve, generate])\n",
        "graph_builder.add_edge(START, \"retrieve\")\n",
        "graph = graph_builder.compile()"
      ]
    },
    {
      "cell_type": "markdown",
      "metadata": {
        "id": "dKX8yupqAIeQ"
      },
      "source": [
        "Let's do a test to make sure it's doing what we'd expect."
      ]
    },
    {
      "cell_type": "code",
      "execution_count": 18,
      "metadata": {
        "id": "PXdB5pdbwzIF"
      },
      "outputs": [],
      "source": [
        "response = graph.invoke({\"question\" : \"What are the different kinds of loans?\"})"
      ]
    },
    {
      "cell_type": "code",
      "execution_count": 19,
      "metadata": {
        "colab": {
          "base_uri": "https://localhost:8080/",
          "height": 244
        },
        "id": "JPuemnQQw5Y2",
        "outputId": "2f10c9c3-4a64-44d9-b3cc-741a41b70bc8"
      },
      "outputs": [
        {
          "data": {
            "text/plain": [
              "'Based on the provided context, the different kinds of loans mentioned are:\\n\\n1. **Direct Loans** - These include various types of federal student loans that are originated through the Department of Education, such as the Direct Unsubsidized Loan and potentially others implied by the context.\\n\\n2. **Direct Unsubsidized Loan** - A specific type of Direct Loan where interest accrues during school and other periods, and the borrower has the option to pay the interest while in school.\\n\\nThe context primarily discusses the administration and transfer of these loans rather than listing all specific types, but it emphasizes the existence of the Direct Loan program and the Direct Unsubsidized Loan as key types.'"
            ]
          },
          "execution_count": 19,
          "metadata": {},
          "output_type": "execute_result"
        }
      ],
      "source": [
        "response[\"response\"]"
      ]
    },
    {
      "cell_type": "markdown",
      "metadata": {
        "id": "nK5gyOlixWr4"
      },
      "source": [
        "## Evaluating the App with Ragas\n",
        "\n",
        "Now we can finally do our evaluation!\n",
        "\n",
        "We'll start by running the queries we generated usign SDG above through our application to get context and responses."
      ]
    },
    {
      "cell_type": "code",
      "execution_count": 20,
      "metadata": {
        "id": "tzstmZmfxYP2"
      },
      "outputs": [],
      "source": [
        "for test_row in dataset:\n",
        "  response = graph.invoke({\"question\" : test_row.eval_sample.user_input})\n",
        "  test_row.eval_sample.response = response[\"response\"]\n",
        "  test_row.eval_sample.retrieved_contexts = [context.page_content for context in response[\"context\"]]"
      ]
    },
    {
      "cell_type": "code",
      "execution_count": 21,
      "metadata": {
        "colab": {
          "base_uri": "https://localhost:8080/",
          "height": 1000
        },
        "id": "VLXEuORVxd0l",
        "outputId": "c5f7ee36-fc43-4fe2-db5a-6639178756dc"
      },
      "outputs": [
        {
          "data": {
            "text/plain": [
              "\"A Scheduled Academic Year (SAY) is a defined period used for monitoring student progress and determining eligibility for Title IV federal student aid programs, such as the Direct Loan annual loan limit and Pell Grant awards. It typically corresponds to a traditional academic calendar, usually beginning and ending at consistent times each year, such as from the start of the fall semester to the end of the spring semester.\\n\\nThe use of SAY varies depending on the type of academic calendar:\\n\\n1. **Standard Term Academic Calendar**:  \\n   - Comprises semesters, trimesters, or quarters that start and end within set time frames.  \\n   - An SAY for such programs generally includes fall and spring terms (and possibly summer), constituting one academic year.  \\n   - The SAY begins at the start of the fall term and ends at the conclusion of the spring term.  \\n   - It is used to monitor progression, determine loan limits, and calculate Pell Grant awards.\\n\\n2. **Nonstandard Term Academic Calendar**:  \\n   - Consists of terms that may not align with traditional start and end dates, but if it has fixed start and end times comparable to traditional calendars, it may still use an SAY.  \\n   - For programs with SE9W nonstandard terms, an SAY can be used if all terms are SE9W, have consistent start and end times annually, and meet regulatory requirements for instructional time and credit hours in fall-spring periods.\\n\\n3. **Non-term Academic Calendar**:  \\n   - Classes do not follow fixed start and end dates; progress can be measured in credit or clock hours.  \\n   - Typically, an SAY is not used unless the program's structure aligns with a fixed calendar comparable to traditional calendars, meeting specific regulatory criteria.\\n\\n4. **Subscription-Based Programs**:  \\n   - These are term-based but charge students on a subscription basis, expecting students to complete a set number of credit hours within each subscription period.  \\n   - Since they are subscription-based, they are generally not governed by an SAY for federal aid purposes.\\n\\n**Rules and Requirements for Using SAY**:  \\n- The SAY must meet Title IV requirements for an academic year (see Volume 3, Chapter 1).  \\n- For programs with SE9W nonstandard terms, an SAY can be used if the terms are fixed, comparable to traditional calendars, and meet instructional time and credit hour regulations.  \\n- An SAY may include periods when a student is not attending.  \\n- Once the period associated with the SAY and any summer sessions has elapsed, a student can regain eligibility for a new annual loan limit.\\n\\nIn summary, the SAY is a key framework for measuring academic progress and managing federal financial aid, applicable primarily in programs with traditional or comparable fixed-term structures, while its applicability depends on the specific type of academic calendar and compliance with regulatory requirements.\""
            ]
          },
          "execution_count": 21,
          "metadata": {},
          "output_type": "execute_result"
        }
      ],
      "source": [
        "dataset.samples[0].eval_sample.response"
      ]
    },
    {
      "cell_type": "markdown",
      "metadata": {
        "id": "TULcXSm0AUe0"
      },
      "source": [
        "Then we can convert that table into a `EvaluationDataset` which will make the process of evaluation smoother."
      ]
    },
    {
      "cell_type": "code",
      "execution_count": 22,
      "metadata": {
        "id": "B8zQhKR7yn1d"
      },
      "outputs": [],
      "source": [
        "from ragas import EvaluationDataset\n",
        "\n",
        "evaluation_dataset = EvaluationDataset.from_pandas(dataset.to_pandas())"
      ]
    },
    {
      "cell_type": "code",
      "execution_count": 44,
      "metadata": {},
      "outputs": [
        {
          "data": {
            "text/plain": [
              "EvaluationDataset(features=['user_input', 'retrieved_contexts', 'reference_contexts', 'response', 'reference'], len=12)"
            ]
          },
          "execution_count": 44,
          "metadata": {},
          "output_type": "execute_result"
        }
      ],
      "source": [
        "evaluation_dataset"
      ]
    },
    {
      "cell_type": "markdown",
      "metadata": {
        "id": "qQibuzfZAbvA"
      },
      "source": [
        "We'll need to select a judge model - in this case we're using the same model that was used to generate our Synthetic Data."
      ]
    },
    {
      "cell_type": "code",
      "execution_count": 23,
      "metadata": {
        "id": "_q3Zl7sazFYB"
      },
      "outputs": [],
      "source": [
        "from ragas import evaluate\n",
        "from ragas.llms import LangchainLLMWrapper\n",
        "\n",
        "evaluator_llm = LangchainLLMWrapper(ChatOpenAI(model=\"gpt-4.1-mini\"))"
      ]
    },
    {
      "cell_type": "markdown",
      "metadata": {
        "id": "MzHuOZgBAoUU"
      },
      "source": [
        "Next up - we simply evaluate on our desired metrics!"
      ]
    },
    {
      "cell_type": "code",
      "execution_count": 36,
      "metadata": {
        "colab": {
          "base_uri": "https://localhost:8080/",
          "height": 257,
          "referenced_widgets": [
            "d0718259769b46089abda354accc4de8",
            "df156fe12b7c4d1dbb4f688d7bd3c4a3",
            "1f6cdc06bb18480aa341a732a2f1be13",
            "e362bfd3e01241c6b20e2cf0a34db7a1",
            "8ba70976ee1c451184f77494d8c47c7d",
            "ea70433388ef4d1aaf1093eaeea94dd4",
            "8fe50cb21cf9449e94efe57920440845",
            "4e03f27c3ff84046bceb5b4ec1dec571",
            "44f817c0df384faa90ac99e8bd772bc5",
            "8c251e4b43214ca894f136c5397b4a94",
            "e74718a731f0471e9740a7ae5aec571e"
          ]
        },
        "id": "M6mw2AeKziF1",
        "outputId": "dbc30b1e-6b84-4621-8307-f3060bd8ad20"
      },
      "outputs": [
        {
          "data": {
            "application/vnd.jupyter.widget-view+json": {
              "model_id": "7fe964cff03d4d108eabeec2182521c4",
              "version_major": 2,
              "version_minor": 0
            },
            "text/plain": [
              "Evaluating:   0%|          | 0/72 [00:00<?, ?it/s]"
            ]
          },
          "metadata": {},
          "output_type": "display_data"
        },
        {
          "name": "stderr",
          "output_type": "stream",
          "text": [
            "Exception raised in Job[5]: TimeoutError()\n"
          ]
        },
        {
          "data": {
            "text/plain": [
              "{'context_recall': 0.8383, 'faithfulness': 0.9044, 'factual_correctness': 0.6658, 'answer_relevancy': 0.9414, 'context_entity_recall': 0.3229, 'noise_sensitivity_relevant': 0.2248}"
            ]
          },
          "execution_count": 36,
          "metadata": {},
          "output_type": "execute_result"
        }
      ],
      "source": [
        "from ragas.metrics import LLMContextRecall, Faithfulness, FactualCorrectness, ResponseRelevancy, ContextEntityRecall, NoiseSensitivity\n",
        "from ragas import evaluate, RunConfig\n",
        "\n",
        "custom_run_config = RunConfig(timeout=360)\n",
        "\n",
        "result = evaluate(\n",
        "    dataset=evaluation_dataset,\n",
        "    metrics=[LLMContextRecall(), Faithfulness(), FactualCorrectness(), ResponseRelevancy(), ContextEntityRecall(), NoiseSensitivity()],\n",
        "    llm=evaluator_llm,\n",
        "    run_config=custom_run_config\n",
        ")\n",
        "result"
      ]
    },
    {
      "cell_type": "markdown",
      "metadata": {
        "id": "sZxxr2NqAyBp"
      },
      "source": [
        "## Making Adjustments and Re-Evaluating\n",
        "\n",
        "Now that we've got our baseline - let's make a change and see how the model improves or doesn't improve!\n",
        "\n",
        "> NOTE: This will be using Cohere's Rerank model - please be sure to [sign-up for an API key!](https://docs.cohere.com/reference/about)"
      ]
    },
    {
      "cell_type": "code",
      "execution_count": 25,
      "metadata": {
        "colab": {
          "base_uri": "https://localhost:8080/"
        },
        "id": "JMpf7nFDBH-K",
        "outputId": "5146dc88-964a-45b1-c030-15a0de3c4546"
      },
      "outputs": [],
      "source": [
        "os.environ[\"COHERE_API_KEY\"] = getpass(\"Please enter your Cohere API key!\")"
      ]
    },
    {
      "cell_type": "markdown",
      "metadata": {},
      "source": [
        "\n",
        "We'll first set our retriever to return more documents, which will allow us to take advantage of the reranking."
      ]
    },
    {
      "cell_type": "code",
      "execution_count": 26,
      "metadata": {
        "id": "3Oa5r78dA4K9"
      },
      "outputs": [],
      "source": [
        "adjusted_example_retriever = vector_store.as_retriever(search_kwargs={\"k\": 20})"
      ]
    },
    {
      "cell_type": "markdown",
      "metadata": {},
      "source": [
        "Reranking, or contextual compression, is a technique that uses a reranker to compress the retrieved documents into a smaller set of documents.\n",
        "\n",
        "This is essentially a slower, more accurate form of semantic similarity that we use on a smaller subset of our documents."
      ]
    },
    {
      "cell_type": "code",
      "execution_count": 27,
      "metadata": {
        "id": "B3d3B3OEBCCc"
      },
      "outputs": [],
      "source": [
        "from langchain.retrievers.contextual_compression import ContextualCompressionRetriever\n",
        "from langchain_cohere import CohereRerank\n",
        "\n",
        "def retrieve_adjusted(state):\n",
        "  compressor = CohereRerank(model=\"rerank-v3.5\")\n",
        "  compression_retriever = ContextualCompressionRetriever(\n",
        "    base_compressor=compressor, base_retriever=adjusted_example_retriever, search_kwargs={\"k\": 5}\n",
        "  )\n",
        "  retrieved_docs = compression_retriever.invoke(state[\"question\"])\n",
        "  return {\"context\" : retrieved_docs}"
      ]
    },
    {
      "cell_type": "markdown",
      "metadata": {},
      "source": [
        "We can simply rebuild our graph with the new retriever!"
      ]
    },
    {
      "cell_type": "code",
      "execution_count": 28,
      "metadata": {
        "id": "4XZKorBaB4BW"
      },
      "outputs": [],
      "source": [
        "class AdjustedState(TypedDict):\n",
        "  question: str\n",
        "  context: List[Document]\n",
        "  response: str\n",
        "\n",
        "adjusted_graph_builder = StateGraph(AdjustedState).add_sequence([retrieve_adjusted, generate])\n",
        "adjusted_graph_builder.add_edge(START, \"retrieve_adjusted\")\n",
        "adjusted_graph = adjusted_graph_builder.compile()"
      ]
    },
    {
      "cell_type": "code",
      "execution_count": 29,
      "metadata": {},
      "outputs": [
        {
          "data": {
            "image/png": "[encoded data removed]",
            "text/plain": [
              "<langgraph.graph.state.CompiledStateGraph object at 0x11a7e8a50>"
            ]
          },
          "execution_count": 29,
          "metadata": {},
          "output_type": "execute_result"
        }
      ],
      "source": [
        "adjusted_graph"
      ]
    },
    {
      "cell_type": "code",
      "execution_count": 30,
      "metadata": {
        "colab": {
          "base_uri": "https://localhost:8080/",
          "height": 191
        },
        "id": "s7doJbZJB_19",
        "outputId": "c64ec4a0-8cb9-47ab-f369-736fc0182fad"
      },
      "outputs": [
        {
          "data": {
            "text/plain": [
              "'The context mentions different loan types including:\\n\\n- Federal PLUS Loans\\n- Direct Subsidized Loans\\n- Direct Unsubsidized Loans\\n\\nThese are the main kinds of loans referenced in the provided information.'"
            ]
          },
          "execution_count": 30,
          "metadata": {},
          "output_type": "execute_result"
        }
      ],
      "source": [
        "response = adjusted_graph.invoke({\"question\" : \"What are the different kinds of loans?\"})\n",
        "response[\"response\"]"
      ]
    },
    {
      "cell_type": "code",
      "execution_count": 32,
      "metadata": {
        "id": "siBFKs-gCDdQ"
      },
      "outputs": [],
      "source": [
        "import time\n",
        "import copy\n",
        "\n",
        "rerank_dataset = copy.deepcopy(dataset)\n",
        "\n",
        "for test_row in rerank_dataset:\n",
        "  response = adjusted_graph.invoke({\"question\" : test_row.eval_sample.user_input})\n",
        "  test_row.eval_sample.response = response[\"response\"]\n",
        "  test_row.eval_sample.retrieved_contexts = [context.page_content for context in response[\"context\"]]\n",
        "  time.sleep(5) # To try to avoid rate limiting."
      ]
    },
    {
      "cell_type": "code",
      "execution_count": 33,
      "metadata": {},
      "outputs": [
        {
          "data": {
            "text/plain": [
              "\"A Scheduled Academic Year (SAY) is a framework used for monitoring the progression of students' federal loan limits, such as the Direct Loan annual loan limit. It helps determine how much students can borrow within a specified academic cycle.\\n\\nThe use of SAY and related Base Year (BBAY) periods varies depending on the type of academic calendar:\\n\\n- **Standard Term or Nonstandard Term Calendar:**  \\n  An academic calendar with defined terms (such as semesters, trimesters, or quarters) has set start and end dates. In these calendars, the SAY typically encompasses the entire academic year, which generally includes fall and spring terms. The SAY is used for tracking loan limits and aid eligibility across these terms.\\n\\n- **Non-Term Calendar:**  \\n  In a non-term calendar, classes do not begin and end within fixed periods, and academic progress may be measured in credit or clock hours rather than terms. For Title IV purposes, a program with terms might sometimes be treated as non-term, affecting how the SAY is applied for monitoring purposes.\\n\\n- **Subscription-Based Calendar:**  \\n  This calendar is used exclusively by subscription-based programs, where students pay per term or subscription period with the expectation of completing a certain number of credit hours. While classes are not required to start and end within a traditional term, the same rules for term-based programs apply, including the use of SAY, BBAY 1, BBAY 2, or BBAY 3 for monitoring loan limits. Nonstandard terms that are not substantially equal in length are not allowed in subscription-based calendars.\\n\\n**Rules and Requirements for Using SAY:**\\n\\n- The SAY is used to monitor the student's progress toward their federal loan limits.\\n- The same rules that apply to term-based programs regarding minimum and maximum term lengths, full-time enrollment, and other criteria are also applied to subscription-based programs.\\n- For non-term programs, or when a calendar is treated as non-term, the application of SAY may differ, but the overarching purpose remains to monitor aid limits effectively.\\n\\nIn summary, SAY is a tool for tracking loan limit progression across various academic calendar types, with specific rules ensuring consistency and proper aid administration across standard, nonstandard, non-term, and subscription-based programs.\""
            ]
          },
          "execution_count": 33,
          "metadata": {},
          "output_type": "execute_result"
        }
      ],
      "source": [
        "rerank_dataset.samples[0].eval_sample.response"
      ]
    },
    {
      "cell_type": "code",
      "execution_count": 34,
      "metadata": {},
      "outputs": [],
      "source": [
        "rerank_evaluation_dataset = EvaluationDataset.from_pandas(rerank_dataset.to_pandas())"
      ]
    },
    {
      "cell_type": "code",
      "execution_count": 53,
      "metadata": {},
      "outputs": [
        {
          "data": {
            "text/plain": [
              "SingleTurnSample(user_input='how do you figure out when a student can get a pell grant disbursement in a clock-hour or non-term credit-hour program, and how does this relate to the way payment periods and terms are set up in non-term or subscription-based academic calendars?', retrieved_contexts=['both the credit or clock hours and the weeks of instructional time in a payment period before receiving a disbursement of\\nPell Grant, FSEOG, TEACH Grant or Direct Loan funds for the next payment period. For the Direct Loan Program only, this\\nsame requirement applies to students who are enrolled in programs with nonstandard terms that are not substantially\\nequal in length.\\nEffect of Accelerated Progression on Disbursement Timing in a Clock-Hour or Non-Term Credit-Hour Program\\nThe Pell Grant or TEACH Grant amount that a student is eligible to receive for a payment period in a clock-hour or non-\\nterm credit-hour program is based on the number of hours and weeks in the scheduled payment periods for the program\\nthat are established at the beginning of the program based on the program length (as described earlier in this chapter).\\nThese scheduled payment periods do not change, regardless of a student9s rate of progression through a clock-hour or', 'Pell Formula 4: Clock-Hour and Non-Term Credit-Hour Programs\\nAll clock-hour and non-term credit-hour programs must use Formula 4.\\nEnrollment Intensity in Clock-Hour and Non-Term Credit-Hour Programs\\nFor clock-hour programs and for non-term credit-hour programs, enrollment intensity only makes a difference if the\\nstudent is attending less than half time. If that9s the case, only certain components of the COA are used (see the\\ndiscussion in Volume 3, Chapter 2 of the FSA Handbook).\\nThe annual award for a student in a clock-hour or non-term credit-hour program is always based on the full-\\ntime Scheduled Award, even if the student is attending less than full time.\\nCalculating Payment Amounts in Clock-Hour and Non-Term Credit-Hour Programs\\nPell Grants must be paid in installments over the course of the academic year or program of study to help meet the\\nstudent9s costs in each payment period. The payment period determines when Pell funds are disbursed and the exact', 'section below.\\nExcept as noted above for the Direct Loan Program, there is no requirement for a student who is enrolled in a credit-hour\\nterm program that is not a subscription-based program to successfully complete a certain amount of coursework in a\\npayment period before they can receive a disbursement of Title IV funds in the next payment period. For instance, a\\nstudent could receive a Pell Grant or Direct Loan disbursement in the spring term after failing several courses in the fall\\nterm, provided that the student is still making satisfactory academic progress under the school9s policy.\\nDisbursement Timing in Clock-Hour, Non-Term, and Certain Nonstandard Term Programs\\nA student who is enrolled in a credit-hour program without terms or in a clock-hour program must successfully complete\\nNote: We do not cover the requirements for reporting disbursements through the Common Origination and'], reference_contexts=['<1-hop>\\n\\nboth the credit or clock hours and the weeks of instructional time in a payment period before receiving a disbursement of Pell Grant, FSEOG, TEACH Grant or Direct Loan funds for the next payment period. For the Direct Loan Program only, this same requirement applies to students who are enrolled in programs with nonstandard terms that are not substantially equal in length. Effect of Accelerated Progression on Disbursement Timing in a Clock-Hour or Non-Term Credit-Hour Program The Pell Grant or TEACH Grant amount that a student is eligible to receive for a payment period in a clock-hour or non- term credit-hour program is based on the number of hours and weeks in the scheduled payment periods for the program that are established at the beginning of the program based on the program length (as described earlier in this chapter). These scheduled payment periods do not change, regardless of a student9s rate of progression through a clock-hour or non-term credit-hour program. This means that if a student completes additional weeks of instructional time or hours while completing the other measure of a payment period, the actual number of weeks or hours that the student completes before a disbursement can be made for the next payment period may differ from the number of weeks or hours in the scheduled payment period used to determine the student9s grant amount for the payment period. Although a student9s completion of additional weeks or hours in a payment period has no effect on the scheduled payment periods for purposes of determining Pell Grant and TEACH Grant payment amounts, an undergraduate student who accelerates in a clock-hour or non-term credit-hour program may have reduced Direct Loan eligibility in the final academic year of a program. Specifically, if a student enrolled in a program that is greater than one academic year in length completes additional clock or credit hours prior to the final academic year of the program, this may result in a final period of study that contains fewer clock or credit hours than the number of hours in the program9s defined academic year. In this circumstance, the Direct Loan annual loan limit for an undergraduate student must be prorated (reduced). The principles described above are illustrated by the examples in Appendix A at the end of this chapter. For guidance on calculating Pell Grant and TEACH Grant awards for clock-hour and non-term credit-hour programs, see Volume 7. For information on Direct Loan annual loan limit proration and annual loan limit progression in clock-hour and non-term credit- hour programs, see Volume 8, Chapters 5 and 6. If your school is unable to determine when a student has successfully completed half of the credit or clock hours in a program, academic year, or remainder of a program, the student is considered to have begun the second payment period of the program, academic year, or remainder of a program at the later of the date (identified by your school) that the student has successfully completed: half of the academic coursework in the program, academic year, or remainder of the program; or half of the number of weeks of instructional time in the program, academic year, or remainder of the program.', '<2-hop>\\n\\nnon-term (includes clock-hour calendars), or subscription-based. In a standard term or nonstandard term academic calendar, a term is generally a period in which all classes are scheduled to begin and end within a set time frame, and academic progress is measured in credit hours. In a non-term academic calendar, classes do not begin and end within a set time frame, such as a term. Academic progress in a non-term program can be measured in either credit or clock hours. In some cases (as discussed below), a program with terms must be treated as a non-term program for Title IV purposes. A subscription-based academic calendar is used only by subscription-based programs. A subscription-based program is a term-based program in which the school charges a student for each term on a subscription basis with the expectation that the student will complete a specified number of credit hours (or the equivalent) during that term. However, classes in a subscription-based program are not required to begin or end within a specific timeframe in each term, as is the case in a term-based calendar that is not subscription-based. For more detail on subscription-based programs, see Volume 2, Chapter 2. A subscription-based academic calendar consists of \"subscription periods\" that are either standard terms or substantially equal nonstandard terms (for guidance on when terms are considered to be substantially equal in length, see <Payment periods for programs using standard terms or substantially equal nonstandard terms= later in this chapter). Substantially equal nonstandard terms may be of any length, but if they are not at least nine weeks in length, the program must use BBAY 3 for purposes of monitoring Direct Loan annual loan limit progression (see Volume 8, Chapter 6 for more information on BBAY 3). Nonstandard terms that are not substantially equal in length are not permissible in a subscription-based academic calendar. The term \"subscription period\" is synonymous with \"term\" and \"payment period\" (payment periods are covered later in this chapter). Except for the fact that classes are not required to start and end within a term, the rules and requirements for term-based programs that are not subscription-based also apply to subscription-based programs. These requirements include: minimum and maximum term length restrictions for standard terms (see the discussion in the next section of this chapter); requirements for determining full-time enrollment (see Volume 1, Chapter 1); use of a Scheduled Academic Year (SAY), BBAY 1, BBAY 2, or BBAY 3 for monitoring Direct Loan annual loan limit progression (see Volume 8, Chapter 6); and use of Pell Grant formulas 1, 2, or 3 to calculate Pell Grant awards (see Volume 7, Chapter 4). Whether an academic calendar is standard term, nonstandard term, non-term, or subscription-based has implications for how aid is awarded and disbursed under the Title IV programs. Standard Terms: Semesters, Trimesters, and Quarters Semesters and trimesters contain between 14 and 21 weeks of instructional time. However, a summer term in a program using semesters or trimesters may contain fewer than 14 weeks. An academic calendar that uses semesters or trimesters traditionally has three terms, one each in the fall, spring, and summer, two of which comprise an academic year. For example, in a program using an SAY calendar, fall and spring would comprise an academic year. In a program using a'], response=\"To determine when a student can receive a Pell Grant disbursement in a clock-hour or non-term credit-hour program, you need to consider the scheduled payment periods established at the beginning of the program based on the program's length. Disbursements are linked to these payment periods, which are defined by the number of hours and weeks of instructional time. The student must successfully complete the scheduled requirements of a payment period before receiving funds for the next.\\n\\nIn non-term or subscription-based academic calendars, the setup involves defining payment periods or terms that may not align with traditional semester or quarter structures. These payment periods are set up based on program length and instructional time, regardless of how the student progresses through the program. For students enrolled in such programs, the disbursement timing depends on completing the scheduled payment periods, not necessarily on completing a certain amount of coursework, unless specific institutional policies or program requirements specify otherwise.\\n\\nSince these programs often have flexible or rolling schedules, understanding when a disbursement occurs involves checking whether the student has completed the scheduled hours and weeks associated with a payment period. This approach ensures that Pell Grant funds are disbursed in accordance with the established payment periods, which are set at the start of the program and remain consistent throughout, regardless of the student's individual pace or progress.\\n\\nIn summary:\\n- Disbursement in clock-hour or non-term credit-hour programs is based on completing the scheduled payment periods defined at program start.\\n- Payment periods are aligned with instructional hours and weeks, not necessarily with academic terms.\\n- In non-term or subscription calendars, these periods are set up to accommodate flexible scheduling, and disbursements follow the completion of these predefined periods rather than traditional term completion.\\n- For students enrolled without specific coursework completion requirements, disbursements are tied to the successful completion of the scheduled payment period, not individual course completion.\", multi_responses=None, reference=\"to figure out when a student can get a pell grant disbursement in a clock-hour or non-term credit-hour program, you have to look at both the credit or clock hours and the weeks of instructional time in a payment period. the student must complete both before getting pell grant funds for the next payment period. the scheduled payment periods are set at the beginning of the program based on the program length and do not change, even if the student progresses faster or slower. in non-term or subscription-based academic calendars, classes do not have to start and end within a set timeframe, and academic progress can be measured in credit or clock hours. the term 'payment period' is used for both non-term and subscription-based programs, and the rules for determining pell grant awards (using formulas 1, 2, or 3) apply based on the type of academic calendar. so, the timing of pell grant disbursement depends on the completion of scheduled hours and weeks in the payment period, and this is connected to how payment periods and terms are defined in the specific academic calendar the program uses.\", rubrics=None)"
            ]
          },
          "execution_count": 53,
          "metadata": {},
          "output_type": "execute_result"
        }
      ],
      "source": [
        "rerank_evaluation_dataset[10]"
      ]
    },
    {
      "cell_type": "code",
      "execution_count": 54,
      "metadata": {},
      "outputs": [
        {
          "data": {
            "text/plain": [
              "SingleTurnSample(user_input='how do you figure out when a student can get a pell grant disbursement in a clock-hour or non-term credit-hour program, and how does this relate to the way payment periods and terms are set up in non-term or subscription-based academic calendars?', retrieved_contexts=['The first payment period is the period in which the student successfully completes half of the credit or clock hours\\nand half of the weeks of instructional time in the program.\\nThe second payment period is the period in which the student completes the remainder of the program.\\nClock-Hour and Non-Term Program Payment Periods for Programs More Than One Academic Year in Length\\nFor the first academic year of the program and for any subsequent full academic year, follow the payment period\\nrules above for a program that is one academic year or less in length, substituting <academic year= for <program.=\\nAcademic Year = 24 Semester Hours and 30 Weeks of Instructional Time\\nPell Grant: Payment periods are the nonstandard terms (three disbursements)\\nNonstandard term #1: 12 weeks\\nFirst payment period\\nNonstandard term #2: 6 weeks\\nSecond payment period\\nNonstandard term #3: 12 weeks\\nThird payment period\\nDirect Loan: Payment periods are determined by credit-hours and weeks (two disbursements)', 'both the credit or clock hours and the weeks of instructional time in a payment period before receiving a disbursement of\\nPell Grant, FSEOG, TEACH Grant or Direct Loan funds for the next payment period. For the Direct Loan Program only, this\\nsame requirement applies to students who are enrolled in programs with nonstandard terms that are not substantially\\nequal in length.\\nEffect of Accelerated Progression on Disbursement Timing in a Clock-Hour or Non-Term Credit-Hour Program\\nThe Pell Grant or TEACH Grant amount that a student is eligible to receive for a payment period in a clock-hour or non-\\nterm credit-hour program is based on the number of hours and weeks in the scheduled payment periods for the program\\nthat are established at the beginning of the program based on the program length (as described earlier in this chapter).\\nThese scheduled payment periods do not change, regardless of a student9s rate of progression through a clock-hour or', '2), you must disburse the Title IV funds during the payment period to which they apply.\\nDisbursement Timing in Term-Based Programs Using Credit Hours (Except Subscription-Based Programs)\\nAs noted earlier in the chapter, for the Pell Grant, TEACH Grant, and FSEOG programs the payment period is the academic\\nterm for a student enrolled in a credit-hour program that uses any type of academic term (standard or nonstandard). For\\nthe Direct Loan Program, the payment period is the academic term only if the program uses standard terms or uses\\nnonstandard terms that are substantially equal in length. If the program uses nonstandard terms that are not substantially\\nequal in length, a school must use the non-term-based rules for Direct Loan disbursement timing, as discussed in the next\\nsection below.\\nExcept as noted above for the Direct Loan Program, there is no requirement for a student who is enrolled in a credit-hour', 'Pell Formula 4: Clock-Hour and Non-Term Credit-Hour Programs\\nAll clock-hour and non-term credit-hour programs must use Formula 4.\\nEnrollment Intensity in Clock-Hour and Non-Term Credit-Hour Programs\\nFor clock-hour programs and for non-term credit-hour programs, enrollment intensity only makes a difference if the\\nstudent is attending less than half time. If that9s the case, only certain components of the COA are used (see the\\ndiscussion in Volume 3, Chapter 2 of the FSA Handbook).\\nThe annual award for a student in a clock-hour or non-term credit-hour program is always based on the full-\\ntime Scheduled Award, even if the student is attending less than full time.\\nCalculating Payment Amounts in Clock-Hour and Non-Term Credit-Hour Programs\\nPell Grants must be paid in installments over the course of the academic year or program of study to help meet the\\nstudent9s costs in each payment period. The payment period determines when Pell funds are disbursed and the exact', 'year for a program as containing 24 semester hours and 30 weeks of instructional time but have an academic calendar\\nconsisting of four 8-week nonstandard terms (i.e., 32 weeks of instructional time). This would affect the calculation of Pell\\nGrant awards, as explained in Volume 7.\\nAs discussed later in this chapter and in Volume 8, Chapter 6, the timing of disbursements and, for the Direct Loan\\nProgram, annual loan limit progression will be affected if a program is an academic year in length in credit or clock hours\\nbut not in weeks of instructional time, or for a program longer than an academic year in length, if a student9s completion\\nof the credit or clock hours in the program9s academic year does not coincide with completion of the weeks of\\ninstructional time in the academic year.\\nAcademic Calendars and Terms\\nSchools offer programs with many kinds of academic calendars that differ from the traditional fall-spring school year. For'], reference_contexts=['<1-hop>\\n\\nboth the credit or clock hours and the weeks of instructional time in a payment period before receiving a disbursement of Pell Grant, FSEOG, TEACH Grant or Direct Loan funds for the next payment period. For the Direct Loan Program only, this same requirement applies to students who are enrolled in programs with nonstandard terms that are not substantially equal in length. Effect of Accelerated Progression on Disbursement Timing in a Clock-Hour or Non-Term Credit-Hour Program The Pell Grant or TEACH Grant amount that a student is eligible to receive for a payment period in a clock-hour or non- term credit-hour program is based on the number of hours and weeks in the scheduled payment periods for the program that are established at the beginning of the program based on the program length (as described earlier in this chapter). These scheduled payment periods do not change, regardless of a student9s rate of progression through a clock-hour or non-term credit-hour program. This means that if a student completes additional weeks of instructional time or hours while completing the other measure of a payment period, the actual number of weeks or hours that the student completes before a disbursement can be made for the next payment period may differ from the number of weeks or hours in the scheduled payment period used to determine the student9s grant amount for the payment period. Although a student9s completion of additional weeks or hours in a payment period has no effect on the scheduled payment periods for purposes of determining Pell Grant and TEACH Grant payment amounts, an undergraduate student who accelerates in a clock-hour or non-term credit-hour program may have reduced Direct Loan eligibility in the final academic year of a program. Specifically, if a student enrolled in a program that is greater than one academic year in length completes additional clock or credit hours prior to the final academic year of the program, this may result in a final period of study that contains fewer clock or credit hours than the number of hours in the program9s defined academic year. In this circumstance, the Direct Loan annual loan limit for an undergraduate student must be prorated (reduced). The principles described above are illustrated by the examples in Appendix A at the end of this chapter. For guidance on calculating Pell Grant and TEACH Grant awards for clock-hour and non-term credit-hour programs, see Volume 7. For information on Direct Loan annual loan limit proration and annual loan limit progression in clock-hour and non-term credit- hour programs, see Volume 8, Chapters 5 and 6. If your school is unable to determine when a student has successfully completed half of the credit or clock hours in a program, academic year, or remainder of a program, the student is considered to have begun the second payment period of the program, academic year, or remainder of a program at the later of the date (identified by your school) that the student has successfully completed: half of the academic coursework in the program, academic year, or remainder of the program; or half of the number of weeks of instructional time in the program, academic year, or remainder of the program.', '<2-hop>\\n\\nnon-term (includes clock-hour calendars), or subscription-based. In a standard term or nonstandard term academic calendar, a term is generally a period in which all classes are scheduled to begin and end within a set time frame, and academic progress is measured in credit hours. In a non-term academic calendar, classes do not begin and end within a set time frame, such as a term. Academic progress in a non-term program can be measured in either credit or clock hours. In some cases (as discussed below), a program with terms must be treated as a non-term program for Title IV purposes. A subscription-based academic calendar is used only by subscription-based programs. A subscription-based program is a term-based program in which the school charges a student for each term on a subscription basis with the expectation that the student will complete a specified number of credit hours (or the equivalent) during that term. However, classes in a subscription-based program are not required to begin or end within a specific timeframe in each term, as is the case in a term-based calendar that is not subscription-based. For more detail on subscription-based programs, see Volume 2, Chapter 2. A subscription-based academic calendar consists of \"subscription periods\" that are either standard terms or substantially equal nonstandard terms (for guidance on when terms are considered to be substantially equal in length, see <Payment periods for programs using standard terms or substantially equal nonstandard terms= later in this chapter). Substantially equal nonstandard terms may be of any length, but if they are not at least nine weeks in length, the program must use BBAY 3 for purposes of monitoring Direct Loan annual loan limit progression (see Volume 8, Chapter 6 for more information on BBAY 3). Nonstandard terms that are not substantially equal in length are not permissible in a subscription-based academic calendar. The term \"subscription period\" is synonymous with \"term\" and \"payment period\" (payment periods are covered later in this chapter). Except for the fact that classes are not required to start and end within a term, the rules and requirements for term-based programs that are not subscription-based also apply to subscription-based programs. These requirements include: minimum and maximum term length restrictions for standard terms (see the discussion in the next section of this chapter); requirements for determining full-time enrollment (see Volume 1, Chapter 1); use of a Scheduled Academic Year (SAY), BBAY 1, BBAY 2, or BBAY 3 for monitoring Direct Loan annual loan limit progression (see Volume 8, Chapter 6); and use of Pell Grant formulas 1, 2, or 3 to calculate Pell Grant awards (see Volume 7, Chapter 4). Whether an academic calendar is standard term, nonstandard term, non-term, or subscription-based has implications for how aid is awarded and disbursed under the Title IV programs. Standard Terms: Semesters, Trimesters, and Quarters Semesters and trimesters contain between 14 and 21 weeks of instructional time. However, a summer term in a program using semesters or trimesters may contain fewer than 14 weeks. An academic calendar that uses semesters or trimesters traditionally has three terms, one each in the fall, spring, and summer, two of which comprise an academic year. For example, in a program using an SAY calendar, fall and spring would comprise an academic year. In a program using a'], response=\"To determine when a student can receive a Pell Grant disbursement in a clock-hour or non-term credit-hour program, you need to look at the scheduled payment periods established at the beginning of the program. These payment periods are based on the program length, specifically the number of hours and weeks in each period.\\n\\nFor clock-hour or non-term credit-hour programs, the first payment period is when the student completes half of the credit or clock hours and half of the weeks of instructional time in the program. The second payment period covers the remainder of the program. Disbursements are made during each payment period, contingent upon the student completing the required hours and weeks associated with that period.\\n\\nIn nonstandard term or subscription-based academic calendars, such as programs with multiple nonstandard terms (e.g., four 8-week terms in a 32-week instructional period), the scheduled payment periods are established at the start of the program based on the total hours and weeks. These do not change regardless of the student’s rate of progression. Therefore, even if a student progresses faster or slower, disbursements are aligned with these pre-established payment periods.\\n\\nRegarding the relation to payment periods and terms in non-term or subscription-based calendars:  \\n- Payment periods are fixed based on the initial schedule of hours and weeks.  \\n- Pell Grant disbursements occur during these periods once the student completes the specified hours and instructional weeks.  \\n- The timing of disbursements is tied directly to the student's completion of the scheduled hours and weeks in each payment period, not to the academic calendar's terms or the student's pace of progression.  \\n\\nThis system ensures that Pell Grant funds are disbursed in accordance with the student's progress through the established payment periods, which are set at program start regardless of the calendar structure or the student’s acceleration or delay in completing hours.\", multi_responses=None, reference=\"to figure out when a student can get a pell grant disbursement in a clock-hour or non-term credit-hour program, you have to look at both the credit or clock hours and the weeks of instructional time in a payment period. the student must complete both before getting pell grant funds for the next payment period. the scheduled payment periods are set at the beginning of the program based on the program length and do not change, even if the student progresses faster or slower. in non-term or subscription-based academic calendars, classes do not have to start and end within a set timeframe, and academic progress can be measured in credit or clock hours. the term 'payment period' is used for both non-term and subscription-based programs, and the rules for determining pell grant awards (using formulas 1, 2, or 3) apply based on the type of academic calendar. so, the timing of pell grant disbursement depends on the completion of scheduled hours and weeks in the payment period, and this is connected to how payment periods and terms are defined in the specific academic calendar the program uses.\", rubrics=None)"
            ]
          },
          "execution_count": 54,
          "metadata": {},
          "output_type": "execute_result"
        }
      ],
      "source": [
        "evaluation_dataset[10]"
      ]
    },
    {
      "cell_type": "code",
      "execution_count": 55,
      "metadata": {
        "colab": {
          "base_uri": "https://localhost:8080/",
          "height": 257,
          "referenced_widgets": [
            "b09b0c42e0364396aee593f2ba1f18a2",
            "ae2cb8aa76424c01b0e39988cba92f0a",
            "9e837089e2ed4366b518306993092ede",
            "ccc8bd831acf490bb821cbe9a4d6ce5e",
            "d7f40417bcb24600b0e562fe2be29560",
            "a06cc5c232fe415c80c3a468b29ccc66",
            "d06dd06393844bbc8e176fea19a4e142",
            "31981ef797934adebeba357626d4e287",
            "66e038d8569b43fb8adc5211537fccef",
            "ab759276b57d4de6acefd71e01bcacc6",
            "117883f62a654d6996c2f9f8464cd22b"
          ]
        },
        "id": "5jXHvoIDCeKI",
        "outputId": "90b7754d-d2b0-487f-912f-6f572e56d2e4"
      },
      "outputs": [
        {
          "data": {
            "application/vnd.jupyter.widget-view+json": {
              "model_id": "97804c00b0ab434c908bebb683c6a2d8",
              "version_major": 2,
              "version_minor": 0
            },
            "text/plain": [
              "Evaluating:   0%|          | 0/72 [00:00<?, ?it/s]"
            ]
          },
          "metadata": {},
          "output_type": "display_data"
        },
        {
          "data": {
            "text/plain": [
              "{'context_recall': 0.8353, 'faithfulness': 0.8355, 'factual_correctness': 0.6600, 'answer_relevancy': 0.9448, 'context_entity_recall': 0.3402, 'noise_sensitivity_relevant': 0.2618}"
            ]
          },
          "execution_count": 55,
          "metadata": {},
          "output_type": "execute_result"
        }
      ],
      "source": [
        "result = evaluate(\n",
        "    dataset=rerank_evaluation_dataset,\n",
        "    metrics=[LLMContextRecall(), Faithfulness(), FactualCorrectness(), ResponseRelevancy(), ContextEntityRecall(), NoiseSensitivity()],\n",
        "    llm=evaluator_llm,\n",
        "    run_config=custom_run_config\n",
        ")\n",
        "result"
      ]
    },
    {
      "cell_type": "code",
      "execution_count": 50,
      "metadata": {},
      "outputs": [
        {
          "data": {
            "text/plain": [
              "[]"
            ]
          },
          "execution_count": 50,
          "metadata": {},
          "output_type": "execute_result"
        }
      ],
      "source": [
        "result.binary_columns"
      ]
    },
    {
      "cell_type": "markdown",
      "metadata": {},
      "source": [
        "#### ❓ Question: \n",
        "\n",
        "Which system performed better, on what metrics, and why?\n",
        "\n"
      ]
    },
    {
      "cell_type": "markdown",
      "metadata": {},
      "source": [
        "#### ✅ answer: \n",
        "notes: the evaluation score will change with each run. I think we need to fix the result by setting temperature or seeds, otherise not much sense in comparing two moving targets.\n",
        "\n",
        "Baseline RAG: \n",
        "{'context_recall': 0.8383, 'faithfulness': 0.9044, 'factual_correctness': 0.6658, 'answer_relevancy': 0.9414, 'context_entity_recall': 0.3229, 'noise_sensitivity_relevant': 0.2248}\n",
        "\n",
        "Adjusted RAG:\n",
        "{'context_recall': 0.9008, 'faithfulness': 0.8405, 'factual_correctness': 0.6075, 'answer_relevancy': 0.9448, 'context_entity_recall': 0.3218, 'noise_sensitivity_relevant': 0.2351}\n",
        "\n",
        "- context recall, answer relevancy: Adjusted RAG is better. It finds more relevant information by using the reranking model. \n",
        "- faithfulness, factual correctness, context entity recall, noise sensitivity: Baseline rag is better. \n",
        "  - Faithfulness (+7.6%): More faithful to retrieved context, suggesting cosine similarity retrieval patterns align better with the LLM's processing\n",
        "  - Factual Correctness (+9.6%): Significantly more accurate facts, indicating cosine similarity may retrieve more factually dense content\n",
        "  - Context Entity Recall (+0.3%): Slightly better at capturing specific entities (names, dates, numbers)\n",
        "  - Noise Sensitivity (+4.6%): Better at handling irrelevant information\n",
        "\n",
        "Despite better retrieval, the reranking system produced less faithful and less factually correct answers because:\n",
        "Context Processing Mismatch: The LLM may be optimized for processing cosine similarity-retrieved context patterns\n",
        "Relevance vs. Factual Density Trade-off: Reranking optimized for semantic relevance rather than factual completeness\n",
        "Information Synthesis Challenges: More \"relevant\" context doesn't always mean easier to synthesize into accurate answers\n"
      ]
    },
    {
      "cell_type": "markdown",
      "metadata": {},
      "source": []
    }
  ],
  "metadata": {
    "colab": {
      "provenance": []
    },
    "kernelspec": {
      "display_name": ".venv",
      "language": "python",
      "name": "python3"
    },
    "language_info": {
      "codemirror_mode": {
        "name": "ipython",
        "version": 3
      },
      "file_extension": ".py",
      "mimetype": "text/x-python",
      "name": "python",
      "nbconvert_exporter": "python",
      "pygments_lexer": "ipython3",
      "version": "3.13.0"
    },
    "widgets": {
      "application/vnd.jupyter.widget-state+json": {
        "0107beec40af42ffa66b216070f97d5c": {
          "model_module": "@jupyter-widgets/controls",
          "model_module_version": "1.5.0",
          "model_name": "ProgressStyleModel",
          "state": {
            "_model_module": "@jupyter-widgets/controls",
            "_model_module_version": "1.5.0",
            "_model_name": "ProgressStyleModel",
            "_view_count": null,
            "_view_module": "@jupyter-widgets/base",
            "_view_module_version": "1.2.0",
            "_view_name": "StyleView",
            "bar_color": null,
            "description_width": ""
          }
        },
        "01fa9def167548fba96e573921712950": {
          "model_module": "@jupyter-widgets/controls",
          "model_module_version": "1.5.0",
          "model_name": "FloatProgressModel",
          "state": {
            "_dom_classes": [],
            "_model_module": "@jupyter-widgets/controls",
            "_model_module_version": "1.5.0",
            "_model_name": "FloatProgressModel",
            "_view_count": null,
            "_view_module": "@jupyter-widgets/controls",
            "_view_module_version": "1.5.0",
            "_view_name": "ProgressView",
            "bar_style": "success",
            "description": "",
            "description_tooltip": null,
            "layout": "IPY_MODEL_3c470306f04542f29c53dd21a4de93d7",
            "max": 3,
            "min": 0,
            "orientation": "horizontal",
            "style": "IPY_MODEL_7c0ead4589784ecb8d5380a895fe1c41",
            "value": 3
          }
        },
        "03e6ff4dc0d645668324964cbf114211": {
          "model_module": "@jupyter-widgets/controls",
          "model_module_version": "1.5.0",
          "model_name": "HTMLModel",
          "state": {
            "_dom_classes": [],
            "_model_module": "@jupyter-widgets/controls",
            "_model_module_version": "1.5.0",
            "_model_name": "HTMLModel",
            "_view_count": null,
            "_view_module": "@jupyter-widgets/controls",
            "_view_module_version": "1.5.0",
            "_view_name": "HTMLView",
            "description": "",
            "description_tooltip": null,
            "layout": "IPY_MODEL_7803a3e67b28452390202dc69d4289f3",
            "placeholder": "​",
            "style": "IPY_MODEL_618a24e305d44bd39a3023aa44f3383c",
            "value": "Applying [CosineSimilarityBuilder, OverlapScoreBuilder]:   0%"
          }
        },
        "0e460f92c5a749efb198864545a124c0": {
          "model_module": "@jupyter-widgets/controls",
          "model_module_version": "1.5.0",
          "model_name": "HTMLModel",
          "state": {
            "_dom_classes": [],
            "_model_module": "@jupyter-widgets/controls",
            "_model_module_version": "1.5.0",
            "_model_name": "HTMLModel",
            "_view_count": null,
            "_view_module": "@jupyter-widgets/controls",
            "_view_module_version": "1.5.0",
            "_view_name": "HTMLView",
            "description": "",
            "description_tooltip": null,
            "layout": "IPY_MODEL_245c32a588d142628f06eba44324c1b8",
            "placeholder": "​",
            "style": "IPY_MODEL_f9499b2235294b638ed87d73894b341f",
            "value": " 1/2 [00:02&lt;00:02,  2.48s/it]"
          }
        },
        "117883f62a654d6996c2f9f8464cd22b": {
          "model_module": "@jupyter-widgets/controls",
          "model_module_version": "1.5.0",
          "model_name": "DescriptionStyleModel",
          "state": {
            "_model_module": "@jupyter-widgets/controls",
            "_model_module_version": "1.5.0",
            "_model_name": "DescriptionStyleModel",
            "_view_count": null,
            "_view_module": "@jupyter-widgets/base",
            "_view_module_version": "1.2.0",
            "_view_name": "StyleView",
            "description_width": ""
          }
        },
        "11d272eb6b7146659e5c688ec04c8749": {
          "model_module": "@jupyter-widgets/controls",
          "model_module_version": "1.5.0",
          "model_name": "HTMLModel",
          "state": {
            "_dom_classes": [],
            "_model_module": "@jupyter-widgets/controls",
            "_model_module_version": "1.5.0",
            "_model_name": "HTMLModel",
            "_view_count": null,
            "_view_module": "@jupyter-widgets/controls",
            "_view_module_version": "1.5.0",
            "_view_name": "HTMLView",
            "description": "",
            "description_tooltip": null,
            "layout": "IPY_MODEL_ba29aad6b8d74a09ad347ce8648deeab",
            "placeholder": "​",
            "style": "IPY_MODEL_96426fde6b9542208f45409965d0216c",
            "value": "Generating Samples: 100%"
          }
        },
        "16a0c539ddb040d7b32047894480a348": {
          "model_module": "@jupyter-widgets/controls",
          "model_module_version": "1.5.0",
          "model_name": "DescriptionStyleModel",
          "state": {
            "_model_module": "@jupyter-widgets/controls",
            "_model_module_version": "1.5.0",
            "_model_name": "DescriptionStyleModel",
            "_view_count": null,
            "_view_module": "@jupyter-widgets/base",
            "_view_module_version": "1.2.0",
            "_view_name": "StyleView",
            "description_width": ""
          }
        },
        "19160948d9af4cd5bfe1a8a97727fb49": {
          "model_module": "@jupyter-widgets/controls",
          "model_module_version": "1.5.0",
          "model_name": "HTMLModel",
          "state": {
            "_dom_classes": [],
            "_model_module": "@jupyter-widgets/controls",
            "_model_module_version": "1.5.0",
            "_model_name": "HTMLModel",
            "_view_count": null,
            "_view_module": "@jupyter-widgets/controls",
            "_view_module_version": "1.5.0",
            "_view_name": "HTMLView",
            "description": "",
            "description_tooltip": null,
            "layout": "IPY_MODEL_c4470c9d055c4b8793dda8dfc7496b83",
            "placeholder": "​",
            "style": "IPY_MODEL_4183285878f347f1b8caae9dce6ec0fd",
            "value": "Applying CustomNodeFilter:  75%"
          }
        },
        "1ea4551d38bc4e3ea2a99eb62e6bf942": {
          "model_module": "@jupyter-widgets/base",
          "model_module_version": "1.2.0",
          "model_name": "LayoutModel",
          "state": {
            "_model_module": "@jupyter-widgets/base",
            "_model_module_version": "1.2.0",
            "_model_name": "LayoutModel",
            "_view_count": null,
            "_view_module": "@jupyter-widgets/base",
            "_view_module_version": "1.2.0",
            "_view_name": "LayoutView",
            "align_content": null,
            "align_items": null,
            "align_self": null,
            "border": null,
            "bottom": null,
            "display": null,
            "flex": null,
            "flex_flow": null,
            "grid_area": null,
            "grid_auto_columns": null,
            "grid_auto_flow": null,
            "grid_auto_rows": null,
            "grid_column": null,
            "grid_gap": null,
            "grid_row": null,
            "grid_template_areas": null,
            "grid_template_columns": null,
            "grid_template_rows": null,
            "height": null,
            "justify_content": null,
            "justify_items": null,
            "left": null,
            "margin": null,
            "max_height": null,
            "max_width": null,
            "min_height": null,
            "min_width": null,
            "object_fit": null,
            "object_position": null,
            "order": null,
            "overflow": null,
            "overflow_x": null,
            "overflow_y": null,
            "padding": null,
            "right": null,
            "top": null,
            "visibility": "hidden",
            "width": null
          }
        },
        "1f6cdc06bb18480aa341a732a2f1be13": {
          "model_module": "@jupyter-widgets/controls",
          "model_module_version": "1.5.0",
          "model_name": "FloatProgressModel",
          "state": {
            "_dom_classes": [],
            "_model_module": "@jupyter-widgets/controls",
            "_model_module_version": "1.5.0",
            "_model_name": "FloatProgressModel",
            "_view_count": null,
            "_view_module": "@jupyter-widgets/controls",
            "_view_module_version": "1.5.0",
            "_view_name": "ProgressView",
            "bar_style": "success",
            "description": "",
            "description_tooltip": null,
            "layout": "IPY_MODEL_4e03f27c3ff84046bceb5b4ec1dec571",
            "max": 72,
            "min": 0,
            "orientation": "horizontal",
            "style": "IPY_MODEL_44f817c0df384faa90ac99e8bd772bc5",
            "value": 72
          }
        },
        "20848c82096c458fb118006897a0b7e0": {
          "model_module": "@jupyter-widgets/controls",
          "model_module_version": "1.5.0",
          "model_name": "DescriptionStyleModel",
          "state": {
            "_model_module": "@jupyter-widgets/controls",
            "_model_module_version": "1.5.0",
            "_model_name": "DescriptionStyleModel",
            "_view_count": null,
            "_view_module": "@jupyter-widgets/base",
            "_view_module_version": "1.2.0",
            "_view_name": "StyleView",
            "description_width": ""
          }
        },
        "245c32a588d142628f06eba44324c1b8": {
          "model_module": "@jupyter-widgets/base",
          "model_module_version": "1.2.0",
          "model_name": "LayoutModel",
          "state": {
            "_model_module": "@jupyter-widgets/base",
            "_model_module_version": "1.2.0",
            "_model_name": "LayoutModel",
            "_view_count": null,
            "_view_module": "@jupyter-widgets/base",
            "_view_module_version": "1.2.0",
            "_view_name": "LayoutView",
            "align_content": null,
            "align_items": null,
            "align_self": null,
            "border": null,
            "bottom": null,
            "display": null,
            "flex": null,
            "flex_flow": null,
            "grid_area": null,
            "grid_auto_columns": null,
            "grid_auto_flow": null,
            "grid_auto_rows": null,
            "grid_column": null,
            "grid_gap": null,
            "grid_row": null,
            "grid_template_areas": null,
            "grid_template_columns": null,
            "grid_template_rows": null,
            "height": null,
            "justify_content": null,
            "justify_items": null,
            "left": null,
            "margin": null,
            "max_height": null,
            "max_width": null,
            "min_height": null,
            "min_width": null,
            "object_fit": null,
            "object_position": null,
            "order": null,
            "overflow": null,
            "overflow_x": null,
            "overflow_y": null,
            "padding": null,
            "right": null,
            "top": null,
            "visibility": null,
            "width": null
          }
        },
        "25baeb72f87d4e5ba0e8c10bcf3afd58": {
          "model_module": "@jupyter-widgets/controls",
          "model_module_version": "1.5.0",
          "model_name": "HTMLModel",
          "state": {
            "_dom_classes": [],
            "_model_module": "@jupyter-widgets/controls",
            "_model_module_version": "1.5.0",
            "_model_name": "HTMLModel",
            "_view_count": null,
            "_view_module": "@jupyter-widgets/controls",
            "_view_module_version": "1.5.0",
            "_view_name": "HTMLView",
            "description": "",
            "description_tooltip": null,
            "layout": "IPY_MODEL_3b72baad55d34b77b5c56588c00280b9",
            "placeholder": "​",
            "style": "IPY_MODEL_16a0c539ddb040d7b32047894480a348",
            "value": " 26/26 [00:06&lt;00:00,  3.07it/s]"
          }
        },
        "2b4f209c6c3c46abaa0d5a83cb10ae38": {
          "model_module": "@jupyter-widgets/controls",
          "model_module_version": "1.5.0",
          "model_name": "DescriptionStyleModel",
          "state": {
            "_model_module": "@jupyter-widgets/controls",
            "_model_module_version": "1.5.0",
            "_model_name": "DescriptionStyleModel",
            "_view_count": null,
            "_view_module": "@jupyter-widgets/base",
            "_view_module_version": "1.2.0",
            "_view_name": "StyleView",
            "description_width": ""
          }
        },
        "2c9e188608204caa9c6a449843084ceb": {
          "model_module": "@jupyter-widgets/controls",
          "model_module_version": "1.5.0",
          "model_name": "HBoxModel",
          "state": {
            "_dom_classes": [],
            "_model_module": "@jupyter-widgets/controls",
            "_model_module_version": "1.5.0",
            "_model_name": "HBoxModel",
            "_view_count": null,
            "_view_module": "@jupyter-widgets/controls",
            "_view_module_version": "1.5.0",
            "_view_name": "HBoxView",
            "box_style": "",
            "children": [
              "IPY_MODEL_8299304353ff46b597fdadeacddabdf5",
              "IPY_MODEL_fc33ba2055c149a4a85ac6f586de47ee",
              "IPY_MODEL_8e87eb2bff19452ab778993dbc1a2586"
            ],
            "layout": "IPY_MODEL_be4c08a6cdb54d23a32b283379fdea8e"
          }
        },
        "2d888020728341a6ad146908634a6a2f": {
          "model_module": "@jupyter-widgets/controls",
          "model_module_version": "1.5.0",
          "model_name": "HTMLModel",
          "state": {
            "_dom_classes": [],
            "_model_module": "@jupyter-widgets/controls",
            "_model_module_version": "1.5.0",
            "_model_name": "HTMLModel",
            "_view_count": null,
            "_view_module": "@jupyter-widgets/controls",
            "_view_module_version": "1.5.0",
            "_view_name": "HTMLView",
            "description": "",
            "description_tooltip": null,
            "layout": "IPY_MODEL_5e5fe22186e742e6bd1142a0d8471656",
            "placeholder": "​",
            "style": "IPY_MODEL_79fce08fefc948d0bec02db61a6ab21b",
            "value": " 0/2 [00:00&lt;?, ?it/s]"
          }
        },
        "31981ef797934adebeba357626d4e287": {
          "model_module": "@jupyter-widgets/base",
          "model_module_version": "1.2.0",
          "model_name": "LayoutModel",
          "state": {
            "_model_module": "@jupyter-widgets/base",
            "_model_module_version": "1.2.0",
            "_model_name": "LayoutModel",
            "_view_count": null,
            "_view_module": "@jupyter-widgets/base",
            "_view_module_version": "1.2.0",
            "_view_name": "LayoutView",
            "align_content": null,
            "align_items": null,
            "align_self": null,
            "border": null,
            "bottom": null,
            "display": null,
            "flex": null,
            "flex_flow": null,
            "grid_area": null,
            "grid_auto_columns": null,
            "grid_auto_flow": null,
            "grid_auto_rows": null,
            "grid_column": null,
            "grid_gap": null,
            "grid_row": null,
            "grid_template_areas": null,
            "grid_template_columns": null,
            "grid_template_rows": null,
            "height": null,
            "justify_content": null,
            "justify_items": null,
            "left": null,
            "margin": null,
            "max_height": null,
            "max_width": null,
            "min_height": null,
            "min_width": null,
            "object_fit": null,
            "object_position": null,
            "order": null,
            "overflow": null,
            "overflow_x": null,
            "overflow_y": null,
            "padding": null,
            "right": null,
            "top": null,
            "visibility": null,
            "width": null
          }
        },
        "319b66f299064965b91ce4282dc9c280": {
          "model_module": "@jupyter-widgets/controls",
          "model_module_version": "1.5.0",
          "model_name": "DescriptionStyleModel",
          "state": {
            "_model_module": "@jupyter-widgets/controls",
            "_model_module_version": "1.5.0",
            "_model_name": "DescriptionStyleModel",
            "_view_count": null,
            "_view_module": "@jupyter-widgets/base",
            "_view_module_version": "1.2.0",
            "_view_name": "StyleView",
            "description_width": ""
          }
        },
        "3230d232b04448fe9a68a204b46bc91c": {
          "model_module": "@jupyter-widgets/controls",
          "model_module_version": "1.5.0",
          "model_name": "DescriptionStyleModel",
          "state": {
            "_model_module": "@jupyter-widgets/controls",
            "_model_module_version": "1.5.0",
            "_model_name": "DescriptionStyleModel",
            "_view_count": null,
            "_view_module": "@jupyter-widgets/base",
            "_view_module_version": "1.2.0",
            "_view_name": "StyleView",
            "description_width": ""
          }
        },
        "35e6cd723807485f81eb053c2c92b96c": {
          "model_module": "@jupyter-widgets/controls",
          "model_module_version": "1.5.0",
          "model_name": "DescriptionStyleModel",
          "state": {
            "_model_module": "@jupyter-widgets/controls",
            "_model_module_version": "1.5.0",
            "_model_name": "DescriptionStyleModel",
            "_view_count": null,
            "_view_module": "@jupyter-widgets/base",
            "_view_module_version": "1.2.0",
            "_view_name": "StyleView",
            "description_width": ""
          }
        },
        "35e71aea98cc41b7a090071a9d8ccde7": {
          "model_module": "@jupyter-widgets/controls",
          "model_module_version": "1.5.0",
          "model_name": "ProgressStyleModel",
          "state": {
            "_model_module": "@jupyter-widgets/controls",
            "_model_module_version": "1.5.0",
            "_model_name": "ProgressStyleModel",
            "_view_count": null,
            "_view_module": "@jupyter-widgets/base",
            "_view_module_version": "1.2.0",
            "_view_name": "StyleView",
            "bar_color": null,
            "description_width": ""
          }
        },
        "37831f1641db461e93e5011d343b5cb2": {
          "model_module": "@jupyter-widgets/base",
          "model_module_version": "1.2.0",
          "model_name": "LayoutModel",
          "state": {
            "_model_module": "@jupyter-widgets/base",
            "_model_module_version": "1.2.0",
            "_model_name": "LayoutModel",
            "_view_count": null,
            "_view_module": "@jupyter-widgets/base",
            "_view_module_version": "1.2.0",
            "_view_name": "LayoutView",
            "align_content": null,
            "align_items": null,
            "align_self": null,
            "border": null,
            "bottom": null,
            "display": null,
            "flex": null,
            "flex_flow": null,
            "grid_area": null,
            "grid_auto_columns": null,
            "grid_auto_flow": null,
            "grid_auto_rows": null,
            "grid_column": null,
            "grid_gap": null,
            "grid_row": null,
            "grid_template_areas": null,
            "grid_template_columns": null,
            "grid_template_rows": null,
            "height": null,
            "justify_content": null,
            "justify_items": null,
            "left": null,
            "margin": null,
            "max_height": null,
            "max_width": null,
            "min_height": null,
            "min_width": null,
            "object_fit": null,
            "object_position": null,
            "order": null,
            "overflow": null,
            "overflow_x": null,
            "overflow_y": null,
            "padding": null,
            "right": null,
            "top": null,
            "visibility": null,
            "width": null
          }
        },
        "3b72baad55d34b77b5c56588c00280b9": {
          "model_module": "@jupyter-widgets/base",
          "model_module_version": "1.2.0",
          "model_name": "LayoutModel",
          "state": {
            "_model_module": "@jupyter-widgets/base",
            "_model_module_version": "1.2.0",
            "_model_name": "LayoutModel",
            "_view_count": null,
            "_view_module": "@jupyter-widgets/base",
            "_view_module_version": "1.2.0",
            "_view_name": "LayoutView",
            "align_content": null,
            "align_items": null,
            "align_self": null,
            "border": null,
            "bottom": null,
            "display": null,
            "flex": null,
            "flex_flow": null,
            "grid_area": null,
            "grid_auto_columns": null,
            "grid_auto_flow": null,
            "grid_auto_rows": null,
            "grid_column": null,
            "grid_gap": null,
            "grid_row": null,
            "grid_template_areas": null,
            "grid_template_columns": null,
            "grid_template_rows": null,
            "height": null,
            "justify_content": null,
            "justify_items": null,
            "left": null,
            "margin": null,
            "max_height": null,
            "max_width": null,
            "min_height": null,
            "min_width": null,
            "object_fit": null,
            "object_position": null,
            "order": null,
            "overflow": null,
            "overflow_x": null,
            "overflow_y": null,
            "padding": null,
            "right": null,
            "top": null,
            "visibility": null,
            "width": null
          }
        },
        "3c470306f04542f29c53dd21a4de93d7": {
          "model_module": "@jupyter-widgets/base",
          "model_module_version": "1.2.0",
          "model_name": "LayoutModel",
          "state": {
            "_model_module": "@jupyter-widgets/base",
            "_model_module_version": "1.2.0",
            "_model_name": "LayoutModel",
            "_view_count": null,
            "_view_module": "@jupyter-widgets/base",
            "_view_module_version": "1.2.0",
            "_view_name": "LayoutView",
            "align_content": null,
            "align_items": null,
            "align_self": null,
            "border": null,
            "bottom": null,
            "display": null,
            "flex": null,
            "flex_flow": null,
            "grid_area": null,
            "grid_auto_columns": null,
            "grid_auto_flow": null,
            "grid_auto_rows": null,
            "grid_column": null,
            "grid_gap": null,
            "grid_row": null,
            "grid_template_areas": null,
            "grid_template_columns": null,
            "grid_template_rows": null,
            "height": null,
            "justify_content": null,
            "justify_items": null,
            "left": null,
            "margin": null,
            "max_height": null,
            "max_width": null,
            "min_height": null,
            "min_width": null,
            "object_fit": null,
            "object_position": null,
            "order": null,
            "overflow": null,
            "overflow_x": null,
            "overflow_y": null,
            "padding": null,
            "right": null,
            "top": null,
            "visibility": null,
            "width": null
          }
        },
        "4183285878f347f1b8caae9dce6ec0fd": {
          "model_module": "@jupyter-widgets/controls",
          "model_module_version": "1.5.0",
          "model_name": "DescriptionStyleModel",
          "state": {
            "_model_module": "@jupyter-widgets/controls",
            "_model_module_version": "1.5.0",
            "_model_name": "DescriptionStyleModel",
            "_view_count": null,
            "_view_module": "@jupyter-widgets/base",
            "_view_module_version": "1.2.0",
            "_view_name": "StyleView",
            "description_width": ""
          }
        },
        "4347f5ea75c74effbc9552cb69c82301": {
          "model_module": "@jupyter-widgets/base",
          "model_module_version": "1.2.0",
          "model_name": "LayoutModel",
          "state": {
            "_model_module": "@jupyter-widgets/base",
            "_model_module_version": "1.2.0",
            "_model_name": "LayoutModel",
            "_view_count": null,
            "_view_module": "@jupyter-widgets/base",
            "_view_module_version": "1.2.0",
            "_view_name": "LayoutView",
            "align_content": null,
            "align_items": null,
            "align_self": null,
            "border": null,
            "bottom": null,
            "display": null,
            "flex": null,
            "flex_flow": null,
            "grid_area": null,
            "grid_auto_columns": null,
            "grid_auto_flow": null,
            "grid_auto_rows": null,
            "grid_column": null,
            "grid_gap": null,
            "grid_row": null,
            "grid_template_areas": null,
            "grid_template_columns": null,
            "grid_template_rows": null,
            "height": null,
            "justify_content": null,
            "justify_items": null,
            "left": null,
            "margin": null,
            "max_height": null,
            "max_width": null,
            "min_height": null,
            "min_width": null,
            "object_fit": null,
            "object_position": null,
            "order": null,
            "overflow": null,
            "overflow_x": null,
            "overflow_y": null,
            "padding": null,
            "right": null,
            "top": null,
            "visibility": "hidden",
            "width": null
          }
        },
        "44f817c0df384faa90ac99e8bd772bc5": {
          "model_module": "@jupyter-widgets/controls",
          "model_module_version": "1.5.0",
          "model_name": "ProgressStyleModel",
          "state": {
            "_model_module": "@jupyter-widgets/controls",
            "_model_module_version": "1.5.0",
            "_model_name": "ProgressStyleModel",
            "_view_count": null,
            "_view_module": "@jupyter-widgets/base",
            "_view_module_version": "1.2.0",
            "_view_name": "StyleView",
            "bar_color": null,
            "description_width": ""
          }
        },
        "4592465145b44c17a9acb5fcab9b2e8b": {
          "model_module": "@jupyter-widgets/controls",
          "model_module_version": "1.5.0",
          "model_name": "ProgressStyleModel",
          "state": {
            "_model_module": "@jupyter-widgets/controls",
            "_model_module_version": "1.5.0",
            "_model_name": "ProgressStyleModel",
            "_view_count": null,
            "_view_module": "@jupyter-widgets/base",
            "_view_module_version": "1.2.0",
            "_view_name": "StyleView",
            "bar_color": null,
            "description_width": ""
          }
        },
        "472c776f27834cd8907902679ff93c24": {
          "model_module": "@jupyter-widgets/controls",
          "model_module_version": "1.5.0",
          "model_name": "HBoxModel",
          "state": {
            "_dom_classes": [],
            "_model_module": "@jupyter-widgets/controls",
            "_model_module_version": "1.5.0",
            "_model_name": "HBoxModel",
            "_view_count": null,
            "_view_module": "@jupyter-widgets/controls",
            "_view_module_version": "1.5.0",
            "_view_name": "HBoxView",
            "box_style": "",
            "children": [
              "IPY_MODEL_19160948d9af4cd5bfe1a8a97727fb49",
              "IPY_MODEL_d528743f9a0047778a7f808214fdf49c",
              "IPY_MODEL_a37137bd3fad4362bef3817ae7ad2ad9"
            ],
            "layout": "IPY_MODEL_da926343593245d9b34f8a77183c4115"
          }
        },
        "4e03f27c3ff84046bceb5b4ec1dec571": {
          "model_module": "@jupyter-widgets/base",
          "model_module_version": "1.2.0",
          "model_name": "LayoutModel",
          "state": {
            "_model_module": "@jupyter-widgets/base",
            "_model_module_version": "1.2.0",
            "_model_name": "LayoutModel",
            "_view_count": null,
            "_view_module": "@jupyter-widgets/base",
            "_view_module_version": "1.2.0",
            "_view_name": "LayoutView",
            "align_content": null,
            "align_items": null,
            "align_self": null,
            "border": null,
            "bottom": null,
            "display": null,
            "flex": null,
            "flex_flow": null,
            "grid_area": null,
            "grid_auto_columns": null,
            "grid_auto_flow": null,
            "grid_auto_rows": null,
            "grid_column": null,
            "grid_gap": null,
            "grid_row": null,
            "grid_template_areas": null,
            "grid_template_columns": null,
            "grid_template_rows": null,
            "height": null,
            "justify_content": null,
            "justify_items": null,
            "left": null,
            "margin": null,
            "max_height": null,
            "max_width": null,
            "min_height": null,
            "min_width": null,
            "object_fit": null,
            "object_position": null,
            "order": null,
            "overflow": null,
            "overflow_x": null,
            "overflow_y": null,
            "padding": null,
            "right": null,
            "top": null,
            "visibility": null,
            "width": null
          }
        },
        "521c3b51f249490986addd4010423064": {
          "model_module": "@jupyter-widgets/controls",
          "model_module_version": "1.5.0",
          "model_name": "HBoxModel",
          "state": {
            "_dom_classes": [],
            "_model_module": "@jupyter-widgets/controls",
            "_model_module_version": "1.5.0",
            "_model_name": "HBoxModel",
            "_view_count": null,
            "_view_module": "@jupyter-widgets/controls",
            "_view_module_version": "1.5.0",
            "_view_name": "HBoxView",
            "box_style": "",
            "children": [
              "IPY_MODEL_bda6a62b9fd143a3b0628e60580d23c9",
              "IPY_MODEL_970b83c42f4f4d7ebb252c4f26f6ea56",
              "IPY_MODEL_d1e5f706d17b4c27b0ce1cb127fdc891"
            ],
            "layout": "IPY_MODEL_7d5ccb84254b461da11bd8045424bc30"
          }
        },
        "559b618c027e4f12bfe58286b208c9b4": {
          "model_module": "@jupyter-widgets/controls",
          "model_module_version": "1.5.0",
          "model_name": "ProgressStyleModel",
          "state": {
            "_model_module": "@jupyter-widgets/controls",
            "_model_module_version": "1.5.0",
            "_model_name": "ProgressStyleModel",
            "_view_count": null,
            "_view_module": "@jupyter-widgets/base",
            "_view_module_version": "1.2.0",
            "_view_name": "StyleView",
            "bar_color": null,
            "description_width": ""
          }
        },
        "594a9d371fb4406e97630f35712d276c": {
          "model_module": "@jupyter-widgets/controls",
          "model_module_version": "1.5.0",
          "model_name": "HTMLModel",
          "state": {
            "_dom_classes": [],
            "_model_module": "@jupyter-widgets/controls",
            "_model_module_version": "1.5.0",
            "_model_name": "HTMLModel",
            "_view_count": null,
            "_view_module": "@jupyter-widgets/controls",
            "_view_module_version": "1.5.0",
            "_view_name": "HTMLView",
            "description": "",
            "description_tooltip": null,
            "layout": "IPY_MODEL_f7bf032ee32c46628a3a28ff2cedcc10",
            "placeholder": "​",
            "style": "IPY_MODEL_810264507cae4987b88531845ca03921",
            "value": "Applying [EmbeddingExtractor, ThemesExtractor, NERExtractor]: 100%"
          }
        },
        "5bec2586cfcb4ddabf9f2378b32fa4dc": {
          "model_module": "@jupyter-widgets/controls",
          "model_module_version": "1.5.0",
          "model_name": "ProgressStyleModel",
          "state": {
            "_model_module": "@jupyter-widgets/controls",
            "_model_module_version": "1.5.0",
            "_model_name": "ProgressStyleModel",
            "_view_count": null,
            "_view_module": "@jupyter-widgets/base",
            "_view_module_version": "1.2.0",
            "_view_name": "StyleView",
            "bar_color": null,
            "description_width": ""
          }
        },
        "5cea5f1121f64866b6932ac6bb0a8829": {
          "model_module": "@jupyter-widgets/controls",
          "model_module_version": "1.5.0",
          "model_name": "HBoxModel",
          "state": {
            "_dom_classes": [],
            "_model_module": "@jupyter-widgets/controls",
            "_model_module_version": "1.5.0",
            "_model_name": "HBoxModel",
            "_view_count": null,
            "_view_module": "@jupyter-widgets/controls",
            "_view_module_version": "1.5.0",
            "_view_name": "HBoxView",
            "box_style": "",
            "children": [
              "IPY_MODEL_03e6ff4dc0d645668324964cbf114211",
              "IPY_MODEL_c1b6cdf48bae4226a374ffbabb861ecc",
              "IPY_MODEL_ec44f75ea457496c9443b881bc156146"
            ],
            "layout": "IPY_MODEL_d64c39da94b148d4989fe271521dc967"
          }
        },
        "5d5df07e34d545ed9b2975034645c453": {
          "model_module": "@jupyter-widgets/base",
          "model_module_version": "1.2.0",
          "model_name": "LayoutModel",
          "state": {
            "_model_module": "@jupyter-widgets/base",
            "_model_module_version": "1.2.0",
            "_model_name": "LayoutModel",
            "_view_count": null,
            "_view_module": "@jupyter-widgets/base",
            "_view_module_version": "1.2.0",
            "_view_name": "LayoutView",
            "align_content": null,
            "align_items": null,
            "align_self": null,
            "border": null,
            "bottom": null,
            "display": null,
            "flex": null,
            "flex_flow": null,
            "grid_area": null,
            "grid_auto_columns": null,
            "grid_auto_flow": null,
            "grid_auto_rows": null,
            "grid_column": null,
            "grid_gap": null,
            "grid_row": null,
            "grid_template_areas": null,
            "grid_template_columns": null,
            "grid_template_rows": null,
            "height": null,
            "justify_content": null,
            "justify_items": null,
            "left": null,
            "margin": null,
            "max_height": null,
            "max_width": null,
            "min_height": null,
            "min_width": null,
            "object_fit": null,
            "object_position": null,
            "order": null,
            "overflow": null,
            "overflow_x": null,
            "overflow_y": null,
            "padding": null,
            "right": null,
            "top": null,
            "visibility": null,
            "width": null
          }
        },
        "5e5fe22186e742e6bd1142a0d8471656": {
          "model_module": "@jupyter-widgets/base",
          "model_module_version": "1.2.0",
          "model_name": "LayoutModel",
          "state": {
            "_model_module": "@jupyter-widgets/base",
            "_model_module_version": "1.2.0",
            "_model_name": "LayoutModel",
            "_view_count": null,
            "_view_module": "@jupyter-widgets/base",
            "_view_module_version": "1.2.0",
            "_view_name": "LayoutView",
            "align_content": null,
            "align_items": null,
            "align_self": null,
            "border": null,
            "bottom": null,
            "display": null,
            "flex": null,
            "flex_flow": null,
            "grid_area": null,
            "grid_auto_columns": null,
            "grid_auto_flow": null,
            "grid_auto_rows": null,
            "grid_column": null,
            "grid_gap": null,
            "grid_row": null,
            "grid_template_areas": null,
            "grid_template_columns": null,
            "grid_template_rows": null,
            "height": null,
            "justify_content": null,
            "justify_items": null,
            "left": null,
            "margin": null,
            "max_height": null,
            "max_width": null,
            "min_height": null,
            "min_width": null,
            "object_fit": null,
            "object_position": null,
            "order": null,
            "overflow": null,
            "overflow_x": null,
            "overflow_y": null,
            "padding": null,
            "right": null,
            "top": null,
            "visibility": null,
            "width": null
          }
        },
        "618a24e305d44bd39a3023aa44f3383c": {
          "model_module": "@jupyter-widgets/controls",
          "model_module_version": "1.5.0",
          "model_name": "DescriptionStyleModel",
          "state": {
            "_model_module": "@jupyter-widgets/controls",
            "_model_module_version": "1.5.0",
            "_model_name": "DescriptionStyleModel",
            "_view_count": null,
            "_view_module": "@jupyter-widgets/base",
            "_view_module_version": "1.2.0",
            "_view_name": "StyleView",
            "description_width": ""
          }
        },
        "66e038d8569b43fb8adc5211537fccef": {
          "model_module": "@jupyter-widgets/controls",
          "model_module_version": "1.5.0",
          "model_name": "ProgressStyleModel",
          "state": {
            "_model_module": "@jupyter-widgets/controls",
            "_model_module_version": "1.5.0",
            "_model_name": "ProgressStyleModel",
            "_view_count": null,
            "_view_module": "@jupyter-widgets/base",
            "_view_module_version": "1.2.0",
            "_view_name": "StyleView",
            "bar_color": null,
            "description_width": ""
          }
        },
        "675034bd626b4c528eb77e35e4087191": {
          "model_module": "@jupyter-widgets/controls",
          "model_module_version": "1.5.0",
          "model_name": "DescriptionStyleModel",
          "state": {
            "_model_module": "@jupyter-widgets/controls",
            "_model_module_version": "1.5.0",
            "_model_name": "DescriptionStyleModel",
            "_view_count": null,
            "_view_module": "@jupyter-widgets/base",
            "_view_module_version": "1.2.0",
            "_view_name": "StyleView",
            "description_width": ""
          }
        },
        "68599f8e85ef4fcba92ea891f75b5535": {
          "model_module": "@jupyter-widgets/controls",
          "model_module_version": "1.5.0",
          "model_name": "FloatProgressModel",
          "state": {
            "_dom_classes": [],
            "_model_module": "@jupyter-widgets/controls",
            "_model_module_version": "1.5.0",
            "_model_name": "FloatProgressModel",
            "_view_count": null,
            "_view_module": "@jupyter-widgets/controls",
            "_view_module_version": "1.5.0",
            "_view_name": "ProgressView",
            "bar_style": "success",
            "description": "",
            "description_tooltip": null,
            "layout": "IPY_MODEL_bba06b49269840ea8247ecc85552050b",
            "max": 12,
            "min": 0,
            "orientation": "horizontal",
            "style": "IPY_MODEL_9e0794e92f9646ab8aa21f0ec0ed7981",
            "value": 12
          }
        },
        "7288a537b3034e499797d2c3294f8383": {
          "model_module": "@jupyter-widgets/controls",
          "model_module_version": "1.5.0",
          "model_name": "HTMLModel",
          "state": {
            "_dom_classes": [],
            "_model_module": "@jupyter-widgets/controls",
            "_model_module_version": "1.5.0",
            "_model_name": "HTMLModel",
            "_view_count": null,
            "_view_module": "@jupyter-widgets/controls",
            "_view_module_version": "1.5.0",
            "_view_name": "HTMLView",
            "description": "",
            "description_tooltip": null,
            "layout": "IPY_MODEL_8723f89faf044f97b5abfa3666404497",
            "placeholder": "​",
            "style": "IPY_MODEL_7c8f4bf420754b538baea7a420b6a76a",
            "value": " 3/3 [00:10&lt;00:00,  3.60s/it]"
          }
        },
        "74ac36e0ca6c4a3ba53d070b37b9f1aa": {
          "model_module": "@jupyter-widgets/base",
          "model_module_version": "1.2.0",
          "model_name": "LayoutModel",
          "state": {
            "_model_module": "@jupyter-widgets/base",
            "_model_module_version": "1.2.0",
            "_model_name": "LayoutModel",
            "_view_count": null,
            "_view_module": "@jupyter-widgets/base",
            "_view_module_version": "1.2.0",
            "_view_name": "LayoutView",
            "align_content": null,
            "align_items": null,
            "align_self": null,
            "border": null,
            "bottom": null,
            "display": null,
            "flex": null,
            "flex_flow": null,
            "grid_area": null,
            "grid_auto_columns": null,
            "grid_auto_flow": null,
            "grid_auto_rows": null,
            "grid_column": null,
            "grid_gap": null,
            "grid_row": null,
            "grid_template_areas": null,
            "grid_template_columns": null,
            "grid_template_rows": null,
            "height": null,
            "justify_content": null,
            "justify_items": null,
            "left": null,
            "margin": null,
            "max_height": null,
            "max_width": null,
            "min_height": null,
            "min_width": null,
            "object_fit": null,
            "object_position": null,
            "order": null,
            "overflow": null,
            "overflow_x": null,
            "overflow_y": null,
            "padding": null,
            "right": null,
            "top": null,
            "visibility": null,
            "width": null
          }
        },
        "7803a3e67b28452390202dc69d4289f3": {
          "model_module": "@jupyter-widgets/base",
          "model_module_version": "1.2.0",
          "model_name": "LayoutModel",
          "state": {
            "_model_module": "@jupyter-widgets/base",
            "_model_module_version": "1.2.0",
            "_model_name": "LayoutModel",
            "_view_count": null,
            "_view_module": "@jupyter-widgets/base",
            "_view_module_version": "1.2.0",
            "_view_name": "LayoutView",
            "align_content": null,
            "align_items": null,
            "align_self": null,
            "border": null,
            "bottom": null,
            "display": null,
            "flex": null,
            "flex_flow": null,
            "grid_area": null,
            "grid_auto_columns": null,
            "grid_auto_flow": null,
            "grid_auto_rows": null,
            "grid_column": null,
            "grid_gap": null,
            "grid_row": null,
            "grid_template_areas": null,
            "grid_template_columns": null,
            "grid_template_rows": null,
            "height": null,
            "justify_content": null,
            "justify_items": null,
            "left": null,
            "margin": null,
            "max_height": null,
            "max_width": null,
            "min_height": null,
            "min_width": null,
            "object_fit": null,
            "object_position": null,
            "order": null,
            "overflow": null,
            "overflow_x": null,
            "overflow_y": null,
            "padding": null,
            "right": null,
            "top": null,
            "visibility": null,
            "width": null
          }
        },
        "79fce08fefc948d0bec02db61a6ab21b": {
          "model_module": "@jupyter-widgets/controls",
          "model_module_version": "1.5.0",
          "model_name": "DescriptionStyleModel",
          "state": {
            "_model_module": "@jupyter-widgets/controls",
            "_model_module_version": "1.5.0",
            "_model_name": "DescriptionStyleModel",
            "_view_count": null,
            "_view_module": "@jupyter-widgets/base",
            "_view_module_version": "1.2.0",
            "_view_name": "StyleView",
            "description_width": ""
          }
        },
        "7a84047d2b724edd891ca63b5741a43b": {
          "model_module": "@jupyter-widgets/base",
          "model_module_version": "1.2.0",
          "model_name": "LayoutModel",
          "state": {
            "_model_module": "@jupyter-widgets/base",
            "_model_module_version": "1.2.0",
            "_model_name": "LayoutModel",
            "_view_count": null,
            "_view_module": "@jupyter-widgets/base",
            "_view_module_version": "1.2.0",
            "_view_name": "LayoutView",
            "align_content": null,
            "align_items": null,
            "align_self": null,
            "border": null,
            "bottom": null,
            "display": null,
            "flex": null,
            "flex_flow": null,
            "grid_area": null,
            "grid_auto_columns": null,
            "grid_auto_flow": null,
            "grid_auto_rows": null,
            "grid_column": null,
            "grid_gap": null,
            "grid_row": null,
            "grid_template_areas": null,
            "grid_template_columns": null,
            "grid_template_rows": null,
            "height": null,
            "justify_content": null,
            "justify_items": null,
            "left": null,
            "margin": null,
            "max_height": null,
            "max_width": null,
            "min_height": null,
            "min_width": null,
            "object_fit": null,
            "object_position": null,
            "order": null,
            "overflow": null,
            "overflow_x": null,
            "overflow_y": null,
            "padding": null,
            "right": null,
            "top": null,
            "visibility": null,
            "width": null
          }
        },
        "7c0ead4589784ecb8d5380a895fe1c41": {
          "model_module": "@jupyter-widgets/controls",
          "model_module_version": "1.5.0",
          "model_name": "ProgressStyleModel",
          "state": {
            "_model_module": "@jupyter-widgets/controls",
            "_model_module_version": "1.5.0",
            "_model_name": "ProgressStyleModel",
            "_view_count": null,
            "_view_module": "@jupyter-widgets/base",
            "_view_module_version": "1.2.0",
            "_view_name": "StyleView",
            "bar_color": null,
            "description_width": ""
          }
        },
        "7c8f4bf420754b538baea7a420b6a76a": {
          "model_module": "@jupyter-widgets/controls",
          "model_module_version": "1.5.0",
          "model_name": "DescriptionStyleModel",
          "state": {
            "_model_module": "@jupyter-widgets/controls",
            "_model_module_version": "1.5.0",
            "_model_name": "DescriptionStyleModel",
            "_view_count": null,
            "_view_module": "@jupyter-widgets/base",
            "_view_module_version": "1.2.0",
            "_view_name": "StyleView",
            "description_width": ""
          }
        },
        "7cfc3038a06249819e2496f7e0571b89": {
          "model_module": "@jupyter-widgets/controls",
          "model_module_version": "1.5.0",
          "model_name": "HTMLModel",
          "state": {
            "_dom_classes": [],
            "_model_module": "@jupyter-widgets/controls",
            "_model_module_version": "1.5.0",
            "_model_name": "HTMLModel",
            "_view_count": null,
            "_view_module": "@jupyter-widgets/controls",
            "_view_module_version": "1.5.0",
            "_view_name": "HTMLView",
            "description": "",
            "description_tooltip": null,
            "layout": "IPY_MODEL_ec3472c7d29b4ad0ab91e3c2f6874bd5",
            "placeholder": "​",
            "style": "IPY_MODEL_2b4f209c6c3c46abaa0d5a83cb10ae38",
            "value": "Generating Scenarios: 100%"
          }
        },
        "7d5ccb84254b461da11bd8045424bc30": {
          "model_module": "@jupyter-widgets/base",
          "model_module_version": "1.2.0",
          "model_name": "LayoutModel",
          "state": {
            "_model_module": "@jupyter-widgets/base",
            "_model_module_version": "1.2.0",
            "_model_name": "LayoutModel",
            "_view_count": null,
            "_view_module": "@jupyter-widgets/base",
            "_view_module_version": "1.2.0",
            "_view_name": "LayoutView",
            "align_content": null,
            "align_items": null,
            "align_self": null,
            "border": null,
            "bottom": null,
            "display": null,
            "flex": null,
            "flex_flow": null,
            "grid_area": null,
            "grid_auto_columns": null,
            "grid_auto_flow": null,
            "grid_auto_rows": null,
            "grid_column": null,
            "grid_gap": null,
            "grid_row": null,
            "grid_template_areas": null,
            "grid_template_columns": null,
            "grid_template_rows": null,
            "height": null,
            "justify_content": null,
            "justify_items": null,
            "left": null,
            "margin": null,
            "max_height": null,
            "max_width": null,
            "min_height": null,
            "min_width": null,
            "object_fit": null,
            "object_position": null,
            "order": null,
            "overflow": null,
            "overflow_x": null,
            "overflow_y": null,
            "padding": null,
            "right": null,
            "top": null,
            "visibility": null,
            "width": null
          }
        },
        "810264507cae4987b88531845ca03921": {
          "model_module": "@jupyter-widgets/controls",
          "model_module_version": "1.5.0",
          "model_name": "DescriptionStyleModel",
          "state": {
            "_model_module": "@jupyter-widgets/controls",
            "_model_module_version": "1.5.0",
            "_model_name": "DescriptionStyleModel",
            "_view_count": null,
            "_view_module": "@jupyter-widgets/base",
            "_view_module_version": "1.2.0",
            "_view_name": "StyleView",
            "description_width": ""
          }
        },
        "8299304353ff46b597fdadeacddabdf5": {
          "model_module": "@jupyter-widgets/controls",
          "model_module_version": "1.5.0",
          "model_name": "HTMLModel",
          "state": {
            "_dom_classes": [],
            "_model_module": "@jupyter-widgets/controls",
            "_model_module_version": "1.5.0",
            "_model_name": "HTMLModel",
            "_view_count": null,
            "_view_module": "@jupyter-widgets/controls",
            "_view_module_version": "1.5.0",
            "_view_name": "HTMLView",
            "description": "",
            "description_tooltip": null,
            "layout": "IPY_MODEL_f5a56214fe25441e8a5004ec76476a94",
            "placeholder": "​",
            "style": "IPY_MODEL_3230d232b04448fe9a68a204b46bc91c",
            "value": "Applying SummaryExtractor: 100%"
          }
        },
        "837e33bad8be4a6d8722ca878b9d409e": {
          "model_module": "@jupyter-widgets/base",
          "model_module_version": "1.2.0",
          "model_name": "LayoutModel",
          "state": {
            "_model_module": "@jupyter-widgets/base",
            "_model_module_version": "1.2.0",
            "_model_name": "LayoutModel",
            "_view_count": null,
            "_view_module": "@jupyter-widgets/base",
            "_view_module_version": "1.2.0",
            "_view_name": "LayoutView",
            "align_content": null,
            "align_items": null,
            "align_self": null,
            "border": null,
            "bottom": null,
            "display": null,
            "flex": null,
            "flex_flow": null,
            "grid_area": null,
            "grid_auto_columns": null,
            "grid_auto_flow": null,
            "grid_auto_rows": null,
            "grid_column": null,
            "grid_gap": null,
            "grid_row": null,
            "grid_template_areas": null,
            "grid_template_columns": null,
            "grid_template_rows": null,
            "height": null,
            "justify_content": null,
            "justify_items": null,
            "left": null,
            "margin": null,
            "max_height": null,
            "max_width": null,
            "min_height": null,
            "min_width": null,
            "object_fit": null,
            "object_position": null,
            "order": null,
            "overflow": null,
            "overflow_x": null,
            "overflow_y": null,
            "padding": null,
            "right": null,
            "top": null,
            "visibility": null,
            "width": null
          }
        },
        "8723f89faf044f97b5abfa3666404497": {
          "model_module": "@jupyter-widgets/base",
          "model_module_version": "1.2.0",
          "model_name": "LayoutModel",
          "state": {
            "_model_module": "@jupyter-widgets/base",
            "_model_module_version": "1.2.0",
            "_model_name": "LayoutModel",
            "_view_count": null,
            "_view_module": "@jupyter-widgets/base",
            "_view_module_version": "1.2.0",
            "_view_name": "LayoutView",
            "align_content": null,
            "align_items": null,
            "align_self": null,
            "border": null,
            "bottom": null,
            "display": null,
            "flex": null,
            "flex_flow": null,
            "grid_area": null,
            "grid_auto_columns": null,
            "grid_auto_flow": null,
            "grid_auto_rows": null,
            "grid_column": null,
            "grid_gap": null,
            "grid_row": null,
            "grid_template_areas": null,
            "grid_template_columns": null,
            "grid_template_rows": null,
            "height": null,
            "justify_content": null,
            "justify_items": null,
            "left": null,
            "margin": null,
            "max_height": null,
            "max_width": null,
            "min_height": null,
            "min_width": null,
            "object_fit": null,
            "object_position": null,
            "order": null,
            "overflow": null,
            "overflow_x": null,
            "overflow_y": null,
            "padding": null,
            "right": null,
            "top": null,
            "visibility": null,
            "width": null
          }
        },
        "8b77a827824440d6b53f4a14346c0d70": {
          "model_module": "@jupyter-widgets/base",
          "model_module_version": "1.2.0",
          "model_name": "LayoutModel",
          "state": {
            "_model_module": "@jupyter-widgets/base",
            "_model_module_version": "1.2.0",
            "_model_name": "LayoutModel",
            "_view_count": null,
            "_view_module": "@jupyter-widgets/base",
            "_view_module_version": "1.2.0",
            "_view_name": "LayoutView",
            "align_content": null,
            "align_items": null,
            "align_self": null,
            "border": null,
            "bottom": null,
            "display": null,
            "flex": null,
            "flex_flow": null,
            "grid_area": null,
            "grid_auto_columns": null,
            "grid_auto_flow": null,
            "grid_auto_rows": null,
            "grid_column": null,
            "grid_gap": null,
            "grid_row": null,
            "grid_template_areas": null,
            "grid_template_columns": null,
            "grid_template_rows": null,
            "height": null,
            "justify_content": null,
            "justify_items": null,
            "left": null,
            "margin": null,
            "max_height": null,
            "max_width": null,
            "min_height": null,
            "min_width": null,
            "object_fit": null,
            "object_position": null,
            "order": null,
            "overflow": null,
            "overflow_x": null,
            "overflow_y": null,
            "padding": null,
            "right": null,
            "top": null,
            "visibility": null,
            "width": null
          }
        },
        "8ba70976ee1c451184f77494d8c47c7d": {
          "model_module": "@jupyter-widgets/base",
          "model_module_version": "1.2.0",
          "model_name": "LayoutModel",
          "state": {
            "_model_module": "@jupyter-widgets/base",
            "_model_module_version": "1.2.0",
            "_model_name": "LayoutModel",
            "_view_count": null,
            "_view_module": "@jupyter-widgets/base",
            "_view_module_version": "1.2.0",
            "_view_name": "LayoutView",
            "align_content": null,
            "align_items": null,
            "align_self": null,
            "border": null,
            "bottom": null,
            "display": null,
            "flex": null,
            "flex_flow": null,
            "grid_area": null,
            "grid_auto_columns": null,
            "grid_auto_flow": null,
            "grid_auto_rows": null,
            "grid_column": null,
            "grid_gap": null,
            "grid_row": null,
            "grid_template_areas": null,
            "grid_template_columns": null,
            "grid_template_rows": null,
            "height": null,
            "justify_content": null,
            "justify_items": null,
            "left": null,
            "margin": null,
            "max_height": null,
            "max_width": null,
            "min_height": null,
            "min_width": null,
            "object_fit": null,
            "object_position": null,
            "order": null,
            "overflow": null,
            "overflow_x": null,
            "overflow_y": null,
            "padding": null,
            "right": null,
            "top": null,
            "visibility": null,
            "width": null
          }
        },
        "8be24cac973b4db7a85ab46581c1efb7": {
          "model_module": "@jupyter-widgets/base",
          "model_module_version": "1.2.0",
          "model_name": "LayoutModel",
          "state": {
            "_model_module": "@jupyter-widgets/base",
            "_model_module_version": "1.2.0",
            "_model_name": "LayoutModel",
            "_view_count": null,
            "_view_module": "@jupyter-widgets/base",
            "_view_module_version": "1.2.0",
            "_view_name": "LayoutView",
            "align_content": null,
            "align_items": null,
            "align_self": null,
            "border": null,
            "bottom": null,
            "display": null,
            "flex": null,
            "flex_flow": null,
            "grid_area": null,
            "grid_auto_columns": null,
            "grid_auto_flow": null,
            "grid_auto_rows": null,
            "grid_column": null,
            "grid_gap": null,
            "grid_row": null,
            "grid_template_areas": null,
            "grid_template_columns": null,
            "grid_template_rows": null,
            "height": null,
            "justify_content": null,
            "justify_items": null,
            "left": null,
            "margin": null,
            "max_height": null,
            "max_width": null,
            "min_height": null,
            "min_width": null,
            "object_fit": null,
            "object_position": null,
            "order": null,
            "overflow": null,
            "overflow_x": null,
            "overflow_y": null,
            "padding": null,
            "right": null,
            "top": null,
            "visibility": null,
            "width": null
          }
        },
        "8c251e4b43214ca894f136c5397b4a94": {
          "model_module": "@jupyter-widgets/base",
          "model_module_version": "1.2.0",
          "model_name": "LayoutModel",
          "state": {
            "_model_module": "@jupyter-widgets/base",
            "_model_module_version": "1.2.0",
            "_model_name": "LayoutModel",
            "_view_count": null,
            "_view_module": "@jupyter-widgets/base",
            "_view_module_version": "1.2.0",
            "_view_name": "LayoutView",
            "align_content": null,
            "align_items": null,
            "align_self": null,
            "border": null,
            "bottom": null,
            "display": null,
            "flex": null,
            "flex_flow": null,
            "grid_area": null,
            "grid_auto_columns": null,
            "grid_auto_flow": null,
            "grid_auto_rows": null,
            "grid_column": null,
            "grid_gap": null,
            "grid_row": null,
            "grid_template_areas": null,
            "grid_template_columns": null,
            "grid_template_rows": null,
            "height": null,
            "justify_content": null,
            "justify_items": null,
            "left": null,
            "margin": null,
            "max_height": null,
            "max_width": null,
            "min_height": null,
            "min_width": null,
            "object_fit": null,
            "object_position": null,
            "order": null,
            "overflow": null,
            "overflow_x": null,
            "overflow_y": null,
            "padding": null,
            "right": null,
            "top": null,
            "visibility": null,
            "width": null
          }
        },
        "8e87eb2bff19452ab778993dbc1a2586": {
          "model_module": "@jupyter-widgets/controls",
          "model_module_version": "1.5.0",
          "model_name": "HTMLModel",
          "state": {
            "_dom_classes": [],
            "_model_module": "@jupyter-widgets/controls",
            "_model_module_version": "1.5.0",
            "_model_name": "HTMLModel",
            "_view_count": null,
            "_view_module": "@jupyter-widgets/controls",
            "_view_module_version": "1.5.0",
            "_view_name": "HTMLView",
            "description": "",
            "description_tooltip": null,
            "layout": "IPY_MODEL_8be24cac973b4db7a85ab46581c1efb7",
            "placeholder": "​",
            "style": "IPY_MODEL_cbe80c1e537a413ebe0f5a98038148d6",
            "value": " 2/2 [00:03&lt;00:00,  1.64s/it]"
          }
        },
        "8f986d822b964e969ad20d1b1088dec9": {
          "model_module": "@jupyter-widgets/base",
          "model_module_version": "1.2.0",
          "model_name": "LayoutModel",
          "state": {
            "_model_module": "@jupyter-widgets/base",
            "_model_module_version": "1.2.0",
            "_model_name": "LayoutModel",
            "_view_count": null,
            "_view_module": "@jupyter-widgets/base",
            "_view_module_version": "1.2.0",
            "_view_name": "LayoutView",
            "align_content": null,
            "align_items": null,
            "align_self": null,
            "border": null,
            "bottom": null,
            "display": null,
            "flex": null,
            "flex_flow": null,
            "grid_area": null,
            "grid_auto_columns": null,
            "grid_auto_flow": null,
            "grid_auto_rows": null,
            "grid_column": null,
            "grid_gap": null,
            "grid_row": null,
            "grid_template_areas": null,
            "grid_template_columns": null,
            "grid_template_rows": null,
            "height": null,
            "justify_content": null,
            "justify_items": null,
            "left": null,
            "margin": null,
            "max_height": null,
            "max_width": null,
            "min_height": null,
            "min_width": null,
            "object_fit": null,
            "object_position": null,
            "order": null,
            "overflow": null,
            "overflow_x": null,
            "overflow_y": null,
            "padding": null,
            "right": null,
            "top": null,
            "visibility": null,
            "width": null
          }
        },
        "8fe50cb21cf9449e94efe57920440845": {
          "model_module": "@jupyter-widgets/controls",
          "model_module_version": "1.5.0",
          "model_name": "DescriptionStyleModel",
          "state": {
            "_model_module": "@jupyter-widgets/controls",
            "_model_module_version": "1.5.0",
            "_model_name": "DescriptionStyleModel",
            "_view_count": null,
            "_view_module": "@jupyter-widgets/base",
            "_view_module_version": "1.2.0",
            "_view_name": "StyleView",
            "description_width": ""
          }
        },
        "96426fde6b9542208f45409965d0216c": {
          "model_module": "@jupyter-widgets/controls",
          "model_module_version": "1.5.0",
          "model_name": "DescriptionStyleModel",
          "state": {
            "_model_module": "@jupyter-widgets/controls",
            "_model_module_version": "1.5.0",
            "_model_name": "DescriptionStyleModel",
            "_view_count": null,
            "_view_module": "@jupyter-widgets/base",
            "_view_module_version": "1.2.0",
            "_view_name": "StyleView",
            "description_width": ""
          }
        },
        "96b1fb2a1577445d9778ad65da0abdbb": {
          "model_module": "@jupyter-widgets/base",
          "model_module_version": "1.2.0",
          "model_name": "LayoutModel",
          "state": {
            "_model_module": "@jupyter-widgets/base",
            "_model_module_version": "1.2.0",
            "_model_name": "LayoutModel",
            "_view_count": null,
            "_view_module": "@jupyter-widgets/base",
            "_view_module_version": "1.2.0",
            "_view_name": "LayoutView",
            "align_content": null,
            "align_items": null,
            "align_self": null,
            "border": null,
            "bottom": null,
            "display": null,
            "flex": null,
            "flex_flow": null,
            "grid_area": null,
            "grid_auto_columns": null,
            "grid_auto_flow": null,
            "grid_auto_rows": null,
            "grid_column": null,
            "grid_gap": null,
            "grid_row": null,
            "grid_template_areas": null,
            "grid_template_columns": null,
            "grid_template_rows": null,
            "height": null,
            "justify_content": null,
            "justify_items": null,
            "left": null,
            "margin": null,
            "max_height": null,
            "max_width": null,
            "min_height": null,
            "min_width": null,
            "object_fit": null,
            "object_position": null,
            "order": null,
            "overflow": null,
            "overflow_x": null,
            "overflow_y": null,
            "padding": null,
            "right": null,
            "top": null,
            "visibility": "hidden",
            "width": null
          }
        },
        "970b83c42f4f4d7ebb252c4f26f6ea56": {
          "model_module": "@jupyter-widgets/controls",
          "model_module_version": "1.5.0",
          "model_name": "FloatProgressModel",
          "state": {
            "_dom_classes": [],
            "_model_module": "@jupyter-widgets/controls",
            "_model_module_version": "1.5.0",
            "_model_name": "FloatProgressModel",
            "_view_count": null,
            "_view_module": "@jupyter-widgets/controls",
            "_view_module_version": "1.5.0",
            "_view_name": "ProgressView",
            "bar_style": "success",
            "description": "",
            "description_tooltip": null,
            "layout": "IPY_MODEL_837e33bad8be4a6d8722ca878b9d409e",
            "max": 2,
            "min": 0,
            "orientation": "horizontal",
            "style": "IPY_MODEL_559b618c027e4f12bfe58286b208c9b4",
            "value": 2
          }
        },
        "9e0794e92f9646ab8aa21f0ec0ed7981": {
          "model_module": "@jupyter-widgets/controls",
          "model_module_version": "1.5.0",
          "model_name": "ProgressStyleModel",
          "state": {
            "_model_module": "@jupyter-widgets/controls",
            "_model_module_version": "1.5.0",
            "_model_name": "ProgressStyleModel",
            "_view_count": null,
            "_view_module": "@jupyter-widgets/base",
            "_view_module_version": "1.2.0",
            "_view_name": "StyleView",
            "bar_color": null,
            "description_width": ""
          }
        },
        "9e837089e2ed4366b518306993092ede": {
          "model_module": "@jupyter-widgets/controls",
          "model_module_version": "1.5.0",
          "model_name": "FloatProgressModel",
          "state": {
            "_dom_classes": [],
            "_model_module": "@jupyter-widgets/controls",
            "_model_module_version": "1.5.0",
            "_model_name": "FloatProgressModel",
            "_view_count": null,
            "_view_module": "@jupyter-widgets/controls",
            "_view_module_version": "1.5.0",
            "_view_name": "ProgressView",
            "bar_style": "success",
            "description": "",
            "description_tooltip": null,
            "layout": "IPY_MODEL_31981ef797934adebeba357626d4e287",
            "max": 72,
            "min": 0,
            "orientation": "horizontal",
            "style": "IPY_MODEL_66e038d8569b43fb8adc5211537fccef",
            "value": 72
          }
        },
        "a06cc5c232fe415c80c3a468b29ccc66": {
          "model_module": "@jupyter-widgets/base",
          "model_module_version": "1.2.0",
          "model_name": "LayoutModel",
          "state": {
            "_model_module": "@jupyter-widgets/base",
            "_model_module_version": "1.2.0",
            "_model_name": "LayoutModel",
            "_view_count": null,
            "_view_module": "@jupyter-widgets/base",
            "_view_module_version": "1.2.0",
            "_view_name": "LayoutView",
            "align_content": null,
            "align_items": null,
            "align_self": null,
            "border": null,
            "bottom": null,
            "display": null,
            "flex": null,
            "flex_flow": null,
            "grid_area": null,
            "grid_auto_columns": null,
            "grid_auto_flow": null,
            "grid_auto_rows": null,
            "grid_column": null,
            "grid_gap": null,
            "grid_row": null,
            "grid_template_areas": null,
            "grid_template_columns": null,
            "grid_template_rows": null,
            "height": null,
            "justify_content": null,
            "justify_items": null,
            "left": null,
            "margin": null,
            "max_height": null,
            "max_width": null,
            "min_height": null,
            "min_width": null,
            "object_fit": null,
            "object_position": null,
            "order": null,
            "overflow": null,
            "overflow_x": null,
            "overflow_y": null,
            "padding": null,
            "right": null,
            "top": null,
            "visibility": null,
            "width": null
          }
        },
        "a37137bd3fad4362bef3817ae7ad2ad9": {
          "model_module": "@jupyter-widgets/controls",
          "model_module_version": "1.5.0",
          "model_name": "HTMLModel",
          "state": {
            "_dom_classes": [],
            "_model_module": "@jupyter-widgets/controls",
            "_model_module_version": "1.5.0",
            "_model_name": "HTMLModel",
            "_view_count": null,
            "_view_module": "@jupyter-widgets/controls",
            "_view_module_version": "1.5.0",
            "_view_name": "HTMLView",
            "description": "",
            "description_tooltip": null,
            "layout": "IPY_MODEL_74ac36e0ca6c4a3ba53d070b37b9f1aa",
            "placeholder": "​",
            "style": "IPY_MODEL_ba53eab6f7e441569d2a16aa8f26511d",
            "value": " 9/12 [00:00&lt;00:00, 13.99it/s]"
          }
        },
        "a5e6260095bf4ca6bce229adfe9c3fbe": {
          "model_module": "@jupyter-widgets/controls",
          "model_module_version": "1.5.0",
          "model_name": "FloatProgressModel",
          "state": {
            "_dom_classes": [],
            "_model_module": "@jupyter-widgets/controls",
            "_model_module_version": "1.5.0",
            "_model_name": "FloatProgressModel",
            "_view_count": null,
            "_view_module": "@jupyter-widgets/controls",
            "_view_module_version": "1.5.0",
            "_view_name": "ProgressView",
            "bar_style": "",
            "description": "",
            "description_tooltip": null,
            "layout": "IPY_MODEL_cb12c0b6145b48908ca058e0a7282828",
            "max": 2,
            "min": 0,
            "orientation": "horizontal",
            "style": "IPY_MODEL_0107beec40af42ffa66b216070f97d5c",
            "value": 2
          }
        },
        "a604a0b844a94570be523a881c8455ba": {
          "model_module": "@jupyter-widgets/controls",
          "model_module_version": "1.5.0",
          "model_name": "HBoxModel",
          "state": {
            "_dom_classes": [],
            "_model_module": "@jupyter-widgets/controls",
            "_model_module_version": "1.5.0",
            "_model_name": "HBoxModel",
            "_view_count": null,
            "_view_module": "@jupyter-widgets/controls",
            "_view_module_version": "1.5.0",
            "_view_name": "HBoxView",
            "box_style": "",
            "children": [
              "IPY_MODEL_594a9d371fb4406e97630f35712d276c",
              "IPY_MODEL_d52c4da39f564a12ba46044e0797eb95",
              "IPY_MODEL_25baeb72f87d4e5ba0e8c10bcf3afd58"
            ],
            "layout": "IPY_MODEL_96b1fb2a1577445d9778ad65da0abdbb"
          }
        },
        "a74c472ad4ff49d49dd6648ce89f5471": {
          "model_module": "@jupyter-widgets/controls",
          "model_module_version": "1.5.0",
          "model_name": "HBoxModel",
          "state": {
            "_dom_classes": [],
            "_model_module": "@jupyter-widgets/controls",
            "_model_module_version": "1.5.0",
            "_model_name": "HBoxModel",
            "_view_count": null,
            "_view_module": "@jupyter-widgets/controls",
            "_view_module_version": "1.5.0",
            "_view_name": "HBoxView",
            "box_style": "",
            "children": [
              "IPY_MODEL_b12c215bb97e49fea6129d7ca7cdcc6b",
              "IPY_MODEL_f37518d278b34353a38bcc50f8743959",
              "IPY_MODEL_2d888020728341a6ad146908634a6a2f"
            ],
            "layout": "IPY_MODEL_1ea4551d38bc4e3ea2a99eb62e6bf942"
          }
        },
        "ab759276b57d4de6acefd71e01bcacc6": {
          "model_module": "@jupyter-widgets/base",
          "model_module_version": "1.2.0",
          "model_name": "LayoutModel",
          "state": {
            "_model_module": "@jupyter-widgets/base",
            "_model_module_version": "1.2.0",
            "_model_name": "LayoutModel",
            "_view_count": null,
            "_view_module": "@jupyter-widgets/base",
            "_view_module_version": "1.2.0",
            "_view_name": "LayoutView",
            "align_content": null,
            "align_items": null,
            "align_self": null,
            "border": null,
            "bottom": null,
            "display": null,
            "flex": null,
            "flex_flow": null,
            "grid_area": null,
            "grid_auto_columns": null,
            "grid_auto_flow": null,
            "grid_auto_rows": null,
            "grid_column": null,
            "grid_gap": null,
            "grid_row": null,
            "grid_template_areas": null,
            "grid_template_columns": null,
            "grid_template_rows": null,
            "height": null,
            "justify_content": null,
            "justify_items": null,
            "left": null,
            "margin": null,
            "max_height": null,
            "max_width": null,
            "min_height": null,
            "min_width": null,
            "object_fit": null,
            "object_position": null,
            "order": null,
            "overflow": null,
            "overflow_x": null,
            "overflow_y": null,
            "padding": null,
            "right": null,
            "top": null,
            "visibility": null,
            "width": null
          }
        },
        "ae2cb8aa76424c01b0e39988cba92f0a": {
          "model_module": "@jupyter-widgets/controls",
          "model_module_version": "1.5.0",
          "model_name": "HTMLModel",
          "state": {
            "_dom_classes": [],
            "_model_module": "@jupyter-widgets/controls",
            "_model_module_version": "1.5.0",
            "_model_name": "HTMLModel",
            "_view_count": null,
            "_view_module": "@jupyter-widgets/controls",
            "_view_module_version": "1.5.0",
            "_view_name": "HTMLView",
            "description": "",
            "description_tooltip": null,
            "layout": "IPY_MODEL_a06cc5c232fe415c80c3a468b29ccc66",
            "placeholder": "​",
            "style": "IPY_MODEL_d06dd06393844bbc8e176fea19a4e142",
            "value": "Evaluating: 100%"
          }
        },
        "b09b0c42e0364396aee593f2ba1f18a2": {
          "model_module": "@jupyter-widgets/controls",
          "model_module_version": "1.5.0",
          "model_name": "HBoxModel",
          "state": {
            "_dom_classes": [],
            "_model_module": "@jupyter-widgets/controls",
            "_model_module_version": "1.5.0",
            "_model_name": "HBoxModel",
            "_view_count": null,
            "_view_module": "@jupyter-widgets/controls",
            "_view_module_version": "1.5.0",
            "_view_name": "HBoxView",
            "box_style": "",
            "children": [
              "IPY_MODEL_ae2cb8aa76424c01b0e39988cba92f0a",
              "IPY_MODEL_9e837089e2ed4366b518306993092ede",
              "IPY_MODEL_ccc8bd831acf490bb821cbe9a4d6ce5e"
            ],
            "layout": "IPY_MODEL_d7f40417bcb24600b0e562fe2be29560"
          }
        },
        "b12c215bb97e49fea6129d7ca7cdcc6b": {
          "model_module": "@jupyter-widgets/controls",
          "model_module_version": "1.5.0",
          "model_name": "HTMLModel",
          "state": {
            "_dom_classes": [],
            "_model_module": "@jupyter-widgets/controls",
            "_model_module_version": "1.5.0",
            "_model_name": "HTMLModel",
            "_view_count": null,
            "_view_module": "@jupyter-widgets/controls",
            "_view_module_version": "1.5.0",
            "_view_name": "HTMLView",
            "description": "",
            "description_tooltip": null,
            "layout": "IPY_MODEL_da4d36932dad4270a94b003affc28333",
            "placeholder": "​",
            "style": "IPY_MODEL_675034bd626b4c528eb77e35e4087191",
            "value": "Applying HeadlineSplitter:   0%"
          }
        },
        "b38eb659d045417cb0e05a4486a83590": {
          "model_module": "@jupyter-widgets/controls",
          "model_module_version": "1.5.0",
          "model_name": "HBoxModel",
          "state": {
            "_dom_classes": [],
            "_model_module": "@jupyter-widgets/controls",
            "_model_module_version": "1.5.0",
            "_model_name": "HBoxModel",
            "_view_count": null,
            "_view_module": "@jupyter-widgets/controls",
            "_view_module_version": "1.5.0",
            "_view_name": "HBoxView",
            "box_style": "",
            "children": [
              "IPY_MODEL_7cfc3038a06249819e2496f7e0571b89",
              "IPY_MODEL_01fa9def167548fba96e573921712950",
              "IPY_MODEL_7288a537b3034e499797d2c3294f8383"
            ],
            "layout": "IPY_MODEL_f3c9086c454841f6914e299a11f7d217"
          }
        },
        "ba29aad6b8d74a09ad347ce8648deeab": {
          "model_module": "@jupyter-widgets/base",
          "model_module_version": "1.2.0",
          "model_name": "LayoutModel",
          "state": {
            "_model_module": "@jupyter-widgets/base",
            "_model_module_version": "1.2.0",
            "_model_name": "LayoutModel",
            "_view_count": null,
            "_view_module": "@jupyter-widgets/base",
            "_view_module_version": "1.2.0",
            "_view_name": "LayoutView",
            "align_content": null,
            "align_items": null,
            "align_self": null,
            "border": null,
            "bottom": null,
            "display": null,
            "flex": null,
            "flex_flow": null,
            "grid_area": null,
            "grid_auto_columns": null,
            "grid_auto_flow": null,
            "grid_auto_rows": null,
            "grid_column": null,
            "grid_gap": null,
            "grid_row": null,
            "grid_template_areas": null,
            "grid_template_columns": null,
            "grid_template_rows": null,
            "height": null,
            "justify_content": null,
            "justify_items": null,
            "left": null,
            "margin": null,
            "max_height": null,
            "max_width": null,
            "min_height": null,
            "min_width": null,
            "object_fit": null,
            "object_position": null,
            "order": null,
            "overflow": null,
            "overflow_x": null,
            "overflow_y": null,
            "padding": null,
            "right": null,
            "top": null,
            "visibility": null,
            "width": null
          }
        },
        "ba53eab6f7e441569d2a16aa8f26511d": {
          "model_module": "@jupyter-widgets/controls",
          "model_module_version": "1.5.0",
          "model_name": "DescriptionStyleModel",
          "state": {
            "_model_module": "@jupyter-widgets/controls",
            "_model_module_version": "1.5.0",
            "_model_name": "DescriptionStyleModel",
            "_view_count": null,
            "_view_module": "@jupyter-widgets/base",
            "_view_module_version": "1.2.0",
            "_view_name": "StyleView",
            "description_width": ""
          }
        },
        "bba06b49269840ea8247ecc85552050b": {
          "model_module": "@jupyter-widgets/base",
          "model_module_version": "1.2.0",
          "model_name": "LayoutModel",
          "state": {
            "_model_module": "@jupyter-widgets/base",
            "_model_module_version": "1.2.0",
            "_model_name": "LayoutModel",
            "_view_count": null,
            "_view_module": "@jupyter-widgets/base",
            "_view_module_version": "1.2.0",
            "_view_name": "LayoutView",
            "align_content": null,
            "align_items": null,
            "align_self": null,
            "border": null,
            "bottom": null,
            "display": null,
            "flex": null,
            "flex_flow": null,
            "grid_area": null,
            "grid_auto_columns": null,
            "grid_auto_flow": null,
            "grid_auto_rows": null,
            "grid_column": null,
            "grid_gap": null,
            "grid_row": null,
            "grid_template_areas": null,
            "grid_template_columns": null,
            "grid_template_rows": null,
            "height": null,
            "justify_content": null,
            "justify_items": null,
            "left": null,
            "margin": null,
            "max_height": null,
            "max_width": null,
            "min_height": null,
            "min_width": null,
            "object_fit": null,
            "object_position": null,
            "order": null,
            "overflow": null,
            "overflow_x": null,
            "overflow_y": null,
            "padding": null,
            "right": null,
            "top": null,
            "visibility": null,
            "width": null
          }
        },
        "bda6a62b9fd143a3b0628e60580d23c9": {
          "model_module": "@jupyter-widgets/controls",
          "model_module_version": "1.5.0",
          "model_name": "HTMLModel",
          "state": {
            "_dom_classes": [],
            "_model_module": "@jupyter-widgets/controls",
            "_model_module_version": "1.5.0",
            "_model_name": "HTMLModel",
            "_view_count": null,
            "_view_module": "@jupyter-widgets/controls",
            "_view_module_version": "1.5.0",
            "_view_name": "HTMLView",
            "description": "",
            "description_tooltip": null,
            "layout": "IPY_MODEL_fd71a316693343cc9a92fae9471a2f6e",
            "placeholder": "​",
            "style": "IPY_MODEL_35e6cd723807485f81eb053c2c92b96c",
            "value": "Generating personas: 100%"
          }
        },
        "be4c08a6cdb54d23a32b283379fdea8e": {
          "model_module": "@jupyter-widgets/base",
          "model_module_version": "1.2.0",
          "model_name": "LayoutModel",
          "state": {
            "_model_module": "@jupyter-widgets/base",
            "_model_module_version": "1.2.0",
            "_model_name": "LayoutModel",
            "_view_count": null,
            "_view_module": "@jupyter-widgets/base",
            "_view_module_version": "1.2.0",
            "_view_name": "LayoutView",
            "align_content": null,
            "align_items": null,
            "align_self": null,
            "border": null,
            "bottom": null,
            "display": null,
            "flex": null,
            "flex_flow": null,
            "grid_area": null,
            "grid_auto_columns": null,
            "grid_auto_flow": null,
            "grid_auto_rows": null,
            "grid_column": null,
            "grid_gap": null,
            "grid_row": null,
            "grid_template_areas": null,
            "grid_template_columns": null,
            "grid_template_rows": null,
            "height": null,
            "justify_content": null,
            "justify_items": null,
            "left": null,
            "margin": null,
            "max_height": null,
            "max_width": null,
            "min_height": null,
            "min_width": null,
            "object_fit": null,
            "object_position": null,
            "order": null,
            "overflow": null,
            "overflow_x": null,
            "overflow_y": null,
            "padding": null,
            "right": null,
            "top": null,
            "visibility": "hidden",
            "width": null
          }
        },
        "bf73dc001ec14333975be942dc78df31": {
          "model_module": "@jupyter-widgets/controls",
          "model_module_version": "1.5.0",
          "model_name": "HBoxModel",
          "state": {
            "_dom_classes": [],
            "_model_module": "@jupyter-widgets/controls",
            "_model_module_version": "1.5.0",
            "_model_name": "HBoxModel",
            "_view_count": null,
            "_view_module": "@jupyter-widgets/controls",
            "_view_module_version": "1.5.0",
            "_view_name": "HBoxView",
            "box_style": "",
            "children": [
              "IPY_MODEL_ea51201a73a045de8579dafb17d70bec",
              "IPY_MODEL_a5e6260095bf4ca6bce229adfe9c3fbe",
              "IPY_MODEL_0e460f92c5a749efb198864545a124c0"
            ],
            "layout": "IPY_MODEL_4347f5ea75c74effbc9552cb69c82301"
          }
        },
        "c1b6cdf48bae4226a374ffbabb861ecc": {
          "model_module": "@jupyter-widgets/controls",
          "model_module_version": "1.5.0",
          "model_name": "FloatProgressModel",
          "state": {
            "_dom_classes": [],
            "_model_module": "@jupyter-widgets/controls",
            "_model_module_version": "1.5.0",
            "_model_name": "FloatProgressModel",
            "_view_count": null,
            "_view_module": "@jupyter-widgets/controls",
            "_view_module_version": "1.5.0",
            "_view_name": "ProgressView",
            "bar_style": "",
            "description": "",
            "description_tooltip": null,
            "layout": "IPY_MODEL_d9f54cd68cd8493fb1bc2a216eb15c03",
            "max": 2,
            "min": 0,
            "orientation": "horizontal",
            "style": "IPY_MODEL_4592465145b44c17a9acb5fcab9b2e8b",
            "value": 2
          }
        },
        "c40abe6ce691401ea8db2562b3b322fb": {
          "model_module": "@jupyter-widgets/controls",
          "model_module_version": "1.5.0",
          "model_name": "DescriptionStyleModel",
          "state": {
            "_model_module": "@jupyter-widgets/controls",
            "_model_module_version": "1.5.0",
            "_model_name": "DescriptionStyleModel",
            "_view_count": null,
            "_view_module": "@jupyter-widgets/base",
            "_view_module_version": "1.2.0",
            "_view_name": "StyleView",
            "description_width": ""
          }
        },
        "c4470c9d055c4b8793dda8dfc7496b83": {
          "model_module": "@jupyter-widgets/base",
          "model_module_version": "1.2.0",
          "model_name": "LayoutModel",
          "state": {
            "_model_module": "@jupyter-widgets/base",
            "_model_module_version": "1.2.0",
            "_model_name": "LayoutModel",
            "_view_count": null,
            "_view_module": "@jupyter-widgets/base",
            "_view_module_version": "1.2.0",
            "_view_name": "LayoutView",
            "align_content": null,
            "align_items": null,
            "align_self": null,
            "border": null,
            "bottom": null,
            "display": null,
            "flex": null,
            "flex_flow": null,
            "grid_area": null,
            "grid_auto_columns": null,
            "grid_auto_flow": null,
            "grid_auto_rows": null,
            "grid_column": null,
            "grid_gap": null,
            "grid_row": null,
            "grid_template_areas": null,
            "grid_template_columns": null,
            "grid_template_rows": null,
            "height": null,
            "justify_content": null,
            "justify_items": null,
            "left": null,
            "margin": null,
            "max_height": null,
            "max_width": null,
            "min_height": null,
            "min_width": null,
            "object_fit": null,
            "object_position": null,
            "order": null,
            "overflow": null,
            "overflow_x": null,
            "overflow_y": null,
            "padding": null,
            "right": null,
            "top": null,
            "visibility": null,
            "width": null
          }
        },
        "cb12c0b6145b48908ca058e0a7282828": {
          "model_module": "@jupyter-widgets/base",
          "model_module_version": "1.2.0",
          "model_name": "LayoutModel",
          "state": {
            "_model_module": "@jupyter-widgets/base",
            "_model_module_version": "1.2.0",
            "_model_name": "LayoutModel",
            "_view_count": null,
            "_view_module": "@jupyter-widgets/base",
            "_view_module_version": "1.2.0",
            "_view_name": "LayoutView",
            "align_content": null,
            "align_items": null,
            "align_self": null,
            "border": null,
            "bottom": null,
            "display": null,
            "flex": null,
            "flex_flow": null,
            "grid_area": null,
            "grid_auto_columns": null,
            "grid_auto_flow": null,
            "grid_auto_rows": null,
            "grid_column": null,
            "grid_gap": null,
            "grid_row": null,
            "grid_template_areas": null,
            "grid_template_columns": null,
            "grid_template_rows": null,
            "height": null,
            "justify_content": null,
            "justify_items": null,
            "left": null,
            "margin": null,
            "max_height": null,
            "max_width": null,
            "min_height": null,
            "min_width": null,
            "object_fit": null,
            "object_position": null,
            "order": null,
            "overflow": null,
            "overflow_x": null,
            "overflow_y": null,
            "padding": null,
            "right": null,
            "top": null,
            "visibility": null,
            "width": null
          }
        },
        "cbe80c1e537a413ebe0f5a98038148d6": {
          "model_module": "@jupyter-widgets/controls",
          "model_module_version": "1.5.0",
          "model_name": "DescriptionStyleModel",
          "state": {
            "_model_module": "@jupyter-widgets/controls",
            "_model_module_version": "1.5.0",
            "_model_name": "DescriptionStyleModel",
            "_view_count": null,
            "_view_module": "@jupyter-widgets/base",
            "_view_module_version": "1.2.0",
            "_view_name": "StyleView",
            "description_width": ""
          }
        },
        "ccc8bd831acf490bb821cbe9a4d6ce5e": {
          "model_module": "@jupyter-widgets/controls",
          "model_module_version": "1.5.0",
          "model_name": "HTMLModel",
          "state": {
            "_dom_classes": [],
            "_model_module": "@jupyter-widgets/controls",
            "_model_module_version": "1.5.0",
            "_model_name": "HTMLModel",
            "_view_count": null,
            "_view_module": "@jupyter-widgets/controls",
            "_view_module_version": "1.5.0",
            "_view_name": "HTMLView",
            "description": "",
            "description_tooltip": null,
            "layout": "IPY_MODEL_ab759276b57d4de6acefd71e01bcacc6",
            "placeholder": "​",
            "style": "IPY_MODEL_117883f62a654d6996c2f9f8464cd22b",
            "value": " 72/72 [04:58&lt;00:00, 15.82s/it]"
          }
        },
        "d06dd06393844bbc8e176fea19a4e142": {
          "model_module": "@jupyter-widgets/controls",
          "model_module_version": "1.5.0",
          "model_name": "DescriptionStyleModel",
          "state": {
            "_model_module": "@jupyter-widgets/controls",
            "_model_module_version": "1.5.0",
            "_model_name": "DescriptionStyleModel",
            "_view_count": null,
            "_view_module": "@jupyter-widgets/base",
            "_view_module_version": "1.2.0",
            "_view_name": "StyleView",
            "description_width": ""
          }
        },
        "d0718259769b46089abda354accc4de8": {
          "model_module": "@jupyter-widgets/controls",
          "model_module_version": "1.5.0",
          "model_name": "HBoxModel",
          "state": {
            "_dom_classes": [],
            "_model_module": "@jupyter-widgets/controls",
            "_model_module_version": "1.5.0",
            "_model_name": "HBoxModel",
            "_view_count": null,
            "_view_module": "@jupyter-widgets/controls",
            "_view_module_version": "1.5.0",
            "_view_name": "HBoxView",
            "box_style": "",
            "children": [
              "IPY_MODEL_df156fe12b7c4d1dbb4f688d7bd3c4a3",
              "IPY_MODEL_1f6cdc06bb18480aa341a732a2f1be13",
              "IPY_MODEL_e362bfd3e01241c6b20e2cf0a34db7a1"
            ],
            "layout": "IPY_MODEL_8ba70976ee1c451184f77494d8c47c7d"
          }
        },
        "d08cba8d32514ca2bb1e0d403ceadd7e": {
          "model_module": "@jupyter-widgets/base",
          "model_module_version": "1.2.0",
          "model_name": "LayoutModel",
          "state": {
            "_model_module": "@jupyter-widgets/base",
            "_model_module_version": "1.2.0",
            "_model_name": "LayoutModel",
            "_view_count": null,
            "_view_module": "@jupyter-widgets/base",
            "_view_module_version": "1.2.0",
            "_view_name": "LayoutView",
            "align_content": null,
            "align_items": null,
            "align_self": null,
            "border": null,
            "bottom": null,
            "display": null,
            "flex": null,
            "flex_flow": null,
            "grid_area": null,
            "grid_auto_columns": null,
            "grid_auto_flow": null,
            "grid_auto_rows": null,
            "grid_column": null,
            "grid_gap": null,
            "grid_row": null,
            "grid_template_areas": null,
            "grid_template_columns": null,
            "grid_template_rows": null,
            "height": null,
            "justify_content": null,
            "justify_items": null,
            "left": null,
            "margin": null,
            "max_height": null,
            "max_width": null,
            "min_height": null,
            "min_width": null,
            "object_fit": null,
            "object_position": null,
            "order": null,
            "overflow": null,
            "overflow_x": null,
            "overflow_y": null,
            "padding": null,
            "right": null,
            "top": null,
            "visibility": null,
            "width": null
          }
        },
        "d1b550cbeaef43a7a98ffbba97fb37ee": {
          "model_module": "@jupyter-widgets/controls",
          "model_module_version": "1.5.0",
          "model_name": "HTMLModel",
          "state": {
            "_dom_classes": [],
            "_model_module": "@jupyter-widgets/controls",
            "_model_module_version": "1.5.0",
            "_model_name": "HTMLModel",
            "_view_count": null,
            "_view_module": "@jupyter-widgets/controls",
            "_view_module_version": "1.5.0",
            "_view_name": "HTMLView",
            "description": "",
            "description_tooltip": null,
            "layout": "IPY_MODEL_f10fe2d8ed6e45b595e66db0a3f972a1",
            "placeholder": "​",
            "style": "IPY_MODEL_fe1cfe8194c142fdb11a4dd28e1adb00",
            "value": " 12/12 [00:04&lt;00:00,  3.98it/s]"
          }
        },
        "d1e5f706d17b4c27b0ce1cb127fdc891": {
          "model_module": "@jupyter-widgets/controls",
          "model_module_version": "1.5.0",
          "model_name": "HTMLModel",
          "state": {
            "_dom_classes": [],
            "_model_module": "@jupyter-widgets/controls",
            "_model_module_version": "1.5.0",
            "_model_name": "HTMLModel",
            "_view_count": null,
            "_view_module": "@jupyter-widgets/controls",
            "_view_module_version": "1.5.0",
            "_view_name": "HTMLView",
            "description": "",
            "description_tooltip": null,
            "layout": "IPY_MODEL_5d5df07e34d545ed9b2975034645c453",
            "placeholder": "​",
            "style": "IPY_MODEL_319b66f299064965b91ce4282dc9c280",
            "value": " 2/2 [00:01&lt;00:00,  1.35it/s]"
          }
        },
        "d390d71dd2694801a77b103a6a707da3": {
          "model_module": "@jupyter-widgets/controls",
          "model_module_version": "1.5.0",
          "model_name": "HBoxModel",
          "state": {
            "_dom_classes": [],
            "_model_module": "@jupyter-widgets/controls",
            "_model_module_version": "1.5.0",
            "_model_name": "HBoxModel",
            "_view_count": null,
            "_view_module": "@jupyter-widgets/controls",
            "_view_module_version": "1.5.0",
            "_view_name": "HBoxView",
            "box_style": "",
            "children": [
              "IPY_MODEL_11d272eb6b7146659e5c688ec04c8749",
              "IPY_MODEL_68599f8e85ef4fcba92ea891f75b5535",
              "IPY_MODEL_d1b550cbeaef43a7a98ffbba97fb37ee"
            ],
            "layout": "IPY_MODEL_d08cba8d32514ca2bb1e0d403ceadd7e"
          }
        },
        "d528743f9a0047778a7f808214fdf49c": {
          "model_module": "@jupyter-widgets/controls",
          "model_module_version": "1.5.0",
          "model_name": "FloatProgressModel",
          "state": {
            "_dom_classes": [],
            "_model_module": "@jupyter-widgets/controls",
            "_model_module_version": "1.5.0",
            "_model_name": "FloatProgressModel",
            "_view_count": null,
            "_view_module": "@jupyter-widgets/controls",
            "_view_module_version": "1.5.0",
            "_view_name": "ProgressView",
            "bar_style": "",
            "description": "",
            "description_tooltip": null,
            "layout": "IPY_MODEL_37831f1641db461e93e5011d343b5cb2",
            "max": 12,
            "min": 0,
            "orientation": "horizontal",
            "style": "IPY_MODEL_f69d31545a1045d4959e0640abe3409a",
            "value": 12
          }
        },
        "d52c4da39f564a12ba46044e0797eb95": {
          "model_module": "@jupyter-widgets/controls",
          "model_module_version": "1.5.0",
          "model_name": "FloatProgressModel",
          "state": {
            "_dom_classes": [],
            "_model_module": "@jupyter-widgets/controls",
            "_model_module_version": "1.5.0",
            "_model_name": "FloatProgressModel",
            "_view_count": null,
            "_view_module": "@jupyter-widgets/controls",
            "_view_module_version": "1.5.0",
            "_view_name": "ProgressView",
            "bar_style": "",
            "description": "",
            "description_tooltip": null,
            "layout": "IPY_MODEL_d6395d76874241cf87b37390a6c58424",
            "max": 26,
            "min": 0,
            "orientation": "horizontal",
            "style": "IPY_MODEL_35e71aea98cc41b7a090071a9d8ccde7",
            "value": 26
          }
        },
        "d6395d76874241cf87b37390a6c58424": {
          "model_module": "@jupyter-widgets/base",
          "model_module_version": "1.2.0",
          "model_name": "LayoutModel",
          "state": {
            "_model_module": "@jupyter-widgets/base",
            "_model_module_version": "1.2.0",
            "_model_name": "LayoutModel",
            "_view_count": null,
            "_view_module": "@jupyter-widgets/base",
            "_view_module_version": "1.2.0",
            "_view_name": "LayoutView",
            "align_content": null,
            "align_items": null,
            "align_self": null,
            "border": null,
            "bottom": null,
            "display": null,
            "flex": null,
            "flex_flow": null,
            "grid_area": null,
            "grid_auto_columns": null,
            "grid_auto_flow": null,
            "grid_auto_rows": null,
            "grid_column": null,
            "grid_gap": null,
            "grid_row": null,
            "grid_template_areas": null,
            "grid_template_columns": null,
            "grid_template_rows": null,
            "height": null,
            "justify_content": null,
            "justify_items": null,
            "left": null,
            "margin": null,
            "max_height": null,
            "max_width": null,
            "min_height": null,
            "min_width": null,
            "object_fit": null,
            "object_position": null,
            "order": null,
            "overflow": null,
            "overflow_x": null,
            "overflow_y": null,
            "padding": null,
            "right": null,
            "top": null,
            "visibility": null,
            "width": null
          }
        },
        "d64c39da94b148d4989fe271521dc967": {
          "model_module": "@jupyter-widgets/base",
          "model_module_version": "1.2.0",
          "model_name": "LayoutModel",
          "state": {
            "_model_module": "@jupyter-widgets/base",
            "_model_module_version": "1.2.0",
            "_model_name": "LayoutModel",
            "_view_count": null,
            "_view_module": "@jupyter-widgets/base",
            "_view_module_version": "1.2.0",
            "_view_name": "LayoutView",
            "align_content": null,
            "align_items": null,
            "align_self": null,
            "border": null,
            "bottom": null,
            "display": null,
            "flex": null,
            "flex_flow": null,
            "grid_area": null,
            "grid_auto_columns": null,
            "grid_auto_flow": null,
            "grid_auto_rows": null,
            "grid_column": null,
            "grid_gap": null,
            "grid_row": null,
            "grid_template_areas": null,
            "grid_template_columns": null,
            "grid_template_rows": null,
            "height": null,
            "justify_content": null,
            "justify_items": null,
            "left": null,
            "margin": null,
            "max_height": null,
            "max_width": null,
            "min_height": null,
            "min_width": null,
            "object_fit": null,
            "object_position": null,
            "order": null,
            "overflow": null,
            "overflow_x": null,
            "overflow_y": null,
            "padding": null,
            "right": null,
            "top": null,
            "visibility": "hidden",
            "width": null
          }
        },
        "d7f40417bcb24600b0e562fe2be29560": {
          "model_module": "@jupyter-widgets/base",
          "model_module_version": "1.2.0",
          "model_name": "LayoutModel",
          "state": {
            "_model_module": "@jupyter-widgets/base",
            "_model_module_version": "1.2.0",
            "_model_name": "LayoutModel",
            "_view_count": null,
            "_view_module": "@jupyter-widgets/base",
            "_view_module_version": "1.2.0",
            "_view_name": "LayoutView",
            "align_content": null,
            "align_items": null,
            "align_self": null,
            "border": null,
            "bottom": null,
            "display": null,
            "flex": null,
            "flex_flow": null,
            "grid_area": null,
            "grid_auto_columns": null,
            "grid_auto_flow": null,
            "grid_auto_rows": null,
            "grid_column": null,
            "grid_gap": null,
            "grid_row": null,
            "grid_template_areas": null,
            "grid_template_columns": null,
            "grid_template_rows": null,
            "height": null,
            "justify_content": null,
            "justify_items": null,
            "left": null,
            "margin": null,
            "max_height": null,
            "max_width": null,
            "min_height": null,
            "min_width": null,
            "object_fit": null,
            "object_position": null,
            "order": null,
            "overflow": null,
            "overflow_x": null,
            "overflow_y": null,
            "padding": null,
            "right": null,
            "top": null,
            "visibility": null,
            "width": null
          }
        },
        "d9f54cd68cd8493fb1bc2a216eb15c03": {
          "model_module": "@jupyter-widgets/base",
          "model_module_version": "1.2.0",
          "model_name": "LayoutModel",
          "state": {
            "_model_module": "@jupyter-widgets/base",
            "_model_module_version": "1.2.0",
            "_model_name": "LayoutModel",
            "_view_count": null,
            "_view_module": "@jupyter-widgets/base",
            "_view_module_version": "1.2.0",
            "_view_name": "LayoutView",
            "align_content": null,
            "align_items": null,
            "align_self": null,
            "border": null,
            "bottom": null,
            "display": null,
            "flex": null,
            "flex_flow": null,
            "grid_area": null,
            "grid_auto_columns": null,
            "grid_auto_flow": null,
            "grid_auto_rows": null,
            "grid_column": null,
            "grid_gap": null,
            "grid_row": null,
            "grid_template_areas": null,
            "grid_template_columns": null,
            "grid_template_rows": null,
            "height": null,
            "justify_content": null,
            "justify_items": null,
            "left": null,
            "margin": null,
            "max_height": null,
            "max_width": null,
            "min_height": null,
            "min_width": null,
            "object_fit": null,
            "object_position": null,
            "order": null,
            "overflow": null,
            "overflow_x": null,
            "overflow_y": null,
            "padding": null,
            "right": null,
            "top": null,
            "visibility": null,
            "width": null
          }
        },
        "da4d36932dad4270a94b003affc28333": {
          "model_module": "@jupyter-widgets/base",
          "model_module_version": "1.2.0",
          "model_name": "LayoutModel",
          "state": {
            "_model_module": "@jupyter-widgets/base",
            "_model_module_version": "1.2.0",
            "_model_name": "LayoutModel",
            "_view_count": null,
            "_view_module": "@jupyter-widgets/base",
            "_view_module_version": "1.2.0",
            "_view_name": "LayoutView",
            "align_content": null,
            "align_items": null,
            "align_self": null,
            "border": null,
            "bottom": null,
            "display": null,
            "flex": null,
            "flex_flow": null,
            "grid_area": null,
            "grid_auto_columns": null,
            "grid_auto_flow": null,
            "grid_auto_rows": null,
            "grid_column": null,
            "grid_gap": null,
            "grid_row": null,
            "grid_template_areas": null,
            "grid_template_columns": null,
            "grid_template_rows": null,
            "height": null,
            "justify_content": null,
            "justify_items": null,
            "left": null,
            "margin": null,
            "max_height": null,
            "max_width": null,
            "min_height": null,
            "min_width": null,
            "object_fit": null,
            "object_position": null,
            "order": null,
            "overflow": null,
            "overflow_x": null,
            "overflow_y": null,
            "padding": null,
            "right": null,
            "top": null,
            "visibility": null,
            "width": null
          }
        },
        "da926343593245d9b34f8a77183c4115": {
          "model_module": "@jupyter-widgets/base",
          "model_module_version": "1.2.0",
          "model_name": "LayoutModel",
          "state": {
            "_model_module": "@jupyter-widgets/base",
            "_model_module_version": "1.2.0",
            "_model_name": "LayoutModel",
            "_view_count": null,
            "_view_module": "@jupyter-widgets/base",
            "_view_module_version": "1.2.0",
            "_view_name": "LayoutView",
            "align_content": null,
            "align_items": null,
            "align_self": null,
            "border": null,
            "bottom": null,
            "display": null,
            "flex": null,
            "flex_flow": null,
            "grid_area": null,
            "grid_auto_columns": null,
            "grid_auto_flow": null,
            "grid_auto_rows": null,
            "grid_column": null,
            "grid_gap": null,
            "grid_row": null,
            "grid_template_areas": null,
            "grid_template_columns": null,
            "grid_template_rows": null,
            "height": null,
            "justify_content": null,
            "justify_items": null,
            "left": null,
            "margin": null,
            "max_height": null,
            "max_width": null,
            "min_height": null,
            "min_width": null,
            "object_fit": null,
            "object_position": null,
            "order": null,
            "overflow": null,
            "overflow_x": null,
            "overflow_y": null,
            "padding": null,
            "right": null,
            "top": null,
            "visibility": "hidden",
            "width": null
          }
        },
        "df156fe12b7c4d1dbb4f688d7bd3c4a3": {
          "model_module": "@jupyter-widgets/controls",
          "model_module_version": "1.5.0",
          "model_name": "HTMLModel",
          "state": {
            "_dom_classes": [],
            "_model_module": "@jupyter-widgets/controls",
            "_model_module_version": "1.5.0",
            "_model_name": "HTMLModel",
            "_view_count": null,
            "_view_module": "@jupyter-widgets/controls",
            "_view_module_version": "1.5.0",
            "_view_name": "HTMLView",
            "description": "",
            "description_tooltip": null,
            "layout": "IPY_MODEL_ea70433388ef4d1aaf1093eaeea94dd4",
            "placeholder": "​",
            "style": "IPY_MODEL_8fe50cb21cf9449e94efe57920440845",
            "value": "Evaluating: 100%"
          }
        },
        "e0e92282b50048c4a25414273f1777ff": {
          "model_module": "@jupyter-widgets/controls",
          "model_module_version": "1.5.0",
          "model_name": "ProgressStyleModel",
          "state": {
            "_model_module": "@jupyter-widgets/controls",
            "_model_module_version": "1.5.0",
            "_model_name": "ProgressStyleModel",
            "_view_count": null,
            "_view_module": "@jupyter-widgets/base",
            "_view_module_version": "1.2.0",
            "_view_name": "StyleView",
            "bar_color": null,
            "description_width": ""
          }
        },
        "e362bfd3e01241c6b20e2cf0a34db7a1": {
          "model_module": "@jupyter-widgets/controls",
          "model_module_version": "1.5.0",
          "model_name": "HTMLModel",
          "state": {
            "_dom_classes": [],
            "_model_module": "@jupyter-widgets/controls",
            "_model_module_version": "1.5.0",
            "_model_name": "HTMLModel",
            "_view_count": null,
            "_view_module": "@jupyter-widgets/controls",
            "_view_module_version": "1.5.0",
            "_view_name": "HTMLView",
            "description": "",
            "description_tooltip": null,
            "layout": "IPY_MODEL_8c251e4b43214ca894f136c5397b4a94",
            "placeholder": "​",
            "style": "IPY_MODEL_e74718a731f0471e9740a7ae5aec571e",
            "value": " 72/72 [04:59&lt;00:00, 16.52s/it]"
          }
        },
        "e74718a731f0471e9740a7ae5aec571e": {
          "model_module": "@jupyter-widgets/controls",
          "model_module_version": "1.5.0",
          "model_name": "DescriptionStyleModel",
          "state": {
            "_model_module": "@jupyter-widgets/controls",
            "_model_module_version": "1.5.0",
            "_model_name": "DescriptionStyleModel",
            "_view_count": null,
            "_view_module": "@jupyter-widgets/base",
            "_view_module_version": "1.2.0",
            "_view_name": "StyleView",
            "description_width": ""
          }
        },
        "ea51201a73a045de8579dafb17d70bec": {
          "model_module": "@jupyter-widgets/controls",
          "model_module_version": "1.5.0",
          "model_name": "HTMLModel",
          "state": {
            "_dom_classes": [],
            "_model_module": "@jupyter-widgets/controls",
            "_model_module_version": "1.5.0",
            "_model_name": "HTMLModel",
            "_view_count": null,
            "_view_module": "@jupyter-widgets/controls",
            "_view_module_version": "1.5.0",
            "_view_name": "HTMLView",
            "description": "",
            "description_tooltip": null,
            "layout": "IPY_MODEL_8f986d822b964e969ad20d1b1088dec9",
            "placeholder": "​",
            "style": "IPY_MODEL_c40abe6ce691401ea8db2562b3b322fb",
            "value": "Applying HeadlinesExtractor:  50%"
          }
        },
        "ea70433388ef4d1aaf1093eaeea94dd4": {
          "model_module": "@jupyter-widgets/base",
          "model_module_version": "1.2.0",
          "model_name": "LayoutModel",
          "state": {
            "_model_module": "@jupyter-widgets/base",
            "_model_module_version": "1.2.0",
            "_model_name": "LayoutModel",
            "_view_count": null,
            "_view_module": "@jupyter-widgets/base",
            "_view_module_version": "1.2.0",
            "_view_name": "LayoutView",
            "align_content": null,
            "align_items": null,
            "align_self": null,
            "border": null,
            "bottom": null,
            "display": null,
            "flex": null,
            "flex_flow": null,
            "grid_area": null,
            "grid_auto_columns": null,
            "grid_auto_flow": null,
            "grid_auto_rows": null,
            "grid_column": null,
            "grid_gap": null,
            "grid_row": null,
            "grid_template_areas": null,
            "grid_template_columns": null,
            "grid_template_rows": null,
            "height": null,
            "justify_content": null,
            "justify_items": null,
            "left": null,
            "margin": null,
            "max_height": null,
            "max_width": null,
            "min_height": null,
            "min_width": null,
            "object_fit": null,
            "object_position": null,
            "order": null,
            "overflow": null,
            "overflow_x": null,
            "overflow_y": null,
            "padding": null,
            "right": null,
            "top": null,
            "visibility": null,
            "width": null
          }
        },
        "ec3472c7d29b4ad0ab91e3c2f6874bd5": {
          "model_module": "@jupyter-widgets/base",
          "model_module_version": "1.2.0",
          "model_name": "LayoutModel",
          "state": {
            "_model_module": "@jupyter-widgets/base",
            "_model_module_version": "1.2.0",
            "_model_name": "LayoutModel",
            "_view_count": null,
            "_view_module": "@jupyter-widgets/base",
            "_view_module_version": "1.2.0",
            "_view_name": "LayoutView",
            "align_content": null,
            "align_items": null,
            "align_self": null,
            "border": null,
            "bottom": null,
            "display": null,
            "flex": null,
            "flex_flow": null,
            "grid_area": null,
            "grid_auto_columns": null,
            "grid_auto_flow": null,
            "grid_auto_rows": null,
            "grid_column": null,
            "grid_gap": null,
            "grid_row": null,
            "grid_template_areas": null,
            "grid_template_columns": null,
            "grid_template_rows": null,
            "height": null,
            "justify_content": null,
            "justify_items": null,
            "left": null,
            "margin": null,
            "max_height": null,
            "max_width": null,
            "min_height": null,
            "min_width": null,
            "object_fit": null,
            "object_position": null,
            "order": null,
            "overflow": null,
            "overflow_x": null,
            "overflow_y": null,
            "padding": null,
            "right": null,
            "top": null,
            "visibility": null,
            "width": null
          }
        },
        "ec44f75ea457496c9443b881bc156146": {
          "model_module": "@jupyter-widgets/controls",
          "model_module_version": "1.5.0",
          "model_name": "HTMLModel",
          "state": {
            "_dom_classes": [],
            "_model_module": "@jupyter-widgets/controls",
            "_model_module_version": "1.5.0",
            "_model_name": "HTMLModel",
            "_view_count": null,
            "_view_module": "@jupyter-widgets/controls",
            "_view_module_version": "1.5.0",
            "_view_name": "HTMLView",
            "description": "",
            "description_tooltip": null,
            "layout": "IPY_MODEL_8b77a827824440d6b53f4a14346c0d70",
            "placeholder": "​",
            "style": "IPY_MODEL_20848c82096c458fb118006897a0b7e0",
            "value": " 0/2 [00:00&lt;?, ?it/s]"
          }
        },
        "f10fe2d8ed6e45b595e66db0a3f972a1": {
          "model_module": "@jupyter-widgets/base",
          "model_module_version": "1.2.0",
          "model_name": "LayoutModel",
          "state": {
            "_model_module": "@jupyter-widgets/base",
            "_model_module_version": "1.2.0",
            "_model_name": "LayoutModel",
            "_view_count": null,
            "_view_module": "@jupyter-widgets/base",
            "_view_module_version": "1.2.0",
            "_view_name": "LayoutView",
            "align_content": null,
            "align_items": null,
            "align_self": null,
            "border": null,
            "bottom": null,
            "display": null,
            "flex": null,
            "flex_flow": null,
            "grid_area": null,
            "grid_auto_columns": null,
            "grid_auto_flow": null,
            "grid_auto_rows": null,
            "grid_column": null,
            "grid_gap": null,
            "grid_row": null,
            "grid_template_areas": null,
            "grid_template_columns": null,
            "grid_template_rows": null,
            "height": null,
            "justify_content": null,
            "justify_items": null,
            "left": null,
            "margin": null,
            "max_height": null,
            "max_width": null,
            "min_height": null,
            "min_width": null,
            "object_fit": null,
            "object_position": null,
            "order": null,
            "overflow": null,
            "overflow_x": null,
            "overflow_y": null,
            "padding": null,
            "right": null,
            "top": null,
            "visibility": null,
            "width": null
          }
        },
        "f37518d278b34353a38bcc50f8743959": {
          "model_module": "@jupyter-widgets/controls",
          "model_module_version": "1.5.0",
          "model_name": "FloatProgressModel",
          "state": {
            "_dom_classes": [],
            "_model_module": "@jupyter-widgets/controls",
            "_model_module_version": "1.5.0",
            "_model_name": "FloatProgressModel",
            "_view_count": null,
            "_view_module": "@jupyter-widgets/controls",
            "_view_module_version": "1.5.0",
            "_view_name": "ProgressView",
            "bar_style": "",
            "description": "",
            "description_tooltip": null,
            "layout": "IPY_MODEL_7a84047d2b724edd891ca63b5741a43b",
            "max": 2,
            "min": 0,
            "orientation": "horizontal",
            "style": "IPY_MODEL_5bec2586cfcb4ddabf9f2378b32fa4dc",
            "value": 2
          }
        },
        "f3c9086c454841f6914e299a11f7d217": {
          "model_module": "@jupyter-widgets/base",
          "model_module_version": "1.2.0",
          "model_name": "LayoutModel",
          "state": {
            "_model_module": "@jupyter-widgets/base",
            "_model_module_version": "1.2.0",
            "_model_name": "LayoutModel",
            "_view_count": null,
            "_view_module": "@jupyter-widgets/base",
            "_view_module_version": "1.2.0",
            "_view_name": "LayoutView",
            "align_content": null,
            "align_items": null,
            "align_self": null,
            "border": null,
            "bottom": null,
            "display": null,
            "flex": null,
            "flex_flow": null,
            "grid_area": null,
            "grid_auto_columns": null,
            "grid_auto_flow": null,
            "grid_auto_rows": null,
            "grid_column": null,
            "grid_gap": null,
            "grid_row": null,
            "grid_template_areas": null,
            "grid_template_columns": null,
            "grid_template_rows": null,
            "height": null,
            "justify_content": null,
            "justify_items": null,
            "left": null,
            "margin": null,
            "max_height": null,
            "max_width": null,
            "min_height": null,
            "min_width": null,
            "object_fit": null,
            "object_position": null,
            "order": null,
            "overflow": null,
            "overflow_x": null,
            "overflow_y": null,
            "padding": null,
            "right": null,
            "top": null,
            "visibility": null,
            "width": null
          }
        },
        "f5a56214fe25441e8a5004ec76476a94": {
          "model_module": "@jupyter-widgets/base",
          "model_module_version": "1.2.0",
          "model_name": "LayoutModel",
          "state": {
            "_model_module": "@jupyter-widgets/base",
            "_model_module_version": "1.2.0",
            "_model_name": "LayoutModel",
            "_view_count": null,
            "_view_module": "@jupyter-widgets/base",
            "_view_module_version": "1.2.0",
            "_view_name": "LayoutView",
            "align_content": null,
            "align_items": null,
            "align_self": null,
            "border": null,
            "bottom": null,
            "display": null,
            "flex": null,
            "flex_flow": null,
            "grid_area": null,
            "grid_auto_columns": null,
            "grid_auto_flow": null,
            "grid_auto_rows": null,
            "grid_column": null,
            "grid_gap": null,
            "grid_row": null,
            "grid_template_areas": null,
            "grid_template_columns": null,
            "grid_template_rows": null,
            "height": null,
            "justify_content": null,
            "justify_items": null,
            "left": null,
            "margin": null,
            "max_height": null,
            "max_width": null,
            "min_height": null,
            "min_width": null,
            "object_fit": null,
            "object_position": null,
            "order": null,
            "overflow": null,
            "overflow_x": null,
            "overflow_y": null,
            "padding": null,
            "right": null,
            "top": null,
            "visibility": null,
            "width": null
          }
        },
        "f69d31545a1045d4959e0640abe3409a": {
          "model_module": "@jupyter-widgets/controls",
          "model_module_version": "1.5.0",
          "model_name": "ProgressStyleModel",
          "state": {
            "_model_module": "@jupyter-widgets/controls",
            "_model_module_version": "1.5.0",
            "_model_name": "ProgressStyleModel",
            "_view_count": null,
            "_view_module": "@jupyter-widgets/base",
            "_view_module_version": "1.2.0",
            "_view_name": "StyleView",
            "bar_color": null,
            "description_width": ""
          }
        },
        "f7bf032ee32c46628a3a28ff2cedcc10": {
          "model_module": "@jupyter-widgets/base",
          "model_module_version": "1.2.0",
          "model_name": "LayoutModel",
          "state": {
            "_model_module": "@jupyter-widgets/base",
            "_model_module_version": "1.2.0",
            "_model_name": "LayoutModel",
            "_view_count": null,
            "_view_module": "@jupyter-widgets/base",
            "_view_module_version": "1.2.0",
            "_view_name": "LayoutView",
            "align_content": null,
            "align_items": null,
            "align_self": null,
            "border": null,
            "bottom": null,
            "display": null,
            "flex": null,
            "flex_flow": null,
            "grid_area": null,
            "grid_auto_columns": null,
            "grid_auto_flow": null,
            "grid_auto_rows": null,
            "grid_column": null,
            "grid_gap": null,
            "grid_row": null,
            "grid_template_areas": null,
            "grid_template_columns": null,
            "grid_template_rows": null,
            "height": null,
            "justify_content": null,
            "justify_items": null,
            "left": null,
            "margin": null,
            "max_height": null,
            "max_width": null,
            "min_height": null,
            "min_width": null,
            "object_fit": null,
            "object_position": null,
            "order": null,
            "overflow": null,
            "overflow_x": null,
            "overflow_y": null,
            "padding": null,
            "right": null,
            "top": null,
            "visibility": null,
            "width": null
          }
        },
        "f9499b2235294b638ed87d73894b341f": {
          "model_module": "@jupyter-widgets/controls",
          "model_module_version": "1.5.0",
          "model_name": "DescriptionStyleModel",
          "state": {
            "_model_module": "@jupyter-widgets/controls",
            "_model_module_version": "1.5.0",
            "_model_name": "DescriptionStyleModel",
            "_view_count": null,
            "_view_module": "@jupyter-widgets/base",
            "_view_module_version": "1.2.0",
            "_view_name": "StyleView",
            "description_width": ""
          }
        },
        "fc33ba2055c149a4a85ac6f586de47ee": {
          "model_module": "@jupyter-widgets/controls",
          "model_module_version": "1.5.0",
          "model_name": "FloatProgressModel",
          "state": {
            "_dom_classes": [],
            "_model_module": "@jupyter-widgets/controls",
            "_model_module_version": "1.5.0",
            "_model_name": "FloatProgressModel",
            "_view_count": null,
            "_view_module": "@jupyter-widgets/controls",
            "_view_module_version": "1.5.0",
            "_view_name": "ProgressView",
            "bar_style": "",
            "description": "",
            "description_tooltip": null,
            "layout": "IPY_MODEL_fd11e4046c464b7285ddd7a7b7cd51c8",
            "max": 2,
            "min": 0,
            "orientation": "horizontal",
            "style": "IPY_MODEL_e0e92282b50048c4a25414273f1777ff",
            "value": 2
          }
        },
        "fd11e4046c464b7285ddd7a7b7cd51c8": {
          "model_module": "@jupyter-widgets/base",
          "model_module_version": "1.2.0",
          "model_name": "LayoutModel",
          "state": {
            "_model_module": "@jupyter-widgets/base",
            "_model_module_version": "1.2.0",
            "_model_name": "LayoutModel",
            "_view_count": null,
            "_view_module": "@jupyter-widgets/base",
            "_view_module_version": "1.2.0",
            "_view_name": "LayoutView",
            "align_content": null,
            "align_items": null,
            "align_self": null,
            "border": null,
            "bottom": null,
            "display": null,
            "flex": null,
            "flex_flow": null,
            "grid_area": null,
            "grid_auto_columns": null,
            "grid_auto_flow": null,
            "grid_auto_rows": null,
            "grid_column": null,
            "grid_gap": null,
            "grid_row": null,
            "grid_template_areas": null,
            "grid_template_columns": null,
            "grid_template_rows": null,
            "height": null,
            "justify_content": null,
            "justify_items": null,
            "left": null,
            "margin": null,
            "max_height": null,
            "max_width": null,
            "min_height": null,
            "min_width": null,
            "object_fit": null,
            "object_position": null,
            "order": null,
            "overflow": null,
            "overflow_x": null,
            "overflow_y": null,
            "padding": null,
            "right": null,
            "top": null,
            "visibility": null,
            "width": null
          }
        },
        "fd71a316693343cc9a92fae9471a2f6e": {
          "model_module": "@jupyter-widgets/base",
          "model_module_version": "1.2.0",
          "model_name": "LayoutModel",
          "state": {
            "_model_module": "@jupyter-widgets/base",
            "_model_module_version": "1.2.0",
            "_model_name": "LayoutModel",
            "_view_count": null,
            "_view_module": "@jupyter-widgets/base",
            "_view_module_version": "1.2.0",
            "_view_name": "LayoutView",
            "align_content": null,
            "align_items": null,
            "align_self": null,
            "border": null,
            "bottom": null,
            "display": null,
            "flex": null,
            "flex_flow": null,
            "grid_area": null,
            "grid_auto_columns": null,
            "grid_auto_flow": null,
            "grid_auto_rows": null,
            "grid_column": null,
            "grid_gap": null,
            "grid_row": null,
            "grid_template_areas": null,
            "grid_template_columns": null,
            "grid_template_rows": null,
            "height": null,
            "justify_content": null,
            "justify_items": null,
            "left": null,
            "margin": null,
            "max_height": null,
            "max_width": null,
            "min_height": null,
            "min_width": null,
            "object_fit": null,
            "object_position": null,
            "order": null,
            "overflow": null,
            "overflow_x": null,
            "overflow_y": null,
            "padding": null,
            "right": null,
            "top": null,
            "visibility": null,
            "width": null
          }
        },
        "fe1cfe8194c142fdb11a4dd28e1adb00": {
          "model_module": "@jupyter-widgets/controls",
          "model_module_version": "1.5.0",
          "model_name": "DescriptionStyleModel",
          "state": {
            "_model_module": "@jupyter-widgets/controls",
            "_model_module_version": "1.5.0",
            "_model_name": "DescriptionStyleModel",
            "_view_count": null,
            "_view_module": "@jupyter-widgets/base",
            "_view_module_version": "1.2.0",
            "_view_name": "StyleView",
            "description_width": ""
          }
        },
        "state": {}
      }
    }
  },
  "nbformat": 4,
  "nbformat_minor": 0
}
