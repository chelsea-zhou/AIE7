{
  "cells": [
    {
      "cell_type": "markdown",
      "metadata": {
        "id": "sCk2Rx4cjlYF"
      },
      "source": [
        "# Synthetic Data Generation Using RAGAS - RAG Evaluation with LangSmith\n",
        "\n",
        "In the following notebook we'll explore a use-case for RAGAS' synthetic testset generation workflow!\n",
        "\n",
        "\n",
        "\n",
        "- 🤝 BREAKOUT ROOM #1\n",
        "  1. Use RAGAS to Generate Synthetic Data\n",
        "\n",
        "- 🤝 BREAKOUT ROOM #2\n",
        "  1. Load them into a LangSmith Dataset\n",
        "  2. Evaluate our RAG chain against the synthetic test data\n",
        "  3. Make changes to our pipeline\n",
        "  4. Evaluate the modified pipeline\n",
        "\n",
        "SDG is a critical piece of the puzzle, especially for early iteration! Without it, it would not be nearly as easy to get high quality early signal for our application's performance.\n",
        "\n",
        "Let's dive in!"
      ]
    },
    {
      "cell_type": "markdown",
      "metadata": {
        "id": "5bG2ta-B478G"
      },
      "source": [
        "# 🤝 BREAKOUT ROOM #1"
      ]
    },
    {
      "cell_type": "markdown",
      "metadata": {
        "id": "7VUI7vF_kbv9"
      },
      "source": [
        "## Task 1: Dependencies and API Keys\n",
        "\n",
        "We'll need to install a number of API keys and dependencies, since we'll be leveraging a number of great technologies for this pipeline!\n",
        "\n",
        "1. OpenAI's endpoints to handle the Synthetic Data Generation\n",
        "2. OpenAI's Endpoints for our RAG pipeline and LangSmith evaluation\n",
        "3. QDrant as our vectorstore\n",
        "4. LangSmith for our evaluation coordinator!\n",
        "\n",
        "Let's install and provide all the required information below!"
      ]
    },
    {
      "cell_type": "markdown",
      "metadata": {},
      "source": [
        "## Dependencies and API Keys:\n",
        "\n",
        "> NOTE: DO NOT RUN THESE CELLS IF YOU ARE RUNNING THIS NOTEBOOK LOCALLY"
      ]
    },
    {
      "cell_type": "code",
      "execution_count": null,
      "metadata": {},
      "outputs": [
        {
          "name": "stdout",
          "output_type": "stream",
          "text": [
            "\u001b[?25l   \u001b[90m━━━━━━━━━━━━━━━━━━━━━━━━━━━━━━━━━━━━━━━━\u001b[0m \u001b[32m0.0/175.7 kB\u001b[0m \u001b[31m?\u001b[0m eta \u001b[36m-:--:--\u001b[0m\r\u001b[2K   \u001b[90m━━━━━━━━━━━━━━━━━━━━━━━━━━━━━━━━━━━━━━━━\u001b[0m \u001b[32m175.7/175.7 kB\u001b[0m \u001b[31m8.6 MB/s\u001b[0m eta \u001b[36m0:00:00\u001b[0m\n",
            "\u001b[?25h\u001b[?25l   \u001b[90m━━━━━━━━━━━━━━━━━━━━━━━━━━━━━━━━━━━━━━━━\u001b[0m \u001b[32m0.0/45.5 kB\u001b[0m \u001b[31m?\u001b[0m eta \u001b[36m-:--:--\u001b[0m\r\u001b[2K   \u001b[90m━━━━━━━━━━━━━━━━━━━━━━━━━━━━━━━━━━━━━━━━\u001b[0m \u001b[32m45.5/45.5 kB\u001b[0m \u001b[31m2.9 MB/s\u001b[0m eta \u001b[36m0:00:00\u001b[0m\n",
            "\u001b[?25h\u001b[?25l   \u001b[90m━━━━━━━━━━━━━━━━━━━━━━━━━━━━━━━━━━━━━━━━\u001b[0m \u001b[32m0.0/71.1 kB\u001b[0m \u001b[31m?\u001b[0m eta \u001b[36m-:--:--\u001b[0m\r\u001b[2K   \u001b[90m━━━━━━━━━━━━━━━━━━━━━━━━━━━━━━━━━━━━━━━━\u001b[0m \u001b[32m71.1/71.1 kB\u001b[0m \u001b[31m5.2 MB/s\u001b[0m eta \u001b[36m0:00:00\u001b[0m\n",
            "\u001b[?25h\u001b[?25l   \u001b[90m━━━━━━━━━━━━━━━━━━━━━━━━━━━━━━━━━━━━━━━━\u001b[0m \u001b[32m0.0/480.6 kB\u001b[0m \u001b[31m?\u001b[0m eta \u001b[36m-:--:--\u001b[0m\r\u001b[2K   \u001b[90m━━━━━━━━━━━━━━━━━━━━━━━━━━━━━━━━━━━━━━━━\u001b[0m \u001b[32m480.6/480.6 kB\u001b[0m \u001b[31m24.5 MB/s\u001b[0m eta \u001b[36m0:00:00\u001b[0m\n",
            "\u001b[?25h\u001b[?25l   \u001b[90m━━━━━━━━━━━━━━━━━━━━━━━━━━━━━━━━━━━━━━━━\u001b[0m \u001b[32m0.0/2.5 MB\u001b[0m \u001b[31m?\u001b[0m eta \u001b[36m-:--:--\u001b[0m\r\u001b[2K   \u001b[91m━━━━━━━━━━━━━━━━━━━━━━━━━━━━━━━━━━━━━━━\u001b[0m\u001b[91m╸\u001b[0m \u001b[32m2.5/2.5 MB\u001b[0m \u001b[31m160.4 MB/s\u001b[0m eta \u001b[36m0:00:01\u001b[0m\r\u001b[2K   \u001b[90m━━━━━━━━━━━━━━━━━━━━━━━━━━━━━━━━━━━━━━━━\u001b[0m \u001b[32m2.5/2.5 MB\u001b[0m \u001b[31m68.1 MB/s\u001b[0m eta \u001b[36m0:00:00\u001b[0m\n",
            "\u001b[?25h\u001b[?25l   \u001b[90m━━━━━━━━━━━━━━━━━━━━━━━━━━━━━━━━━━━━━━━━\u001b[0m \u001b[32m0.0/1.0 MB\u001b[0m \u001b[31m?\u001b[0m eta \u001b[36m-:--:--\u001b[0m\r\u001b[2K   \u001b[90m━━━━━━━━━━━━━━━━━━━━━━━━━━━━━━━━━━━━━━━━\u001b[0m \u001b[32m1.0/1.0 MB\u001b[0m \u001b[31m48.2 MB/s\u001b[0m eta \u001b[36m0:00:00\u001b[0m\n",
            "\u001b[2K   \u001b[90m━━━━━━━━━━━━━━━━━━━━━━━━━━━━━━━━━━━━━━━━\u001b[0m \u001b[32m411.6/411.6 kB\u001b[0m \u001b[31m27.5 MB/s\u001b[0m eta \u001b[36m0:00:00\u001b[0m\n",
            "\u001b[2K   \u001b[90m━━━━━━━━━━━━━━━━━━━━━━━━━━━━━━━━━━━━━━━━\u001b[0m \u001b[32m50.9/50.9 kB\u001b[0m \u001b[31m3.2 MB/s\u001b[0m eta \u001b[36m0:00:00\u001b[0m\n",
            "\u001b[2K   \u001b[90m━━━━━━━━━━━━━━━━━━━━━━━━━━━━━━━━━━━━━━━━\u001b[0m \u001b[32m454.8/454.8 kB\u001b[0m \u001b[31m28.4 MB/s\u001b[0m eta \u001b[36m0:00:00\u001b[0m\n",
            "\u001b[2K   \u001b[90m━━━━━━━━━━━━━━━━━━━━━━━━━━━━━━━━━━━━━━━━\u001b[0m \u001b[32m1.2/1.2 MB\u001b[0m \u001b[31m50.3 MB/s\u001b[0m eta \u001b[36m0:00:00\u001b[0m\n",
            "\u001b[2K   \u001b[90m━━━━━━━━━━━━━━━━━━━━━━━━━━━━━━━━━━━━━━━━\u001b[0m \u001b[32m116.3/116.3 kB\u001b[0m \u001b[31m8.5 MB/s\u001b[0m eta \u001b[36m0:00:00\u001b[0m\n",
            "\u001b[2K   \u001b[90m━━━━━━━━━━━━━━━━━━━━━━━━━━━━━━━━━━━━━━━━\u001b[0m \u001b[32m179.3/179.3 kB\u001b[0m \u001b[31m14.9 MB/s\u001b[0m eta \u001b[36m0:00:00\u001b[0m\n",
            "\u001b[2K   \u001b[90m━━━━━━━━━━━━━━━━━━━━━━━━━━━━━━━━━━━━━━━━\u001b[0m \u001b[32m134.8/134.8 kB\u001b[0m \u001b[31m9.5 MB/s\u001b[0m eta \u001b[36m0:00:00\u001b[0m\n",
            "\u001b[2K   \u001b[90m━━━━━━━━━━━━━━━━━━━━━━━━━━━━━━━━━━━━━━━━\u001b[0m \u001b[32m194.1/194.1 kB\u001b[0m \u001b[31m13.1 MB/s\u001b[0m eta \u001b[36m0:00:00\u001b[0m\n",
            "\u001b[2K   \u001b[90m━━━━━━━━━━━━━━━━━━━━━━━━━━━━━━━━━━━━━━━━\u001b[0m \u001b[32m49.3/49.3 kB\u001b[0m \u001b[31m3.4 MB/s\u001b[0m eta \u001b[36m0:00:00\u001b[0m\n",
            "\u001b[?25h\u001b[31mERROR: pip's dependency resolver does not currently take into account all the packages that are installed. This behaviour is the source of the following dependency conflicts.\n",
            "gcsfs 2024.10.0 requires fsspec==2024.10.0, but you have fsspec 2024.9.0 which is incompatible.\u001b[0m\u001b[31m\n",
            "\u001b[0m"
          ]
        }
      ],
      "source": [
        "#!pip install -qU ragas==0.2.10"
      ]
    },
    {
      "cell_type": "code",
      "execution_count": null,
      "metadata": {},
      "outputs": [],
      "source": [
        "#!pip install -qU langchain-community==0.3.14 langchain-openai==0.2.14 unstructured==0.16.12 langgraph==0.2.61 langchain-qdrant==0.2.0"
      ]
    },
    {
      "cell_type": "markdown",
      "metadata": {},
      "source": [
        "### NLTK Import\n",
        "\n",
        "To prevent errors that may occur based on OS - we'll import NLTK and download the needed packages to ensure correct handling of data."
      ]
    },
    {
      "cell_type": "code",
      "execution_count": 1,
      "metadata": {},
      "outputs": [
        {
          "name": "stderr",
          "output_type": "stream",
          "text": [
            "[nltk_data] Downloading package punkt to\n",
            "[nltk_data]     /Users/chenshuzhou/nltk_data...\n",
            "[nltk_data]   Package punkt is already up-to-date!\n",
            "[nltk_data] Downloading package averaged_perceptron_tagger to\n",
            "[nltk_data]     /Users/chenshuzhou/nltk_data...\n",
            "[nltk_data]   Package averaged_perceptron_tagger is already up-to-\n",
            "[nltk_data]       date!\n"
          ]
        },
        {
          "data": {
            "text/plain": [
              "True"
            ]
          },
          "execution_count": 1,
          "metadata": {},
          "output_type": "execute_result"
        }
      ],
      "source": [
        "import nltk\n",
        "nltk.download('punkt')\n",
        "nltk.download('averaged_perceptron_tagger')"
      ]
    },
    {
      "cell_type": "code",
      "execution_count": 2,
      "metadata": {},
      "outputs": [],
      "source": [
        "import os\n",
        "import getpass\n",
        "\n",
        "os.environ[\"LANGCHAIN_TRACING_V2\"] = \"true\"\n",
        "os.environ[\"LANGCHAIN_API_KEY\"] = getpass.getpass(\"LangChain API Key:\")"
      ]
    },
    {
      "cell_type": "markdown",
      "metadata": {},
      "source": [
        "We'll also want to set a project name to make things easier for ourselves."
      ]
    },
    {
      "cell_type": "code",
      "execution_count": 3,
      "metadata": {},
      "outputs": [],
      "source": [
        "from uuid import uuid4\n",
        "\n",
        "os.environ[\"LANGCHAIN_PROJECT\"] = f\"AIM - SDG - {uuid4().hex[0:8]}\""
      ]
    },
    {
      "cell_type": "markdown",
      "metadata": {},
      "source": [
        "OpenAI's API Key!"
      ]
    },
    {
      "cell_type": "code",
      "execution_count": 4,
      "metadata": {},
      "outputs": [],
      "source": [
        "os.environ[\"OPENAI_API_KEY\"] = getpass.getpass(\"OpenAI API Key:\")"
      ]
    },
    {
      "cell_type": "markdown",
      "metadata": {},
      "source": [
        "## Generating Synthetic Test Data\n",
        "\n",
        "We wil be using Ragas to build out a set of synthetic test questions, references, and reference contexts. This is useful because it will allow us to find out how our system is performing.\n",
        "\n",
        "> NOTE: Ragas is best suited for finding *directional* changes in your LLM-based systems. The absolute scores aren't comparable in a vacuum."
      ]
    },
    {
      "cell_type": "markdown",
      "metadata": {},
      "source": [
        "### Data Preparation\n",
        "\n",
        "We'll prepare our data - which should hopefull be familiar at this point since it's our Loan Data use-case!"
      ]
    },
    {
      "cell_type": "markdown",
      "metadata": {},
      "source": [
        "Next, let's load our data into a familiar LangChain format using the `DirectoryLoader`."
      ]
    },
    {
      "cell_type": "code",
      "execution_count": 5,
      "metadata": {},
      "outputs": [],
      "source": [
        "from langchain_community.document_loaders import DirectoryLoader\n",
        "from langchain_community.document_loaders import PyMuPDFLoader\n",
        "\n",
        "\n",
        "path = \"data/\"\n",
        "loader = DirectoryLoader(path, glob=\"*.pdf\", loader_cls=PyMuPDFLoader)\n",
        "docs = loader.load()"
      ]
    },
    {
      "cell_type": "code",
      "execution_count": 6,
      "metadata": {},
      "outputs": [
        {
          "data": {
            "text/plain": [
              "269"
            ]
          },
          "execution_count": 6,
          "metadata": {},
          "output_type": "execute_result"
        }
      ],
      "source": [
        "len(docs)"
      ]
    },
    {
      "cell_type": "markdown",
      "metadata": {},
      "source": [
        "### Knowledge Graph Based Synthetic Generation\n",
        "\n",
        "Ragas uses a knowledge graph based approach to create data. This is extremely useful as it allows us to create complex queries rather simply. The additional testset complexity allows us to evaluate larger problems more effectively, as systems tend to be very strong on simple evaluation tasks.\n",
        "\n",
        "Let's start by defining our `generator_llm` (which will generate our questions, summaries, and more), and our `generator_embeddings` which will be useful in building our graph."
      ]
    },
    {
      "cell_type": "markdown",
      "metadata": {},
      "source": [
        "### Unrolled SDG"
      ]
    },
    {
      "cell_type": "code",
      "execution_count": 7,
      "metadata": {},
      "outputs": [],
      "source": [
        "from ragas.llms import LangchainLLMWrapper\n",
        "from ragas.embeddings import LangchainEmbeddingsWrapper\n",
        "from langchain_openai import ChatOpenAI\n",
        "from langchain_openai import OpenAIEmbeddings\n",
        "generator_llm = LangchainLLMWrapper(ChatOpenAI(model=\"gpt-4.1-nano\"))\n",
        "generator_embeddings = LangchainEmbeddingsWrapper(OpenAIEmbeddings())"
      ]
    },
    {
      "cell_type": "markdown",
      "metadata": {},
      "source": [
        "Next, we're going to instantiate our Knowledge Graph.\n",
        "\n",
        "This graph will contain N number of nodes that have M number of relationships. These nodes and relationships (AKA \"edges\") will define our knowledge graph and be used later to construct relevant questions and responses."
      ]
    },
    {
      "cell_type": "code",
      "execution_count": 8,
      "metadata": {},
      "outputs": [
        {
          "data": {
            "text/plain": [
              "KnowledgeGraph(nodes: 0, relationships: 0)"
            ]
          },
          "execution_count": 8,
          "metadata": {},
          "output_type": "execute_result"
        }
      ],
      "source": [
        "from ragas.testset.graph import KnowledgeGraph\n",
        "\n",
        "kg = KnowledgeGraph()\n",
        "kg"
      ]
    },
    {
      "cell_type": "markdown",
      "metadata": {},
      "source": [
        "The first step we're going to take is to simply insert each of our full documents into the graph. This will provide a base that we can apply transformations to."
      ]
    },
    {
      "cell_type": "code",
      "execution_count": 9,
      "metadata": {},
      "outputs": [
        {
          "data": {
            "text/plain": [
              "KnowledgeGraph(nodes: 20, relationships: 0)"
            ]
          },
          "execution_count": 9,
          "metadata": {},
          "output_type": "execute_result"
        }
      ],
      "source": [
        "from ragas.testset.graph import Node, NodeType\n",
        "\n",
        "### NOTICE: We're using a subset of the data for this example - this is to keep costs/time down.\n",
        "for doc in docs[:20]:\n",
        "    kg.nodes.append(\n",
        "        Node(\n",
        "            type=NodeType.DOCUMENT,\n",
        "            properties={\"page_content\": doc.page_content, \"document_metadata\": doc.metadata}\n",
        "        )\n",
        "    )\n",
        "kg"
      ]
    },
    {
      "cell_type": "code",
      "execution_count": 10,
      "metadata": {},
      "outputs": [
        {
          "data": {
            "text/plain": [
              "KnowledgeGraph(nodes: 20, relationships: 0)"
            ]
          },
          "execution_count": 10,
          "metadata": {},
          "output_type": "execute_result"
        }
      ],
      "source": [
        "kg"
      ]
    },
    {
      "cell_type": "markdown",
      "metadata": {},
      "source": [
        "Now, we'll apply the *default* transformations to our knowledge graph. This will take the nodes currently on the graph and transform them based on a set of [default transformations](https://docs.ragas.io/en/latest/references/transforms/#ragas.testset.transforms.default_transforms).\n",
        "\n",
        "These default transformations are dependent on the corpus length, in our case:\n",
        "\n",
        "- Producing Summaries -> produces summaries of the documents\n",
        "- Extracting Headlines -> finding the overall headline for the document\n",
        "- Theme Extractor -> extracts broad themes about the documents\n",
        "\n",
        "It then uses cosine-similarity and heuristics between the embeddings of the above transformations to construct relationships between the nodes."
      ]
    },
    {
      "cell_type": "code",
      "execution_count": 11,
      "metadata": {},
      "outputs": [
        {
          "data": {
            "application/vnd.jupyter.widget-view+json": {
              "model_id": "b69b973ebfeb4792a47b70bf0e854cf0",
              "version_major": 2,
              "version_minor": 0
            },
            "text/plain": [
              "Applying HeadlinesExtractor:   0%|          | 0/17 [00:00<?, ?it/s]"
            ]
          },
          "metadata": {},
          "output_type": "display_data"
        },
        {
          "data": {
            "application/vnd.jupyter.widget-view+json": {
              "model_id": "a95a075731484bb8bf140ed316edc49a",
              "version_major": 2,
              "version_minor": 0
            },
            "text/plain": [
              "Applying HeadlineSplitter:   0%|          | 0/20 [00:00<?, ?it/s]"
            ]
          },
          "metadata": {},
          "output_type": "display_data"
        },
        {
          "name": "stderr",
          "output_type": "stream",
          "text": [
            "unable to apply transformation: 'headlines' property not found in this node\n",
            "unable to apply transformation: 'headlines' property not found in this node\n",
            "unable to apply transformation: 'headlines' property not found in this node\n"
          ]
        },
        {
          "data": {
            "application/vnd.jupyter.widget-view+json": {
              "model_id": "03f10a0d536545ea97b84213cc26c280",
              "version_major": 2,
              "version_minor": 0
            },
            "text/plain": [
              "Applying SummaryExtractor:   0%|          | 0/31 [00:00<?, ?it/s]"
            ]
          },
          "metadata": {},
          "output_type": "display_data"
        },
        {
          "name": "stderr",
          "output_type": "stream",
          "text": [
            "Property 'summary' already exists in node 'f856f7'. Skipping!\n",
            "Property 'summary' already exists in node 'b2b7db'. Skipping!\n",
            "Property 'summary' already exists in node 'd2de01'. Skipping!\n",
            "Property 'summary' already exists in node 'b5a65e'. Skipping!\n",
            "Property 'summary' already exists in node '40bda3'. Skipping!\n",
            "Property 'summary' already exists in node '887ef0'. Skipping!\n",
            "Property 'summary' already exists in node '9ce0a2'. Skipping!\n",
            "Property 'summary' already exists in node '56e1f8'. Skipping!\n",
            "Property 'summary' already exists in node '7b752b'. Skipping!\n",
            "Property 'summary' already exists in node '2d679d'. Skipping!\n",
            "Property 'summary' already exists in node '9b59ca'. Skipping!\n",
            "Property 'summary' already exists in node '7300d8'. Skipping!\n",
            "Property 'summary' already exists in node 'ee172c'. Skipping!\n",
            "Property 'summary' already exists in node '395297'. Skipping!\n"
          ]
        },
        {
          "data": {
            "application/vnd.jupyter.widget-view+json": {
              "model_id": "7789004dea2e4b35a3682dacae9d2e9f",
              "version_major": 2,
              "version_minor": 0
            },
            "text/plain": [
              "Applying CustomNodeFilter:   0%|          | 0/6 [00:00<?, ?it/s]"
            ]
          },
          "metadata": {},
          "output_type": "display_data"
        },
        {
          "data": {
            "application/vnd.jupyter.widget-view+json": {
              "model_id": "07e8e268479244e0ac7eb016c56011f0",
              "version_major": 2,
              "version_minor": 0
            },
            "text/plain": [
              "Applying [EmbeddingExtractor, ThemesExtractor, NERExtractor]:   0%|          | 0/43 [00:00<?, ?it/s]"
            ]
          },
          "metadata": {},
          "output_type": "display_data"
        },
        {
          "name": "stderr",
          "output_type": "stream",
          "text": [
            "Property 'summary_embedding' already exists in node 'b2b7db'. Skipping!\n",
            "Property 'summary_embedding' already exists in node '56e1f8'. Skipping!\n",
            "Property 'summary_embedding' already exists in node 'b5a65e'. Skipping!\n",
            "Property 'summary_embedding' already exists in node 'd2de01'. Skipping!\n",
            "Property 'summary_embedding' already exists in node '40bda3'. Skipping!\n",
            "Property 'summary_embedding' already exists in node '9b59ca'. Skipping!\n",
            "Property 'summary_embedding' already exists in node 'f856f7'. Skipping!\n",
            "Property 'summary_embedding' already exists in node '7b752b'. Skipping!\n",
            "Property 'summary_embedding' already exists in node '887ef0'. Skipping!\n",
            "Property 'summary_embedding' already exists in node '7300d8'. Skipping!\n",
            "Property 'summary_embedding' already exists in node '9ce0a2'. Skipping!\n",
            "Property 'summary_embedding' already exists in node '2d679d'. Skipping!\n",
            "Property 'summary_embedding' already exists in node '395297'. Skipping!\n",
            "Property 'summary_embedding' already exists in node 'ee172c'. Skipping!\n"
          ]
        },
        {
          "data": {
            "application/vnd.jupyter.widget-view+json": {
              "model_id": "453bb513675344a0835ffccb110ea098",
              "version_major": 2,
              "version_minor": 0
            },
            "text/plain": [
              "Applying [CosineSimilarityBuilder, OverlapScoreBuilder]:   0%|          | 0/2 [00:00<?, ?it/s]"
            ]
          },
          "metadata": {},
          "output_type": "display_data"
        },
        {
          "data": {
            "text/plain": [
              "KnowledgeGraph(nodes: 40, relationships: 478)"
            ]
          },
          "execution_count": 11,
          "metadata": {},
          "output_type": "execute_result"
        }
      ],
      "source": [
        "from ragas.testset.transforms import default_transforms, apply_transforms\n",
        "\n",
        "transformer_llm = generator_llm\n",
        "embedding_model = generator_embeddings\n",
        "\n",
        "default_transforms = default_transforms(documents=docs, llm=transformer_llm, embedding_model=embedding_model)\n",
        "apply_transforms(kg, default_transforms)\n",
        "kg"
      ]
    },
    {
      "cell_type": "markdown",
      "metadata": {},
      "source": [
        "We can save and load our knowledge graphs as follows."
      ]
    },
    {
      "cell_type": "code",
      "execution_count": 12,
      "metadata": {},
      "outputs": [
        {
          "data": {
            "text/plain": [
              "KnowledgeGraph(nodes: 40, relationships: 478)"
            ]
          },
          "execution_count": 12,
          "metadata": {},
          "output_type": "execute_result"
        }
      ],
      "source": [
        "kg.save(\"loan_data_kg.json\")\n",
        "loan_data_kg = KnowledgeGraph.load(\"loan_data_kg.json\")\n",
        "loan_data_kg"
      ]
    },
    {
      "cell_type": "code",
      "execution_count": 15,
      "metadata": {},
      "outputs": [
        {
          "data": {
            "text/plain": [
              "{'page_content': 'Volume 3\\nAcademic Calendars, Cost of Attendance, and\\nPackaging\\nIntroduction\\nThis volume of the Federal Student Aid (FSA) Handbook discusses the academic calendar, payment period, and\\ndisbursement requirements for awarding aid under the Title IV student financial aid programs, determining a student9s\\ncost of attendance, and packaging Title IV aid.\\nThroughout this volume of the Handbook, the words \"we,\" \"our,\" and \"us\" refer to the United States Department of\\nEducation (the Department). The word \"you\" refers to the primary audience of the Handbook, school financial aid\\nadministrators. In other volumes of the Handbook we use \"institution,\" \"school,\" and \"college\" interchangeably, unless a\\nmore specific meaning is provided. In this volume we consistently use the term \"school.\" <HEA= refers to the Higher\\nEducation Act of 1965, as amended. Title IV refers to the student financial aid programs authorized under Title IV of the\\nHEA.\\nWe appreciate any comments that you have on this volume as well as the other volumes of the FSA Handbook. We revise\\nthe text based on questions and feedback from the financial aid community, so please reach out to us about how to\\nimprove the Handbook through the <Contact Customer Support= feature in our Partner Connect9s Help Center clicking on\\n<FSA Handbook= under the Topic section.\\nChanges for 2025-2026\\nThere are no major changes in Volume 3 for 2025-2026. However, we have made minor additions and clarifications to\\nexisting guidance in a few areas, as noted below.\\nChapter 1\\nIn Appendix B, we have added guidance on determining enrollment intensity for Pell Grant recipients who are enrolled in\\nsubscription-based programs.\\nChapter 2\\nWe have revised the discussion of <Allowable Costs= to clarify that for Pell Grant recipients with an enrollment\\nintensity below 50%, the cost of attendance (COA) is still based on the full-year costs for a full-time student. In this\\nsame section, we have also removed text noting that the FAFSA Simplification Act made certain changes to COA\\ncomponents. These changes are no longer new and were previously incorporated into the 2023-2024 FSA Handbook.\\nUnder <Tuition and Fees,= we have added health insurance premiums that are charged to all students as an\\nadditional example of a cost that may be included in this COA component.\\nWe have revised the text under <Costs of Obtaining a License, Certification, or First Professional Credential= to clarify\\nthat the guidance in this section pertains to credentials that are required for a student to practice or participate in\\nthe occupation the program is preparing the student to enter, and have added bar exam fees as an example of one\\nof the types of costs that may be included in this COA component.\\nUnder <Periods of Non-Attendance,= we have added language to clarify that a period of non-attendance is a period\\nduring which the student is not enrolled and is not otherwise engaged in any activity that is a requirement of the\\nstudent9s program of study.\\nChapter 3\\nUnder <Packaging Aid for Certain Dependents of Deceased Servicemembers or Public Safety Officers (Pell Grant Special\\nRule),= we have removed the note explaining that the Pell Grant Special Rule replaced the Iraq and Afghanistan Service\\nGrant (IASG) and Children of Fallen Heroes (CFH) provisions. This change is no longer new for 2025-2026.',\n",
              " 'document_metadata': {'producer': 'GPL Ghostscript 10.00.0',\n",
              "  'creator': 'wkhtmltopdf 0.12.6',\n",
              "  'creationdate': \"D:20250418120630Z00'00'\",\n",
              "  'source': 'data/Academic_Calenders_Cost_of_Attendance_and_Packaging.pdf',\n",
              "  'file_path': 'data/Academic_Calenders_Cost_of_Attendance_and_Packaging.pdf',\n",
              "  'total_pages': 57,\n",
              "  'format': 'PDF 1.7',\n",
              "  'title': '',\n",
              "  'author': '',\n",
              "  'subject': '',\n",
              "  'keywords': '',\n",
              "  'moddate': \"D:20250418120630Z00'00'\",\n",
              "  'trapped': '',\n",
              "  'modDate': \"D:20250418120630Z00'00'\",\n",
              "  'creationDate': \"D:20250418120630Z00'00'\",\n",
              "  'page': 0},\n",
              " 'headlines': ['Introduction',\n",
              "  'Changes for 2025-2026',\n",
              "  'Chapter 1',\n",
              "  'Chapter 2',\n",
              "  'Chapter 3'],\n",
              " 'summary': 'The FSA Handbook Volume 3 covers topics related to academic calendars, cost of attendance, and packaging of Title IV student aid. It explains the roles of the Department of Education and school administrators, and provides guidance on determining enrollment intensity and costs, including health insurance and licensing expenses. Minor updates for 2025-2026 include clarifications on enrollment and cost calculations, as well as removal of outdated notes about certain grant provisions. The handbook emphasizes feedback from the financial aid community for continuous improvement. Changes are mostly clarifications and minor additions, with no major revisions for the specified year.',\n",
              " 'summary_embedding': [0.006464401725679636,\n",
              "  0.012204519473016262,\n",
              "  -0.0015822553541511297,\n",
              "  -0.04508158564567566,\n",
              "  -0.01765356957912445,\n",
              "  0.012949110008776188,\n",
              "  -0.021606670692563057,\n",
              "  0.0005220596794970334,\n",
              "  -0.016895441338419914,\n",
              "  -0.006917925085872412,\n",
              "  0.03067713975906372,\n",
              "  -0.009368306025862694,\n",
              "  0.007500059902667999,\n",
              "  0.0167465228587389,\n",
              "  -0.002768523758277297,\n",
              "  -0.01992795616388321,\n",
              "  0.02344783954322338,\n",
              "  -0.03268076479434967,\n",
              "  0.004396470263600349,\n",
              "  -0.011074095033109188,\n",
              "  -0.015717634931206703,\n",
              "  0.005594584159553051,\n",
              "  -0.03509053215384483,\n",
              "  0.010552882216870785,\n",
              "  -2.0095489162486047e-05,\n",
              "  -0.003733107354491949,\n",
              "  0.009442764334380627,\n",
              "  -0.006088721565902233,\n",
              "  0.01792433112859726,\n",
              "  -0.009029855020344257,\n",
              "  0.01288142055273056,\n",
              "  -0.011155323125422001,\n",
              "  -0.011087633669376373,\n",
              "  -0.016881903633475304,\n",
              "  -0.0014587210025638342,\n",
              "  -0.006393326912075281,\n",
              "  -0.00821757409721613,\n",
              "  -0.014363832771778107,\n",
              "  0.02746863104403019,\n",
              "  0.0017413269961252809,\n",
              "  0.02369152382016182,\n",
              "  0.020401787012815475,\n",
              "  -0.0016372535610571504,\n",
              "  0.01735573448240757,\n",
              "  -0.011568233370780945,\n",
              "  0.0025959142949432135,\n",
              "  0.0028599053621292114,\n",
              "  -0.021904505789279938,\n",
              "  -0.026737578213214874,\n",
              "  0.05152568221092224,\n",
              "  0.012901727110147476,\n",
              "  0.026805268600583076,\n",
              "  -0.01172391977161169,\n",
              "  0.013632779940962791,\n",
              "  0.002431765664368868,\n",
              "  -0.0030155926942825317,\n",
              "  0.003110358724370599,\n",
              "  0.021335909143090248,\n",
              "  -0.01789725385606289,\n",
              "  -0.022446027025580406,\n",
              "  -0.004068173002451658,\n",
              "  -0.018330471590161324,\n",
              "  -0.010119665414094925,\n",
              "  0.010255045257508755,\n",
              "  -0.016976669430732727,\n",
              "  0.01643514819443226,\n",
              "  -0.0033929648343473673,\n",
              "  -0.0009129698155447841,\n",
              "  -0.009842135943472385,\n",
              "  0.013971230015158653,\n",
              "  0.022039886564016342,\n",
              "  0.010911638848483562,\n",
              "  -0.006857004016637802,\n",
              "  -0.0030697446782141924,\n",
              "  0.012454972602427006,\n",
              "  -0.003939562011510134,\n",
              "  -0.022148190066218376,\n",
              "  -0.014851201325654984,\n",
              "  0.013795236125588417,\n",
              "  0.008210805244743824,\n",
              "  0.0015171037521213293,\n",
              "  -0.011053788475692272,\n",
              "  -0.011825455352663994,\n",
              "  0.006657318212091923,\n",
              "  0.0015128731029108167,\n",
              "  0.014377370476722717,\n",
              "  0.016841288655996323,\n",
              "  0.036308955401182175,\n",
              "  -0.033682577311992645,\n",
              "  -0.00716160936281085,\n",
              "  0.004904145374894142,\n",
              "  0.009043393656611443,\n",
              "  0.012630967423319817,\n",
              "  0.038935329765081406,\n",
              "  0.015406260266900063,\n",
              "  0.01202175673097372,\n",
              "  0.007093919441103935,\n",
              "  0.03528006374835968,\n",
              "  0.017572341486811638,\n",
              "  -0.018926143646240234,\n",
              "  -0.00339634926058352,\n",
              "  0.01083718053996563,\n",
              "  -0.03159772604703903,\n",
              "  -0.0025383776519447565,\n",
              "  -0.04085772484540939,\n",
              "  -0.040397435426712036,\n",
              "  0.010701799765229225,\n",
              "  -0.01475643552839756,\n",
              "  -0.004230629187077284,\n",
              "  -0.019264593720436096,\n",
              "  -0.03693170100450516,\n",
              "  0.010031668469309807,\n",
              "  -0.021159915253520012,\n",
              "  -0.015189651399850845,\n",
              "  0.01620500348508358,\n",
              "  -0.0039023326244205236,\n",
              "  -0.00010227546590613201,\n",
              "  0.0006798621616326272,\n",
              "  -0.006545629817992449,\n",
              "  -0.011223013512790203,\n",
              "  0.016042547300457954,\n",
              "  0.011317779310047626,\n",
              "  0.040614042431116104,\n",
              "  0.0035198836121708155,\n",
              "  -0.007838509976863861,\n",
              "  -0.015487488359212875,\n",
              "  0.008799709379673004,\n",
              "  0.009084007702767849,\n",
              "  -0.004880453925579786,\n",
              "  -0.01963012106716633,\n",
              "  -0.004552157130092382,\n",
              "  0.0070668430998921394,\n",
              "  0.019860265776515007,\n",
              "  -0.0036518792621791363,\n",
              "  -0.01937289722263813,\n",
              "  0.024788103997707367,\n",
              "  -0.017423424869775772,\n",
              "  0.016015470027923584,\n",
              "  -0.03706708177924156,\n",
              "  -0.03898948058485985,\n",
              "  0.02289278246462345,\n",
              "  0.03609234467148781,\n",
              "  -0.04107433557510376,\n",
              "  -0.0143232187256217,\n",
              "  -0.021566055715084076,\n",
              "  0.01110794022679329,\n",
              "  0.028213221579790115,\n",
              "  0.018858453258872032,\n",
              "  0.014661668799817562,\n",
              "  0.012218057177960873,\n",
              "  0.0026263748295605183,\n",
              "  0.00012289978621993214,\n",
              "  -0.007601595018059015,\n",
              "  0.02484225481748581,\n",
              "  0.00840710662305355,\n",
              "  0.010315966792404652,\n",
              "  -0.008765864185988903,\n",
              "  0.010106127709150314,\n",
              "  0.007046536076813936,\n",
              "  -0.024192431941628456,\n",
              "  -0.021918045356869698,\n",
              "  0.004866916220635176,\n",
              "  0.035740356892347336,\n",
              "  0.012610659934580326,\n",
              "  -0.0034572703298181295,\n",
              "  0.0070126913487911224,\n",
              "  -0.00911108311265707,\n",
              "  -0.021633746102452278,\n",
              "  0.010072282515466213,\n",
              "  -0.0032745071221143007,\n",
              "  -0.009456302970647812,\n",
              "  0.027861231938004494,\n",
              "  -0.0028615978080779314,\n",
              "  -0.007560980971902609,\n",
              "  -0.0029800552874803543,\n",
              "  0.02542439103126526,\n",
              "  -0.0005884805577807128,\n",
              "  0.00045521571883000433,\n",
              "  -0.019562430679798126,\n",
              "  -0.02051009051501751,\n",
              "  0.005496433470398188,\n",
              "  -0.015744710341095924,\n",
              "  0.006376404780894518,\n",
              "  0.020726699382066727,\n",
              "  -0.028104916214942932,\n",
              "  0.021498365327715874,\n",
              "  0.021606670692563057,\n",
              "  0.015825938433408737,\n",
              "  0.003345581702888012,\n",
              "  -0.00249776360578835,\n",
              "  0.0080821942538023,\n",
              "  -0.00693146325647831,\n",
              "  -0.0017134048976004124,\n",
              "  0.004667230416089296,\n",
              "  -0.6454924941062927,\n",
              "  -0.018682459369301796,\n",
              "  0.012360206805169582,\n",
              "  -0.030189771205186844,\n",
              "  0.001006889739073813,\n",
              "  0.006329021416604519,\n",
              "  0.01257004588842392,\n",
              "  0.018587693572044373,\n",
              "  0.0003873141249641776,\n",
              "  -0.004609693773090839,\n",
              "  0.012820499017834663,\n",
              "  0.014648131094872952,\n",
              "  0.000247068761382252,\n",
              "  -0.033682577311992645,\n",
              "  -0.0006494016270153224,\n",
              "  -0.018357547000050545,\n",
              "  -0.004064788576215506,\n",
              "  -0.02550561912357807,\n",
              "  0.0031678953673690557,\n",
              "  0.0033760422375053167,\n",
              "  -0.006755468901246786,\n",
              "  0.026466816663742065,\n",
              "  -0.01906152442097664,\n",
              "  0.010857487097382545,\n",
              "  0.03606526926159859,\n",
              "  0.013443248346447945,\n",
              "  0.0022422336041927338,\n",
              "  -0.016624681651592255,\n",
              "  0.01590716652572155,\n",
              "  -0.02344783954322338,\n",
              "  -0.0024097664281725883,\n",
              "  0.015392721630632877,\n",
              "  -0.008921551518142223,\n",
              "  0.030595911666750908,\n",
              "  0.037500299513339996,\n",
              "  0.021863892674446106,\n",
              "  -0.010843949392437935,\n",
              "  0.026548044756054878,\n",
              "  0.008021273650228977,\n",
              "  0.029269186779856682,\n",
              "  -0.03433240205049515,\n",
              "  -0.00434908689931035,\n",
              "  0.015568716451525688,\n",
              "  0.023353073745965958,\n",
              "  0.0007331680972129107,\n",
              "  0.01992795616388321,\n",
              "  0.02229710854589939,\n",
              "  -0.01083718053996563,\n",
              "  0.010072282515466213,\n",
              "  -0.020672546699643135,\n",
              "  0.029052577912807465,\n",
              "  -0.0161643885076046,\n",
              "  0.009172004647552967,\n",
              "  0.0015247188275679946,\n",
              "  0.011771303601562977,\n",
              "  -0.03173310309648514,\n",
              "  -0.0011371931759640574,\n",
              "  0.010661185719072819,\n",
              "  0.006356097757816315,\n",
              "  0.007554211653769016,\n",
              "  0.005851806607097387,\n",
              "  0.0038244889583438635,\n",
              "  -0.001932551502250135,\n",
              "  -0.019237518310546875,\n",
              "  -0.012746039777994156,\n",
              "  -0.006921309512108564,\n",
              "  -0.019183365628123283,\n",
              "  0.026683425530791283,\n",
              "  0.03416994586586952,\n",
              "  -0.005327208433300257,\n",
              "  0.006268100347369909,\n",
              "  0.017545266076922417,\n",
              "  0.002184696961194277,\n",
              "  0.008088963106274605,\n",
              "  0.0318143330514431,\n",
              "  0.0023945362772792578,\n",
              "  0.010898101143538952,\n",
              "  0.0028666744474321604,\n",
              "  -0.015067809261381626,\n",
              "  0.006122566759586334,\n",
              "  -0.0035909581929445267,\n",
              "  0.006860388442873955,\n",
              "  -0.002585760783404112,\n",
              "  -0.018736612051725388,\n",
              "  0.005377976223826408,\n",
              "  -0.024205969646573067,\n",
              "  -0.01155469473451376,\n",
              "  0.004907530266791582,\n",
              "  0.0023488453589379787,\n",
              "  0.014390909112989902,\n",
              "  0.013835850171744823,\n",
              "  -0.007087150122970343,\n",
              "  0.016367459669709206,\n",
              "  -0.03752737492322922,\n",
              "  -0.0105393435806036,\n",
              "  0.005696119274944067,\n",
              "  0.0059296502731740475,\n",
              "  -0.005374591331928968,\n",
              "  -0.0013478784821927547,\n",
              "  -0.0006430556531995535,\n",
              "  0.01820862852036953,\n",
              "  0.021268220618367195,\n",
              "  -0.008325878530740738,\n",
              "  0.0173286572098732,\n",
              "  0.008143115788698196,\n",
              "  0.030487608164548874,\n",
              "  -0.02459857054054737,\n",
              "  0.005905958823859692,\n",
              "  0.025113016366958618,\n",
              "  -0.026101291179656982,\n",
              "  0.02918795868754387,\n",
              "  0.007229299284517765,\n",
              "  -0.025031788274645805,\n",
              "  0.00823788158595562,\n",
              "  -0.0017193277599290013,\n",
              "  -0.03733784332871437,\n",
              "  0.03200386464595795,\n",
              "  0.008231112733483315,\n",
              "  0.00011560194980120286,\n",
              "  0.009185542352497578,\n",
              "  0.040397435426712036,\n",
              "  0.015825938433408737,\n",
              "  0.01043780893087387,\n",
              "  0.0009654296445660293,\n",
              "  0.004853378050029278,\n",
              "  0.023312460631132126,\n",
              "  0.009517223574221134,\n",
              "  -0.0056791966781020164,\n",
              "  -0.03552374988794327,\n",
              "  0.001957935281097889,\n",
              "  0.01259035337716341,\n",
              "  0.00040719806565903127,\n",
              "  0.025289010256528854,\n",
              "  -0.003315121168270707,\n",
              "  0.03636310622096062,\n",
              "  -0.00798065960407257,\n",
              "  -0.0003022784658242017,\n",
              "  -0.016326844692230225,\n",
              "  0.0074188318103551865,\n",
              "  -0.03663386404514313,\n",
              "  -0.01968427188694477,\n",
              "  -0.004924452397972345,\n",
              "  -8.524717850377783e-05,\n",
              "  -0.016245616599917412,\n",
              "  -0.031381115317344666,\n",
              "  -0.011060557328164577,\n",
              "  0.00505644828081131,\n",
              "  0.0006219025235623121,\n",
              "  0.027685238048434258,\n",
              "  0.016299769282341003,\n",
              "  -0.006274869665503502,\n",
              "  -0.010938715189695358,\n",
              "  -0.027942460030317307,\n",
              "  -0.00982182938605547,\n",
              "  0.007953583262860775,\n",
              "  -0.009672910906374454,\n",
              "  -0.0026754499413073063,\n",
              "  0.0016812521498650312,\n",
              "  -0.027414478361606598,\n",
              "  0.00043237031786702573,\n",
              "  0.00794681441038847,\n",
              "  0.008183729834854603,\n",
              "  -0.028240296989679337,\n",
              "  0.01992795616388321,\n",
              "  -0.025844069197773933,\n",
              "  0.007933275774121284,\n",
              "  -0.014553365297615528,\n",
              "  0.02889012172818184,\n",
              "  -0.015419797971844673,\n",
              "  -0.046435389667749405,\n",
              "  -0.011148554272949696,\n",
              "  0.00013252446660771966,\n",
              "  0.017288044095039368,\n",
              "  0.028240296989679337,\n",
              "  0.02228357084095478,\n",
              "  0.012942341156303883,\n",
              "  0.011791610158979893,\n",
              "  0.008190498687326908,\n",
              "  -0.018046172335743904,\n",
              "  -0.005147829651832581,\n",
              "  0.005340746603906155,\n",
              "  0.0016812521498650312,\n",
              "  -0.01260389108210802,\n",
              "  0.023231232538819313,\n",
              "  0.006643780507147312,\n",
              "  0.015731172636151314,\n",
              "  -0.01502719521522522,\n",
              "  0.01011289656162262,\n",
              "  -0.013971230015158653,\n",
              "  0.010478422977030277,\n",
              "  0.013287561014294624,\n",
              "  0.008725250139832497,\n",
              "  -0.019291669130325317,\n",
              "  -0.0006912848330102861,\n",
              "  -0.02048301510512829,\n",
              "  0.01585301384329796,\n",
              "  -0.017139125615358353,\n",
              "  -0.004366009496152401,\n",
              "  0.007588056847453117,\n",
              "  0.009361536242067814,\n",
              "  0.04451299086213112,\n",
              "  -0.01735573448240757,\n",
              "  0.01768064685165882,\n",
              "  0.0001441586937289685,\n",
              "  0.004887223243713379,\n",
              "  -0.017802488058805466,\n",
              "  0.003193279029801488,\n",
              "  -0.008319109678268433,\n",
              "  0.009260001592338085,\n",
              "  0.01386292651295662,\n",
              "  0.0033828113228082657,\n",
              "  -0.033438894897699356,\n",
              "  -0.022459564730525017,\n",
              "  -0.04621877893805504,\n",
              "  -0.028511056676506996,\n",
              "  -0.015176113694906235,\n",
              "  -0.0043829320929944515,\n",
              "  -0.002770216204226017,\n",
              "  -0.02367798611521721,\n",
              "  0.00026568351313471794,\n",
              "  -0.002199927344918251,\n",
              "  -0.011629153974354267,\n",
              "  0.051363226026296616,\n",
              "  -0.0118660693988204,\n",
              "  -0.003509730100631714,\n",
              "  0.00942245777696371,\n",
              "  0.005198597442358732,\n",
              "  0.005411820951849222,\n",
              "  0.007655746769160032,\n",
              "  0.00550320278853178,\n",
              "  -0.008048349060118198,\n",
              "  -0.00015462950977962464,\n",
              "  0.011019943282008171,\n",
              "  0.007865586318075657,\n",
              "  0.015947779640555382,\n",
              "  0.001539949094876647,\n",
              "  -0.005953341722488403,\n",
              "  -0.01761295646429062,\n",
              "  0.030839595943689346,\n",
              "  -0.010783027857542038,\n",
              "  0.03230170160531998,\n",
              "  0.008007735013961792,\n",
              "  0.0211463775485754,\n",
              "  -0.0028852892573922873,\n",
              "  -0.0003458539431449026,\n",
              "  -0.028429828584194183,\n",
              "  0.016543453559279442,\n",
              "  0.017572341486811638,\n",
              "  -0.005723195616155863,\n",
              "  0.0013106489786878228,\n",
              "  0.014918891713023186,\n",
              "  0.023935208097100258,\n",
              "  0.004751842934638262,\n",
              "  -0.014621054753661156,\n",
              "  0.015433335676789284,\n",
              "  -0.010160279460251331,\n",
              "  0.008170191198587418,\n",
              "  0.032572463154792786,\n",
              "  0.002149159787222743,\n",
              "  0.025573307648301125,\n",
              "  0.020374711602926254,\n",
              "  0.03701293095946312,\n",
              "  0.014390909112989902,\n",
              "  -0.028402753174304962,\n",
              "  0.007933275774121284,\n",
              "  0.0009645834797993302,\n",
              "  -0.017274506390094757,\n",
              "  0.0076760537922382355,\n",
              "  -0.04299673065543175,\n",
              "  -0.036011118441820145,\n",
              "  0.008129577152431011,\n",
              "  0.0005127522745169699,\n",
              "  -0.004592771176248789,\n",
              "  -0.018939681351184845,\n",
              "  0.014634593389928341,\n",
              "  0.015067809261381626,\n",
              "  0.045514803379774094,\n",
              "  -0.019440587610006332,\n",
              "  0.02400289848446846,\n",
              "  0.01116209290921688,\n",
              "  -0.008136346004903316,\n",
              "  -0.028754740953445435,\n",
              "  0.0156499445438385,\n",
              "  0.011338086798787117,\n",
              "  0.006816389970481396,\n",
              "  0.018709534779191017,\n",
              "  0.028213221579790115,\n",
              "  -0.0026263748295605183,\n",
              "  -0.004240782931447029,\n",
              "  -0.004247551783919334,\n",
              "  -0.012691888026893139,\n",
              "  -0.00010661186388460919,\n",
              "  -0.021322371438145638,\n",
              "  -0.021620208397507668,\n",
              "  -0.0023403840605169535,\n",
              "  -0.00923292525112629,\n",
              "  0.025343162938952446,\n",
              "  -0.004836455453187227,\n",
              "  -0.013815543614327908,\n",
              "  -0.003360812086611986,\n",
              "  -0.01445859856903553,\n",
              "  -0.023014623671770096,\n",
              "  -0.005987186916172504,\n",
              "  -0.0188178401440382,\n",
              "  0.019481202587485313,\n",
              "  0.023853980004787445,\n",
              "  -0.007858817465603352,\n",
              "  -0.014661668799817562,\n",
              "  -0.016665294766426086,\n",
              "  0.0007970505976118147,\n",
              "  0.0291608814150095,\n",
              "  -0.005076755303889513,\n",
              "  -0.023055238649249077,\n",
              "  0.015785323455929756,\n",
              "  0.019237518310546875,\n",
              "  -0.006511784624308348,\n",
              "  -0.02432781085371971,\n",
              "  -0.0026314514689147472,\n",
              "  0.03216632083058357,\n",
              "  0.0038989479653537273,\n",
              "  0.0046976907178759575,\n",
              "  0.00766928493976593,\n",
              "  0.013436478562653065,\n",
              "  0.008610176853835583,\n",
              "  0.08604761958122253,\n",
              "  0.012326361611485481,\n",
              "  -0.004545388277620077,\n",
              "  0.03471146896481514,\n",
              "  0.019873805344104767,\n",
              "  -0.02634497545659542,\n",
              "  -0.008028042502701283,\n",
              "  -0.011019943282008171,\n",
              "  0.010160279460251331,\n",
              "  0.0020425477996468544,\n",
              "  -0.006450863555073738,\n",
              "  -0.00925323273986578,\n",
              "  -0.003193279029801488,\n",
              "  0.0008723557693883777,\n",
              "  0.016719447448849678,\n",
              "  0.024530882015824318,\n",
              "  -0.005956726148724556,\n",
              "  -0.039720531553030014,\n",
              "  0.0062884073704481125,\n",
              "  -0.008447720669209957,\n",
              "  -0.00585519103333354,\n",
              "  -0.015176113694906235,\n",
              "  0.022459564730525017,\n",
              "  0.034034568816423416,\n",
              "  -0.002186389174312353,\n",
              "  -0.012786653824150562,\n",
              "  0.022635558620095253,\n",
              "  0.03032515197992325,\n",
              "  -0.01126362755894661,\n",
              "  -0.013917078264057636,\n",
              "  -0.0014494135975837708,\n",
              "  0.013104797340929508,\n",
              "  0.02455795742571354,\n",
              "  0.02574930340051651,\n",
              "  -0.02834860049188137,\n",
              "  0.004545388277620077,\n",
              "  -0.0028802123852074146,\n",
              "  -0.0073172966949641705,\n",
              "  0.010552882216870785,\n",
              "  -0.007039767224341631,\n",
              "  0.02719786949455738,\n",
              "  -0.002255771541967988,\n",
              "  0.011155323125422001,\n",
              "  -0.015243804082274437,\n",
              "  0.019210441038012505,\n",
              "  -0.019535353407263756,\n",
              "  0.007493290584534407,\n",
              "  0.012671581469476223,\n",
              "  0.017477575689554214,\n",
              "  0.0016067930264398456,\n",
              "  0.010255045257508755,\n",
              "  0.013558320701122284,\n",
              "  -0.014377370476722717,\n",
              "  0.013930615969002247,\n",
              "  0.021010998636484146,\n",
              "  -0.019318746402859688,\n",
              "  0.009172004647552967,\n",
              "  0.006562552414834499,\n",
              "  0.0017954790964722633,\n",
              "  -0.023583220317959785,\n",
              "  -0.01879076287150383,\n",
              "  -0.021186992526054382,\n",
              "  0.02604713849723339,\n",
              "  -0.0013267253525555134,\n",
              "  -0.012637736275792122,\n",
              "  -0.018871990963816643,\n",
              "  -0.024747489020228386,\n",
              "  0.00263652834109962,\n",
              "  -0.022906320169568062,\n",
              "  0.02953994646668434,\n",
              "  0.006413633935153484,\n",
              "  -0.04169708490371704,\n",
              "  -0.03037930279970169,\n",
              "  0.013903540559113026,\n",
              "  0.015379183925688267,\n",
              "  0.012834037654101849,\n",
              "  0.01934582181274891,\n",
              "  0.006183487828820944,\n",
              "  -0.004457391332834959,\n",
              "  0.03463023900985718,\n",
              "  -0.004734920337796211,\n",
              "  -0.015149037353694439,\n",
              "  -0.024422576650977135,\n",
              "  -0.015744710341095924,\n",
              "  -0.016123775392770767,\n",
              "  0.0204965528100729,\n",
              "  -0.01791079342365265,\n",
              "  -0.0021830047480762005,\n",
              "  0.010776259005069733,\n",
              "  0.01126362755894661,\n",
              "  -0.022418951615691185,\n",
              "  0.009754138998687267,\n",
              "  0.009381843730807304,\n",
              "  -0.01650283858180046,\n",
              "  -0.00782497227191925,\n",
              "  0.009517223574221134,\n",
              "  0.028213221579790115,\n",
              "  0.005022603087127209,\n",
              "  0.011317779310047626,\n",
              "  -0.020428862422704697,\n",
              "  0.0059736487455666065,\n",
              "  0.01012643426656723,\n",
              "  -0.006339175160974264,\n",
              "  -0.010038437321782112,\n",
              "  0.02514009177684784,\n",
              "  0.016651757061481476,\n",
              "  -0.0010170432506129146,\n",
              "  0.002117007039487362,\n",
              "  -0.009043393656611443,\n",
              "  -0.02461211010813713,\n",
              "  0.02837567776441574,\n",
              "  -0.017856640741229057,\n",
              "  -0.00018128246301785111,\n",
              "  0.004430314991623163,\n",
              "  0.01849292777478695,\n",
              "  0.014350295066833496,\n",
              "  0.01911567524075508,\n",
              "  0.006630242336541414,\n",
              "  0.0236644484102726,\n",
              "  0.0029377490282058716,\n",
              "  0.0014781819190829992,\n",
              "  -0.026683425530791283,\n",
              "  0.02340722642838955,\n",
              "  0.02258140780031681,\n",
              "  -0.02953994646668434,\n",
              "  0.004430314991623163,\n",
              "  0.013774929568171501,\n",
              "  -0.0054659731686115265,\n",
              "  -0.02195865847170353,\n",
              "  0.01332817506045103,\n",
              "  0.011913452297449112,\n",
              "  0.02459857054054737,\n",
              "  -0.0026449894066900015,\n",
              "  -0.020997459068894386,\n",
              "  -0.01908859983086586,\n",
              "  -0.007547442801296711,\n",
              "  -0.023082314059138298,\n",
              "  0.011520849540829659,\n",
              "  -0.021742049604654312,\n",
              "  -0.019129212945699692,\n",
              "  -0.00029360566986724734,\n",
              "  -0.012400820851325989,\n",
              "  0.010349811986088753,\n",
              "  -0.026764653623104095,\n",
              "  0.028727665543556213,\n",
              "  -0.025316085666418076,\n",
              "  -0.009591682814061642,\n",
              "  -0.017802488058805466,\n",
              "  0.018682459369301796,\n",
              "  0.03988298773765564,\n",
              "  0.010079051367938519,\n",
              "  -0.0033320437651127577,\n",
              "  -0.01054611336439848,\n",
              "  0.018073249608278275,\n",
              "  -0.0018902452429756522,\n",
              "  -0.005066601559519768,\n",
              "  -0.011067326180636883,\n",
              "  -0.016299769282341003,\n",
              "  0.014472137205302715,\n",
              "  0.010552882216870785,\n",
              "  0.03319520875811577,\n",
              "  -0.015825938433408737,\n",
              "  0.0005093677900731564,\n",
              "  -0.004098633769899607,\n",
              "  -0.011480235494673252,\n",
              "  0.017761874943971634,\n",
              "  -0.002364075742661953,\n",
              "  -0.011818686500191689,\n",
              "  -0.003706031246110797,\n",
              "  0.029323337599635124,\n",
              "  0.025289010256528854,\n",
              "  -0.018858453258872032,\n",
              "  0.01849292777478695,\n",
              "  -0.047301821410655975,\n",
              "  0.025492079555988312,\n",
              "  0.00952399242669344,\n",
              "  0.0015678711934015155,\n",
              "  -0.03793351352214813,\n",
              "  -0.011744227260351181,\n",
              "  -0.032572463154792786,\n",
              "  0.00651855394244194,\n",
              "  0.010255045257508755,\n",
              "  -0.020320558920502663,\n",
              "  0.00550320278853178,\n",
              "  -0.03435948118567467,\n",
              "  0.008569562807679176,\n",
              "  -0.00047171517508104444,\n",
              "  0.00665393378585577,\n",
              "  0.005584430880844593,\n",
              "  -0.017125587910413742,\n",
              "  0.020740237087011337,\n",
              "  -0.01799202151596546,\n",
              "  0.023596758022904396,\n",
              "  0.020131027325987816,\n",
              "  -0.010011360980570316,\n",
              "  0.016705909743905067,\n",
              "  -0.03676924481987953,\n",
              "  -0.03793351352214813,\n",
              "  -0.0040884800255298615,\n",
              "  0.03159772604703903,\n",
              "  0.009273539297282696,\n",
              "  -0.003536806209012866,\n",
              "  0.010058744810521603,\n",
              "  -0.010295659303665161,\n",
              "  -0.008792940527200699,\n",
              "  -0.005807808134704828,\n",
              "  0.0162320788949728,\n",
              "  -0.0009992746636271477,\n",
              "  0.0037534143775701523,\n",
              "  0.00012533240078482777,\n",
              "  0.005966879893094301,\n",
              "  -0.015000119805335999,\n",
              "  -0.007567749824374914,\n",
              "  -0.01012643426656723,\n",
              "  0.021024536341428757,\n",
              "  -0.010911638848483562,\n",
              "  -0.005333977285772562,\n",
              "  0.019575968384742737,\n",
              "  0.01083718053996563,\n",
              "  -0.009727062657475471,\n",
              "  0.02577637881040573,\n",
              "  -0.01559579186141491,\n",
              "  0.013145411387085915,\n",
              "  -0.010275352746248245,\n",
              "  0.004278012551367283,\n",
              "  0.0056250449270009995,\n",
              "  0.005628429353237152,\n",
              "  -0.037148311734199524,\n",
              "  -0.008149884641170502,\n",
              "  0.019183365628123283,\n",
              "  -0.010796566493809223,\n",
              "  0.0263179000467062,\n",
              "  0.013849387876689434,\n",
              "  -0.011703613214194775,\n",
              "  -0.01852000318467617,\n",
              "  -0.0051512145437300205,\n",
              "  0.023840442299842834,\n",
              "  -0.014079534448683262,\n",
              "  -0.035442519932985306,\n",
              "  0.0037601834628731012,\n",
              "  0.013395864516496658,\n",
              "  0.008562793955206871,\n",
              "  -0.0077234371565282345,\n",
              "  0.009503685869276524,\n",
              "  -0.013422940857708454,\n",
              "  0.030758367851376534,\n",
              "  0.025099478662014008,\n",
              "  0.03416994586586952,\n",
              "  0.011229782365262508,\n",
              "  -0.008779401890933514,\n",
              "  -0.013693701475858688,\n",
              "  0.03668801859021187,\n",
              "  0.0028395983390510082,\n",
              "  0.002502840245142579,\n",
              "  0.0025502233766019344,\n",
              "  -0.008021273650228977,\n",
              "  -0.0023589988704770803,\n",
              "  -0.014824124984443188,\n",
              "  -0.01547394972294569,\n",
              "  -0.01387646421790123,\n",
              "  -0.02432781085371971,\n",
              "  0.03471146896481514,\n",
              "  -0.0037872593384236097,\n",
              "  0.014417984522879124,\n",
              "  0.0008478181553073227,\n",
              "  -0.006393326912075281,\n",
              "  -0.017139125615358353,\n",
              "  -0.002795599866658449,\n",
              "  0.00014648554497398436,\n",
              "  0.017193278297781944,\n",
              "  -0.02370506338775158,\n",
              "  -0.020604858174920082,\n",
              "  0.0016871750121936202,\n",
              "  -0.0067419311963021755,\n",
              "  -0.00322035513818264,\n",
              "  0.003719569416716695,\n",
              "  -0.0012835729867219925,\n",
              "  -0.005398283246904612,\n",
              "  -0.03606526926159859,\n",
              "  -0.011101171374320984,\n",
              "  -0.0009408919722773135,\n",
              "  0.028483981266617775,\n",
              "  -0.021890968084335327,\n",
              "  -0.0014367217663675547,\n",
              "  0.007906200364232063,\n",
              "  0.006748700048774481,\n",
              "  -0.019318746402859688,\n",
              "  -0.03509053215384483,\n",
              "  0.0017971713095903397,\n",
              "  -0.002426689025014639,\n",
              "  -0.021051611751317978,\n",
              "  0.008589870296418667,\n",
              "  -0.0026399127673357725,\n",
              "  0.011981142684817314,\n",
              "  -0.008616945706307888,\n",
              "  -0.01140577718615532,\n",
              "  -0.004860146902501583,\n",
              "  0.006985615007579327,\n",
              "  -0.03154357150197029,\n",
              "  0.009361536242067814,\n",
              "  -0.000652786111459136,\n",
              "  0.02252725511789322,\n",
              "  -0.016096698120236397,\n",
              "  0.0033675809390842915,\n",
              "  -0.02051009051501751,\n",
              "  -0.04573141038417816,\n",
              "  0.02539731375873089,\n",
              "  -0.017220353707671165,\n",
              "  -0.025600384920835495,\n",
              "  -0.015528102405369282,\n",
              "  0.02167436107993126,\n",
              "  0.04895345866680145,\n",
              "  -0.004545388277620077,\n",
              "  -0.002287924289703369,\n",
              "  0.0057130418717861176,\n",
              "  -0.006728393025696278,\n",
              "  0.012258671224117279,\n",
              "  0.008149884641170502,\n",
              "  -0.02550561912357807,\n",
              "  0.02084854245185852,\n",
              "  0.007852047681808472,\n",
              "  -0.023488454520702362,\n",
              "  0.00809573195874691,\n",
              "  -0.005645351950079203,\n",
              "  0.023082314059138298,\n",
              "  -0.005682581569999456,\n",
              "  0.02780708111822605,\n",
              "  -0.01910213753581047,\n",
              "  -0.014539826661348343,\n",
              "  -0.014932429417967796,\n",
              "  -0.0011431160382926464,\n",
              "  0.0049955272115767,\n",
              "  -0.0038447959814220667,\n",
              "  -0.009381843730807304,\n",
              "  0.0041900151409208775,\n",
              "  0.01054611336439848,\n",
              "  0.015135499648749828,\n",
              "  0.007581287994980812,\n",
              "  0.00969998724758625,\n",
              "  -0.005229057744145393,\n",
              "  0.010945484042167664,\n",
              "  0.0030697446782141924,\n",
              "  0.017802488058805466,\n",
              "  0.026385588571429253,\n",
              "  -0.01476997323334217,\n",
              "  -0.006021031644195318,\n",
              "  -0.020753774791955948,\n",
              "  -0.008792940527200699,\n",
              "  -0.0066370111890137196,\n",
              "  -0.0025756072718650103,\n",
              "  -0.016705909743905067,\n",
              "  0.02600652538239956,\n",
              "  0.007384986616671085,\n",
              "  -0.02430073544383049,\n",
              "  0.008014503866434097,\n",
              "  0.0029648251365870237,\n",
              "  -0.02607421576976776,\n",
              "  0.0027143717743456364,\n",
              "  -0.020428862422704697,\n",
              "  0.020902693271636963,\n",
              "  0.03292445093393326,\n",
              "  0.016272692009806633,\n",
              "  -0.0004924452514387667,\n",
              "  0.017829565331339836,\n",
              "  -0.025316085666418076,\n",
              "  0.014553365297615528,\n",
              "  -0.02832152508199215,\n",
              "  0.003061283379793167,\n",
              "  0.010011360980570316,\n",
              "  0.021782664582133293,\n",
              "  -0.0012243441306054592,\n",
              "  0.004592771176248789,\n",
              "  -0.025871144607663155,\n",
              "  -0.0072157615795731544,\n",
              "  0.019020909443497658,\n",
              "  -0.006674240808933973,\n",
              "  -0.005323824007064104,\n",
              "  0.002174543449655175,\n",
              "  0.005009065382182598,\n",
              "  -0.017003744840621948,\n",
              "  0.01231282390654087,\n",
              "  0.012008218094706535,\n",
              "  -0.004054635297507048,\n",
              "  0.02228357084095478,\n",
              "  0.015609330497682095,\n",
              "  -0.03230170160531998,\n",
              "  0.01736927218735218,\n",
              "  0.0025299163535237312,\n",
              "  -0.013524476438760757,\n",
              "  -0.004054635297507048,\n",
              "  -0.005949957296252251,\n",
              "  0.0008626253111287951,\n",
              "  -0.025031788274645805,\n",
              "  0.028213221579790115,\n",
              "  -0.020469477400183678,\n",
              "  0.0022913089487701654,\n",
              "  -0.005438897293061018,\n",
              "  -0.0010889640543609858,\n",
              "  0.0020053184125572443,\n",
              "  0.0015839476836845279,\n",
              "  0.00840710662305355,\n",
              "  0.014499212615191936,\n",
              "  -0.0028565209358930588,\n",
              "  -0.009138159453868866,\n",
              "  0.00020423362730070949,\n",
              "  0.012346669100224972,\n",
              "  -0.047301821410655975,\n",
              "  -0.010187355801463127,\n",
              "  0.007310527376830578,\n",
              "  -0.008826784789562225,\n",
              "  0.017274506390094757,\n",
              "  0.003997098654508591,\n",
              "  -0.011886375956237316,\n",
              "  -0.0014045689022168517,\n",
              "  -0.018858453258872032,\n",
              "  -0.009754138998687267,\n",
              "  -0.015365646220743656,\n",
              "  -0.02282509207725525,\n",
              "  0.029052577912807465,\n",
              "  -0.014973043464124203,\n",
              "  -0.015433335676789284,\n",
              "  -0.010261815041303635,\n",
              "  -0.010776259005069733,\n",
              "  -0.022094039246439934,\n",
              "  -0.003970022778958082,\n",
              "  -0.015040733851492405,\n",
              "  -0.019481202587485313,\n",
              "  -0.022635558620095253,\n",
              "  0.002286232076585293,\n",
              "  -0.0018479388672858477,\n",
              "  -0.028240296989679337,\n",
              "  0.001495104399509728,\n",
              "  0.0004215822264086455,\n",
              "  -0.012752809561789036,\n",
              "  -0.027346787974238396,\n",
              "  0.018966756761074066,\n",
              "  0.19668026268482208,\n",
              "  -0.0007454368751496077,\n",
              "  0.01346355490386486,\n",
              "  0.009645834565162659,\n",
              "  -0.01731511950492859,\n",
              "  0.005736733321100473,\n",
              "  0.025803454220294952,\n",
              "  -0.001399492146447301,\n",
              "  -0.024666260927915573,\n",
              "  0.010309197939932346,\n",
              "  -0.0269000343978405,\n",
              "  0.024070588871836662,\n",
              "  -0.023231232538819313,\n",
              "  0.003403118345886469,\n",
              "  0.003054514294490218,\n",
              "  -0.016313306987285614,\n",
              "  -0.046733222901821136,\n",
              "  -0.022960470989346504,\n",
              "  -0.0217285118997097,\n",
              "  0.034549012780189514,\n",
              "  0.006765622645616531,\n",
              "  0.013409403152763844,\n",
              "  -0.00044886977411806583,\n",
              "  -0.01014674175530672,\n",
              "  0.03787936270236969,\n",
              "  0.01705789752304554,\n",
              "  -0.021349448710680008,\n",
              "  0.007256375625729561,\n",
              "  0.025058863684535027,\n",
              "  0.004108787048608065,\n",
              "  0.0005114831146784127,\n",
              "  -0.03609234467148781,\n",
              "  -0.017247429117560387,\n",
              "  -0.017247429117560387,\n",
              "  -0.022703249007463455,\n",
              "  -0.011656230315566063,\n",
              "  -0.014932429417967796,\n",
              "  -0.0010678108083084226,\n",
              "  0.016001932322978973,\n",
              "  0.01963012106716633,\n",
              "  -0.015352107584476471,\n",
              "  0.006095490884035826,\n",
              "  -0.01055965106934309,\n",
              "  -0.04161585494875908,\n",
              "  0.00020497399964369833,\n",
              "  0.027400940656661987,\n",
              "  ...]}"
            ]
          },
          "execution_count": 15,
          "metadata": {},
          "output_type": "execute_result"
        }
      ],
      "source": [
        "loan_data_kg.nodes[0].properties"
      ]
    },
    {
      "cell_type": "markdown",
      "metadata": {},
      "source": [
        "Using our knowledge graph, we can construct a \"test set generator\" - which will allow us to create queries."
      ]
    },
    {
      "cell_type": "code",
      "execution_count": 16,
      "metadata": {},
      "outputs": [],
      "source": [
        "from ragas.testset import TestsetGenerator\n",
        "\n",
        "generator = TestsetGenerator(llm=generator_llm, embedding_model=embedding_model, knowledge_graph=loan_data_kg)"
      ]
    },
    {
      "cell_type": "markdown",
      "metadata": {},
      "source": [
        "However, we'd like to be able to define the kinds of queries we're generating - which is made simple by Ragas having pre-created a number of different \"QuerySynthesizer\"s.\n",
        "\n",
        "Each of these Synthetsizers is going to tackle a separate kind of query which will be generated from a scenario and a persona.\n",
        "\n",
        "In essence, Ragas will use an LLM to generate a persona of someone who would interact with the data - and then use a scenario to construct a question from that data and persona."
      ]
    },
    {
      "cell_type": "code",
      "execution_count": 17,
      "metadata": {},
      "outputs": [],
      "source": [
        "from ragas.testset.synthesizers import default_query_distribution, SingleHopSpecificQuerySynthesizer, MultiHopAbstractQuerySynthesizer, MultiHopSpecificQuerySynthesizer\n",
        "\n",
        "query_distribution = [\n",
        "        (SingleHopSpecificQuerySynthesizer(llm=generator_llm), 0.5),\n",
        "        (MultiHopAbstractQuerySynthesizer(llm=generator_llm), 0.25),\n",
        "        (MultiHopSpecificQuerySynthesizer(llm=generator_llm), 0.25),\n",
        "]"
      ]
    },
    {
      "cell_type": "markdown",
      "metadata": {},
      "source": [
        "#### ❓ Question #1:\n",
        "\n",
        "What are the three types of query synthesizers doing? Describe each one in simple terms.\n"
      ]
    },
    {
      "cell_type": "markdown",
      "metadata": {},
      "source": [
        "#### ✅ answer #1: \n",
        "- single hop specific query synthesizer :Creates simple, direct questions that can be answered from a single document/source.\n",
        "\n",
        "- multi hop specific query synthesizer: Creates complex but factual questions that need multiple specific pieces of information\n",
        "\n",
        "- multi hop abstract query synthesizer: Creates complex, conceptual questions that require combining information from multiple documents."
      ]
    },
    {
      "cell_type": "markdown",
      "metadata": {},
      "source": [
        "Finally, we can use our `TestSetGenerator` to generate our testset!"
      ]
    },
    {
      "cell_type": "code",
      "execution_count": 18,
      "metadata": {},
      "outputs": [
        {
          "data": {
            "application/vnd.jupyter.widget-view+json": {
              "model_id": "2aaed5a646694f148315062737a4f3d9",
              "version_major": 2,
              "version_minor": 0
            },
            "text/plain": [
              "Generating personas:   0%|          | 0/3 [00:00<?, ?it/s]"
            ]
          },
          "metadata": {},
          "output_type": "display_data"
        },
        {
          "data": {
            "application/vnd.jupyter.widget-view+json": {
              "model_id": "8d44395521e74609b2b6c11f00d4d2ba",
              "version_major": 2,
              "version_minor": 0
            },
            "text/plain": [
              "Generating Scenarios:   0%|          | 0/3 [00:00<?, ?it/s]"
            ]
          },
          "metadata": {},
          "output_type": "display_data"
        },
        {
          "data": {
            "application/vnd.jupyter.widget-view+json": {
              "model_id": "54496a6634444602879c18d0b1dfcebb",
              "version_major": 2,
              "version_minor": 0
            },
            "text/plain": [
              "Generating Samples:   0%|          | 0/11 [00:00<?, ?it/s]"
            ]
          },
          "metadata": {},
          "output_type": "display_data"
        },
        {
          "data": {
            "text/html": [
              "<div>\n",
              "<style scoped>\n",
              "    .dataframe tbody tr th:only-of-type {\n",
              "        vertical-align: middle;\n",
              "    }\n",
              "\n",
              "    .dataframe tbody tr th {\n",
              "        vertical-align: top;\n",
              "    }\n",
              "\n",
              "    .dataframe thead th {\n",
              "        text-align: right;\n",
              "    }\n",
              "</style>\n",
              "<table border=\"1\" class=\"dataframe\">\n",
              "  <thead>\n",
              "    <tr style=\"text-align: right;\">\n",
              "      <th></th>\n",
              "      <th>user_input</th>\n",
              "      <th>reference_contexts</th>\n",
              "      <th>reference</th>\n",
              "      <th>synthesizer_name</th>\n",
              "    </tr>\n",
              "  </thead>\n",
              "  <tbody>\n",
              "    <tr>\n",
              "      <th>0</th>\n",
              "      <td>How does the definition of a 'Department' infl...</td>\n",
              "      <td>[Chapter 1 Academic Years, Academic Calendars,...</td>\n",
              "      <td>The context does not explicitly define 'Depart...</td>\n",
              "      <td>single_hop_specifc_query_synthesizer</td>\n",
              "    </tr>\n",
              "    <tr>\n",
              "      <th>1</th>\n",
              "      <td>What does 34 CFR 668.3(b) specify regarding we...</td>\n",
              "      <td>[Regulatory Citations Academic year minimums: ...</td>\n",
              "      <td>34 CFR 668.3(b) pertains to weeks of instructi...</td>\n",
              "      <td>single_hop_specifc_query_synthesizer</td>\n",
              "    </tr>\n",
              "    <tr>\n",
              "      <th>2</th>\n",
              "      <td>What information does Volume 8 provide regardi...</td>\n",
              "      <td>[Inclusion of Clinical Work in a Standard Term...</td>\n",
              "      <td>Volume 8 states that clinical work conducted o...</td>\n",
              "      <td>single_hop_specifc_query_synthesizer</td>\n",
              "    </tr>\n",
              "    <tr>\n",
              "      <th>3</th>\n",
              "      <td>What are Non-Term Characteristics in programs ...</td>\n",
              "      <td>[Non-Term Characteristics A program that measu...</td>\n",
              "      <td>A program that measures progress in clock hour...</td>\n",
              "      <td>single_hop_specifc_query_synthesizer</td>\n",
              "    </tr>\n",
              "    <tr>\n",
              "      <th>4</th>\n",
              "      <td>What is Direct Loan how does it work?</td>\n",
              "      <td>[both the credit or clock hours and the weeks ...</td>\n",
              "      <td>The Direct Loan program involves disbursing fu...</td>\n",
              "      <td>single_hop_specifc_query_synthesizer</td>\n",
              "    </tr>\n",
              "    <tr>\n",
              "      <th>5</th>\n",
              "      <td>if the payment periods and installment schedul...</td>\n",
              "      <td>[&lt;1-hop&gt;\\n\\nboth the credit or clock hours and...</td>\n",
              "      <td>the first part explains that disbursement of f...</td>\n",
              "      <td>multi_hop_abstract_query_synthesizer</td>\n",
              "    </tr>\n",
              "    <tr>\n",
              "      <th>6</th>\n",
              "      <td>How do the regulatory citations, such as 34 CF...</td>\n",
              "      <td>[&lt;1-hop&gt;\\n\\nChapter 1 Academic Years, Academic...</td>\n",
              "      <td>The regulatory citations 34 CFR 668.3(a) and 3...</td>\n",
              "      <td>multi_hop_abstract_query_synthesizer</td>\n",
              "    </tr>\n",
              "    <tr>\n",
              "      <th>7</th>\n",
              "      <td>How do the regulatory citations 34 CFR 668.3(a...</td>\n",
              "      <td>[&lt;1-hop&gt;\\n\\nChapter 1 Academic Years, Academic...</td>\n",
              "      <td>The regulatory citations 34 CFR 668.3(a) and 3...</td>\n",
              "      <td>multi_hop_abstract_query_synthesizer</td>\n",
              "    </tr>\n",
              "    <tr>\n",
              "      <th>8</th>\n",
              "      <td>How do the definitions of academic years and i...</td>\n",
              "      <td>[&lt;1-hop&gt;\\n\\nboth the credit or clock hours and...</td>\n",
              "      <td>Volume 2 explains that the academic year for c...</td>\n",
              "      <td>multi_hop_specific_query_synthesizer</td>\n",
              "    </tr>\n",
              "    <tr>\n",
              "      <th>9</th>\n",
              "      <td>whats appendix A and B about in disbursement r...</td>\n",
              "      <td>[&lt;1-hop&gt;\\n\\nDisbursement Timing in Subscriptio...</td>\n",
              "      <td>Appendix B provides detailed guidance on disbu...</td>\n",
              "      <td>multi_hop_specific_query_synthesizer</td>\n",
              "    </tr>\n",
              "    <tr>\n",
              "      <th>10</th>\n",
              "      <td>Volume 8 and Volume 7 what do they say about c...</td>\n",
              "      <td>[&lt;1-hop&gt;\\n\\nInclusion of Clinical Work in a St...</td>\n",
              "      <td>Volume 8 talks about clinical work in standard...</td>\n",
              "      <td>multi_hop_specific_query_synthesizer</td>\n",
              "    </tr>\n",
              "  </tbody>\n",
              "</table>\n",
              "</div>"
            ],
            "text/plain": [
              "                                           user_input  \\\n",
              "0   How does the definition of a 'Department' infl...   \n",
              "1   What does 34 CFR 668.3(b) specify regarding we...   \n",
              "2   What information does Volume 8 provide regardi...   \n",
              "3   What are Non-Term Characteristics in programs ...   \n",
              "4               What is Direct Loan how does it work?   \n",
              "5   if the payment periods and installment schedul...   \n",
              "6   How do the regulatory citations, such as 34 CF...   \n",
              "7   How do the regulatory citations 34 CFR 668.3(a...   \n",
              "8   How do the definitions of academic years and i...   \n",
              "9   whats appendix A and B about in disbursement r...   \n",
              "10  Volume 8 and Volume 7 what do they say about c...   \n",
              "\n",
              "                                   reference_contexts  \\\n",
              "0   [Chapter 1 Academic Years, Academic Calendars,...   \n",
              "1   [Regulatory Citations Academic year minimums: ...   \n",
              "2   [Inclusion of Clinical Work in a Standard Term...   \n",
              "3   [Non-Term Characteristics A program that measu...   \n",
              "4   [both the credit or clock hours and the weeks ...   \n",
              "5   [<1-hop>\\n\\nboth the credit or clock hours and...   \n",
              "6   [<1-hop>\\n\\nChapter 1 Academic Years, Academic...   \n",
              "7   [<1-hop>\\n\\nChapter 1 Academic Years, Academic...   \n",
              "8   [<1-hop>\\n\\nboth the credit or clock hours and...   \n",
              "9   [<1-hop>\\n\\nDisbursement Timing in Subscriptio...   \n",
              "10  [<1-hop>\\n\\nInclusion of Clinical Work in a St...   \n",
              "\n",
              "                                            reference  \\\n",
              "0   The context does not explicitly define 'Depart...   \n",
              "1   34 CFR 668.3(b) pertains to weeks of instructi...   \n",
              "2   Volume 8 states that clinical work conducted o...   \n",
              "3   A program that measures progress in clock hour...   \n",
              "4   The Direct Loan program involves disbursing fu...   \n",
              "5   the first part explains that disbursement of f...   \n",
              "6   The regulatory citations 34 CFR 668.3(a) and 3...   \n",
              "7   The regulatory citations 34 CFR 668.3(a) and 3...   \n",
              "8   Volume 2 explains that the academic year for c...   \n",
              "9   Appendix B provides detailed guidance on disbu...   \n",
              "10  Volume 8 talks about clinical work in standard...   \n",
              "\n",
              "                        synthesizer_name  \n",
              "0   single_hop_specifc_query_synthesizer  \n",
              "1   single_hop_specifc_query_synthesizer  \n",
              "2   single_hop_specifc_query_synthesizer  \n",
              "3   single_hop_specifc_query_synthesizer  \n",
              "4   single_hop_specifc_query_synthesizer  \n",
              "5   multi_hop_abstract_query_synthesizer  \n",
              "6   multi_hop_abstract_query_synthesizer  \n",
              "7   multi_hop_abstract_query_synthesizer  \n",
              "8   multi_hop_specific_query_synthesizer  \n",
              "9   multi_hop_specific_query_synthesizer  \n",
              "10  multi_hop_specific_query_synthesizer  "
            ]
          },
          "execution_count": 18,
          "metadata": {},
          "output_type": "execute_result"
        }
      ],
      "source": [
        "testset = generator.generate(testset_size=10, query_distribution=query_distribution)\n",
        "testset.to_pandas()"
      ]
    },
    {
      "cell_type": "code",
      "execution_count": 20,
      "metadata": {},
      "outputs": [],
      "source": [
        "# Save the testset dataframe to CSV\n",
        "testset.to_pandas().to_csv('testset.csv')\n"
      ]
    },
    {
      "cell_type": "markdown",
      "metadata": {},
      "source": [
        "### Abstracted SDG\n",
        "\n",
        "The above method is the full process - but we can shortcut that using the provided abstractions!\n",
        "\n",
        "This will generate our knowledge graph under the hood, and will - from there - generate our personas and scenarios to construct our queries.\n",
        "\n"
      ]
    },
    {
      "cell_type": "code",
      "execution_count": 24,
      "metadata": {},
      "outputs": [
        {
          "data": {
            "application/vnd.jupyter.widget-view+json": {
              "model_id": "9337fff7b9ee44dfb4c580271a3771e4",
              "version_major": 2,
              "version_minor": 0
            },
            "text/plain": [
              "Applying HeadlinesExtractor:   0%|          | 0/17 [00:00<?, ?it/s]"
            ]
          },
          "metadata": {},
          "output_type": "display_data"
        },
        {
          "data": {
            "application/vnd.jupyter.widget-view+json": {
              "model_id": "0a2bfefdff2047818c028f94be73c8fe",
              "version_major": 2,
              "version_minor": 0
            },
            "text/plain": [
              "Applying HeadlineSplitter:   0%|          | 0/20 [00:00<?, ?it/s]"
            ]
          },
          "metadata": {},
          "output_type": "display_data"
        },
        {
          "name": "stderr",
          "output_type": "stream",
          "text": [
            "unable to apply transformation: 'headlines' property not found in this node\n",
            "unable to apply transformation: 'headlines' property not found in this node\n",
            "unable to apply transformation: 'headlines' property not found in this node\n"
          ]
        },
        {
          "data": {
            "application/vnd.jupyter.widget-view+json": {
              "model_id": "af01f627c3ad4b2b9145700b38b6e870",
              "version_major": 2,
              "version_minor": 0
            },
            "text/plain": [
              "Applying SummaryExtractor:   0%|          | 0/31 [00:00<?, ?it/s]"
            ]
          },
          "metadata": {},
          "output_type": "display_data"
        },
        {
          "name": "stderr",
          "output_type": "stream",
          "text": [
            "Property 'summary' already exists in node 'c1803d'. Skipping!\n",
            "Property 'summary' already exists in node 'f8fed7'. Skipping!\n",
            "Property 'summary' already exists in node 'bbf718'. Skipping!\n",
            "Property 'summary' already exists in node 'e5f89d'. Skipping!\n",
            "Property 'summary' already exists in node 'c2d72c'. Skipping!\n",
            "Property 'summary' already exists in node 'd198f2'. Skipping!\n",
            "Property 'summary' already exists in node '77c35a'. Skipping!\n",
            "Property 'summary' already exists in node '8d10ae'. Skipping!\n",
            "Property 'summary' already exists in node 'baeae8'. Skipping!\n",
            "Property 'summary' already exists in node '1d6f37'. Skipping!\n",
            "Property 'summary' already exists in node '8bbf56'. Skipping!\n",
            "Property 'summary' already exists in node 'b0d238'. Skipping!\n",
            "Property 'summary' already exists in node 'f2ed69'. Skipping!\n",
            "Property 'summary' already exists in node 'faef0d'. Skipping!\n"
          ]
        },
        {
          "data": {
            "application/vnd.jupyter.widget-view+json": {
              "model_id": "5b1614a0ca464fea96eae0869ee72389",
              "version_major": 2,
              "version_minor": 0
            },
            "text/plain": [
              "Applying CustomNodeFilter:   0%|          | 0/6 [00:00<?, ?it/s]"
            ]
          },
          "metadata": {},
          "output_type": "display_data"
        },
        {
          "data": {
            "application/vnd.jupyter.widget-view+json": {
              "model_id": "4bac7a00eeaf49f88e789dc7b18312b2",
              "version_major": 2,
              "version_minor": 0
            },
            "text/plain": [
              "Applying [EmbeddingExtractor, ThemesExtractor, NERExtractor]:   0%|          | 0/43 [00:00<?, ?it/s]"
            ]
          },
          "metadata": {},
          "output_type": "display_data"
        },
        {
          "name": "stderr",
          "output_type": "stream",
          "text": [
            "Property 'summary_embedding' already exists in node 'd198f2'. Skipping!\n",
            "Property 'summary_embedding' already exists in node 'e5f89d'. Skipping!\n",
            "Property 'summary_embedding' already exists in node 'f8fed7'. Skipping!\n",
            "Property 'summary_embedding' already exists in node 'c1803d'. Skipping!\n",
            "Property 'summary_embedding' already exists in node '1d6f37'. Skipping!\n",
            "Property 'summary_embedding' already exists in node '8d10ae'. Skipping!\n",
            "Property 'summary_embedding' already exists in node 'baeae8'. Skipping!\n",
            "Property 'summary_embedding' already exists in node 'c2d72c'. Skipping!\n",
            "Property 'summary_embedding' already exists in node 'bbf718'. Skipping!\n",
            "Property 'summary_embedding' already exists in node 'f2ed69'. Skipping!\n",
            "Property 'summary_embedding' already exists in node '77c35a'. Skipping!\n",
            "Property 'summary_embedding' already exists in node '8bbf56'. Skipping!\n",
            "Property 'summary_embedding' already exists in node 'b0d238'. Skipping!\n",
            "Property 'summary_embedding' already exists in node 'faef0d'. Skipping!\n"
          ]
        },
        {
          "data": {
            "application/vnd.jupyter.widget-view+json": {
              "model_id": "6d31676cfab1436eb9d6a38c622368eb",
              "version_major": 2,
              "version_minor": 0
            },
            "text/plain": [
              "Applying [CosineSimilarityBuilder, OverlapScoreBuilder]:   0%|          | 0/2 [00:00<?, ?it/s]"
            ]
          },
          "metadata": {},
          "output_type": "display_data"
        },
        {
          "data": {
            "application/vnd.jupyter.widget-view+json": {
              "model_id": "fa44a8f6cb714436b00aed1750187688",
              "version_major": 2,
              "version_minor": 0
            },
            "text/plain": [
              "Generating personas:   0%|          | 0/3 [00:00<?, ?it/s]"
            ]
          },
          "metadata": {},
          "output_type": "display_data"
        },
        {
          "data": {
            "application/vnd.jupyter.widget-view+json": {
              "model_id": "e273fe0275514fdda5d2020fd29a4de2",
              "version_major": 2,
              "version_minor": 0
            },
            "text/plain": [
              "Generating Scenarios:   0%|          | 0/3 [00:00<?, ?it/s]"
            ]
          },
          "metadata": {},
          "output_type": "display_data"
        },
        {
          "data": {
            "application/vnd.jupyter.widget-view+json": {
              "model_id": "8783096db580441bb78ca5888ce72b19",
              "version_major": 2,
              "version_minor": 0
            },
            "text/plain": [
              "Generating Samples:   0%|          | 0/12 [00:00<?, ?it/s]"
            ]
          },
          "metadata": {},
          "output_type": "display_data"
        }
      ],
      "source": [
        "from ragas.testset import TestsetGenerator\n",
        "\n",
        "generator = TestsetGenerator(llm=generator_llm, embedding_model=generator_embeddings)\n",
        "dataset = generator.generate_with_langchain_docs(docs[:20], testset_size=10)"
      ]
    },
    {
      "cell_type": "code",
      "execution_count": 25,
      "metadata": {},
      "outputs": [
        {
          "data": {
            "text/html": [
              "<div>\n",
              "<style scoped>\n",
              "    .dataframe tbody tr th:only-of-type {\n",
              "        vertical-align: middle;\n",
              "    }\n",
              "\n",
              "    .dataframe tbody tr th {\n",
              "        vertical-align: top;\n",
              "    }\n",
              "\n",
              "    .dataframe thead th {\n",
              "        text-align: right;\n",
              "    }\n",
              "</style>\n",
              "<table border=\"1\" class=\"dataframe\">\n",
              "  <thead>\n",
              "    <tr style=\"text-align: right;\">\n",
              "      <th></th>\n",
              "      <th>user_input</th>\n",
              "      <th>reference_contexts</th>\n",
              "      <th>reference</th>\n",
              "      <th>synthesizer_name</th>\n",
              "    </tr>\n",
              "  </thead>\n",
              "  <tbody>\n",
              "    <tr>\n",
              "      <th>0</th>\n",
              "      <td>What is the role of the School Participation D...</td>\n",
              "      <td>[Chapter 1 Academic Years, Academic Calendars,...</td>\n",
              "      <td>The School Participation Division oversees com...</td>\n",
              "      <td>single_hop_specifc_query_synthesizer</td>\n",
              "    </tr>\n",
              "    <tr>\n",
              "      <th>1</th>\n",
              "      <td>What is 34 CFR 668.3(a) about in terms of acad...</td>\n",
              "      <td>[Regulatory Citations Academic year minimums: ...</td>\n",
              "      <td>Regulatory Citations Academic year minimums: 3...</td>\n",
              "      <td>single_hop_specifc_query_synthesizer</td>\n",
              "    </tr>\n",
              "    <tr>\n",
              "      <th>2</th>\n",
              "      <td>What is the significance of Chapter 3 in relat...</td>\n",
              "      <td>[Inclusion of Clinical Work in a Standard Term...</td>\n",
              "      <td>Inclusion of clinical work in a standard term ...</td>\n",
              "      <td>single_hop_specifc_query_synthesizer</td>\n",
              "    </tr>\n",
              "    <tr>\n",
              "      <th>3</th>\n",
              "      <td>What is the role of the Federal Work-Study pro...</td>\n",
              "      <td>[Non-Term Characteristics A program that measu...</td>\n",
              "      <td>The payment period is applicable to all Title ...</td>\n",
              "      <td>single_hop_specifc_query_synthesizer</td>\n",
              "    </tr>\n",
              "    <tr>\n",
              "      <th>4</th>\n",
              "      <td>How does inclusion of clinical work in standar...</td>\n",
              "      <td>[&lt;1-hop&gt;\\n\\nInclusion of Clinical Work in a St...</td>\n",
              "      <td>The inclusion of clinical work in standard ter...</td>\n",
              "      <td>multi_hop_abstract_query_synthesizer</td>\n",
              "    </tr>\n",
              "    <tr>\n",
              "      <th>5</th>\n",
              "      <td>How do the disbursement timing requirements fo...</td>\n",
              "      <td>[&lt;1-hop&gt;\\n\\nboth the credit or clock hours and...</td>\n",
              "      <td>The disbursement timing requirements for feder...</td>\n",
              "      <td>multi_hop_abstract_query_synthesizer</td>\n",
              "    </tr>\n",
              "    <tr>\n",
              "      <th>6</th>\n",
              "      <td>Considering the timing and scheduling constrai...</td>\n",
              "      <td>[&lt;1-hop&gt;\\n\\nInclusion of Clinical Work in a St...</td>\n",
              "      <td>The inclusion of clinical work in standard ter...</td>\n",
              "      <td>multi_hop_abstract_query_synthesizer</td>\n",
              "    </tr>\n",
              "    <tr>\n",
              "      <th>7</th>\n",
              "      <td>What guidance exists for including clinical wo...</td>\n",
              "      <td>[&lt;1-hop&gt;\\n\\nInclusion of Clinical Work in a St...</td>\n",
              "      <td>Inclusion of clinical work in loan periods is ...</td>\n",
              "      <td>multi_hop_abstract_query_synthesizer</td>\n",
              "    </tr>\n",
              "    <tr>\n",
              "      <th>8</th>\n",
              "      <td>How does Volume 8 explain the impact of accele...</td>\n",
              "      <td>[&lt;1-hop&gt;\\n\\nboth the credit or clock hours and...</td>\n",
              "      <td>Volume 8 details that for students in clock-ho...</td>\n",
              "      <td>multi_hop_specific_query_synthesizer</td>\n",
              "    </tr>\n",
              "    <tr>\n",
              "      <th>9</th>\n",
              "      <td>How does Volume 8 relate to disbursement timin...</td>\n",
              "      <td>[&lt;1-hop&gt;\\n\\nboth the credit or clock hours and...</td>\n",
              "      <td>Volume 8 discusses the impact of credit hours ...</td>\n",
              "      <td>multi_hop_specific_query_synthesizer</td>\n",
              "    </tr>\n",
              "    <tr>\n",
              "      <th>10</th>\n",
              "      <td>How do the definitions of academic years in Ch...</td>\n",
              "      <td>[&lt;1-hop&gt;\\n\\nChapter 1 Academic Years, Academic...</td>\n",
              "      <td>Chapter 1 explains that an academic year must ...</td>\n",
              "      <td>multi_hop_specific_query_synthesizer</td>\n",
              "    </tr>\n",
              "    <tr>\n",
              "      <th>11</th>\n",
              "      <td>How does the inclusion of clinical work in sta...</td>\n",
              "      <td>[&lt;1-hop&gt;\\n\\nDisbursement Timing in Subscriptio...</td>\n",
              "      <td>The inclusion of clinical work in standard ter...</td>\n",
              "      <td>multi_hop_specific_query_synthesizer</td>\n",
              "    </tr>\n",
              "  </tbody>\n",
              "</table>\n",
              "</div>"
            ],
            "text/plain": [
              "                                           user_input  \\\n",
              "0   What is the role of the School Participation D...   \n",
              "1   What is 34 CFR 668.3(a) about in terms of acad...   \n",
              "2   What is the significance of Chapter 3 in relat...   \n",
              "3   What is the role of the Federal Work-Study pro...   \n",
              "4   How does inclusion of clinical work in standar...   \n",
              "5   How do the disbursement timing requirements fo...   \n",
              "6   Considering the timing and scheduling constrai...   \n",
              "7   What guidance exists for including clinical wo...   \n",
              "8   How does Volume 8 explain the impact of accele...   \n",
              "9   How does Volume 8 relate to disbursement timin...   \n",
              "10  How do the definitions of academic years in Ch...   \n",
              "11  How does the inclusion of clinical work in sta...   \n",
              "\n",
              "                                   reference_contexts  \\\n",
              "0   [Chapter 1 Academic Years, Academic Calendars,...   \n",
              "1   [Regulatory Citations Academic year minimums: ...   \n",
              "2   [Inclusion of Clinical Work in a Standard Term...   \n",
              "3   [Non-Term Characteristics A program that measu...   \n",
              "4   [<1-hop>\\n\\nInclusion of Clinical Work in a St...   \n",
              "5   [<1-hop>\\n\\nboth the credit or clock hours and...   \n",
              "6   [<1-hop>\\n\\nInclusion of Clinical Work in a St...   \n",
              "7   [<1-hop>\\n\\nInclusion of Clinical Work in a St...   \n",
              "8   [<1-hop>\\n\\nboth the credit or clock hours and...   \n",
              "9   [<1-hop>\\n\\nboth the credit or clock hours and...   \n",
              "10  [<1-hop>\\n\\nChapter 1 Academic Years, Academic...   \n",
              "11  [<1-hop>\\n\\nDisbursement Timing in Subscriptio...   \n",
              "\n",
              "                                            reference  \\\n",
              "0   The School Participation Division oversees com...   \n",
              "1   Regulatory Citations Academic year minimums: 3...   \n",
              "2   Inclusion of clinical work in a standard term ...   \n",
              "3   The payment period is applicable to all Title ...   \n",
              "4   The inclusion of clinical work in standard ter...   \n",
              "5   The disbursement timing requirements for feder...   \n",
              "6   The inclusion of clinical work in standard ter...   \n",
              "7   Inclusion of clinical work in loan periods is ...   \n",
              "8   Volume 8 details that for students in clock-ho...   \n",
              "9   Volume 8 discusses the impact of credit hours ...   \n",
              "10  Chapter 1 explains that an academic year must ...   \n",
              "11  The inclusion of clinical work in standard ter...   \n",
              "\n",
              "                        synthesizer_name  \n",
              "0   single_hop_specifc_query_synthesizer  \n",
              "1   single_hop_specifc_query_synthesizer  \n",
              "2   single_hop_specifc_query_synthesizer  \n",
              "3   single_hop_specifc_query_synthesizer  \n",
              "4   multi_hop_abstract_query_synthesizer  \n",
              "5   multi_hop_abstract_query_synthesizer  \n",
              "6   multi_hop_abstract_query_synthesizer  \n",
              "7   multi_hop_abstract_query_synthesizer  \n",
              "8   multi_hop_specific_query_synthesizer  \n",
              "9   multi_hop_specific_query_synthesizer  \n",
              "10  multi_hop_specific_query_synthesizer  \n",
              "11  multi_hop_specific_query_synthesizer  "
            ]
          },
          "execution_count": 25,
          "metadata": {},
          "output_type": "execute_result"
        }
      ],
      "source": [
        "dataset.to_pandas()"
      ]
    },
    {
      "cell_type": "markdown",
      "metadata": {
        "id": "6vSRr2MXk0P_"
      },
      "source": [
        "We'll need to provide our LangSmith API key, and set tracing to \"true\"."
      ]
    },
    {
      "cell_type": "code",
      "execution_count": 31,
      "metadata": {},
      "outputs": [],
      "source": [
        "df = dataset.to_pandas()\n",
        "\n"
      ]
    },
    {
      "cell_type": "markdown",
      "metadata": {
        "id": "vLDUsLJg43k7"
      },
      "source": [
        "# 🤝 BREAKOUT ROOM #2"
      ]
    },
    {
      "cell_type": "markdown",
      "metadata": {
        "id": "8SLtk1GtnyoY"
      },
      "source": [
        "## Task 4: LangSmith Dataset\n",
        "\n",
        "Now we can move on to creating a dataset for LangSmith!\n",
        "\n",
        "First, we'll need to create a dataset on LangSmith using the `Client`!\n",
        "\n",
        "We'll name our Dataset to make it easy to work with later."
      ]
    },
    {
      "cell_type": "code",
      "execution_count": 36,
      "metadata": {
        "id": "TLgm6OjvYSsm"
      },
      "outputs": [],
      "source": [
        "from langsmith import Client\n",
        "\n",
        "client = Client()\n",
        "\n",
        "dataset_name = \"Loan Synthetic Data\"\n",
        "\n",
        "langsmith_dataset = client.create_dataset(\n",
        "    dataset_name=dataset_name,\n",
        "    description=\"Loan Synthetic Data\"\n",
        ")"
      ]
    },
    {
      "cell_type": "markdown",
      "metadata": {
        "id": "64SmXMBnzXWm"
      },
      "source": [
        "We'll iterate through the RAGAS created dataframe - and add each example to our created dataset!\n",
        "\n",
        "> NOTE: We need to conform the outputs to the expected format - which in this case is: `question` and `answer`."
      ]
    },
    {
      "cell_type": "code",
      "execution_count": 37,
      "metadata": {
        "id": "8nFQ6di_XnY7"
      },
      "outputs": [],
      "source": [
        "for data_row in dataset.to_pandas().iterrows():\n",
        "  client.create_example(\n",
        "      inputs={\n",
        "          \"question\": data_row[1][\"user_input\"]\n",
        "      },\n",
        "      outputs={\n",
        "          \"answer\": data_row[1][\"reference\"]\n",
        "      },\n",
        "      metadata={\n",
        "          \"context\": data_row[1][\"reference_contexts\"]\n",
        "      },\n",
        "      dataset_id=langsmith_dataset.id\n",
        "  )"
      ]
    },
    {
      "cell_type": "markdown",
      "metadata": {
        "id": "o6EbQVyZq-2j"
      },
      "source": [
        "## Basic RAG Chain\n",
        "\n",
        "Time for some RAG!\n"
      ]
    },
    {
      "cell_type": "code",
      "execution_count": 38,
      "metadata": {
        "id": "4njbUAIsaYjB"
      },
      "outputs": [],
      "source": [
        "rag_documents = docs"
      ]
    },
    {
      "cell_type": "markdown",
      "metadata": {
        "id": "bQorBy8H1AZR"
      },
      "source": [
        "To keep things simple, we'll just use LangChain's recursive character text splitter!\n"
      ]
    },
    {
      "cell_type": "code",
      "execution_count": 39,
      "metadata": {
        "id": "qWo3Ajaragv1"
      },
      "outputs": [],
      "source": [
        "from langchain.text_splitter import RecursiveCharacterTextSplitter\n",
        "\n",
        "text_splitter = RecursiveCharacterTextSplitter(\n",
        "    chunk_size = 500,\n",
        "    chunk_overlap = 50\n",
        ")\n",
        "\n",
        "rag_documents = text_splitter.split_documents(rag_documents)"
      ]
    },
    {
      "cell_type": "markdown",
      "metadata": {
        "id": "kghuTb9R01oO"
      },
      "source": [
        "We'll create our vectorstore using OpenAI's [`text-embedding-3-small`](https://platform.openai.com/docs/guides/embeddings/embedding-models) embedding model."
      ]
    },
    {
      "cell_type": "code",
      "execution_count": 40,
      "metadata": {
        "id": "UwfJCzP3aqKI"
      },
      "outputs": [],
      "source": [
        "from langchain_openai import OpenAIEmbeddings\n",
        "\n",
        "embeddings = OpenAIEmbeddings(model=\"text-embedding-3-small\")"
      ]
    },
    {
      "cell_type": "markdown",
      "metadata": {
        "id": "QpCLS-a01Ft2"
      },
      "source": [
        "As usual, we will power our RAG application with Qdrant!"
      ]
    },
    {
      "cell_type": "code",
      "execution_count": 41,
      "metadata": {
        "id": "58Ypj_NgbEsi"
      },
      "outputs": [],
      "source": [
        "from langchain_community.vectorstores import Qdrant\n",
        "\n",
        "vectorstore = Qdrant.from_documents(\n",
        "    documents=rag_documents,\n",
        "    embedding=embeddings,\n",
        "    location=\":memory:\",\n",
        "    collection_name=\"Loan RAG\"\n",
        ")"
      ]
    },
    {
      "cell_type": "code",
      "execution_count": 42,
      "metadata": {
        "id": "SbKSjfSkbTYo"
      },
      "outputs": [],
      "source": [
        "retriever = vectorstore.as_retriever(search_kwargs={\"k\": 10})"
      ]
    },
    {
      "cell_type": "markdown",
      "metadata": {
        "id": "WxUOMaQX1K2N"
      },
      "source": [
        "To get the \"A\" in RAG, we'll provide a prompt."
      ]
    },
    {
      "cell_type": "code",
      "execution_count": 43,
      "metadata": {
        "id": "1sLeY1oWbVqO"
      },
      "outputs": [],
      "source": [
        "from langchain.prompts import ChatPromptTemplate\n",
        "\n",
        "RAG_PROMPT = \"\"\"\\\n",
        "Given a provided context and question, you must answer the question based only on context.\n",
        "\n",
        "If you cannot answer the question based on the context - you must say \"I don't know\".\n",
        "\n",
        "Context: {context}\n",
        "Question: {question}\n",
        "\"\"\"\n",
        "\n",
        "rag_prompt = ChatPromptTemplate.from_template(RAG_PROMPT)"
      ]
    },
    {
      "cell_type": "markdown",
      "metadata": {
        "id": "PZnHDh4e1Ou5"
      },
      "source": [
        "For our LLM, we will be using TogetherAI's endpoints as well!\n",
        "\n",
        "We're going to be using Meta Llama 3.1 70B Instruct Turbo - a powerful model which should get us powerful results!"
      ]
    },
    {
      "cell_type": "code",
      "execution_count": 44,
      "metadata": {
        "id": "6nx-ue1XbciV"
      },
      "outputs": [],
      "source": [
        "from langchain_openai import ChatOpenAI\n",
        "\n",
        "llm = ChatOpenAI(model=\"gpt-4.1-mini\")"
      ]
    },
    {
      "cell_type": "markdown",
      "metadata": {
        "id": "jmTL6-pc1ZGz"
      },
      "source": [
        "Finally, we can set-up our RAG LCEL chain!"
      ]
    },
    {
      "cell_type": "code",
      "execution_count": 45,
      "metadata": {
        "id": "TjWj0OLIbbFc"
      },
      "outputs": [],
      "source": [
        "from operator import itemgetter\n",
        "from langchain_core.runnables import RunnablePassthrough, RunnableParallel\n",
        "from langchain.schema import StrOutputParser\n",
        "\n",
        "rag_chain = (\n",
        "    {\"context\": itemgetter(\"question\") | retriever, \"question\": itemgetter(\"question\")}\n",
        "    | rag_prompt | llm | StrOutputParser()\n",
        ")"
      ]
    },
    {
      "cell_type": "code",
      "execution_count": 46,
      "metadata": {
        "colab": {
          "base_uri": "https://localhost:8080/",
          "height": 35
        },
        "id": "WQ7bEweo4IIb",
        "outputId": "d161b269-f799-4920-d6ce-c202f6e783aa"
      },
      "outputs": [
        {
          "data": {
            "text/plain": [
              "'Based on the provided context, the kinds of loans available include:\\n\\n- Direct Subsidized Loans  \\n- Direct Unsubsidized Loans  \\n- Direct PLUS Loans (including student Federal PLUS Loans and parent Direct PLUS Loans on behalf of dependent students)  \\n- Federal Stafford Loans (Subsidized and Unsubsidized) made under the Federal Family Education Loan (FFEL) Program before July 1, 2010  \\n- Federal SLS Loans  \\n- Federal PLUS Loans made under the FFEL Program before July 1, 2010  \\n\\nNote that no new loans have been made under the FFEL Program since June 30, 2010.\\n\\nAdditionally:\\n\\n- Direct Subsidized Loans are available only to undergraduate students.  \\n- Graduate or professional students are eligible only for Direct Unsubsidized Loans and Direct PLUS Loans, not Direct Subsidized Loans.'"
            ]
          },
          "execution_count": 46,
          "metadata": {},
          "output_type": "execute_result"
        }
      ],
      "source": [
        "rag_chain.invoke({\"question\" : \"What kinds of loans are available?\"})"
      ]
    },
    {
      "cell_type": "markdown",
      "metadata": {
        "id": "D9hBh5YPrdGJ"
      },
      "source": [
        "## LangSmith Evaluation Set-up\n",
        "\n",
        "We'll use OpenAI's GPT-4.1 as our evaluation LLM for our base Evaluators."
      ]
    },
    {
      "cell_type": "code",
      "execution_count": 47,
      "metadata": {
        "id": "gfwPYdIkcvpF"
      },
      "outputs": [],
      "source": [
        "eval_llm = ChatOpenAI(model=\"gpt-4.1\")"
      ]
    },
    {
      "cell_type": "markdown",
      "metadata": {
        "id": "6b8pToKH2K28"
      },
      "source": [
        "We'll be using a number of evaluators - from LangSmith provided evaluators, to a few custom evaluators!"
      ]
    },
    {
      "cell_type": "code",
      "execution_count": 48,
      "metadata": {
        "id": "PXSG-_ajckp6"
      },
      "outputs": [],
      "source": [
        "from langsmith.evaluation import LangChainStringEvaluator, evaluate\n",
        "\n",
        "qa_evaluator = LangChainStringEvaluator(\"qa\", config={\"llm\" : eval_llm})\n",
        "\n",
        "labeled_helpfulness_evaluator = LangChainStringEvaluator(\n",
        "    \"labeled_criteria\",\n",
        "    config={\n",
        "        \"criteria\": {\n",
        "            \"helpfulness\": (\n",
        "                \"Is this submission helpful to the user,\"\n",
        "                \" taking into account the correct reference answer?\"\n",
        "            )\n",
        "        },\n",
        "        \"llm\" : eval_llm\n",
        "    },\n",
        "    prepare_data=lambda run, example: {\n",
        "        \"prediction\": run.outputs[\"output\"],\n",
        "        \"reference\": example.outputs[\"answer\"],\n",
        "        \"input\": example.inputs[\"question\"],\n",
        "    }\n",
        ")\n",
        "\n",
        "empathy_evaluator = LangChainStringEvaluator(\n",
        "    \"criteria\",\n",
        "    config={\n",
        "        \"criteria\": {\n",
        "            \"empathy\": \"Is this response empathetic? Does it make the user feel like they are being heard?\",\n",
        "        },\n",
        "        \"llm\" : eval_llm\n",
        "    }\n",
        ")"
      ]
    },
    {
      "cell_type": "markdown",
      "metadata": {
        "id": "z0SQP_FoCetP"
      },
      "source": [
        "#### 🏗️ Activity #2:\n",
        "\n",
        "Highlight what each evaluator is evaluating.\n",
        "\n",
        "- `qa_evaluator`:\n",
        "- `labeled_helpfulness_evaluator`:\n",
        "- `empathy_evaluator`:"
      ]
    },
    {
      "cell_type": "markdown",
      "metadata": {},
      "source": [
        "#### ✅ answer - activity # 2\n",
        "- `qa_evaluator`: Evaluates correctness/accuracy of the RAG system's answers. It compares the generated response against the reference answer to determine if the information provided is factually correct and complete.\n",
        "- `labeled_helpfulness_evaluator`: Evaluates helpfulness of the response by comparing it to the reference answer. This measures whether the response actually assists the user in getting the information they need.\n",
        "- `empathy_evaluator`: Evaluates the empathetic tone and emotional quality of responses. This measures the human-centered aspects of the response beyond just factual accuracy."
      ]
    },
    {
      "cell_type": "markdown",
      "metadata": {
        "id": "R35sQMHVrnpl"
      },
      "source": [
        "## LangSmith Evaluation"
      ]
    },
    {
      "cell_type": "code",
      "execution_count": 49,
      "metadata": {
        "colab": {
          "base_uri": "https://localhost:8080/",
          "height": 136,
          "referenced_widgets": [
            "122b1bd1f0e9417a8dcb57d4eebe4d2e",
            "e0c233ad01604540a6c873f4a731982d",
            "e9a01115c75b499884f7e0ef32e9e599",
            "5faba4ad609448b2b49024add4ad3b8e",
            "ef25efa751304e4699910f1fbc14345f",
            "0b44cb0f8e34446c8dde668a75d3d8ad",
            "edaac6587b2d4bd5be52b89bb097f99f",
            "7cb241365f604419af454c1c28de197a",
            "9cf586576ff44dba86ba2eb389593c61",
            "849b5c95008541d49f1ceedf0a59ac60",
            "f3665a86662746c4ac7cb0796604781d"
          ]
        },
        "id": "t7t_Uz0tdumL",
        "outputId": "d684e218-294e-4dc3-c8de-a01d397f021c"
      },
      "outputs": [
        {
          "name": "stdout",
          "output_type": "stream",
          "text": [
            "View the evaluation results for experiment: 'yellow-tray-98' at:\n",
            "https://smith.langchain.com/o/9522861f-8e1e-4a62-8c0d-a84097b261bc/datasets/0e99c3c6-17a5-4795-9422-fe9ba5611d04/compare?selectedSessions=2330ce46-3447-4a08-8385-2a082f85c734\n",
            "\n",
            "\n"
          ]
        },
        {
          "data": {
            "application/vnd.jupyter.widget-view+json": {
              "model_id": "983509cc549844ff90c70e74aa560cf2",
              "version_major": 2,
              "version_minor": 0
            },
            "text/plain": [
              "0it [00:00, ?it/s]"
            ]
          },
          "metadata": {},
          "output_type": "display_data"
        },
        {
          "data": {
            "text/html": [
              "<div>\n",
              "<style scoped>\n",
              "    .dataframe tbody tr th:only-of-type {\n",
              "        vertical-align: middle;\n",
              "    }\n",
              "\n",
              "    .dataframe tbody tr th {\n",
              "        vertical-align: top;\n",
              "    }\n",
              "\n",
              "    .dataframe thead th {\n",
              "        text-align: right;\n",
              "    }\n",
              "</style>\n",
              "<table border=\"1\" class=\"dataframe\">\n",
              "  <thead>\n",
              "    <tr style=\"text-align: right;\">\n",
              "      <th></th>\n",
              "      <th>inputs.question</th>\n",
              "      <th>outputs.output</th>\n",
              "      <th>error</th>\n",
              "      <th>reference.answer</th>\n",
              "      <th>feedback.correctness</th>\n",
              "      <th>feedback.helpfulness</th>\n",
              "      <th>feedback.empathy</th>\n",
              "      <th>execution_time</th>\n",
              "      <th>example_id</th>\n",
              "      <th>id</th>\n",
              "    </tr>\n",
              "  </thead>\n",
              "  <tbody>\n",
              "    <tr>\n",
              "      <th>0</th>\n",
              "      <td>How does the inclusion of clinical work in sta...</td>\n",
              "      <td>Based on the provided context, the inclusion o...</td>\n",
              "      <td>None</td>\n",
              "      <td>The inclusion of clinical work in standard ter...</td>\n",
              "      <td>0</td>\n",
              "      <td>0</td>\n",
              "      <td>0</td>\n",
              "      <td>5.617232</td>\n",
              "      <td>441f7a52-b2b1-41b0-9379-e865760221d4</td>\n",
              "      <td>aad61fe6-8512-4bba-abbe-56d14e81195c</td>\n",
              "    </tr>\n",
              "    <tr>\n",
              "      <th>1</th>\n",
              "      <td>How do the definitions of academic years in Ch...</td>\n",
              "      <td>The definitions of academic years in Chapter 1...</td>\n",
              "      <td>None</td>\n",
              "      <td>Chapter 1 explains that an academic year must ...</td>\n",
              "      <td>1</td>\n",
              "      <td>1</td>\n",
              "      <td>0</td>\n",
              "      <td>5.279635</td>\n",
              "      <td>db45609f-44a9-48ae-92c4-f266535a886c</td>\n",
              "      <td>448f1d05-e261-4f1f-8c90-e1d7ab200056</td>\n",
              "    </tr>\n",
              "    <tr>\n",
              "      <th>2</th>\n",
              "      <td>How does Volume 8 relate to disbursement timin...</td>\n",
              "      <td>Volume 8, Chapter 6 is referenced as a source ...</td>\n",
              "      <td>None</td>\n",
              "      <td>Volume 8 discusses the impact of credit hours ...</td>\n",
              "      <td>1</td>\n",
              "      <td>0</td>\n",
              "      <td>0</td>\n",
              "      <td>2.576621</td>\n",
              "      <td>54c5504a-89d3-428d-8bcf-aafc8ba418e2</td>\n",
              "      <td>5d8b87ac-658a-4b23-a4f8-a4e49fff8e47</td>\n",
              "    </tr>\n",
              "    <tr>\n",
              "      <th>3</th>\n",
              "      <td>How does Volume 8 explain the impact of accele...</td>\n",
              "      <td>Based on the provided context, Volume 8 discus...</td>\n",
              "      <td>None</td>\n",
              "      <td>Volume 8 details that for students in clock-ho...</td>\n",
              "      <td>0</td>\n",
              "      <td>0</td>\n",
              "      <td>0</td>\n",
              "      <td>7.317537</td>\n",
              "      <td>683f5c5e-d11b-4d6e-ad84-258f8de549be</td>\n",
              "      <td>a027c559-9d44-4a9f-a6c7-2579aa09249d</td>\n",
              "    </tr>\n",
              "    <tr>\n",
              "      <th>4</th>\n",
              "      <td>What guidance exists for including clinical wo...</td>\n",
              "      <td>I don't know.</td>\n",
              "      <td>None</td>\n",
              "      <td>Inclusion of clinical work in loan periods is ...</td>\n",
              "      <td>0</td>\n",
              "      <td>0</td>\n",
              "      <td>0</td>\n",
              "      <td>0.748351</td>\n",
              "      <td>95c882c1-d794-48c7-b37c-34f290080a56</td>\n",
              "      <td>0ba74dd7-a55b-4e59-b681-8690253323ec</td>\n",
              "    </tr>\n",
              "    <tr>\n",
              "      <th>5</th>\n",
              "      <td>Considering the timing and scheduling constrai...</td>\n",
              "      <td>Based on the provided context, clinical work t...</td>\n",
              "      <td>None</td>\n",
              "      <td>The inclusion of clinical work in standard ter...</td>\n",
              "      <td>1</td>\n",
              "      <td>1</td>\n",
              "      <td>0</td>\n",
              "      <td>5.510211</td>\n",
              "      <td>3bacc0c1-7ccf-4cae-b766-0f5cb63091fd</td>\n",
              "      <td>5d93b174-aa52-4c13-87c0-0500b01aad39</td>\n",
              "    </tr>\n",
              "    <tr>\n",
              "      <th>6</th>\n",
              "      <td>How do the disbursement timing requirements fo...</td>\n",
              "      <td>Based on the provided context:\\n\\nFor **clock-...</td>\n",
              "      <td>None</td>\n",
              "      <td>The disbursement timing requirements for feder...</td>\n",
              "      <td>1</td>\n",
              "      <td>0</td>\n",
              "      <td>0</td>\n",
              "      <td>8.156542</td>\n",
              "      <td>3dfb4a55-2b6b-4c82-a300-68d199875d00</td>\n",
              "      <td>6e44d332-110b-4455-ac9f-537c63413de1</td>\n",
              "    </tr>\n",
              "    <tr>\n",
              "      <th>7</th>\n",
              "      <td>How does inclusion of clinical work in standar...</td>\n",
              "      <td>The context indicates that clinical work condu...</td>\n",
              "      <td>None</td>\n",
              "      <td>The inclusion of clinical work in standard ter...</td>\n",
              "      <td>1</td>\n",
              "      <td>1</td>\n",
              "      <td>0</td>\n",
              "      <td>4.399633</td>\n",
              "      <td>3f063f1b-4012-42d2-93d2-a95a4260605c</td>\n",
              "      <td>c451839a-ed2e-48c9-9edb-7096b8f638d9</td>\n",
              "    </tr>\n",
              "    <tr>\n",
              "      <th>8</th>\n",
              "      <td>What is the role of the Federal Work-Study pro...</td>\n",
              "      <td>The Federal Work-Study (FWS) Program is except...</td>\n",
              "      <td>None</td>\n",
              "      <td>The payment period is applicable to all Title ...</td>\n",
              "      <td>1</td>\n",
              "      <td>1</td>\n",
              "      <td>0</td>\n",
              "      <td>1.168516</td>\n",
              "      <td>a3539246-9dbe-4887-aaf2-9f9c652ded6e</td>\n",
              "      <td>2658191c-5468-456d-8244-1dd267604cc4</td>\n",
              "    </tr>\n",
              "    <tr>\n",
              "      <th>9</th>\n",
              "      <td>What is the significance of Chapter 3 in relat...</td>\n",
              "      <td>Chapter 3 provides additional guidance on cert...</td>\n",
              "      <td>None</td>\n",
              "      <td>Inclusion of clinical work in a standard term ...</td>\n",
              "      <td>1</td>\n",
              "      <td>0</td>\n",
              "      <td>0</td>\n",
              "      <td>1.726723</td>\n",
              "      <td>c950492e-2839-422e-ba8d-97d8d7aa022b</td>\n",
              "      <td>64942d11-a1de-4ba3-9a11-5dadaa079e57</td>\n",
              "    </tr>\n",
              "    <tr>\n",
              "      <th>10</th>\n",
              "      <td>What is 34 CFR 668.3(a) about in terms of acad...</td>\n",
              "      <td>Based on the provided context:\\n\\n34 CFR 668.3...</td>\n",
              "      <td>None</td>\n",
              "      <td>Regulatory Citations Academic year minimums: 3...</td>\n",
              "      <td>1</td>\n",
              "      <td>1</td>\n",
              "      <td>0</td>\n",
              "      <td>7.362284</td>\n",
              "      <td>b7505b4c-fb04-48fb-be81-469973305db6</td>\n",
              "      <td>ce9aaea1-79a0-40be-94b3-81487f21eb31</td>\n",
              "    </tr>\n",
              "    <tr>\n",
              "      <th>11</th>\n",
              "      <td>What is the role of the School Participation D...</td>\n",
              "      <td>The School Participation Division handles requ...</td>\n",
              "      <td>None</td>\n",
              "      <td>The School Participation Division oversees com...</td>\n",
              "      <td>1</td>\n",
              "      <td>0</td>\n",
              "      <td>0</td>\n",
              "      <td>1.446340</td>\n",
              "      <td>33d955c0-50f2-4c51-8486-6dd90a4ab97c</td>\n",
              "      <td>a522864b-9293-4819-b524-f3127f8c336e</td>\n",
              "    </tr>\n",
              "  </tbody>\n",
              "</table>\n",
              "</div>"
            ],
            "text/plain": [
              "<ExperimentResults yellow-tray-98>"
            ]
          },
          "execution_count": 49,
          "metadata": {},
          "output_type": "execute_result"
        }
      ],
      "source": [
        "evaluate(\n",
        "    rag_chain.invoke,\n",
        "    data=dataset_name,\n",
        "    evaluators=[\n",
        "        qa_evaluator,\n",
        "        labeled_helpfulness_evaluator,\n",
        "        empathy_evaluator\n",
        "    ],\n",
        "    metadata={\"revision_id\": \"default_chain_init\"},\n",
        ")"
      ]
    },
    {
      "cell_type": "markdown",
      "metadata": {
        "id": "Nq7fCVinrpI4"
      },
      "source": [
        "## Dope-ifying Our Application\n",
        "\n",
        "We'll be making a few changes to our RAG chain to increase its performance on our SDG evaluation test dataset!\n",
        "\n",
        "- Include a \"dope\" prompt augmentation\n",
        "- Use larger chunks\n",
        "- Improve the retriever model to: `text-embedding-3-large`\n",
        "\n",
        "Let's see how this changes our evaluation!"
      ]
    },
    {
      "cell_type": "code",
      "execution_count": null,
      "metadata": {
        "id": "z56pXwyUgFUt"
      },
      "outputs": [],
      "source": [
        "EMPATHY_RAG_PROMPT = \"\"\"\\\n",
        "Given a provided context and question, you must answer the question based only on context.\n",
        "\n",
        "If you cannot answer the question based on the context - you must say \"I don't know\".\n",
        "\n",
        "You must answer the question using empathy and kindness, and make sure the user feels heard.\n",
        "\n",
        "Context: {context}\n",
        "Question: {question}\n",
        "\"\"\"\n",
        "\n",
        "empathy_rag_prompt = ChatPromptTemplate.from_template(EMPATHY_RAG_PROMPT)"
      ]
    },
    {
      "cell_type": "code",
      "execution_count": 53,
      "metadata": {
        "id": "rZLcTstJgfv5"
      },
      "outputs": [],
      "source": [
        "rag_documents = docs"
      ]
    },
    {
      "cell_type": "code",
      "execution_count": 55,
      "metadata": {
        "id": "-LYsyirngj6n"
      },
      "outputs": [],
      "source": [
        "from langchain.text_splitter import RecursiveCharacterTextSplitter\n",
        "\n",
        "text_splitter = RecursiveCharacterTextSplitter(\n",
        "    chunk_size = 1000,\n",
        "    chunk_overlap = 50\n",
        ")\n",
        "\n",
        "rag_documents = text_splitter.split_documents(rag_documents)"
      ]
    },
    {
      "cell_type": "markdown",
      "metadata": {
        "id": "spldiPuTCzDO"
      },
      "source": [
        "#### ❓Question #2:\n",
        "\n",
        "Why would modifying our chunk size modify the performance of our application?"
      ]
    },
    {
      "cell_type": "markdown",
      "metadata": {},
      "source": [
        "#### ✅ answer #2\n",
        "Increasing chunk size from 500 to 1000 characters improves RAG performance by providing more complete context per retrieval. Larger chunks preserve logical flow and keep related concepts together, reducing information fragmentation that often splits important details across multiple chunks. This leads to more comprehensive answers and fewer \"I don't know\" responses. For complex multi-hop questions, larger chunks are more likely to contain multiple related facts in one retrieval, reducing dependency on synthesizing fragmented information. The trade-off is better context quality versus potentially higher processing costs, but the improved completeness and accuracy make it worthwhile."
      ]
    },
    {
      "cell_type": "code",
      "execution_count": 56,
      "metadata": {
        "id": "b9MI2Bm2go1r"
      },
      "outputs": [],
      "source": [
        "from langchain_openai import OpenAIEmbeddings\n",
        "\n",
        "embeddings = OpenAIEmbeddings(model=\"text-embedding-3-large\")"
      ]
    },
    {
      "cell_type": "markdown",
      "metadata": {
        "id": "UBbjG6cKC8BQ"
      },
      "source": [
        "#### ❓Question #3:\n",
        "\n",
        "Why would modifying our embedding model modify the performance of our application?"
      ]
    },
    {
      "cell_type": "markdown",
      "metadata": {},
      "source": [
        "#### ✅ answer #3\n",
        "Upgrading from text-embedding-3-small to text-embedding-3-large improves RAG performance through better semantic understanding. \n",
        "- The larger model has higher dimensionality (3072 vs 1536 dimensions) enabling more nuanced similarity matching and improved retrieval precision. \n",
        "- It better captures relationships between different terms (e.g., \"financial aid\" vs \"student loans\") and understands domain-specific terminology. This leads to more accurate document retrieval, especially for complex multi-hop questions requiring information synthesis. \n",
        "- The model reduces noise by retrieving semantically relevant chunks rather than just lexically similar ones. Trade-off: better accuracy versus higher cost and latency."
      ]
    },
    {
      "cell_type": "code",
      "execution_count": 57,
      "metadata": {
        "id": "hVUY25FKgxXx"
      },
      "outputs": [],
      "source": [
        "vectorstore = Qdrant.from_documents(\n",
        "    documents=rag_documents,\n",
        "    embedding=embeddings,\n",
        "    location=\":memory:\",\n",
        "    collection_name=\"Loan Data for RAG\"\n",
        ")"
      ]
    },
    {
      "cell_type": "code",
      "execution_count": 58,
      "metadata": {
        "id": "Q4TOZNYIg2v1"
      },
      "outputs": [],
      "source": [
        "retriever = vectorstore.as_retriever()"
      ]
    },
    {
      "cell_type": "markdown",
      "metadata": {
        "id": "SqYGFrnKDB91"
      },
      "source": [
        "Setting up our new and improved DOPE RAG CHAIN."
      ]
    },
    {
      "cell_type": "code",
      "execution_count": 59,
      "metadata": {
        "id": "HqnTqeXMhAdx"
      },
      "outputs": [],
      "source": [
        "empathy_rag_chain = (\n",
        "    {\"context\": itemgetter(\"question\") | retriever, \"question\": itemgetter(\"question\")}\n",
        "    | empathy_rag_prompt | llm | StrOutputParser()\n",
        ")"
      ]
    },
    {
      "cell_type": "markdown",
      "metadata": {
        "id": "21pTxoqJDI1Y"
      },
      "source": [
        "Let's test it on the same output that we saw before."
      ]
    },
    {
      "cell_type": "code",
      "execution_count": 60,
      "metadata": {
        "colab": {
          "base_uri": "https://localhost:8080/",
          "height": 70
        },
        "id": "OfZZ3MoN3fKv",
        "outputId": "d65722dd-92c2-4e4e-9cca-c42ee6f3f208"
      },
      "outputs": [
        {
          "data": {
            "text/plain": [
              "\"Thank you for your question. Based on the context provided, there are several types of loans available to students and their parents to help cover educational costs:\\n\\n1. **Direct Subsidized Loans** – These loans are based on the student's financial need and can only be originated for that amount. They have a maximum eligibility amount linked to the student's cost of attendance minus other aid.\\n\\n2. **Direct Unsubsidized Loans** – These loans are available to both dependent and independent students and can cover unmet financial need as well as replace self-help aid (SAI). They are not based on financial need.\\n\\n3. **Direct PLUS Loans** – These loans are available to parents of dependent undergraduate students and to graduate or professional students themselves. Parents can borrow up to the student's cost of attendance minus other aid received. There is no fixed limit on the amount, but it cannot exceed the cost of attendance. PLUS loans require the parent borrower to meet eligibility requirements including credit checks.\\n\\nAdditionally, for situations where parents cannot obtain a Direct PLUS Loan, dependent students may receive additional Direct Unsubsidized Loan amounts equivalent to those available to independent students for a limited number of years.\\n\\nI understand navigating these loan options can feel overwhelming, but I hope this summary helps clarify the types of loans available to support your educational goals. If you need more specific guidance, feel free to ask—I'm here to help!\""
            ]
          },
          "execution_count": 60,
          "metadata": {},
          "output_type": "execute_result"
        }
      ],
      "source": [
        "empathy_rag_chain.invoke({\"question\" : \"What kinds of loans are available?\"})"
      ]
    },
    {
      "cell_type": "markdown",
      "metadata": {
        "id": "lpj7v1inDLnQ"
      },
      "source": [
        "Finally, we can evaluate the new chain on the same test set!"
      ]
    },
    {
      "cell_type": "code",
      "execution_count": 61,
      "metadata": {
        "colab": {
          "base_uri": "https://localhost:8080/",
          "height": 136,
          "referenced_widgets": [
            "bf8dcc0895054529af356da401c513f6",
            "7dce19ac55264f2b88a0e4730e55867b",
            "2a0755d4476543feb4a64538e3e37213",
            "158212a630f04cbd884c937f2f60f5c8",
            "11c7f66acc1d45be9517d0addf49331e",
            "ddffd834e09940a4bd3874c3f39b4e21",
            "ef63c3b2d51e452da03cdae5d9b034be",
            "c20b539cd70b4ba99601ad1d69fd9cec",
            "a6d681eeafa44d18b933a4c5dec88382",
            "d1d54ccd56494c4d831f71b416a1f880",
            "530f696feefe499da08c6312047379b2"
          ]
        },
        "id": "Dx11S2b-hIM8",
        "outputId": "d3a3ea78-aa32-4bd2-8c2a-d0d0303695c1"
      },
      "outputs": [
        {
          "name": "stdout",
          "output_type": "stream",
          "text": [
            "View the evaluation results for experiment: 'sparkling-print-48' at:\n",
            "https://smith.langchain.com/o/9522861f-8e1e-4a62-8c0d-a84097b261bc/datasets/0e99c3c6-17a5-4795-9422-fe9ba5611d04/compare?selectedSessions=76e06d85-ba15-4913-932e-af5c75b51b07\n",
            "\n",
            "\n"
          ]
        },
        {
          "data": {
            "application/vnd.jupyter.widget-view+json": {
              "model_id": "5706c05d6e28469898340b8c357ea0d2",
              "version_major": 2,
              "version_minor": 0
            },
            "text/plain": [
              "0it [00:00, ?it/s]"
            ]
          },
          "metadata": {},
          "output_type": "display_data"
        },
        {
          "data": {
            "text/html": [
              "<div>\n",
              "<style scoped>\n",
              "    .dataframe tbody tr th:only-of-type {\n",
              "        vertical-align: middle;\n",
              "    }\n",
              "\n",
              "    .dataframe tbody tr th {\n",
              "        vertical-align: top;\n",
              "    }\n",
              "\n",
              "    .dataframe thead th {\n",
              "        text-align: right;\n",
              "    }\n",
              "</style>\n",
              "<table border=\"1\" class=\"dataframe\">\n",
              "  <thead>\n",
              "    <tr style=\"text-align: right;\">\n",
              "      <th></th>\n",
              "      <th>inputs.question</th>\n",
              "      <th>outputs.output</th>\n",
              "      <th>error</th>\n",
              "      <th>reference.answer</th>\n",
              "      <th>feedback.correctness</th>\n",
              "      <th>feedback.helpfulness</th>\n",
              "      <th>feedback.empathy</th>\n",
              "      <th>execution_time</th>\n",
              "      <th>example_id</th>\n",
              "      <th>id</th>\n",
              "    </tr>\n",
              "  </thead>\n",
              "  <tbody>\n",
              "    <tr>\n",
              "      <th>0</th>\n",
              "      <td>How does the inclusion of clinical work in sta...</td>\n",
              "      <td>Thank you for your thoughtful question. Based ...</td>\n",
              "      <td>None</td>\n",
              "      <td>The inclusion of clinical work in standard ter...</td>\n",
              "      <td>0</td>\n",
              "      <td>0</td>\n",
              "      <td>1</td>\n",
              "      <td>5.428462</td>\n",
              "      <td>441f7a52-b2b1-41b0-9379-e865760221d4</td>\n",
              "      <td>ef6acba0-5655-4204-99ee-e978f2ed17c9</td>\n",
              "    </tr>\n",
              "    <tr>\n",
              "      <th>1</th>\n",
              "      <td>How do the definitions of academic years in Ch...</td>\n",
              "      <td>Thank you for your thoughtful question. Unders...</td>\n",
              "      <td>None</td>\n",
              "      <td>Chapter 1 explains that an academic year must ...</td>\n",
              "      <td>1</td>\n",
              "      <td>1</td>\n",
              "      <td>1</td>\n",
              "      <td>5.831749</td>\n",
              "      <td>db45609f-44a9-48ae-92c4-f266535a886c</td>\n",
              "      <td>bd09acef-dc06-4acc-9459-34a946c3c8c7</td>\n",
              "    </tr>\n",
              "    <tr>\n",
              "      <th>2</th>\n",
              "      <td>How does Volume 8 relate to disbursement timin...</td>\n",
              "      <td>Thank you for your thoughtful question. Based ...</td>\n",
              "      <td>None</td>\n",
              "      <td>Volume 8 discusses the impact of credit hours ...</td>\n",
              "      <td>0</td>\n",
              "      <td>0</td>\n",
              "      <td>1</td>\n",
              "      <td>4.059275</td>\n",
              "      <td>54c5504a-89d3-428d-8bcf-aafc8ba418e2</td>\n",
              "      <td>563092ab-d48c-4c10-875a-8f35bffd6bfc</td>\n",
              "    </tr>\n",
              "    <tr>\n",
              "      <th>3</th>\n",
              "      <td>How does Volume 8 explain the impact of accele...</td>\n",
              "      <td>Thank you for your thoughtful question. Based ...</td>\n",
              "      <td>None</td>\n",
              "      <td>Volume 8 details that for students in clock-ho...</td>\n",
              "      <td>0</td>\n",
              "      <td>0</td>\n",
              "      <td>1</td>\n",
              "      <td>5.542309</td>\n",
              "      <td>683f5c5e-d11b-4d6e-ad84-258f8de549be</td>\n",
              "      <td>5140e46f-ea89-46ac-9d7d-b6e8db09f168</td>\n",
              "    </tr>\n",
              "    <tr>\n",
              "      <th>4</th>\n",
              "      <td>What guidance exists for including clinical wo...</td>\n",
              "      <td>Thank you for your thoughtful question; I unde...</td>\n",
              "      <td>None</td>\n",
              "      <td>Inclusion of clinical work in loan periods is ...</td>\n",
              "      <td>1</td>\n",
              "      <td>0</td>\n",
              "      <td>1</td>\n",
              "      <td>2.590026</td>\n",
              "      <td>95c882c1-d794-48c7-b37c-34f290080a56</td>\n",
              "      <td>cf67ca98-6cf4-475a-96e2-5269ba548c6d</td>\n",
              "    </tr>\n",
              "    <tr>\n",
              "      <th>5</th>\n",
              "      <td>Considering the timing and scheduling constrai...</td>\n",
              "      <td>Thank you for your thoughtful question. I unde...</td>\n",
              "      <td>None</td>\n",
              "      <td>The inclusion of clinical work in standard ter...</td>\n",
              "      <td>1</td>\n",
              "      <td>0</td>\n",
              "      <td>1</td>\n",
              "      <td>6.058677</td>\n",
              "      <td>3bacc0c1-7ccf-4cae-b766-0f5cb63091fd</td>\n",
              "      <td>4822f110-1d12-480b-a0d1-510dcf6008f1</td>\n",
              "    </tr>\n",
              "    <tr>\n",
              "      <th>6</th>\n",
              "      <td>How do the disbursement timing requirements fo...</td>\n",
              "      <td>Thank you for your thoughtful question about s...</td>\n",
              "      <td>None</td>\n",
              "      <td>The disbursement timing requirements for feder...</td>\n",
              "      <td>1</td>\n",
              "      <td>1</td>\n",
              "      <td>1</td>\n",
              "      <td>10.809566</td>\n",
              "      <td>3dfb4a55-2b6b-4c82-a300-68d199875d00</td>\n",
              "      <td>a03a6b9e-9766-45cf-ae71-b88a3b5c2495</td>\n",
              "    </tr>\n",
              "    <tr>\n",
              "      <th>7</th>\n",
              "      <td>How does inclusion of clinical work in standar...</td>\n",
              "      <td>Thank you for your thoughtful question about h...</td>\n",
              "      <td>None</td>\n",
              "      <td>The inclusion of clinical work in standard ter...</td>\n",
              "      <td>1</td>\n",
              "      <td>1</td>\n",
              "      <td>1</td>\n",
              "      <td>3.664565</td>\n",
              "      <td>3f063f1b-4012-42d2-93d2-a95a4260605c</td>\n",
              "      <td>59f8a374-c797-454c-8284-0324997ce5bf</td>\n",
              "    </tr>\n",
              "    <tr>\n",
              "      <th>8</th>\n",
              "      <td>What is the role of the Federal Work-Study pro...</td>\n",
              "      <td>Thank you for your thoughtful question about t...</td>\n",
              "      <td>None</td>\n",
              "      <td>The payment period is applicable to all Title ...</td>\n",
              "      <td>1</td>\n",
              "      <td>1</td>\n",
              "      <td>1</td>\n",
              "      <td>5.020490</td>\n",
              "      <td>a3539246-9dbe-4887-aaf2-9f9c652ded6e</td>\n",
              "      <td>ddad14cd-f7f8-4f9a-9b69-13afbd3418ac</td>\n",
              "    </tr>\n",
              "    <tr>\n",
              "      <th>9</th>\n",
              "      <td>What is the significance of Chapter 3 in relat...</td>\n",
              "      <td>Thank you for your thoughtful question. Based ...</td>\n",
              "      <td>None</td>\n",
              "      <td>Inclusion of clinical work in a standard term ...</td>\n",
              "      <td>1</td>\n",
              "      <td>0</td>\n",
              "      <td>1</td>\n",
              "      <td>2.492904</td>\n",
              "      <td>c950492e-2839-422e-ba8d-97d8d7aa022b</td>\n",
              "      <td>ecb452c9-42f9-4e79-9a76-40fa7462aad7</td>\n",
              "    </tr>\n",
              "    <tr>\n",
              "      <th>10</th>\n",
              "      <td>What is 34 CFR 668.3(a) about in terms of acad...</td>\n",
              "      <td>Thank you for your thoughtful question. Based ...</td>\n",
              "      <td>None</td>\n",
              "      <td>Regulatory Citations Academic year minimums: 3...</td>\n",
              "      <td>1</td>\n",
              "      <td>1</td>\n",
              "      <td>1</td>\n",
              "      <td>6.386319</td>\n",
              "      <td>b7505b4c-fb04-48fb-be81-469973305db6</td>\n",
              "      <td>82e74e84-992b-4e8f-9c09-fa567420c1cc</td>\n",
              "    </tr>\n",
              "    <tr>\n",
              "      <th>11</th>\n",
              "      <td>What is the role of the School Participation D...</td>\n",
              "      <td>Thank you for your thoughtful question. Based ...</td>\n",
              "      <td>None</td>\n",
              "      <td>The School Participation Division oversees com...</td>\n",
              "      <td>1</td>\n",
              "      <td>1</td>\n",
              "      <td>1</td>\n",
              "      <td>3.167349</td>\n",
              "      <td>33d955c0-50f2-4c51-8486-6dd90a4ab97c</td>\n",
              "      <td>8a7b70af-0066-4812-8967-5da0c3bdc03c</td>\n",
              "    </tr>\n",
              "  </tbody>\n",
              "</table>\n",
              "</div>"
            ],
            "text/plain": [
              "<ExperimentResults sparkling-print-48>"
            ]
          },
          "execution_count": 61,
          "metadata": {},
          "output_type": "execute_result"
        }
      ],
      "source": [
        "evaluate(\n",
        "    empathy_rag_chain.invoke,\n",
        "    data=dataset_name,\n",
        "    evaluators=[\n",
        "        qa_evaluator,\n",
        "        labeled_helpfulness_evaluator,\n",
        "        empathy_evaluator\n",
        "    ],\n",
        "    metadata={\"revision_id\": \"empathy_rag_chain\"},\n",
        ")"
      ]
    },
    {
      "cell_type": "code",
      "execution_count": 64,
      "metadata": {},
      "outputs": [
        {
          "data": {
            "image/png": "[encoded data removed]",
            "text/plain": [
              "<IPython.core.display.Image object>"
            ]
          },
          "metadata": {},
          "output_type": "display_data"
        }
      ],
      "source": [
        "from IPython.display import Image, display\n",
        "display(Image(empathy_rag_chain.get_graph().draw_mermaid_png()))"
      ]
    },
    {
      "cell_type": "markdown",
      "metadata": {
        "id": "3C7migvlDPZT"
      },
      "source": [
        "#### 🏗️ Activity #3:\n",
        "\n",
        "Provide a screenshot of the difference between the two chains, and explain why you believe certain metrics changed in certain ways."
      ]
    },
    {
      "cell_type": "markdown",
      "metadata": {},
      "source": [
        "![experiment](experiments.png)"
      ]
    },
    {
      "cell_type": "markdown",
      "metadata": {},
      "source": [
        "- correctness: the two chains have the same correctness. Even if empathy_rag_chain using better model and bigger chunk size, the accuracy stays the same. \n",
        "- empathy: the \"empathy_rag_chain\" scores 100% on empathy while \"rag_chain\" scores 0%. This is because in the second chain's prompt, we explicitly ask it to \"answer the question using empathy and kindness, and make sure the user feels heard\". \n",
        "- helpfulness: \"empathy_rag_chain\" is slightly more helpful (0.5) than \"rag_chain\" (0.4). It could be due to the \"empathy\" requirement in the prompt, so the answer is longer and more detailed thus yielding in higher helpfulness score. \n",
        "- latency: \"empathy_rag_chain\" has higher latency than \"rag_chain\". In general, empthy chain has more output token. Again, could be due to the \"empathy\" requirement in its prompt. "
      ]
    },
    {
      "cell_type": "markdown",
      "metadata": {},
      "source": []
    }
  ],
  "metadata": {
    "colab": {
      "provenance": [],
      "toc_visible": true
    },
    "kernelspec": {
      "display_name": ".venv",
      "language": "python",
      "name": "python3"
    },
    "language_info": {
      "codemirror_mode": {
        "name": "ipython",
        "version": 3
      },
      "file_extension": ".py",
      "mimetype": "text/x-python",
      "name": "python",
      "nbconvert_exporter": "python",
      "pygments_lexer": "ipython3",
      "version": "3.13.0"
    },
    "widgets": {
      "application/vnd.jupyter.widget-state+json": {
        "07ab3dc0790241bbb85a7f488a42ef8c": {
          "model_module": "@jupyter-widgets/controls",
          "model_module_version": "1.5.0",
          "model_name": "HBoxModel",
          "state": {
            "_dom_classes": [],
            "_model_module": "@jupyter-widgets/controls",
            "_model_module_version": "1.5.0",
            "_model_name": "HBoxModel",
            "_view_count": null,
            "_view_module": "@jupyter-widgets/controls",
            "_view_module_version": "1.5.0",
            "_view_name": "HBoxView",
            "box_style": "",
            "children": [
              "IPY_MODEL_7710c7377cbc4c30b55b28b4bc99e88f",
              "IPY_MODEL_41bdd49fab5f4826959d0d50663ff539",
              "IPY_MODEL_60168d85131d4afc99d55d61ab954ee6"
            ],
            "layout": "IPY_MODEL_9edf898aeeab40dda9b9475395776521"
          }
        },
        "095f680d37a3430fb82d223615662db5": {
          "model_module": "@jupyter-widgets/controls",
          "model_module_version": "1.5.0",
          "model_name": "ProgressStyleModel",
          "state": {
            "_model_module": "@jupyter-widgets/controls",
            "_model_module_version": "1.5.0",
            "_model_name": "ProgressStyleModel",
            "_view_count": null,
            "_view_module": "@jupyter-widgets/base",
            "_view_module_version": "1.2.0",
            "_view_name": "StyleView",
            "bar_color": null,
            "description_width": ""
          }
        },
        "0b44cb0f8e34446c8dde668a75d3d8ad": {
          "model_module": "@jupyter-widgets/base",
          "model_module_version": "1.2.0",
          "model_name": "LayoutModel",
          "state": {
            "_model_module": "@jupyter-widgets/base",
            "_model_module_version": "1.2.0",
            "_model_name": "LayoutModel",
            "_view_count": null,
            "_view_module": "@jupyter-widgets/base",
            "_view_module_version": "1.2.0",
            "_view_name": "LayoutView",
            "align_content": null,
            "align_items": null,
            "align_self": null,
            "border": null,
            "bottom": null,
            "display": null,
            "flex": null,
            "flex_flow": null,
            "grid_area": null,
            "grid_auto_columns": null,
            "grid_auto_flow": null,
            "grid_auto_rows": null,
            "grid_column": null,
            "grid_gap": null,
            "grid_row": null,
            "grid_template_areas": null,
            "grid_template_columns": null,
            "grid_template_rows": null,
            "height": null,
            "justify_content": null,
            "justify_items": null,
            "left": null,
            "margin": null,
            "max_height": null,
            "max_width": null,
            "min_height": null,
            "min_width": null,
            "object_fit": null,
            "object_position": null,
            "order": null,
            "overflow": null,
            "overflow_x": null,
            "overflow_y": null,
            "padding": null,
            "right": null,
            "top": null,
            "visibility": null,
            "width": null
          }
        },
        "10df31709059484c99f102453d780473": {
          "model_module": "@jupyter-widgets/base",
          "model_module_version": "1.2.0",
          "model_name": "LayoutModel",
          "state": {
            "_model_module": "@jupyter-widgets/base",
            "_model_module_version": "1.2.0",
            "_model_name": "LayoutModel",
            "_view_count": null,
            "_view_module": "@jupyter-widgets/base",
            "_view_module_version": "1.2.0",
            "_view_name": "LayoutView",
            "align_content": null,
            "align_items": null,
            "align_self": null,
            "border": null,
            "bottom": null,
            "display": null,
            "flex": null,
            "flex_flow": null,
            "grid_area": null,
            "grid_auto_columns": null,
            "grid_auto_flow": null,
            "grid_auto_rows": null,
            "grid_column": null,
            "grid_gap": null,
            "grid_row": null,
            "grid_template_areas": null,
            "grid_template_columns": null,
            "grid_template_rows": null,
            "height": null,
            "justify_content": null,
            "justify_items": null,
            "left": null,
            "margin": null,
            "max_height": null,
            "max_width": null,
            "min_height": null,
            "min_width": null,
            "object_fit": null,
            "object_position": null,
            "order": null,
            "overflow": null,
            "overflow_x": null,
            "overflow_y": null,
            "padding": null,
            "right": null,
            "top": null,
            "visibility": null,
            "width": null
          }
        },
        "1160a44dc18e47b0890f70c40eaa7eb0": {
          "model_module": "@jupyter-widgets/controls",
          "model_module_version": "1.5.0",
          "model_name": "DescriptionStyleModel",
          "state": {
            "_model_module": "@jupyter-widgets/controls",
            "_model_module_version": "1.5.0",
            "_model_name": "DescriptionStyleModel",
            "_view_count": null,
            "_view_module": "@jupyter-widgets/base",
            "_view_module_version": "1.2.0",
            "_view_name": "StyleView",
            "description_width": ""
          }
        },
        "11c7f66acc1d45be9517d0addf49331e": {
          "model_module": "@jupyter-widgets/base",
          "model_module_version": "1.2.0",
          "model_name": "LayoutModel",
          "state": {
            "_model_module": "@jupyter-widgets/base",
            "_model_module_version": "1.2.0",
            "_model_name": "LayoutModel",
            "_view_count": null,
            "_view_module": "@jupyter-widgets/base",
            "_view_module_version": "1.2.0",
            "_view_name": "LayoutView",
            "align_content": null,
            "align_items": null,
            "align_self": null,
            "border": null,
            "bottom": null,
            "display": null,
            "flex": null,
            "flex_flow": null,
            "grid_area": null,
            "grid_auto_columns": null,
            "grid_auto_flow": null,
            "grid_auto_rows": null,
            "grid_column": null,
            "grid_gap": null,
            "grid_row": null,
            "grid_template_areas": null,
            "grid_template_columns": null,
            "grid_template_rows": null,
            "height": null,
            "justify_content": null,
            "justify_items": null,
            "left": null,
            "margin": null,
            "max_height": null,
            "max_width": null,
            "min_height": null,
            "min_width": null,
            "object_fit": null,
            "object_position": null,
            "order": null,
            "overflow": null,
            "overflow_x": null,
            "overflow_y": null,
            "padding": null,
            "right": null,
            "top": null,
            "visibility": null,
            "width": null
          }
        },
        "122b1bd1f0e9417a8dcb57d4eebe4d2e": {
          "model_module": "@jupyter-widgets/controls",
          "model_module_version": "1.5.0",
          "model_name": "HBoxModel",
          "state": {
            "_dom_classes": [],
            "_model_module": "@jupyter-widgets/controls",
            "_model_module_version": "1.5.0",
            "_model_name": "HBoxModel",
            "_view_count": null,
            "_view_module": "@jupyter-widgets/controls",
            "_view_module_version": "1.5.0",
            "_view_name": "HBoxView",
            "box_style": "",
            "children": [
              "IPY_MODEL_e0c233ad01604540a6c873f4a731982d",
              "IPY_MODEL_e9a01115c75b499884f7e0ef32e9e599",
              "IPY_MODEL_5faba4ad609448b2b49024add4ad3b8e"
            ],
            "layout": "IPY_MODEL_ef25efa751304e4699910f1fbc14345f"
          }
        },
        "158212a630f04cbd884c937f2f60f5c8": {
          "model_module": "@jupyter-widgets/controls",
          "model_module_version": "1.5.0",
          "model_name": "HTMLModel",
          "state": {
            "_dom_classes": [],
            "_model_module": "@jupyter-widgets/controls",
            "_model_module_version": "1.5.0",
            "_model_name": "HTMLModel",
            "_view_count": null,
            "_view_module": "@jupyter-widgets/controls",
            "_view_module_version": "1.5.0",
            "_view_name": "HTMLView",
            "description": "",
            "description_tooltip": null,
            "layout": "IPY_MODEL_d1d54ccd56494c4d831f71b416a1f880",
            "placeholder": "​",
            "style": "IPY_MODEL_530f696feefe499da08c6312047379b2",
            "value": " 20/? [01:43&lt;00:00,  5.25s/it]"
          }
        },
        "23863bc37a8645029934b8c106622c51": {
          "model_module": "@jupyter-widgets/base",
          "model_module_version": "1.2.0",
          "model_name": "LayoutModel",
          "state": {
            "_model_module": "@jupyter-widgets/base",
            "_model_module_version": "1.2.0",
            "_model_name": "LayoutModel",
            "_view_count": null,
            "_view_module": "@jupyter-widgets/base",
            "_view_module_version": "1.2.0",
            "_view_name": "LayoutView",
            "align_content": null,
            "align_items": null,
            "align_self": null,
            "border": null,
            "bottom": null,
            "display": null,
            "flex": null,
            "flex_flow": null,
            "grid_area": null,
            "grid_auto_columns": null,
            "grid_auto_flow": null,
            "grid_auto_rows": null,
            "grid_column": null,
            "grid_gap": null,
            "grid_row": null,
            "grid_template_areas": null,
            "grid_template_columns": null,
            "grid_template_rows": null,
            "height": null,
            "justify_content": null,
            "justify_items": null,
            "left": null,
            "margin": null,
            "max_height": null,
            "max_width": null,
            "min_height": null,
            "min_width": null,
            "object_fit": null,
            "object_position": null,
            "order": null,
            "overflow": null,
            "overflow_x": null,
            "overflow_y": null,
            "padding": null,
            "right": null,
            "top": null,
            "visibility": null,
            "width": null
          }
        },
        "2508d229935744cbb5fc340222e2d660": {
          "model_module": "@jupyter-widgets/controls",
          "model_module_version": "1.5.0",
          "model_name": "DescriptionStyleModel",
          "state": {
            "_model_module": "@jupyter-widgets/controls",
            "_model_module_version": "1.5.0",
            "_model_name": "DescriptionStyleModel",
            "_view_count": null,
            "_view_module": "@jupyter-widgets/base",
            "_view_module_version": "1.2.0",
            "_view_name": "StyleView",
            "description_width": ""
          }
        },
        "2a0755d4476543feb4a64538e3e37213": {
          "model_module": "@jupyter-widgets/controls",
          "model_module_version": "1.5.0",
          "model_name": "FloatProgressModel",
          "state": {
            "_dom_classes": [],
            "_model_module": "@jupyter-widgets/controls",
            "_model_module_version": "1.5.0",
            "_model_name": "FloatProgressModel",
            "_view_count": null,
            "_view_module": "@jupyter-widgets/controls",
            "_view_module_version": "1.5.0",
            "_view_name": "ProgressView",
            "bar_style": "success",
            "description": "",
            "description_tooltip": null,
            "layout": "IPY_MODEL_c20b539cd70b4ba99601ad1d69fd9cec",
            "max": 1,
            "min": 0,
            "orientation": "horizontal",
            "style": "IPY_MODEL_a6d681eeafa44d18b933a4c5dec88382",
            "value": 1
          }
        },
        "33f063017b7c4c7fa8cbafc89674350b": {
          "model_module": "@jupyter-widgets/controls",
          "model_module_version": "1.5.0",
          "model_name": "HBoxModel",
          "state": {
            "_dom_classes": [],
            "_model_module": "@jupyter-widgets/controls",
            "_model_module_version": "1.5.0",
            "_model_name": "HBoxModel",
            "_view_count": null,
            "_view_module": "@jupyter-widgets/controls",
            "_view_module_version": "1.5.0",
            "_view_name": "HBoxView",
            "box_style": "",
            "children": [
              "IPY_MODEL_6864c81e2bcf459bbaf5acbb36bdfcbe",
              "IPY_MODEL_59d6e269eadf429a924f6f79bc8ba4ba",
              "IPY_MODEL_ca791fc471e34b9da2f9070fc1053c0f"
            ],
            "layout": "IPY_MODEL_8baf0ed3d0f743f294e07f2b5407e820"
          }
        },
        "3a8537e37fc14fd9b16ca0ceee4fede6": {
          "model_module": "@jupyter-widgets/base",
          "model_module_version": "1.2.0",
          "model_name": "LayoutModel",
          "state": {
            "_model_module": "@jupyter-widgets/base",
            "_model_module_version": "1.2.0",
            "_model_name": "LayoutModel",
            "_view_count": null,
            "_view_module": "@jupyter-widgets/base",
            "_view_module_version": "1.2.0",
            "_view_name": "LayoutView",
            "align_content": null,
            "align_items": null,
            "align_self": null,
            "border": null,
            "bottom": null,
            "display": null,
            "flex": null,
            "flex_flow": null,
            "grid_area": null,
            "grid_auto_columns": null,
            "grid_auto_flow": null,
            "grid_auto_rows": null,
            "grid_column": null,
            "grid_gap": null,
            "grid_row": null,
            "grid_template_areas": null,
            "grid_template_columns": null,
            "grid_template_rows": null,
            "height": null,
            "justify_content": null,
            "justify_items": null,
            "left": null,
            "margin": null,
            "max_height": null,
            "max_width": null,
            "min_height": null,
            "min_width": null,
            "object_fit": null,
            "object_position": null,
            "order": null,
            "overflow": null,
            "overflow_x": null,
            "overflow_y": null,
            "padding": null,
            "right": null,
            "top": null,
            "visibility": null,
            "width": null
          }
        },
        "41bdd49fab5f4826959d0d50663ff539": {
          "model_module": "@jupyter-widgets/controls",
          "model_module_version": "1.5.0",
          "model_name": "FloatProgressModel",
          "state": {
            "_dom_classes": [],
            "_model_module": "@jupyter-widgets/controls",
            "_model_module_version": "1.5.0",
            "_model_name": "FloatProgressModel",
            "_view_count": null,
            "_view_module": "@jupyter-widgets/controls",
            "_view_module_version": "1.5.0",
            "_view_name": "ProgressView",
            "bar_style": "",
            "description": "",
            "description_tooltip": null,
            "layout": "IPY_MODEL_6eb8b2e3262c45248708a2082c366f0a",
            "max": 64,
            "min": 0,
            "orientation": "horizontal",
            "style": "IPY_MODEL_095f680d37a3430fb82d223615662db5",
            "value": 64
          }
        },
        "530f696feefe499da08c6312047379b2": {
          "model_module": "@jupyter-widgets/controls",
          "model_module_version": "1.5.0",
          "model_name": "DescriptionStyleModel",
          "state": {
            "_model_module": "@jupyter-widgets/controls",
            "_model_module_version": "1.5.0",
            "_model_name": "DescriptionStyleModel",
            "_view_count": null,
            "_view_module": "@jupyter-widgets/base",
            "_view_module_version": "1.2.0",
            "_view_name": "StyleView",
            "description_width": ""
          }
        },
        "59d6e269eadf429a924f6f79bc8ba4ba": {
          "model_module": "@jupyter-widgets/controls",
          "model_module_version": "1.5.0",
          "model_name": "FloatProgressModel",
          "state": {
            "_dom_classes": [],
            "_model_module": "@jupyter-widgets/controls",
            "_model_module_version": "1.5.0",
            "_model_name": "FloatProgressModel",
            "_view_count": null,
            "_view_module": "@jupyter-widgets/controls",
            "_view_module_version": "1.5.0",
            "_view_name": "ProgressView",
            "bar_style": "success",
            "description": "",
            "description_tooltip": null,
            "layout": "IPY_MODEL_890e0dd7fa524ceca1e805cb6253ee71",
            "max": 20,
            "min": 0,
            "orientation": "horizontal",
            "style": "IPY_MODEL_61b52ff459214129b8f7e6d67b192b78",
            "value": 20
          }
        },
        "5ab5f08afa5841709aedb2f78a52a11c": {
          "model_module": "@jupyter-widgets/controls",
          "model_module_version": "1.5.0",
          "model_name": "DescriptionStyleModel",
          "state": {
            "_model_module": "@jupyter-widgets/controls",
            "_model_module_version": "1.5.0",
            "_model_name": "DescriptionStyleModel",
            "_view_count": null,
            "_view_module": "@jupyter-widgets/base",
            "_view_module_version": "1.2.0",
            "_view_name": "StyleView",
            "description_width": ""
          }
        },
        "5c2fda99d4204d85b1bf7ad354fd58d4": {
          "model_module": "@jupyter-widgets/base",
          "model_module_version": "1.2.0",
          "model_name": "LayoutModel",
          "state": {
            "_model_module": "@jupyter-widgets/base",
            "_model_module_version": "1.2.0",
            "_model_name": "LayoutModel",
            "_view_count": null,
            "_view_module": "@jupyter-widgets/base",
            "_view_module_version": "1.2.0",
            "_view_name": "LayoutView",
            "align_content": null,
            "align_items": null,
            "align_self": null,
            "border": null,
            "bottom": null,
            "display": null,
            "flex": null,
            "flex_flow": null,
            "grid_area": null,
            "grid_auto_columns": null,
            "grid_auto_flow": null,
            "grid_auto_rows": null,
            "grid_column": null,
            "grid_gap": null,
            "grid_row": null,
            "grid_template_areas": null,
            "grid_template_columns": null,
            "grid_template_rows": null,
            "height": null,
            "justify_content": null,
            "justify_items": null,
            "left": null,
            "margin": null,
            "max_height": null,
            "max_width": null,
            "min_height": null,
            "min_width": null,
            "object_fit": null,
            "object_position": null,
            "order": null,
            "overflow": null,
            "overflow_x": null,
            "overflow_y": null,
            "padding": null,
            "right": null,
            "top": null,
            "visibility": null,
            "width": null
          }
        },
        "5faba4ad609448b2b49024add4ad3b8e": {
          "model_module": "@jupyter-widgets/controls",
          "model_module_version": "1.5.0",
          "model_name": "HTMLModel",
          "state": {
            "_dom_classes": [],
            "_model_module": "@jupyter-widgets/controls",
            "_model_module_version": "1.5.0",
            "_model_name": "HTMLModel",
            "_view_count": null,
            "_view_module": "@jupyter-widgets/controls",
            "_view_module_version": "1.5.0",
            "_view_name": "HTMLView",
            "description": "",
            "description_tooltip": null,
            "layout": "IPY_MODEL_849b5c95008541d49f1ceedf0a59ac60",
            "placeholder": "​",
            "style": "IPY_MODEL_f3665a86662746c4ac7cb0796604781d",
            "value": " 20/? [01:27&lt;00:00,  6.45s/it]"
          }
        },
        "60168d85131d4afc99d55d61ab954ee6": {
          "model_module": "@jupyter-widgets/controls",
          "model_module_version": "1.5.0",
          "model_name": "HTMLModel",
          "state": {
            "_dom_classes": [],
            "_model_module": "@jupyter-widgets/controls",
            "_model_module_version": "1.5.0",
            "_model_name": "HTMLModel",
            "_view_count": null,
            "_view_module": "@jupyter-widgets/controls",
            "_view_module_version": "1.5.0",
            "_view_name": "HTMLView",
            "description": "",
            "description_tooltip": null,
            "layout": "IPY_MODEL_3a8537e37fc14fd9b16ca0ceee4fede6",
            "placeholder": "​",
            "style": "IPY_MODEL_1160a44dc18e47b0890f70c40eaa7eb0",
            "value": " 61/64 [00:02&lt;00:00, 23.36it/s]"
          }
        },
        "61b52ff459214129b8f7e6d67b192b78": {
          "model_module": "@jupyter-widgets/controls",
          "model_module_version": "1.5.0",
          "model_name": "ProgressStyleModel",
          "state": {
            "_model_module": "@jupyter-widgets/controls",
            "_model_module_version": "1.5.0",
            "_model_name": "ProgressStyleModel",
            "_view_count": null,
            "_view_module": "@jupyter-widgets/base",
            "_view_module_version": "1.2.0",
            "_view_name": "StyleView",
            "bar_color": null,
            "description_width": ""
          }
        },
        "6864c81e2bcf459bbaf5acbb36bdfcbe": {
          "model_module": "@jupyter-widgets/controls",
          "model_module_version": "1.5.0",
          "model_name": "HTMLModel",
          "state": {
            "_dom_classes": [],
            "_model_module": "@jupyter-widgets/controls",
            "_model_module_version": "1.5.0",
            "_model_name": "HTMLModel",
            "_view_count": null,
            "_view_module": "@jupyter-widgets/controls",
            "_view_module_version": "1.5.0",
            "_view_name": "HTMLView",
            "description": "",
            "description_tooltip": null,
            "layout": "IPY_MODEL_10df31709059484c99f102453d780473",
            "placeholder": "​",
            "style": "IPY_MODEL_2508d229935744cbb5fc340222e2d660",
            "value": "Generating: 100%"
          }
        },
        "6eb8b2e3262c45248708a2082c366f0a": {
          "model_module": "@jupyter-widgets/base",
          "model_module_version": "1.2.0",
          "model_name": "LayoutModel",
          "state": {
            "_model_module": "@jupyter-widgets/base",
            "_model_module_version": "1.2.0",
            "_model_name": "LayoutModel",
            "_view_count": null,
            "_view_module": "@jupyter-widgets/base",
            "_view_module_version": "1.2.0",
            "_view_name": "LayoutView",
            "align_content": null,
            "align_items": null,
            "align_self": null,
            "border": null,
            "bottom": null,
            "display": null,
            "flex": null,
            "flex_flow": null,
            "grid_area": null,
            "grid_auto_columns": null,
            "grid_auto_flow": null,
            "grid_auto_rows": null,
            "grid_column": null,
            "grid_gap": null,
            "grid_row": null,
            "grid_template_areas": null,
            "grid_template_columns": null,
            "grid_template_rows": null,
            "height": null,
            "justify_content": null,
            "justify_items": null,
            "left": null,
            "margin": null,
            "max_height": null,
            "max_width": null,
            "min_height": null,
            "min_width": null,
            "object_fit": null,
            "object_position": null,
            "order": null,
            "overflow": null,
            "overflow_x": null,
            "overflow_y": null,
            "padding": null,
            "right": null,
            "top": null,
            "visibility": null,
            "width": null
          }
        },
        "7710c7377cbc4c30b55b28b4bc99e88f": {
          "model_module": "@jupyter-widgets/controls",
          "model_module_version": "1.5.0",
          "model_name": "HTMLModel",
          "state": {
            "_dom_classes": [],
            "_model_module": "@jupyter-widgets/controls",
            "_model_module_version": "1.5.0",
            "_model_name": "HTMLModel",
            "_view_count": null,
            "_view_module": "@jupyter-widgets/controls",
            "_view_module_version": "1.5.0",
            "_view_name": "HTMLView",
            "description": "",
            "description_tooltip": null,
            "layout": "IPY_MODEL_5c2fda99d4204d85b1bf7ad354fd58d4",
            "placeholder": "​",
            "style": "IPY_MODEL_93cd4d35c5fd41f5904ca1d52d1f52a8",
            "value": "embedding nodes:  95%"
          }
        },
        "7cb241365f604419af454c1c28de197a": {
          "model_module": "@jupyter-widgets/base",
          "model_module_version": "1.2.0",
          "model_name": "LayoutModel",
          "state": {
            "_model_module": "@jupyter-widgets/base",
            "_model_module_version": "1.2.0",
            "_model_name": "LayoutModel",
            "_view_count": null,
            "_view_module": "@jupyter-widgets/base",
            "_view_module_version": "1.2.0",
            "_view_name": "LayoutView",
            "align_content": null,
            "align_items": null,
            "align_self": null,
            "border": null,
            "bottom": null,
            "display": null,
            "flex": null,
            "flex_flow": null,
            "grid_area": null,
            "grid_auto_columns": null,
            "grid_auto_flow": null,
            "grid_auto_rows": null,
            "grid_column": null,
            "grid_gap": null,
            "grid_row": null,
            "grid_template_areas": null,
            "grid_template_columns": null,
            "grid_template_rows": null,
            "height": null,
            "justify_content": null,
            "justify_items": null,
            "left": null,
            "margin": null,
            "max_height": null,
            "max_width": null,
            "min_height": null,
            "min_width": null,
            "object_fit": null,
            "object_position": null,
            "order": null,
            "overflow": null,
            "overflow_x": null,
            "overflow_y": null,
            "padding": null,
            "right": null,
            "top": null,
            "visibility": null,
            "width": "20px"
          }
        },
        "7dce19ac55264f2b88a0e4730e55867b": {
          "model_module": "@jupyter-widgets/controls",
          "model_module_version": "1.5.0",
          "model_name": "HTMLModel",
          "state": {
            "_dom_classes": [],
            "_model_module": "@jupyter-widgets/controls",
            "_model_module_version": "1.5.0",
            "_model_name": "HTMLModel",
            "_view_count": null,
            "_view_module": "@jupyter-widgets/controls",
            "_view_module_version": "1.5.0",
            "_view_name": "HTMLView",
            "description": "",
            "description_tooltip": null,
            "layout": "IPY_MODEL_ddffd834e09940a4bd3874c3f39b4e21",
            "placeholder": "​",
            "style": "IPY_MODEL_ef63c3b2d51e452da03cdae5d9b034be",
            "value": ""
          }
        },
        "849b5c95008541d49f1ceedf0a59ac60": {
          "model_module": "@jupyter-widgets/base",
          "model_module_version": "1.2.0",
          "model_name": "LayoutModel",
          "state": {
            "_model_module": "@jupyter-widgets/base",
            "_model_module_version": "1.2.0",
            "_model_name": "LayoutModel",
            "_view_count": null,
            "_view_module": "@jupyter-widgets/base",
            "_view_module_version": "1.2.0",
            "_view_name": "LayoutView",
            "align_content": null,
            "align_items": null,
            "align_self": null,
            "border": null,
            "bottom": null,
            "display": null,
            "flex": null,
            "flex_flow": null,
            "grid_area": null,
            "grid_auto_columns": null,
            "grid_auto_flow": null,
            "grid_auto_rows": null,
            "grid_column": null,
            "grid_gap": null,
            "grid_row": null,
            "grid_template_areas": null,
            "grid_template_columns": null,
            "grid_template_rows": null,
            "height": null,
            "justify_content": null,
            "justify_items": null,
            "left": null,
            "margin": null,
            "max_height": null,
            "max_width": null,
            "min_height": null,
            "min_width": null,
            "object_fit": null,
            "object_position": null,
            "order": null,
            "overflow": null,
            "overflow_x": null,
            "overflow_y": null,
            "padding": null,
            "right": null,
            "top": null,
            "visibility": null,
            "width": null
          }
        },
        "890e0dd7fa524ceca1e805cb6253ee71": {
          "model_module": "@jupyter-widgets/base",
          "model_module_version": "1.2.0",
          "model_name": "LayoutModel",
          "state": {
            "_model_module": "@jupyter-widgets/base",
            "_model_module_version": "1.2.0",
            "_model_name": "LayoutModel",
            "_view_count": null,
            "_view_module": "@jupyter-widgets/base",
            "_view_module_version": "1.2.0",
            "_view_name": "LayoutView",
            "align_content": null,
            "align_items": null,
            "align_self": null,
            "border": null,
            "bottom": null,
            "display": null,
            "flex": null,
            "flex_flow": null,
            "grid_area": null,
            "grid_auto_columns": null,
            "grid_auto_flow": null,
            "grid_auto_rows": null,
            "grid_column": null,
            "grid_gap": null,
            "grid_row": null,
            "grid_template_areas": null,
            "grid_template_columns": null,
            "grid_template_rows": null,
            "height": null,
            "justify_content": null,
            "justify_items": null,
            "left": null,
            "margin": null,
            "max_height": null,
            "max_width": null,
            "min_height": null,
            "min_width": null,
            "object_fit": null,
            "object_position": null,
            "order": null,
            "overflow": null,
            "overflow_x": null,
            "overflow_y": null,
            "padding": null,
            "right": null,
            "top": null,
            "visibility": null,
            "width": null
          }
        },
        "8baf0ed3d0f743f294e07f2b5407e820": {
          "model_module": "@jupyter-widgets/base",
          "model_module_version": "1.2.0",
          "model_name": "LayoutModel",
          "state": {
            "_model_module": "@jupyter-widgets/base",
            "_model_module_version": "1.2.0",
            "_model_name": "LayoutModel",
            "_view_count": null,
            "_view_module": "@jupyter-widgets/base",
            "_view_module_version": "1.2.0",
            "_view_name": "LayoutView",
            "align_content": null,
            "align_items": null,
            "align_self": null,
            "border": null,
            "bottom": null,
            "display": null,
            "flex": null,
            "flex_flow": null,
            "grid_area": null,
            "grid_auto_columns": null,
            "grid_auto_flow": null,
            "grid_auto_rows": null,
            "grid_column": null,
            "grid_gap": null,
            "grid_row": null,
            "grid_template_areas": null,
            "grid_template_columns": null,
            "grid_template_rows": null,
            "height": null,
            "justify_content": null,
            "justify_items": null,
            "left": null,
            "margin": null,
            "max_height": null,
            "max_width": null,
            "min_height": null,
            "min_width": null,
            "object_fit": null,
            "object_position": null,
            "order": null,
            "overflow": null,
            "overflow_x": null,
            "overflow_y": null,
            "padding": null,
            "right": null,
            "top": null,
            "visibility": null,
            "width": null
          }
        },
        "93cd4d35c5fd41f5904ca1d52d1f52a8": {
          "model_module": "@jupyter-widgets/controls",
          "model_module_version": "1.5.0",
          "model_name": "DescriptionStyleModel",
          "state": {
            "_model_module": "@jupyter-widgets/controls",
            "_model_module_version": "1.5.0",
            "_model_name": "DescriptionStyleModel",
            "_view_count": null,
            "_view_module": "@jupyter-widgets/base",
            "_view_module_version": "1.2.0",
            "_view_name": "StyleView",
            "description_width": ""
          }
        },
        "9cf586576ff44dba86ba2eb389593c61": {
          "model_module": "@jupyter-widgets/controls",
          "model_module_version": "1.5.0",
          "model_name": "ProgressStyleModel",
          "state": {
            "_model_module": "@jupyter-widgets/controls",
            "_model_module_version": "1.5.0",
            "_model_name": "ProgressStyleModel",
            "_view_count": null,
            "_view_module": "@jupyter-widgets/base",
            "_view_module_version": "1.2.0",
            "_view_name": "StyleView",
            "bar_color": null,
            "description_width": ""
          }
        },
        "9edf898aeeab40dda9b9475395776521": {
          "model_module": "@jupyter-widgets/base",
          "model_module_version": "1.2.0",
          "model_name": "LayoutModel",
          "state": {
            "_model_module": "@jupyter-widgets/base",
            "_model_module_version": "1.2.0",
            "_model_name": "LayoutModel",
            "_view_count": null,
            "_view_module": "@jupyter-widgets/base",
            "_view_module_version": "1.2.0",
            "_view_name": "LayoutView",
            "align_content": null,
            "align_items": null,
            "align_self": null,
            "border": null,
            "bottom": null,
            "display": null,
            "flex": null,
            "flex_flow": null,
            "grid_area": null,
            "grid_auto_columns": null,
            "grid_auto_flow": null,
            "grid_auto_rows": null,
            "grid_column": null,
            "grid_gap": null,
            "grid_row": null,
            "grid_template_areas": null,
            "grid_template_columns": null,
            "grid_template_rows": null,
            "height": null,
            "justify_content": null,
            "justify_items": null,
            "left": null,
            "margin": null,
            "max_height": null,
            "max_width": null,
            "min_height": null,
            "min_width": null,
            "object_fit": null,
            "object_position": null,
            "order": null,
            "overflow": null,
            "overflow_x": null,
            "overflow_y": null,
            "padding": null,
            "right": null,
            "top": null,
            "visibility": "hidden",
            "width": null
          }
        },
        "a6d681eeafa44d18b933a4c5dec88382": {
          "model_module": "@jupyter-widgets/controls",
          "model_module_version": "1.5.0",
          "model_name": "ProgressStyleModel",
          "state": {
            "_model_module": "@jupyter-widgets/controls",
            "_model_module_version": "1.5.0",
            "_model_name": "ProgressStyleModel",
            "_view_count": null,
            "_view_module": "@jupyter-widgets/base",
            "_view_module_version": "1.2.0",
            "_view_name": "StyleView",
            "bar_color": null,
            "description_width": ""
          }
        },
        "bf8dcc0895054529af356da401c513f6": {
          "model_module": "@jupyter-widgets/controls",
          "model_module_version": "1.5.0",
          "model_name": "HBoxModel",
          "state": {
            "_dom_classes": [],
            "_model_module": "@jupyter-widgets/controls",
            "_model_module_version": "1.5.0",
            "_model_name": "HBoxModel",
            "_view_count": null,
            "_view_module": "@jupyter-widgets/controls",
            "_view_module_version": "1.5.0",
            "_view_name": "HBoxView",
            "box_style": "",
            "children": [
              "IPY_MODEL_7dce19ac55264f2b88a0e4730e55867b",
              "IPY_MODEL_2a0755d4476543feb4a64538e3e37213",
              "IPY_MODEL_158212a630f04cbd884c937f2f60f5c8"
            ],
            "layout": "IPY_MODEL_11c7f66acc1d45be9517d0addf49331e"
          }
        },
        "c20b539cd70b4ba99601ad1d69fd9cec": {
          "model_module": "@jupyter-widgets/base",
          "model_module_version": "1.2.0",
          "model_name": "LayoutModel",
          "state": {
            "_model_module": "@jupyter-widgets/base",
            "_model_module_version": "1.2.0",
            "_model_name": "LayoutModel",
            "_view_count": null,
            "_view_module": "@jupyter-widgets/base",
            "_view_module_version": "1.2.0",
            "_view_name": "LayoutView",
            "align_content": null,
            "align_items": null,
            "align_self": null,
            "border": null,
            "bottom": null,
            "display": null,
            "flex": null,
            "flex_flow": null,
            "grid_area": null,
            "grid_auto_columns": null,
            "grid_auto_flow": null,
            "grid_auto_rows": null,
            "grid_column": null,
            "grid_gap": null,
            "grid_row": null,
            "grid_template_areas": null,
            "grid_template_columns": null,
            "grid_template_rows": null,
            "height": null,
            "justify_content": null,
            "justify_items": null,
            "left": null,
            "margin": null,
            "max_height": null,
            "max_width": null,
            "min_height": null,
            "min_width": null,
            "object_fit": null,
            "object_position": null,
            "order": null,
            "overflow": null,
            "overflow_x": null,
            "overflow_y": null,
            "padding": null,
            "right": null,
            "top": null,
            "visibility": null,
            "width": "20px"
          }
        },
        "ca791fc471e34b9da2f9070fc1053c0f": {
          "model_module": "@jupyter-widgets/controls",
          "model_module_version": "1.5.0",
          "model_name": "HTMLModel",
          "state": {
            "_dom_classes": [],
            "_model_module": "@jupyter-widgets/controls",
            "_model_module_version": "1.5.0",
            "_model_name": "HTMLModel",
            "_view_count": null,
            "_view_module": "@jupyter-widgets/controls",
            "_view_module_version": "1.5.0",
            "_view_name": "HTMLView",
            "description": "",
            "description_tooltip": null,
            "layout": "IPY_MODEL_23863bc37a8645029934b8c106622c51",
            "placeholder": "​",
            "style": "IPY_MODEL_5ab5f08afa5841709aedb2f78a52a11c",
            "value": " 20/20 [00:52&lt;00:00,  4.50s/it]"
          }
        },
        "d1d54ccd56494c4d831f71b416a1f880": {
          "model_module": "@jupyter-widgets/base",
          "model_module_version": "1.2.0",
          "model_name": "LayoutModel",
          "state": {
            "_model_module": "@jupyter-widgets/base",
            "_model_module_version": "1.2.0",
            "_model_name": "LayoutModel",
            "_view_count": null,
            "_view_module": "@jupyter-widgets/base",
            "_view_module_version": "1.2.0",
            "_view_name": "LayoutView",
            "align_content": null,
            "align_items": null,
            "align_self": null,
            "border": null,
            "bottom": null,
            "display": null,
            "flex": null,
            "flex_flow": null,
            "grid_area": null,
            "grid_auto_columns": null,
            "grid_auto_flow": null,
            "grid_auto_rows": null,
            "grid_column": null,
            "grid_gap": null,
            "grid_row": null,
            "grid_template_areas": null,
            "grid_template_columns": null,
            "grid_template_rows": null,
            "height": null,
            "justify_content": null,
            "justify_items": null,
            "left": null,
            "margin": null,
            "max_height": null,
            "max_width": null,
            "min_height": null,
            "min_width": null,
            "object_fit": null,
            "object_position": null,
            "order": null,
            "overflow": null,
            "overflow_x": null,
            "overflow_y": null,
            "padding": null,
            "right": null,
            "top": null,
            "visibility": null,
            "width": null
          }
        },
        "ddffd834e09940a4bd3874c3f39b4e21": {
          "model_module": "@jupyter-widgets/base",
          "model_module_version": "1.2.0",
          "model_name": "LayoutModel",
          "state": {
            "_model_module": "@jupyter-widgets/base",
            "_model_module_version": "1.2.0",
            "_model_name": "LayoutModel",
            "_view_count": null,
            "_view_module": "@jupyter-widgets/base",
            "_view_module_version": "1.2.0",
            "_view_name": "LayoutView",
            "align_content": null,
            "align_items": null,
            "align_self": null,
            "border": null,
            "bottom": null,
            "display": null,
            "flex": null,
            "flex_flow": null,
            "grid_area": null,
            "grid_auto_columns": null,
            "grid_auto_flow": null,
            "grid_auto_rows": null,
            "grid_column": null,
            "grid_gap": null,
            "grid_row": null,
            "grid_template_areas": null,
            "grid_template_columns": null,
            "grid_template_rows": null,
            "height": null,
            "justify_content": null,
            "justify_items": null,
            "left": null,
            "margin": null,
            "max_height": null,
            "max_width": null,
            "min_height": null,
            "min_width": null,
            "object_fit": null,
            "object_position": null,
            "order": null,
            "overflow": null,
            "overflow_x": null,
            "overflow_y": null,
            "padding": null,
            "right": null,
            "top": null,
            "visibility": null,
            "width": null
          }
        },
        "e0c233ad01604540a6c873f4a731982d": {
          "model_module": "@jupyter-widgets/controls",
          "model_module_version": "1.5.0",
          "model_name": "HTMLModel",
          "state": {
            "_dom_classes": [],
            "_model_module": "@jupyter-widgets/controls",
            "_model_module_version": "1.5.0",
            "_model_name": "HTMLModel",
            "_view_count": null,
            "_view_module": "@jupyter-widgets/controls",
            "_view_module_version": "1.5.0",
            "_view_name": "HTMLView",
            "description": "",
            "description_tooltip": null,
            "layout": "IPY_MODEL_0b44cb0f8e34446c8dde668a75d3d8ad",
            "placeholder": "​",
            "style": "IPY_MODEL_edaac6587b2d4bd5be52b89bb097f99f",
            "value": ""
          }
        },
        "e9a01115c75b499884f7e0ef32e9e599": {
          "model_module": "@jupyter-widgets/controls",
          "model_module_version": "1.5.0",
          "model_name": "FloatProgressModel",
          "state": {
            "_dom_classes": [],
            "_model_module": "@jupyter-widgets/controls",
            "_model_module_version": "1.5.0",
            "_model_name": "FloatProgressModel",
            "_view_count": null,
            "_view_module": "@jupyter-widgets/controls",
            "_view_module_version": "1.5.0",
            "_view_name": "ProgressView",
            "bar_style": "success",
            "description": "",
            "description_tooltip": null,
            "layout": "IPY_MODEL_7cb241365f604419af454c1c28de197a",
            "max": 1,
            "min": 0,
            "orientation": "horizontal",
            "style": "IPY_MODEL_9cf586576ff44dba86ba2eb389593c61",
            "value": 1
          }
        },
        "edaac6587b2d4bd5be52b89bb097f99f": {
          "model_module": "@jupyter-widgets/controls",
          "model_module_version": "1.5.0",
          "model_name": "DescriptionStyleModel",
          "state": {
            "_model_module": "@jupyter-widgets/controls",
            "_model_module_version": "1.5.0",
            "_model_name": "DescriptionStyleModel",
            "_view_count": null,
            "_view_module": "@jupyter-widgets/base",
            "_view_module_version": "1.2.0",
            "_view_name": "StyleView",
            "description_width": ""
          }
        },
        "ef25efa751304e4699910f1fbc14345f": {
          "model_module": "@jupyter-widgets/base",
          "model_module_version": "1.2.0",
          "model_name": "LayoutModel",
          "state": {
            "_model_module": "@jupyter-widgets/base",
            "_model_module_version": "1.2.0",
            "_model_name": "LayoutModel",
            "_view_count": null,
            "_view_module": "@jupyter-widgets/base",
            "_view_module_version": "1.2.0",
            "_view_name": "LayoutView",
            "align_content": null,
            "align_items": null,
            "align_self": null,
            "border": null,
            "bottom": null,
            "display": null,
            "flex": null,
            "flex_flow": null,
            "grid_area": null,
            "grid_auto_columns": null,
            "grid_auto_flow": null,
            "grid_auto_rows": null,
            "grid_column": null,
            "grid_gap": null,
            "grid_row": null,
            "grid_template_areas": null,
            "grid_template_columns": null,
            "grid_template_rows": null,
            "height": null,
            "justify_content": null,
            "justify_items": null,
            "left": null,
            "margin": null,
            "max_height": null,
            "max_width": null,
            "min_height": null,
            "min_width": null,
            "object_fit": null,
            "object_position": null,
            "order": null,
            "overflow": null,
            "overflow_x": null,
            "overflow_y": null,
            "padding": null,
            "right": null,
            "top": null,
            "visibility": null,
            "width": null
          }
        },
        "ef63c3b2d51e452da03cdae5d9b034be": {
          "model_module": "@jupyter-widgets/controls",
          "model_module_version": "1.5.0",
          "model_name": "DescriptionStyleModel",
          "state": {
            "_model_module": "@jupyter-widgets/controls",
            "_model_module_version": "1.5.0",
            "_model_name": "DescriptionStyleModel",
            "_view_count": null,
            "_view_module": "@jupyter-widgets/base",
            "_view_module_version": "1.2.0",
            "_view_name": "StyleView",
            "description_width": ""
          }
        },
        "f3665a86662746c4ac7cb0796604781d": {
          "model_module": "@jupyter-widgets/controls",
          "model_module_version": "1.5.0",
          "model_name": "DescriptionStyleModel",
          "state": {
            "_model_module": "@jupyter-widgets/controls",
            "_model_module_version": "1.5.0",
            "_model_name": "DescriptionStyleModel",
            "_view_count": null,
            "_view_module": "@jupyter-widgets/base",
            "_view_module_version": "1.2.0",
            "_view_name": "StyleView",
            "description_width": ""
          }
        },
        "state": {}
      }
    }
  },
  "nbformat": 4,
  "nbformat_minor": 0
}
